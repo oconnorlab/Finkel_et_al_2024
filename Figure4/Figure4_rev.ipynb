{
 "cells": [
  {
   "cell_type": "code",
   "execution_count": 46,
   "metadata": {},
   "outputs": [
    {
     "name": "stdout",
     "output_type": "stream",
     "text": [
      "The autoreload extension is already loaded. To reload it, use:\n",
      "  %reload_ext autoreload\n"
     ]
    }
   ],
   "source": [
    "import scipy as sp\n",
    "import scipy.io\n",
    "import os\n",
    "import numpy as np\n",
    "import pandas as pd\n",
    "import glob\n",
    "import csv\n",
    "import random as rand\n",
    "from tqdm import tnrange, tqdm_notebook\n",
    "from collections import Iterable\n",
    "import matplotlib.pylab as plt\n",
    "import random as rand\n",
    "from ipywidgets import *\n",
    "from scipy import stats\n",
    "import importlib\n",
    "import sys\n",
    "sys.path.append(os.getcwd()+'/../')\n",
    "from utils import utils\n",
    "from utils import utils, zscores\n",
    "from utils import plotting_utils as pu\n",
    "from tqdm import tqdm\n",
    "import warnings\n",
    "\n",
    "import cmocean\n",
    "cmap = cmocean.cm.thermal\n",
    "colors = cmap\n",
    "\n",
    "# from utils import auc_methods as ama\n",
    "# import matplotlib.patches as patches\n",
    "# from matplotlib import gridspec\n",
    "# from sklearn.metrics import roc_curve, auc\n",
    "# from sklearn.model_selection import train_test_split\n",
    "# from sklearn.preprocessing import label_binarize\n",
    "# from matplotlib_venn import venn2\n",
    "\n",
    "%load_ext autoreload\n",
    "%autoreload 2\n",
    "import matplotlib as mpl\n",
    "mpl.rcParams['pdf.fonttype'] = 42\n",
    "mpl.rcParams['ps.fonttype'] = 42\n",
    "plt.close('all')\n",
    "\n",
    "font = {'family' : 'Arial',\n",
    "        'weight' : 'normal',\n",
    "        'size'   : 14}\n",
    "\n",
    "mpl.rc('font', **font)\n",
    "mpl.rc('xtick', labelsize=14) \n",
    "mpl.rc('ytick', labelsize=14)\n",
    "mpl.rc('axes', labelsize=14)\n",
    "\n",
    "mpl.rcParams['pdf.fonttype'] = 42\n",
    "mpl.rcParams['ps.fonttype'] = 42\n",
    "size_mult = 1"
   ]
  },
  {
   "cell_type": "code",
   "execution_count": 8,
   "metadata": {},
   "outputs": [
    {
     "name": "stderr",
     "output_type": "stream",
     "text": [
      "C:\\Users\\efink\\Documents\\Github\\crossmodal\\Figure4/..\\utils\\utils.py:36: FutureWarning: Using a non-tuple sequence for multidimensional indexing is deprecated; use `arr[tuple(seq)]` instead of `arr[seq]`. In the future this will be interpreted as an array index, `arr[np.array(seq)]`, which will result either in an error or a different result.\n",
      "  licks = licks.applymap(lambda y: y[[0.1<y]] if len(y) > 0 else y)\n",
      "C:\\Users\\efink\\Documents\\Github\\crossmodal\\Figure4/..\\utils\\utils.py:37: FutureWarning: Using a non-tuple sequence for multidimensional indexing is deprecated; use `arr[tuple(seq)]` instead of `arr[seq]`. In the future this will be interpreted as an array index, `arr[np.array(seq)]`, which will result either in an error or a different result.\n",
      "  licks = licks.applymap(lambda y: y[[3>=y]] if len(y) > 0 else y)\n"
     ]
    },
    {
     "data": {
      "application/vnd.jupyter.widget-view+json": {
       "model_id": "c2752e6ced8e4d0d936eadfff1f84c6e",
       "version_major": 2,
       "version_minor": 0
      },
      "text/plain": [
       "HBox(children=(IntProgress(value=0, max=375), HTML(value='')))"
      ]
     },
     "metadata": {},
     "output_type": "display_data"
    },
    {
     "name": "stdout",
     "output_type": "stream",
     "text": [
      "\n"
     ]
    }
   ],
   "source": [
    "DATA_DIR = os.path.abspath('../data')\n",
    "bin_size = 0.025\n",
    "window = [-1, 3]\n",
    "edges = np.arange(window[0], window[1], bin_size)\n",
    "\n",
    "log_df, unit_key_df = utils.load_data(data_directory, switch=True)\n",
    "unit_key_df = utils.calc_unit_stats(unit_key_df, log_df, bin_size, include_switch = True)\n",
    "log_df['spike_counts(stim_aligned)'] = log_df[\n",
    "    'spike_times(stim_aligned)'].apply(lambda x: np.histogram(x,edges)[0]/bin_size)"
   ]
  },
  {
   "cell_type": "code",
   "execution_count": 51,
   "metadata": {},
   "outputs": [],
   "source": [
    "def cacl_mean_diff(labels, values, shuff = True):\n",
    "    if shuff:\n",
    "        labels = np.random.permutation(labels)\n",
    "    \n",
    "    pos_mean = np.mean(values[labels, :])\n",
    "    neg_mean = np.mean(values[~labels, :])\n",
    "#     import pdb;pdb.set_trace()\n",
    "#     print(pos_mean)\n",
    "    return pos_mean-neg_mean\n",
    "                    \n",
    "\n",
    "def mean_permutation_test(labels, values, num_iter = 1000):\n",
    "    pos_mean = np.mean(values[labels, :])\n",
    "    neg_mean = np.mean(values[~labels, :])\n",
    "\n",
    "    real_value = cacl_mean_diff(labels, values, shuff = False)\n",
    "    shuff_values = [cacl_mean_diff(labels, values, shuff = True) for i in range(num_iter)]\n",
    "    p_val = np.mean(shuff_values >= real_value)\n",
    "    return p_val, real_value, shuff_values\n",
    "\n",
    "\n",
    "def permutation_test_compare_baseline(unit_key_df, trial_type, time_window, num_iter = 10000):\n",
    "    \n",
    "    ## binsize = 0.025, \n",
    "    ## stim onset in z-scored trial type arrays start at 1 sec (start of +1sec bin is 39)\n",
    "    time_wind_inds = ((np.array(time_window)/0.025) + 39).astype(int)\n",
    "    \n",
    "    test_period =  np.vstack(unit_key_df[trial_type].values)[:, time_wind_inds[0]:time_wind_inds[1]]\n",
    "    window_dur = time_wind_inds[1]-time_wind_inds[0]\n",
    "    baseline_period =  np.vstack(unit_key_df[trial_type].values)[:, 39-window_dur:39]\n",
    "\n",
    "    pooled_periods = np.vstack([test_period, baseline_period])\n",
    "    pooled_period_labels = np.concatenate([[True]*test_period.shape[0], [False]*baseline_period.shape[0]])\n",
    "    \n",
    "    results = mean_permutation_test(pooled_period_labels,pooled_periods, num_iter = num_iter)\n",
    "    \n",
    "    print(f\"   mean z-score: {test_period.mean():.3f}, sem: {test_period.std()/np.sqrt(test_period.shape[0]):.2f}\")\n",
    "    print(f\"   pval:{results[0]}, test_stat: {results[1]:.2f}, n_iter: {len(results[2])}\\n\")\n",
    "    \n",
    "    return results\n",
    "     \n",
    "\n",
    "def permutation_test_compare_trials(unit_key_df, trial_type1, trial_type2, time_window, num_iter = 10000):\n",
    "    \n",
    "    ## binsize = 0.025, \n",
    "    ## stim onset in z-scored trial type arrays start at 1 sec (start of +1sec bin is 39)\n",
    "    time_wind_inds = ((np.array(time_window)/0.025) + 39).astype(int)\n",
    "    \n",
    "    trial_type1 =  np.vstack(unit_key_df[trial_type1].values)[:, time_wind_inds[0]:time_wind_inds[1]]\n",
    "    trial_type2 =  np.vstack(unit_key_df[trial_type2].values)[:, time_wind_inds[0]:time_wind_inds[1]]\n",
    "\n",
    "    pooled_periods = np.vstack([trial_type1, trial_type2])\n",
    "    pooled_period_labels = np.concatenate([[True]*trial_type1.shape[0], [False]*trial_type2.shape[0]])\n",
    "    p_val, real_val, shuff_vals = mean_permutation_test(pooled_period_labels,pooled_periods, num_iter = num_iter)\n",
    "    \n",
    "    results = mean_permutation_test(pooled_period_labels,pooled_periods, num_iter = num_iter)\n",
    "    \n",
    "    print(f\"   mean z-score difference: {(trial_type1 - trial_type2).mean():.2f}, sem: {(trial_type1 - trial_type2).std()/np.sqrt(trial_type1.shape[0]):.2f}\")\n",
    "    print(f\"   pval:{results[0]}, test_stat: {results[1]:.2f}, n_iter: {len(results[2])}\\n\")\n",
    "    return results\n",
    "    "
   ]
  },
  {
   "cell_type": "code",
   "execution_count": 10,
   "metadata": {},
   "outputs": [
    {
     "data": {
      "application/vnd.jupyter.widget-view+json": {
       "model_id": "3ae5af9cfba74b0999a2b3a228b7b3cc",
       "version_major": 2,
       "version_minor": 0
      },
      "text/plain": [
       "HBox(children=(IntProgress(value=0, max=375), HTML(value='')))"
      ]
     },
     "metadata": {},
     "output_type": "display_data"
    },
    {
     "name": "stderr",
     "output_type": "stream",
     "text": [
      "C:\\Users\\efink\\Documents\\Github\\crossmodal\\Figure4/..\\utils\\zscores.py:64: FutureWarning: Method .as_matrix will be removed in a future version. Use .values instead.\n",
      "  bin_means = np.mean(np.stack(cond_rows.as_matrix(), axis = 0), axis=0)\n"
     ]
    },
    {
     "name": "stdout",
     "output_type": "stream",
     "text": [
      "\n"
     ]
    }
   ],
   "source": [
    "conds = ['Touch Stim Lick Right', 'Touch Stim Lick Left', 'Touch Stim No Lick', \n",
    "         'Visual Stim Lick Right','Visual Stim Lick Left', 'Visual Stim No Lick']\n",
    "unit_key_df = zscores.calc_z_scores(log_df, unit_key_df, bin_size, window, conds = conds)\n",
    "unit_key_df = unit_key_df.sort_values(['activation_resp_touch'], ascending = False)"
   ]
  },
  {
   "cell_type": "code",
   "execution_count": 11,
   "metadata": {},
   "outputs": [
    {
     "name": "stdout",
     "output_type": "stream",
     "text": [
      "hits vs miss 0-500ms\n",
      "   mean z-score difference: 0.19, sem: 0.08\n",
      "   pval:0.0305, test_stat: 0.19, n_iter: 10000\n",
      "\n"
     ]
    }
   ],
   "source": [
    "print('hits vs miss 0-500ms')\n",
    "hit_vs_miss_500ms = permutation_test_compare_trials(unit_key_df, 'Touch Stim Lick Right(z_score)', 'Touch Stim Lick Left(z_score)', [0,0.5])\n"
   ]
  },
  {
   "cell_type": "code",
   "execution_count": 50,
   "metadata": {},
   "outputs": [
    {
     "name": "stdout",
     "output_type": "stream",
     "text": [
      "Touch Stim Lick Right(z_score) vs Touch Stim Lick Left(z_score) 0-150ms\n",
      "   mean z-score difference: 0.14, sem: 0.07\n",
      "   pval:0.1359, test_stat: 0.14, n_iter: 10000\n",
      "\n",
      "Touch Stim Lick Right(z_score) vs Touch Stim Lick Left(z_score) 25-175ms\n",
      "   mean z-score difference: 0.22, sem: 0.07\n",
      "   pval:0.0636, test_stat: 0.22, n_iter: 10000\n",
      "\n",
      "Touch Stim Lick Right(z_score) vs Touch Stim Lick Left(z_score) 50-200ms\n",
      "   mean z-score difference: 0.27, sem: 0.08\n",
      "   pval:0.0273, test_stat: 0.27, n_iter: 10000\n",
      "\n",
      "Touch Stim Lick Right(z_score) vs Touch Stim Lick Left(z_score) 75-225ms\n",
      "   mean z-score difference: 0.29, sem: 0.08\n",
      "   pval:0.0107, test_stat: 0.29, n_iter: 10000\n",
      "\n",
      "Touch Stim Lick Right(z_score) vs Touch Stim Lick Left(z_score) 100-250ms\n",
      "   mean z-score difference: 0.30, sem: 0.08\n",
      "   pval:0.0057, test_stat: 0.30, n_iter: 10000\n",
      "\n",
      "Touch Stim Lick Right(z_score) vs Touch Stim Lick Left(z_score) 125-275ms\n",
      "   mean z-score difference: 0.31, sem: 0.08\n",
      "   pval:0.0038, test_stat: 0.31, n_iter: 10000\n",
      "\n",
      "Touch Stim Lick Right(z_score) vs Touch Stim Lick Left(z_score) 150-300ms\n",
      "   mean z-score difference: 0.31, sem: 0.08\n",
      "   pval:0.0025, test_stat: 0.31, n_iter: 10000\n",
      "\n",
      "Touch Stim Lick Right(z_score) vs Touch Stim Lick Left(z_score) 175-325ms\n",
      "   mean z-score difference: 0.30, sem: 0.08\n",
      "   pval:0.0038, test_stat: 0.30, n_iter: 10000\n",
      "\n",
      "Touch Stim Lick Right(z_score) vs Touch Stim Lick Left(z_score) 200-350ms\n",
      "   mean z-score difference: 0.25, sem: 0.08\n",
      "   pval:0.0128, test_stat: 0.25, n_iter: 10000\n",
      "\n",
      "Touch Stim Lick Right(z_score) vs Touch Stim Lick Left(z_score) 225-375ms\n",
      "   mean z-score difference: 0.21, sem: 0.08\n",
      "   pval:0.0345, test_stat: 0.21, n_iter: 10000\n",
      "\n",
      "Touch Stim Lick Right(z_score) vs Touch Stim Lick Left(z_score) 250-400ms\n",
      "   mean z-score difference: 0.17, sem: 0.08\n",
      "   pval:0.0667, test_stat: 0.17, n_iter: 10000\n",
      "\n",
      "Touch Stim Lick Right(z_score) vs Touch Stim Lick Left(z_score) 275-425ms\n",
      "   mean z-score difference: 0.15, sem: 0.08\n",
      "   pval:0.0905, test_stat: 0.15, n_iter: 10000\n",
      "\n",
      "Touch Stim Lick Right(z_score) vs Touch Stim Lick Left(z_score) 300-450ms\n",
      "   mean z-score difference: 0.13, sem: 0.08\n",
      "   pval:0.133, test_stat: 0.13, n_iter: 10000\n",
      "\n",
      "Touch Stim Lick Right(z_score) vs Touch Stim Lick Left(z_score) 325-475ms\n",
      "   mean z-score difference: 0.11, sem: 0.08\n",
      "   pval:0.1548, test_stat: 0.11, n_iter: 10000\n",
      "\n",
      "Touch Stim Lick Right(z_score) vs Touch Stim Lick Left(z_score) 350-500ms\n",
      "   mean z-score difference: 0.10, sem: 0.08\n",
      "   pval:0.1843, test_stat: 0.10, n_iter: 10000\n",
      "\n",
      "Touch Stim Lick Right(z_score) vs Touch Stim Lick Left(z_score) 375-525ms\n",
      "   mean z-score difference: 0.09, sem: 0.08\n",
      "   pval:0.1916, test_stat: 0.09, n_iter: 10000\n",
      "\n"
     ]
    }
   ],
   "source": [
    "for t in np.arange(0,0.4,0.025):\n",
    "\n",
    "    print(f'Touch Stim Lick Right(z_score) vs Touch Stim Lick Left(z_score) {t*1000:.0f}-{(t+.15)*1000:.0f}ms')\n",
    "    hit_vs_miss_500ms = permutation_test_compare_trials(\n",
    "        unit_key_df, 'Touch Stim Lick Right(z_score)', 'Touch Stim Lick Left(z_score)', [t,t+0.15])\n"
   ]
  },
  {
   "cell_type": "code",
   "execution_count": 53,
   "metadata": {},
   "outputs": [],
   "source": [
    "from scipy.stats import ttest_rel as ttest\n",
    "\n",
    "def get_mean_vals(unit_key_df, trial_type1, trial_type2, time_window):\n",
    "    \n",
    "    time_wind_inds = ((np.array(time_window)/0.025) + 39).astype(int)\n",
    "    \n",
    "    trial_type1 =  np.vstack(unit_key_df[trial_type1].values)[:, time_wind_inds[0]:time_wind_inds[1]]\n",
    "    trial_type2 =  np.vstack(unit_key_df[trial_type2].values)[:, time_wind_inds[0]:time_wind_inds[1]]\n",
    "\n",
    "    pooled_periods = np.vstack([trial_type1, trial_type2])\n",
    "    pooled_period_labels = np.concatenate([[True]*trial_type1.shape[0], [False]*trial_type2.shape[0]])\n",
    "    \n",
    "    \n",
    "    pos_means = np.mean(pooled_periods[pooled_period_labels, :], axis =1)\n",
    "    neg_means = np.mean(pooled_periods[~pooled_period_labels, :], axis = 1)\n",
    "    \n",
    "    return pos_means, neg_means\n",
    "\n",
    "def mean_t_test(labels, values):\n",
    "    pos_means = np.mean(values[labels, :], axis =1)\n",
    "    neg_means = np.mean(values[~labels, :], axis = 1)\n",
    "    return ttest(pos_means, neg_means, alternative = 'greater')\n",
    "\n",
    "def paired_trial_t_test(unit_key_df, trial_type1, trial_type2, time_window):\n",
    "     ## binsize = 0.025, \n",
    "    ## stim onset in z-scored trial type arrays start at 1 sec (start of +1sec bin is 39)\n",
    "    time_wind_inds = ((np.array(time_window)/0.025) + 39).astype(int)\n",
    "    \n",
    "    trial_type1 =  np.vstack(unit_key_df[trial_type1].values)[:, time_wind_inds[0]:time_wind_inds[1]]\n",
    "    trial_type2 =  np.vstack(unit_key_df[trial_type2].values)[:, time_wind_inds[0]:time_wind_inds[1]]\n",
    "\n",
    "    pooled_periods = np.vstack([trial_type1, trial_type2])\n",
    "    pooled_period_labels = np.concatenate([[True]*trial_type1.shape[0], [False]*trial_type2.shape[0]])\n",
    "    results = mean_t_test(pooled_period_labels,pooled_periods)\n",
    "    \n",
    "    print(f\"   mean z-score difference: {(trial_type1 - trial_type2).mean():.2f}, sem: {(trial_type1 - trial_type2).std()/np.sqrt(trial_type1.shape[0]):.2f}\")\n",
    "    print(f\"   pval:{results[1]}, test_stat: {results[0]:.2f}\\n\")\n"
   ]
  },
  {
   "cell_type": "code",
   "execution_count": 34,
   "metadata": {},
   "outputs": [],
   "source": [
    "pos, neg = get_mean_vals(unit_key_df, 'Touch Stim Lick Right(z_score)', 'Touch Stim Lick Left(z_score)', [t,t+0.15])"
   ]
  },
  {
   "cell_type": "code",
   "execution_count": 49,
   "metadata": {},
   "outputs": [
    {
     "data": {
      "text/plain": [
       "(Text(0, 0.5, 'Count'),\n",
       " Text(0.5, 0, 'Difference between\\nTouch stim lick right(Z-score) & Touch Stim Lick Left(Z-score)'))"
      ]
     },
     "execution_count": 49,
     "metadata": {},
     "output_type": "execute_result"
    },
    {
     "data": {
      "image/png": "[encoded data removed]",
      "text/plain": [
       "<Figure size 432x288 with 1 Axes>"
      ]
     },
     "metadata": {
      "needs_background": "light"
     },
     "output_type": "display_data"
    }
   ],
   "source": [
    "pd.Series(pos-neg).hist(bins = np.arange(-5,7,.25))\n",
    "ax = plt.gca()\n",
    "\n",
    "ax.set_ylabel('Count'), ax.set_xlabel('Difference between\\nTouch stim lick right(Z-score) & Touch Stim Lick Left(Z-score)')"
   ]
  },
  {
   "cell_type": "code",
   "execution_count": 54,
   "metadata": {},
   "outputs": [
    {
     "name": "stdout",
     "output_type": "stream",
     "text": [
      "paired t-test: Touch Stim Lick Right(z_score) vs Touch Stim Lick Left(z_score) 0-150ms\n",
      "   mean z-score difference: 0.14, sem: 0.07\n",
      "   pval:0.00030485481125353323, test_stat: 3.46\n",
      "\n",
      "paired t-test: Touch Stim Lick Right(z_score) vs Touch Stim Lick Left(z_score) 25-175ms\n",
      "   mean z-score difference: 0.22, sem: 0.07\n",
      "   pval:7.344216704367632e-07, test_stat: 4.89\n",
      "\n",
      "paired t-test: Touch Stim Lick Right(z_score) vs Touch Stim Lick Left(z_score) 50-200ms\n",
      "   mean z-score difference: 0.27, sem: 0.08\n",
      "   pval:2.1376016595943163e-08, test_stat: 5.59\n",
      "\n",
      "paired t-test: Touch Stim Lick Right(z_score) vs Touch Stim Lick Left(z_score) 75-225ms\n",
      "   mean z-score difference: 0.29, sem: 0.08\n",
      "   pval:7.743939008460643e-09, test_stat: 5.78\n",
      "\n",
      "paired t-test: Touch Stim Lick Right(z_score) vs Touch Stim Lick Left(z_score) 100-250ms\n",
      "   mean z-score difference: 0.30, sem: 0.08\n",
      "   pval:8.917793271487312e-09, test_stat: 5.76\n",
      "\n",
      "paired t-test: Touch Stim Lick Right(z_score) vs Touch Stim Lick Left(z_score) 125-275ms\n",
      "   mean z-score difference: 0.31, sem: 0.08\n",
      "   pval:7.003257709562439e-09, test_stat: 5.80\n",
      "\n",
      "paired t-test: Touch Stim Lick Right(z_score) vs Touch Stim Lick Left(z_score) 150-300ms\n",
      "   mean z-score difference: 0.31, sem: 0.08\n",
      "   pval:3.6696322710687605e-08, test_stat: 5.49\n",
      "\n",
      "paired t-test: Touch Stim Lick Right(z_score) vs Touch Stim Lick Left(z_score) 175-325ms\n",
      "   mean z-score difference: 0.30, sem: 0.08\n",
      "   pval:2.3752589550756924e-07, test_stat: 5.13\n",
      "\n",
      "paired t-test: Touch Stim Lick Right(z_score) vs Touch Stim Lick Left(z_score) 200-350ms\n",
      "   mean z-score difference: 0.25, sem: 0.08\n",
      "   pval:4.935981194024444e-06, test_stat: 4.48\n",
      "\n",
      "paired t-test: Touch Stim Lick Right(z_score) vs Touch Stim Lick Left(z_score) 225-375ms\n",
      "   mean z-score difference: 0.21, sem: 0.08\n",
      "   pval:0.0001151771443503833, test_stat: 3.72\n",
      "\n",
      "paired t-test: Touch Stim Lick Right(z_score) vs Touch Stim Lick Left(z_score) 250-400ms\n",
      "   mean z-score difference: 0.17, sem: 0.08\n",
      "   pval:0.0011772634638180792, test_stat: 3.06\n",
      "\n",
      "paired t-test: Touch Stim Lick Right(z_score) vs Touch Stim Lick Left(z_score) 275-425ms\n",
      "   mean z-score difference: 0.15, sem: 0.08\n",
      "   pval:0.003015237411219128, test_stat: 2.76\n",
      "\n",
      "paired t-test: Touch Stim Lick Right(z_score) vs Touch Stim Lick Left(z_score) 300-450ms\n",
      "   mean z-score difference: 0.13, sem: 0.08\n",
      "   pval:0.008897510592722308, test_stat: 2.38\n",
      "\n",
      "paired t-test: Touch Stim Lick Right(z_score) vs Touch Stim Lick Left(z_score) 325-475ms\n",
      "   mean z-score difference: 0.11, sem: 0.08\n",
      "   pval:0.016423115143052704, test_stat: 2.14\n",
      "\n",
      "paired t-test: Touch Stim Lick Right(z_score) vs Touch Stim Lick Left(z_score) 350-500ms\n",
      "   mean z-score difference: 0.10, sem: 0.08\n",
      "   pval:0.030590434941495676, test_stat: 1.88\n",
      "\n",
      "paired t-test: Touch Stim Lick Right(z_score) vs Touch Stim Lick Left(z_score) 375-525ms\n",
      "   mean z-score difference: 0.09, sem: 0.08\n",
      "   pval:0.038543612963373865, test_stat: 1.77\n",
      "\n"
     ]
    }
   ],
   "source": [
    "for t in np.arange(0,0.4,0.025):\n",
    "\n",
    "    print(f'paired t-test: Touch Stim Lick Right(z_score) vs Touch Stim Lick Left(z_score) {t*1000:.0f}-{(t+.15)*1000:.0f}ms')\n",
    "    hit_vs_miss_500ms = paired_trial_t_test(\n",
    "        unit_key_df, 'Touch Stim Lick Right(z_score)', 'Touch Stim Lick Left(z_score)', [t,t+0.15])\n"
   ]
  },
  {
   "cell_type": "code",
   "execution_count": null,
   "metadata": {},
   "outputs": [],
   "source": []
  }
 ],
 "metadata": {
  "kernelspec": {
   "display_name": "Python 3 (ipykernel)",
   "language": "python",
   "name": "python3"
  },
  "language_info": {
   "codemirror_mode": {
    "name": "ipython",
    "version": 3
   },
   "file_extension": ".py",
   "mimetype": "text/x-python",
   "name": "python",
   "nbconvert_exporter": "python",
   "pygments_lexer": "ipython3",
   "version": "3.9.6"
  }
 },
 "nbformat": 4,
 "nbformat_minor": 4
}

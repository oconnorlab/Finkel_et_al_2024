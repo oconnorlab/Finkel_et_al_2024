{
 "cells": [
  {
   "cell_type": "code",
   "execution_count": null,
   "metadata": {},
   "outputs": [],
   "source": [
    "import scipy as sp\n",
    "import scipy.io\n",
    "import os\n",
    "import numpy as np\n",
    "import pandas as pd\n",
    "import glob\n",
    "import csv\n",
    "import random as rand\n",
    "from tqdm import tnrange, tqdm_notebook\n",
    "from collections import Iterable\n",
    "import matplotlib.pylab as plt\n",
    "import random as rand\n",
    "from ipywidgets import *\n",
    "from scipy import stats\n",
    "import importlib\n",
    "import sys\n",
    "sys.path.append(os.getcwd()+'/../')\n",
    "from utils import utils\n",
    "from utils import utils, zscores\n",
    "from utils import plotting_utils as pu\n",
    "from tqdm import tqdm\n",
    "import warnings\n",
    "\n",
    "import cmocean\n",
    "cmap = cmocean.cm.thermal\n",
    "colors = cmap\n",
    "\n",
    "# from utils import auc_methods as ama\n",
    "# import matplotlib.patches as patches\n",
    "# from matplotlib import gridspec\n",
    "# from sklearn.metrics import roc_curve, auc\n",
    "# from sklearn.model_selection import train_test_split\n",
    "# from sklearn.preprocessing import label_binarize\n",
    "# from matplotlib_venn import venn2\n",
    "\n",
    "%load_ext autoreload\n",
    "%autoreload 2\n",
    "import matplotlib as mpl\n",
    "mpl.rcParams['pdf.fonttype'] = 42\n",
    "mpl.rcParams['ps.fonttype'] = 42\n",
    "plt.close('all')\n",
    "\n",
    "font = {'family' : 'Arial',\n",
    "        'weight' : 'normal',\n",
    "        'size'   : 6}\n",
    "\n",
    "mpl.rc('font', **font)\n",
    "mpl.rc('xtick', labelsize=6) \n",
    "mpl.rc('ytick', labelsize=6)\n",
    "mpl.rc('axes', labelsize=6)\n",
    "\n",
    "mpl.rcParams['pdf.fonttype'] = 42\n",
    "mpl.rcParams['ps.fonttype'] = 42\n",
    "size_mult = 1"
   ]
  },
  {
   "cell_type": "code",
   "execution_count": null,
   "metadata": {},
   "outputs": [],
   "source": [
    "plt.close('all')\n",
    "\n",
    "font = {'family' : 'Arial',\n",
    "        'weight' : 'normal',\n",
    "        'size'   : 16}\n",
    "\n",
    "mpl.rc('font', **font)\n",
    "mpl.rc('xtick', labelsize=16) \n",
    "mpl.rc('ytick', labelsize=16)\n",
    "mpl.rc('axes', labelsize=16)\n",
    "\n",
    "mpl.rcParams['pdf.fonttype'] = 42\n",
    "mpl.rcParams['ps.fonttype'] = 42"
   ]
  },
  {
   "cell_type": "code",
   "execution_count": null,
   "metadata": {},
   "outputs": [],
   "source": [
    "data_directory = r'C:\\Users\\Eric\\Documents\\09-12-2021\\DATA\\Crossmodal_only'\n",
    "log_df = pd.read_hdf(f'{data_directory}/log_df_processed_02-28-2019.h5', 'fixed')\n",
    "unit_key_df = pd.read_hdf(f'{data_directory}/unit_key_df_processed_02-28-2019.h5', 'fixed')"
   ]
  },
  {
   "cell_type": "code",
   "execution_count": null,
   "metadata": {},
   "outputs": [],
   "source": [
    "unit_key_df.shape"
   ]
  },
  {
   "cell_type": "code",
   "execution_count": null,
   "metadata": {},
   "outputs": [],
   "source": [
    "target_trials = log_df['trial_label'].isin(['Touch Stim Hit', 'Touch Stim Miss'])\n",
    "target_unit = log_df['uni_id'] == '07903-22-164t2'\n",
    "\n",
    "example = log_df[target_unit & target_trials]\n",
    "\n",
    "pos_trial = 'Touch Stim Hit'\n",
    "labels, spikes = (example['trial_label'] == pos_trial).values, example['spike_counts(stim_aligned)'].values\n",
    "spikes = np.vstack(spikes)[:, 39:59]/40 # first 500ms after stim onset; divide by 40 to go from per sec FR to raw spike count\n"
   ]
  },
  {
   "cell_type": "code",
   "execution_count": null,
   "metadata": {},
   "outputs": [],
   "source": [
    "def calc_euc_dist(labels, spikes, shuff = False):\n",
    "    \n",
    "    if shuff:\n",
    "        labels = np.random.permutation(labels)\n",
    "    \n",
    "    pos_mean = np.mean(spikes[labels, :], axis = 0)\n",
    "    neg_mean = np.mean(spikes[~labels, :], axis = 0)\n",
    "    \n",
    "    return np.linalg.norm(pos_mean-neg_mean)\n",
    "\n",
    "def cacl_mean_diff(labels, spikes, shuff = True):\n",
    "    if shuff:\n",
    "        labels = np.random.permutation(labels)\n",
    "    \n",
    "    pos_mean = np.mean(spikes[labels, :])\n",
    "    neg_mean = np.mean(spikes[~labels, :])\n",
    "    \n",
    "    return pos_mean-neg_mean\n",
    "                    \n",
    "\n",
    "def permutation_test(labels, spikes, num_iter = 1000):\n",
    "    pos_mean = np.mean(spikes[labels, :], axis = 0)\n",
    "    neg_mean = np.mean(spikes[~labels, :], axis = 0)\n",
    "\n",
    "    real_value = calc_euc_dist(labels, spikes, shuff = False)\n",
    "    shuff_values = [calc_euc_dist(labels, spikes, shuff = True) for i in range(num_iter)]\n",
    "    p_val = np.mean(shuff_values >= real_value)\n",
    "    return p_val\n",
    "\n",
    "def mean_permutation_test(labels, spikes, num_iter = 1000):\n",
    "    pos_mean = np.mean(spikes[labels, :])\n",
    "    neg_mean = np.mean(spikes[~labels, :])\n",
    "\n",
    "    real_value = cacl_mean_diff(labels, spikes, shuff = False)\n",
    "    shuff_values = [cacl_mean_diff(labels, spikes, shuff = True) for i in range(num_iter)]\n",
    "    p_val = np.mean(shuff_values >= real_value)\n",
    "    return p_val"
   ]
  },
  {
   "cell_type": "code",
   "execution_count": null,
   "metadata": {},
   "outputs": [],
   "source": [
    "unit_key_df.columns"
   ]
  },
  {
   "cell_type": "code",
   "execution_count": null,
   "metadata": {},
   "outputs": [],
   "source": [
    "def compare_trials_unit_generator(log_df, unit_list, pos_trial, neg_trial, time_window, stim_length = 'long'):\n",
    "    \"\"\" \n",
    "    generator that returns the unit id, vector of spike counts\n",
    "    after the stim onset for every relevant trial, along with labels for those\n",
    "    trials so that they can be run through permutation test\n",
    "    \"\"\"\n",
    "    \n",
    "    if stim_length == 'long':\n",
    "        stims = ['Stim_Som_NoCue', 'Stim_Vis_NoCue']\n",
    "    else:\n",
    "        stims = ['1CycStim_Vis_NoCue','1CycStim_Som_NoCue']\n",
    "    \n",
    "    time_window_bins = (np.array(time_window)/0.025 + (1/0.025 - 1)).astype(int)\n",
    "    \n",
    "    subset_stim_length = log_df['trial_type'].isin(stims)\n",
    "    subset_trialtype = log_df['trial_label'].isin([pos_trial, neg_trial])\n",
    "    target_trials = log_df[subset_stim_length & subset_trialtype]\n",
    "        \n",
    "    for unit in unit_list:\n",
    "        unit_df = target_trials[target_trials['uni_id'] == unit]\n",
    "        labels, spikes = (unit_df['trial_label'] == pos_trial).values, unit_df['spike_counts(stim_aligned)'].values\n",
    "        \n",
    "        # first x ms after stim onset; divide by 40 to go from per sec FR to raw spike count\n",
    "        spikes = np.vstack(spikes)[:, time_window_bins[0]:time_window_bins[1]]/40 \n",
    "        \n",
    "        yield unit, labels, spikes\n",
    "\n",
    "def compare_to_baseline_unit_generator(log_df, unit_list, pos_trial,time_window, stim_length = 'long'):\n",
    "    \"\"\" \n",
    "    generator that returns the unit id, vector of spike counts before and \n",
    "    after the stim onset for every relevant trial, along with labels for those\n",
    "    trials so that they can be run through permutation test\n",
    "    \"\"\"\n",
    "    \n",
    "    if stim_length == 'long':\n",
    "        stims = ['Stim_Som_NoCue', 'Stim_Vis_NoCue']\n",
    "    else:\n",
    "        stims = ['1CycStim_Vis_NoCue','1CycStim_Som_NoCue']\n",
    "    \n",
    "    #compare same length vectors before and after stim onset\n",
    "    time_window_bins = (np.array(time_window)/0.025 + (1/0.025 - 1)).astype(int)\n",
    "    baseline_window_bins = [39 - (time_window_bins[1] -time_window_bins[0]), 39] \n",
    "    \n",
    "    subset_stim_length = log_df['trial_type'].isin(stims)\n",
    "    subset_trialtype = log_df['trial_label']==pos_trial\n",
    "    target_trials = log_df[subset_stim_length & subset_trialtype]\n",
    "        \n",
    "    for unit in unit_list:\n",
    "        unit_df = target_trials[target_trials['uni_id'] == unit]\n",
    "        if unit_df.shape[0] ==  0:\n",
    "            labels = None\n",
    "            spikes = None\n",
    "        \n",
    "        else:\n",
    "            \n",
    "            post_stim_spikes = np.vstack(unit_df['spike_counts(stim_aligned)'].values)[:, time_window_bins[0]:time_window_bins[1]]/40\n",
    "            pre_stim_spikes = np.vstack(unit_df['spike_counts(stim_aligned)'].values)[:, baseline_window_bins[0]:baseline_window_bins[1]]/40\n",
    "\n",
    "            spikes = np.vstack([post_stim_spikes,pre_stim_spikes])\n",
    "\n",
    "            labels = np.concatenate([[True]*post_stim_spikes.shape[0], [False]*pre_stim_spikes.shape[0]])\n",
    "#             import pdb; pdb.set_trace()\n",
    "        yield unit, labels, spikes\n",
    "    "
   ]
  },
  {
   "cell_type": "markdown",
   "metadata": {},
   "source": [
    "### Statistics for elevated activity over baseline for diff trial types"
   ]
  },
  {
   "cell_type": "code",
   "execution_count": null,
   "metadata": {},
   "outputs": [],
   "source": [
    "# print(\"hits vs baseline\")\n",
    "# unit_gen = compare_to_baseline_unit_generator(log_df,unit_key_df['uni_id'], 'Touch Stim Hit', [0,0.5], stim_length = 'long')\n",
    "# all_pvals_hit_baseline = {unit:mean_permutation_test(labels, spikes) for unit, labels, spikes in unit_gen}\n",
    "\n",
    "print(\"miss vs baseline\")\n",
    "unit_gen = compare_to_baseline_unit_generator(log_df,unit_key_df['uni_id'], 'Touch Stim Miss', [0,0.5], stim_length = 'long')\n",
    "all_pvals_miss_baseline = {unit:mean_permutation_test(labels, spikes) for unit, labels, spikes in unit_gen}\n",
    "\n",
    "print(\"hits vs baseline: 0-150ms\")\n",
    "unit_gen = compare_to_baseline_unit_generator(log_df,unit_key_df['uni_id'], 'Touch Stim Hit', [0,0.15], stim_length = 'long')\n",
    "all_pvals_hit_baseline_stim_period = {unit:mean_permutation_test(labels, spikes) for unit, labels, spikes in unit_gen}\n",
    "\n",
    "print(\"miss vs baseline: 0-150ms\")\n",
    "unit_gen = compare_to_baseline_unit_generator(log_df,unit_key_df['uni_id'], 'Touch Stim Miss', [0,0.15], stim_length = 'long')\n",
    "all_pvals_miss_baseline_stim_period = {unit:mean_permutation_test(labels, spikes) for unit, labels, spikes in unit_gen}\n",
    "      \n",
    "print(\"hits vs baseline: 150-500ms\")\n",
    "unit_gen = compare_to_baseline_unit_generator(log_df,unit_key_df['uni_id'], 'Touch Stim Hit', [0.15,0.5], stim_length = 'long')\n",
    "all_pvals_hit_baseline_post_stim_period = {unit:mean_permutation_test(labels, spikes) for unit, labels, spikes in unit_gen}\n",
    "\n",
    "print(\"miss vs baseline 150-500ms\")\n",
    "unit_gen = compare_to_baseline_unit_generator(log_df,unit_key_df['uni_id'], 'Touch Stim Miss', [0.15,0.5], stim_length = 'long')\n",
    "all_pvals_miss_baseline_post_stim_period = {unit:mean_permutation_test(labels, spikes) for unit, labels, spikes in unit_gen}\n",
    "\n",
    "print(\"Touch block FA vs baseline\")\n",
    "touch_blocks = log_df[log_df['block_type'] == 'Whisker']\n",
    "unit_gen = compare_to_baseline_unit_generator(touch_blocks, unit_key_df['uni_id'], 'Visual Stim FA', [0,0.5], stim_length = 'long')\n",
    "all_pvals_FA_baseline = {unit:mean_permutation_test(labels, spikes) for unit, labels, spikes in unit_gen if labels is not None}\n",
    "\n",
    "print(\"correct rejection vs baseline\")\n",
    "unit_gen = compare_to_baseline_unit_generator(log_df,unit_key_df['uni_id'], 'Visual Stim CR', [0,0.5], stim_length = 'long')\n",
    "all_pvals_CR_baseline = {unit:mean_permutation_test(labels, spikes) for unit, labels, spikes in unit_gen}"
   ]
  },
  {
   "cell_type": "code",
   "execution_count": null,
   "metadata": {},
   "outputs": [],
   "source": [
    "'07903-22-164t2'"
   ]
  },
  {
   "cell_type": "code",
   "execution_count": null,
   "metadata": {},
   "outputs": [],
   "source": [
    "print(\"Touch block FA vs baseline\")\n",
    "\n",
    "touch_blocks = log_df[log_df['block_type'] == 'Whisker']\n",
    "unit_gen = compare_to_baseline_unit_generator(log_df, ['07903-22-164t2'], 'Touch Stim Miss', [0,0.5], stim_length = 'long')\n",
    "all_pvals_FA_baseline = {unit:permutation_test(labels, spikes) for unit, labels, spikes in unit_gen if labels is not None}\n"
   ]
  },
  {
   "cell_type": "markdown",
   "metadata": {},
   "source": [
    "### Statistics for comparing activity between trial types"
   ]
  },
  {
   "cell_type": "code",
   "execution_count": null,
   "metadata": {},
   "outputs": [],
   "source": [
    "unit_gen = compare_trials_unit_generator(log_df,unit_key_df['uni_id'], 'Touch Stim Hit', 'Touch Stim Miss',[0, 0.5], stim_length = 'long')\n",
    "all_pvals_hit_miss_post_stim = {unit:mean_permutation_test(labels, spikes) for unit, labels, spikes in unit_gen}"
   ]
  },
  {
   "cell_type": "code",
   "execution_count": null,
   "metadata": {},
   "outputs": [],
   "source": [
    "def cum_dist(arr, bins):\n",
    "    hist = np.histogram(arr, bins = bins)\n",
    "    cumsum = np.cumsum(hist[0])\n",
    "    return [cumsum, hist[1]]"
   ]
  },
  {
   "cell_type": "code",
   "execution_count": null,
   "metadata": {},
   "outputs": [],
   "source": [
    "len(all_pvals_hit_miss_post_stim)"
   ]
  },
  {
   "cell_type": "code",
   "execution_count": null,
   "metadata": {},
   "outputs": [],
   "source": [
    "len(all_pvals_hit_baseline_stim_period)"
   ]
  },
  {
   "cell_type": "code",
   "execution_count": null,
   "metadata": {},
   "outputs": [],
   "source": [
    "fig, axes = plt.subplots(4,1, figsize = (7,18))\n",
    "# plt.tight_layout()\n",
    "\n",
    "\n",
    "compare_to_baseline_vals = [\n",
    "    all_pvals_hit_baseline,\n",
    "    all_pvals_miss_baseline,\n",
    "    all_pvals_FA_baseline,\n",
    "    all_pvals_CR_baseline\n",
    "]\n",
    "\n",
    "compare_to_baseline_vals_stim = [\n",
    "    all_pvals_hit_baseline_stim_period,\n",
    "    all_pvals_miss_baseline_stim_period\n",
    "]\n",
    "\n",
    "compare_to_baseline_vals_post_stim = [\n",
    "    all_pvals_hit_baseline_post_stim_period,\n",
    "    all_pvals_miss_baseline_post_stim_period\n",
    "]\n",
    "\n",
    "for group, c, label, y_pos in zip(compare_to_baseline_vals, ['C0', 'k', 'C2', 'C3'], \n",
    "                           ['Hit', 'Miss', 'FA', 'CR'], [0.4, 0.3,0.2,0.1]):\n",
    "    \n",
    "    pvals = np.array(list(group.values()))\n",
    "    frac_below_a = sum(pvals < 0.05)/pvals.shape[0]\n",
    "    cumsum = cum_dist(pvals,np.arange(0,1.001, 0.001))\n",
    "    axes[0].plot(cumsum[1][:-1], cumsum[0]/len(group), color = c)\n",
    "    axes[0].text(.65, y_pos, label + f' ({frac_below_a:.2f})', color = c, transform = axes[0].transAxes)\n",
    "axes[0].set_title('Elevated above baseline (0-500ms)', pad = 20)\n",
    "\n",
    "\n",
    "cumsum = cum_dist(list(all_pvals_hit_miss_post_stim.values()),np.arange(0,1.001, 0.001))\n",
    "axes[1].plot(cumsum[1][:-1], cumsum[0]/len(all_pvals_hit_miss_post_stim), '-', color = 'blue')\n",
    "axes[1].set_title('Activity in \"Hit\" > activity in \"Miss\" (0-500ms)', pad = 20)\n",
    "\n",
    "for group, c, label, y_pos in zip(compare_to_baseline_vals_stim, ['C0', 'k'], ['Hit', 'Miss'], [0.4, 0.3]):\n",
    "    pvals = np.array(list(group.values()))\n",
    "    frac_below_a = sum(pvals < 0.05)/pvals.shape[0]\n",
    "    cumsum = cum_dist(list(group.values()),np.arange(0,1.001, 0.001))\n",
    "    axes[2].plot(cumsum[1][:-1], cumsum[0]/len(group), color = c)\n",
    "    axes[2].text(.65, y_pos, label + f' ({frac_below_a:.2f})', color = c, transform = axes[2].transAxes)\n",
    "axes[2].set_title('Elevated above baseline (0-150ms)', pad = 20)\n",
    "\n",
    "\n",
    "for group, c, label, y_pos in zip(compare_to_baseline_vals_post_stim, ['C0', 'k'], ['Hit', 'Miss'], [0.4, 0.3]):\n",
    "    pvals = np.array(list(group.values()))\n",
    "    frac_below_a = sum(pvals < 0.05)/pvals.shape[0]\n",
    "    cumsum = cum_dist(list(group.values()),np.arange(0,1.001, 0.001))\n",
    "    axes[3].plot(cumsum[1][:-1], cumsum[0]/len(group), color = c)\n",
    "    axes[3].text(.65, y_pos, label + f' ({frac_below_a:.2f})', color = c, transform = axes[3].transAxes)\n",
    "axes[3].set_title('Elevated above baseline (150-500ms)', pad = 20)\n",
    "axes[3].set_xlabel('p-value')\n",
    "\n",
    "for ax in axes:\n",
    "    ax.set_ylabel('Cummulative fraction\\nof neurons')\n",
    "    ax.set_ylim(0,1)\n",
    "    ax.set_xlim(0,1)\n",
    "    ax.axvline(0.05, linestyle = '--', color = 'k')\n",
    "    ax.set_xticks([0.05,0.5,1])\n",
    "\n",
    "fig.subplots_adjust(hspace = .35, left = 0.3)\n",
    "# fig.savefig('permutation_test_fig2.png')"
   ]
  },
  {
   "cell_type": "code",
   "execution_count": null,
   "metadata": {},
   "outputs": [],
   "source": [
    "pos_mean = np.mean(spikes[labels, :], axis = 0)\n",
    "neg_mean = np.mean(spikes[~labels, :], axis = 0)\n",
    "\n",
    "real_value = calc_euc_dist(labels, spikes, shuff = False)\n",
    "shuff_values = [calc_euc_dist(labels, spikes, shuff = True) for i in range(10000)]\n",
    "np.mean(shuff_values >= real_value)"
   ]
  },
  {
   "cell_type": "code",
   "execution_count": null,
   "metadata": {},
   "outputs": [],
   "source": [
    "\n",
    "real_value"
   ]
  },
  {
   "cell_type": "code",
   "execution_count": null,
   "metadata": {},
   "outputs": [],
   "source": [
    "np.max(shuff_values)"
   ]
  },
  {
   "cell_type": "code",
   "execution_count": null,
   "metadata": {},
   "outputs": [],
   "source": [
    "example.columns"
   ]
  },
  {
   "cell_type": "code",
   "execution_count": null,
   "metadata": {},
   "outputs": [],
   "source": [
    "labels.isin(['Touch Stim Hit', 'Touch Stim Miss'])"
   ]
  },
  {
   "cell_type": "code",
   "execution_count": null,
   "metadata": {},
   "outputs": [],
   "source": [
    "np.vstack(spikes)"
   ]
  },
  {
   "cell_type": "code",
   "execution_count": null,
   "metadata": {},
   "outputs": [],
   "source": []
  }
 ],
 "metadata": {
  "kernelspec": {
   "display_name": "Python 3 (ipykernel)",
   "language": "python",
   "name": "python3"
  },
  "language_info": {
   "codemirror_mode": {
    "name": "ipython",
    "version": 3
   },
   "file_extension": ".py",
   "mimetype": "text/x-python",
   "name": "python",
   "nbconvert_exporter": "python",
   "pygments_lexer": "ipython3",
   "version": "3.9.6"
  }
 },
 "nbformat": 4,
 "nbformat_minor": 4
}

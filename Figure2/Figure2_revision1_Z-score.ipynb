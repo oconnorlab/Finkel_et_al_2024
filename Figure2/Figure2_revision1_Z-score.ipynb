{
 "cells": [
  {
   "cell_type": "code",
   "execution_count": 1,
   "metadata": {},
   "outputs": [
    {
     "name": "stderr",
     "output_type": "stream",
     "text": [
      "C:\\Users\\Eric\\AppData\\Local\\Temp/ipykernel_12456/2413744597.py:10: DeprecationWarning: Using or importing the ABCs from 'collections' instead of from 'collections.abc' is deprecated since Python 3.3, and in 3.10 it will stop working\n",
      "  from collections import Iterable\n"
     ]
    }
   ],
   "source": [
    "import scipy as sp\n",
    "import scipy.io\n",
    "import os\n",
    "import numpy as np\n",
    "import pandas as pd\n",
    "import glob\n",
    "import csv\n",
    "import random as rand\n",
    "from tqdm import tnrange, tqdm_notebook\n",
    "from collections import Iterable\n",
    "import matplotlib.pylab as plt\n",
    "import random as rand\n",
    "from ipywidgets import *\n",
    "from scipy import stats\n",
    "import importlib\n",
    "import sys\n",
    "sys.path.append(os.getcwd()+'/../')\n",
    "from utils import utils\n",
    "from utils import utils, zscores\n",
    "from utils import plotting_utils as pu\n",
    "from tqdm import tqdm\n",
    "import warnings\n",
    "\n",
    "import cmocean\n",
    "cmap = cmocean.cm.thermal\n",
    "colors = cmap\n",
    "\n",
    "# from utils import auc_methods as ama\n",
    "# import matplotlib.patches as patches\n",
    "# from matplotlib import gridspec\n",
    "# from sklearn.metrics import roc_curve, auc\n",
    "# from sklearn.model_selection import train_test_split\n",
    "# from sklearn.preprocessing import label_binarize\n",
    "# from matplotlib_venn import venn2\n",
    "\n",
    "%load_ext autoreload\n",
    "%autoreload 2\n",
    "import matplotlib as mpl\n",
    "mpl.rcParams['pdf.fonttype'] = 42\n",
    "mpl.rcParams['ps.fonttype'] = 42\n",
    "plt.close('all')\n",
    "\n",
    "font = {'family' : 'Arial',\n",
    "        'weight' : 'normal',\n",
    "        'size'   : 6}\n",
    "\n",
    "mpl.rc('font', **font)\n",
    "mpl.rc('xtick', labelsize=6) \n",
    "mpl.rc('ytick', labelsize=6)\n",
    "mpl.rc('axes', labelsize=6)\n",
    "\n",
    "mpl.rcParams['pdf.fonttype'] = 42\n",
    "mpl.rcParams['ps.fonttype'] = 42\n",
    "size_mult = 1"
   ]
  },
  {
   "cell_type": "code",
   "execution_count": 2,
   "metadata": {},
   "outputs": [],
   "source": [
    "plt.close('all')\n",
    "\n",
    "font = {'family' : 'Arial',\n",
    "        'weight' : 'normal',\n",
    "        'size'   : 16}\n",
    "\n",
    "mpl.rc('font', **font)\n",
    "mpl.rc('xtick', labelsize=16) \n",
    "mpl.rc('ytick', labelsize=16)\n",
    "mpl.rc('axes', labelsize=16)\n",
    "\n",
    "mpl.rcParams['pdf.fonttype'] = 42\n",
    "mpl.rcParams['ps.fonttype'] = 42"
   ]
  },
  {
   "cell_type": "code",
   "execution_count": 3,
   "metadata": {},
   "outputs": [],
   "source": [
    "DATA_DIR = os.path.abspath('../data')\n",
    "##### uncomment below if the processed data is already saved\n",
    "log_df = log_df = pd.read_hdf(os.path.join(DATA_DIR, 'log_df_processed_02-28-2019.h5'), 'fixed')\n",
    "unit_key_df = pd.read_hdf(os.path.join(DATA_DIR, 'unit_key_df_processed_02-28-2019.h5'), 'fixed')"
   ]
  },
  {
   "cell_type": "code",
   "execution_count": 4,
   "metadata": {},
   "outputs": [],
   "source": [
    "target_trials = log_df['trial_label'].isin(['Touch Stim Hit', 'Touch Stim Miss'])\n",
    "target_unit = log_df['uni_id'] == '07903-22-164t2'\n",
    "\n",
    "example = log_df[target_unit & target_trials]\n",
    "\n",
    "pos_trial = 'Touch Stim Hit'\n",
    "labels, spikes = (example['trial_label'] == pos_trial).values, example['spike_counts(stim_aligned)'].values\n",
    "spikes = np.vstack(spikes)[:, 39:59]/40 # first 500ms after stim onset; divide by 40 to go from per sec FR to raw spike count\n"
   ]
  },
  {
   "cell_type": "code",
   "execution_count": 5,
   "metadata": {},
   "outputs": [],
   "source": [
    "def cacl_mean_diff(labels, values, shuff = True):\n",
    "    if shuff:\n",
    "        labels = np.random.permutation(labels)\n",
    "    \n",
    "    pos_mean = np.mean(values[labels, :])\n",
    "    neg_mean = np.mean(values[~labels, :])\n",
    "#     import pdb;pdb.set_trace()\n",
    "#     print(pos_mean)\n",
    "    return pos_mean-neg_mean\n",
    "                    \n",
    "\n",
    "def mean_permutation_test(labels, values, num_iter = 1000):\n",
    "    pos_mean = np.mean(values[labels, :])\n",
    "    neg_mean = np.mean(values[~labels, :])\n",
    "\n",
    "    real_value = cacl_mean_diff(labels, values, shuff = False)\n",
    "    shuff_values = [cacl_mean_diff(labels, values, shuff = True) for i in range(num_iter)]\n",
    "    p_val = np.mean(shuff_values >= real_value)\n",
    "    return p_val, real_value, shuff_values\n",
    "\n",
    "def permutation_test_compare_baseline(unit_key_df, trial_type, time_window, num_iter = 10000):\n",
    "    \n",
    "    ## binsize = 0.025, \n",
    "    ## stim onset in z-scored trial type arrays start at 1 sec (start of +1sec bin is 39)\n",
    "    time_wind_inds = ((np.array(time_window)/0.025) + 39).astype(int)\n",
    "    \n",
    "    test_period =  np.vstack(unit_key_df[trial_type].values)[:, time_wind_inds[0]:time_wind_inds[1]]\n",
    "    window_dur = time_wind_inds[1]-time_wind_inds[0]\n",
    "    baseline_period =  np.vstack(unit_key_df[trial_type].values)[:, 39-window_dur:39]\n",
    "\n",
    "    pooled_periods = np.vstack([test_period, baseline_period])\n",
    "    pooled_period_labels = np.concatenate([[True]*test_period.shape[0], [False]*baseline_period.shape[0]])\n",
    "    \n",
    "    results = mean_permutation_test(pooled_period_labels,pooled_periods, num_iter = num_iter)\n",
    "    \n",
    "    print(f\"   mean z-score: {test_period.mean():.3f}, sem: {test_period.std()/np.sqrt(test_period.shape[0]):.2f}\")\n",
    "    print(f\"   pval:{results[0]}, test_stat: {results[1]:.2f}, n_iter: {len(results[2])}\\n\")\n",
    "    \n",
    "    return results\n",
    "     \n",
    "\n",
    "def permutation_test_compare_trials(unit_key_df, trial_type1, trial_type2, time_window, num_iter = 10000):\n",
    "    \n",
    "    ## binsize = 0.025, \n",
    "    ## stim onset in z-scored trial type arrays start at 1 sec (start of +1sec bin is 39)\n",
    "    time_wind_inds = ((np.array(time_window)/0.025) + 39).astype(int)\n",
    "    \n",
    "    trial_type1 =  np.vstack(unit_key_df[trial_type1].values)[:, time_wind_inds[0]:time_wind_inds[1]]\n",
    "    trial_type2 =  np.vstack(unit_key_df[trial_type2].values)[:, time_wind_inds[0]:time_wind_inds[1]]\n",
    "\n",
    "    pooled_periods = np.vstack([trial_type1, trial_type2])\n",
    "    pooled_period_labels = np.concatenate([[True]*trial_type1.shape[0], [False]*trial_type2.shape[0]])\n",
    "    p_val, real_val, shuff_vals = mean_permutation_test(pooled_period_labels,pooled_periods, num_iter = num_iter)\n",
    "    \n",
    "    results = mean_permutation_test(pooled_period_labels,pooled_periods, num_iter = num_iter)\n",
    "    \n",
    "    print(f\"   mean z-score difference: {(trial_type1 - trial_type2).mean():.2f}, sem: {(trial_type1 - trial_type2).std()/np.sqrt(trial_type1.shape[0]):.2f}\")\n",
    "    print(f\"   pval:{results[0]}, test_stat: {results[1]:.2f}, n_iter: {len(results[2])}\\n\")\n",
    "    return results\n",
    "    "
   ]
  },
  {
   "cell_type": "markdown",
   "metadata": {},
   "source": [
    "### Statistics for elevated activity over baseline for diff trial types"
   ]
  },
  {
   "cell_type": "code",
   "execution_count": 6,
   "metadata": {},
   "outputs": [
    {
     "name": "stdout",
     "output_type": "stream",
     "text": [
      "hits vs miss 0-500ms\n",
      "   mean z-score difference: 0.98, sem: 0.08\n",
      "   pval:0.0, test_stat: 0.98, n_iter: 10000\n",
      "\n"
     ]
    }
   ],
   "source": [
    "print('hits vs miss 0-500ms')\n",
    "hit_vs_miss_500ms = permutation_test_compare_trials(unit_key_df, 'Touch Stim Hit(z_score)','Touch Stim Miss(z_score)', [0,0.5])\n"
   ]
  },
  {
   "cell_type": "code",
   "execution_count": 7,
   "metadata": {},
   "outputs": [
    {
     "name": "stdout",
     "output_type": "stream",
     "text": [
      "hits vs miss 0-500ms\n",
      "   mean z-score difference: 0.98, sem: 0.08\n",
      "   pval:0.0, test_stat: 0.98, n_iter: 10000\n",
      "\n",
      "hits vs baseline 0-500ms\n",
      "   mean z-score: 1.182, sem: 0.08\n",
      "   pval:0.0, test_stat: 1.29, n_iter: 10000\n",
      "\n",
      "miss vs baseline 0-500ms\n",
      "   mean z-score: 0.202, sem: 0.05\n",
      "   pval:0.0016, test_stat: 0.09, n_iter: 10000\n",
      "\n",
      "hits vs baseline: 0-150ms\n",
      "   mean z-score: 0.876, sem: 0.09\n",
      "   pval:0.0, test_stat: 0.97, n_iter: 10000\n",
      "\n",
      "hits vs baseline: 150-500ms\n",
      "   mean z-score: 1.314, sem: 0.08\n",
      "   pval:0.0, test_stat: 1.42, n_iter: 10000\n",
      "\n",
      "miss vs baseline: 0-150ms\n",
      "   mean z-score: 0.399, sem: 0.06\n",
      "   pval:0.0, test_stat: 0.28, n_iter: 10000\n",
      "\n",
      "miss vs baseline: 150-500ms\n",
      "   mean z-score: 0.118, sem: 0.04\n",
      "   pval:0.463, test_stat: 0.00, n_iter: 10000\n",
      "\n",
      "Touch block FA vs baseline 0-500ms\n",
      "   mean z-score: 0.502, sem: 0.06\n",
      "   pval:0.0, test_stat: 0.44, n_iter: 10000\n",
      "\n",
      "Touch block CR vs baseline 0-500ms\n",
      "   mean z-score: -0.037, sem: 0.03\n",
      "   pval:0.6829, test_stat: -0.01, n_iter: 10000\n",
      "\n"
     ]
    }
   ],
   "source": [
    "print('hits vs miss 0-500ms')\n",
    "hit_vs_miss_500ms = permutation_test_compare_trials(unit_key_df, 'Touch Stim Hit(z_score)','Touch Stim Miss(z_score)', [0,0.5])\n",
    "\n",
    "print(\"hits vs baseline 0-500ms\")\n",
    "hit_vs_baseline_500ms = permutation_test_compare_baseline(unit_key_df, 'Touch Stim Hit(z_score)', [0,0.5])\n",
    "\n",
    "print(\"miss vs baseline 0-500ms\")\n",
    "miss_vs_baseline_500ms = permutation_test_compare_baseline(unit_key_df, 'Touch Stim Miss(z_score)', [0,0.5])\n",
    "\n",
    "print(\"hits vs baseline: 0-150ms\")\n",
    "hit_vs_baseline_150ms = permutation_test_compare_baseline(unit_key_df, 'Touch Stim Hit(z_score)', [0,0.15])\n",
    "print(\"hits vs baseline: 150-500ms\")\n",
    "hit_vs_baseline_150_500ms = permutation_test_compare_baseline(unit_key_df, 'Touch Stim Hit(z_score)', [0.15,0.5])\n",
    "\n",
    "print(\"miss vs baseline: 0-150ms\")\n",
    "miss_vs_baseline_150ms = permutation_test_compare_baseline(unit_key_df, 'Touch Stim Miss(z_score)', [0,0.15])\n",
    "print(\"miss vs baseline: 150-500ms\")\n",
    "miss_vs_baseline_150_500ms = permutation_test_compare_baseline(unit_key_df, 'Touch Stim Miss(z_score)', [0.15,0.5])\n",
    "\n",
    "      \n",
    "print(\"Touch block FA vs baseline 0-500ms\")\n",
    "FA_vs_baseline_500ms = permutation_test_compare_baseline(unit_key_df, 'Visual Stim FA(z_score)', [0,0.5])\n",
    "\n",
    "print(\"Touch block CR vs baseline 0-500ms\")\n",
    "CR_vs_baseline_500ms = permutation_test_compare_baseline(unit_key_df, 'Visual Stim CR(z_score)', [0,0.5])\n",
    "\n",
    "\n"
   ]
  },
  {
   "cell_type": "code",
   "execution_count": 12,
   "metadata": {},
   "outputs": [
    {
     "name": "stdout",
     "output_type": "stream",
     "text": [
      "Visual block CR vs baseline 0-150ms\n",
      "   mean z-score: 0.35, sem: 0.06\n",
      "   pval:0.0, test_stat: 0.41, n_iter: 10000\n",
      "\n"
     ]
    }
   ],
   "source": [
    "print(\"Visual block CR vs baseline 0-150ms\")\n",
    "tactile_CR_vs_baseline_500ms = permutation_test_compare_baseline(unit_key_df, 'Touch Stim CR(z_score)', [0,0.15])\n"
   ]
  },
  {
   "cell_type": "code",
   "execution_count": 17,
   "metadata": {},
   "outputs": [
    {
     "name": "stdout",
     "output_type": "stream",
     "text": [
      "   mean z-score: -0.049, sem: 0.03\n",
      "   pval:0.2895, test_stat: 0.01, n_iter: 10000\n",
      "\n"
     ]
    }
   ],
   "source": [
    "Visual_CR_vs_baseline_500ms = permutation_test_compare_baseline(unit_key_df, 'Visual Stim CR(z_score)', [0,0.15])\n"
   ]
  },
  {
   "cell_type": "code",
   "execution_count": 18,
   "metadata": {},
   "outputs": [
    {
     "name": "stdout",
     "output_type": "stream",
     "text": [
      "   mean z-score: -0.050, sem: 0.03\n",
      "   pval:0.0209, test_stat: 0.04, n_iter: 10000\n",
      "\n"
     ]
    }
   ],
   "source": [
    "Visual_CR_vs_baseline_500ms = permutation_test_compare_baseline(unit_key_df, 'Visual Stim Hit(z_score)', [0,0.15])\n"
   ]
  },
  {
   "cell_type": "code",
   "execution_count": 19,
   "metadata": {},
   "outputs": [
    {
     "name": "stdout",
     "output_type": "stream",
     "text": [
      "   mean z-score: -0.044, sem: 0.04\n",
      "   pval:0.6491, test_stat: -0.01, n_iter: 10000\n",
      "\n"
     ]
    }
   ],
   "source": [
    "Visual_CR_vs_baseline_500ms = permutation_test_compare_baseline(unit_key_df, 'Visual Stim Miss(z_score)', [0,0.15])\n"
   ]
  },
  {
   "cell_type": "code",
   "execution_count": null,
   "metadata": {},
   "outputs": [],
   "source": [
    "print(\"Touch block FA vs baseline\")\n",
    "\n",
    "touch_blocks = log_df[log_df['block_type'] == 'Whisker']\n",
    "unit_gen = compare_to_baseline_unit_generator(log_df, ['07903-22-164t2'], 'Touch Stim Miss', [0,0.5], stim_length = 'long')\n",
    "all_pvals_FA_baseline = {unit:permutation_test(labels, spikes) for unit, labels, spikes in unit_gen if labels is not None}\n"
   ]
  },
  {
   "cell_type": "markdown",
   "metadata": {},
   "source": [
    "### Statistics for comparing activity between trial types"
   ]
  },
  {
   "cell_type": "code",
   "execution_count": null,
   "metadata": {},
   "outputs": [],
   "source": [
    "unit_gen = compare_trials_unit_generator(log_df,unit_key_df['uni_id'], 'Touch Stim Hit', 'Touch Stim Miss',[0, 0.5], stim_length = 'long')\n",
    "all_pvals_hit_miss_post_stim = {unit:mean_permutation_test(labels, spikes) for unit, labels, spikes in unit_gen}"
   ]
  },
  {
   "cell_type": "code",
   "execution_count": null,
   "metadata": {},
   "outputs": [],
   "source": [
    "def cum_dist(arr, bins):\n",
    "    hist = np.histogram(arr, bins = bins)\n",
    "    cumsum = np.cumsum(hist[0])\n",
    "    return [cumsum, hist[1]]"
   ]
  },
  {
   "cell_type": "code",
   "execution_count": null,
   "metadata": {},
   "outputs": [],
   "source": [
    "len(all_pvals_hit_miss_post_stim)"
   ]
  },
  {
   "cell_type": "code",
   "execution_count": null,
   "metadata": {},
   "outputs": [],
   "source": [
    "len(all_pvals_hit_baseline_stim_period)"
   ]
  },
  {
   "cell_type": "code",
   "execution_count": null,
   "metadata": {},
   "outputs": [],
   "source": [
    "fig, axes = plt.subplots(4,1, figsize = (7,18))\n",
    "# plt.tight_layout()\n",
    "\n",
    "\n",
    "compare_to_baseline_vals = [\n",
    "    all_pvals_hit_baseline,\n",
    "    all_pvals_miss_baseline,\n",
    "    all_pvals_FA_baseline,\n",
    "    all_pvals_CR_baseline\n",
    "]\n",
    "\n",
    "compare_to_baseline_vals_stim = [\n",
    "    all_pvals_hit_baseline_stim_period,\n",
    "    all_pvals_miss_baseline_stim_period\n",
    "]\n",
    "\n",
    "compare_to_baseline_vals_post_stim = [\n",
    "    all_pvals_hit_baseline_post_stim_period,\n",
    "    all_pvals_miss_baseline_post_stim_period\n",
    "]\n",
    "\n",
    "for group, c, label, y_pos in zip(compare_to_baseline_vals, ['C0', 'k', 'C2', 'C3'], \n",
    "                           ['Hit', 'Miss', 'FA', 'CR'], [0.4, 0.3,0.2,0.1]):\n",
    "    \n",
    "    pvals = np.array(list(group.values()))\n",
    "    frac_below_a = sum(pvals < 0.05)/pvals.shape[0]\n",
    "    cumsum = cum_dist(pvals,np.arange(0,1.001, 0.001))\n",
    "    axes[0].plot(cumsum[1][:-1], cumsum[0]/len(group), color = c)\n",
    "    axes[0].text(.65, y_pos, label + f' ({frac_below_a:.2f})', color = c, transform = axes[0].transAxes)\n",
    "axes[0].set_title('Elevated above baseline (0-500ms)', pad = 20)\n",
    "\n",
    "\n",
    "cumsum = cum_dist(list(all_pvals_hit_miss_post_stim.values()),np.arange(0,1.001, 0.001))\n",
    "axes[1].plot(cumsum[1][:-1], cumsum[0]/len(all_pvals_hit_miss_post_stim), '-', color = 'blue')\n",
    "axes[1].set_title('Activity in \"Hit\" > activity in \"Miss\" (0-500ms)', pad = 20)\n",
    "\n",
    "for group, c, label, y_pos in zip(compare_to_baseline_vals_stim, ['C0', 'k'], ['Hit', 'Miss'], [0.4, 0.3]):\n",
    "    pvals = np.array(list(group.values()))\n",
    "    frac_below_a = sum(pvals < 0.05)/pvals.shape[0]\n",
    "    cumsum = cum_dist(list(group.values()),np.arange(0,1.001, 0.001))\n",
    "    axes[2].plot(cumsum[1][:-1], cumsum[0]/len(group), color = c)\n",
    "    axes[2].text(.65, y_pos, label + f' ({frac_below_a:.2f})', color = c, transform = axes[2].transAxes)\n",
    "axes[2].set_title('Elevated above baseline (0-150ms)', pad = 20)\n",
    "\n",
    "\n",
    "for group, c, label, y_pos in zip(compare_to_baseline_vals_post_stim, ['C0', 'k'], ['Hit', 'Miss'], [0.4, 0.3]):\n",
    "    pvals = np.array(list(group.values()))\n",
    "    frac_below_a = sum(pvals < 0.05)/pvals.shape[0]\n",
    "    cumsum = cum_dist(list(group.values()),np.arange(0,1.001, 0.001))\n",
    "    axes[3].plot(cumsum[1][:-1], cumsum[0]/len(group), color = c)\n",
    "    axes[3].text(.65, y_pos, label + f' ({frac_below_a:.2f})', color = c, transform = axes[3].transAxes)\n",
    "axes[3].set_title('Elevated above baseline (150-500ms)', pad = 20)\n",
    "axes[3].set_xlabel('p-value')\n",
    "\n",
    "for ax in axes:\n",
    "    ax.set_ylabel('Cummulative fraction\\nof neurons')\n",
    "    ax.set_ylim(0,1)\n",
    "    ax.set_xlim(0,1)\n",
    "    ax.axvline(0.05, linestyle = '--', color = 'k')\n",
    "    ax.set_xticks([0.05,0.5,1])\n",
    "\n",
    "fig.subplots_adjust(hspace = .35, left = 0.3)\n",
    "fig.savefig('permutation_test_fig2.png')"
   ]
  },
  {
   "cell_type": "code",
   "execution_count": null,
   "metadata": {},
   "outputs": [],
   "source": [
    "pos_mean = np.mean(spikes[labels, :], axis = 0)\n",
    "neg_mean = np.mean(spikes[~labels, :], axis = 0)\n",
    "\n",
    "real_value = calc_euc_dist(labels, spikes, shuff = False)\n",
    "shuff_values = [calc_euc_dist(labels, spikes, shuff = True) for i in range(10000)]\n",
    "np.mean(shuff_values >= real_value)"
   ]
  },
  {
   "cell_type": "code",
   "execution_count": null,
   "metadata": {},
   "outputs": [],
   "source": [
    "\n",
    "real_value"
   ]
  },
  {
   "cell_type": "code",
   "execution_count": null,
   "metadata": {},
   "outputs": [],
   "source": [
    "np.max(shuff_values)"
   ]
  },
  {
   "cell_type": "code",
   "execution_count": null,
   "metadata": {},
   "outputs": [],
   "source": [
    "example.columns"
   ]
  },
  {
   "cell_type": "code",
   "execution_count": null,
   "metadata": {},
   "outputs": [],
   "source": [
    "labels.isin(['Touch Stim Hit', 'Touch Stim Miss'])"
   ]
  },
  {
   "cell_type": "code",
   "execution_count": null,
   "metadata": {},
   "outputs": [],
   "source": [
    "np.vstack(spikes)"
   ]
  },
  {
   "cell_type": "code",
   "execution_count": null,
   "metadata": {},
   "outputs": [],
   "source": []
  }
 ],
 "metadata": {
  "kernelspec": {
   "display_name": "Python 3 (ipykernel)",
   "language": "python",
   "name": "python3"
  },
  "language_info": {
   "codemirror_mode": {
    "name": "ipython",
    "version": 3
   },
   "file_extension": ".py",
   "mimetype": "text/x-python",
   "name": "python",
   "nbconvert_exporter": "python",
   "pygments_lexer": "ipython3",
   "version": "3.9.6"
  }
 },
 "nbformat": 4,
 "nbformat_minor": 4
}

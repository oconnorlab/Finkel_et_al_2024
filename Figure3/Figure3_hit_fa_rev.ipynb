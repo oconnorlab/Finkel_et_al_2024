{
 "cells": [
  {
   "cell_type": "code",
   "execution_count": 2,
   "metadata": {},
   "outputs": [],
   "source": [
    "import scipy as sp\n",
    "import scipy.io\n",
    "from scipy import stats\n",
    "import os\n",
    "import numpy as np\n",
    "import pandas as pd\n",
    "import glob\n",
    "from sklearn.metrics import roc_curve, auc\n",
    "import matplotlib.pylab as mpl\n",
    "from matplotlib import gridspec\n",
    "import matplotlib.patches as patches\n",
    "import sys\n",
    "sys.path.append(os.getcwd()+'\\\\..')\n",
    "\n",
    "from utils import auc_methods as am\n",
    "\n",
    "%load_ext autoreload\n",
    "%autoreload 2\n",
    "mpl.rcParams['pdf.fonttype'] = 42\n",
    "mpl.rcParams['ps.fonttype'] = 42"
   ]
  },
  {
   "cell_type": "code",
   "execution_count": 3,
   "metadata": {},
   "outputs": [],
   "source": [
    "mpl.close('all')\n",
    "\n",
    "font = {'family' : 'Arial',\n",
    "        'weight' : 'normal',\n",
    "        'size'   : 14}\n",
    "\n",
    "mpl.rc('font', **font)\n",
    "mpl.rc('xtick', labelsize=14) \n",
    "mpl.rc('ytick', labelsize=14)\n",
    "mpl.rc('axes', labelsize=14)\n",
    "\n",
    "mpl.rcParams['pdf.fonttype'] = 42\n",
    "mpl.rcParams['ps.fonttype'] = 42\n",
    "size_mult = 1"
   ]
  },
  {
   "cell_type": "code",
   "execution_count": 4,
   "metadata": {},
   "outputs": [],
   "source": [
    "bin_size = 0.025\n",
    "window = [-1, 3]\n",
    "edges = np.arange(window[0], window[1], bin_size)"
   ]
  },
  {
   "cell_type": "code",
   "execution_count": null,
   "metadata": {},
   "outputs": [],
   "source": [
    "DATA_DIR = os.path.abspath('../data')\n",
    "log_df = pd.read_hdf(os.path.join(DATA_DIR, 'log_df_processed_02-28-2019.h5'), 'fixed')\n",
    "unit_key_df = pd.read_hdf(os.path.join(DATA_DIR, 'unit_key_df_processed_02-28-2019.h5'), 'fixed')"
   ]
  },
  {
   "cell_type": "code",
   "execution_count": null,
   "metadata": {},
   "outputs": [],
   "source": [
    "unit_key_df = unit_key_df[~(unit_key_df['mouse_name'].isin(['EF0083','EF0085', 'EF0112', 'EF0111']))] # these are mice with tetrodes not implanted in pricipal whisker\n",
    "unit_key_df['mouse_name'].unique()"
   ]
  },
  {
   "cell_type": "code",
   "execution_count": 43,
   "metadata": {},
   "outputs": [],
   "source": [
    "def plot_raster(ax,ras,trial_total, window, bin_size = 0.025):\n",
    "    \"\"\"\n",
    "    plot raster for a specific trial_type/outcome stacked on previous plotted raster\n",
    "    \"\"\"  \n",
    "    spike_counts = []\n",
    "    for trial, spike in enumerate(ras['spike_times(stim_aligned)']):\n",
    "        spike = spike[(spike>window[0]) & (spike<=window[1])]\n",
    "        ax.vlines(spike, trial + trial_total - .5, trial + trial_total +.5)\n",
    "        ax.vlines(ras.iloc[trial]['first_lick'], trial + trial_total - .5, trial +\n",
    "                   trial_total + .5, color = 'r', linewidth = 5)\n",
    "\n",
    "        spike = spike[(spike>window[0]) & (spike<=window[1])]\n",
    "        edges = np.arange(window[0], window[1]+bin_size*2, bin_size)\n",
    "        count, _ = np.histogram(spike,edges)\n",
    "        spike_counts.append(count)\n",
    "    return spike_counts"
   ]
  },
  {
   "cell_type": "code",
   "execution_count": 44,
   "metadata": {},
   "outputs": [],
   "source": [
    "def plot_psth(spike_counts, ax, window, color, bin_size = 0.025):\n",
    "    \"\"\"\n",
    "    plot psth corresponding to a raster\n",
    "    \"\"\"\n",
    "    average_hist = np.mean(spike_counts, axis=0)/bin_size\n",
    "    SE_hist = stats.sem(spike_counts)/bin_size\n",
    "    edges = np.arange(window[0], window[1]+bin_size*2, bin_size)\n",
    "    ax.plot(edges[0:-1], average_hist, color = color)\n",
    "    ax.fill_between(edges[0:-1], average_hist-SE_hist, average_hist+SE_hist, alpha = 0.3, color = color)"
   ]
  },
  {
   "cell_type": "code",
   "execution_count": 45,
   "metadata": {},
   "outputs": [],
   "source": [
    "def plot_rasters_psths(rasters, window, ax, ax1, patch_ax, colors, bin_size = 0.025):\n",
    "    \"\"\"\n",
    "    plot rasters and psths for each trial_type/outcome in \"rasters\"\n",
    "    \"\"\"\n",
    "    \n",
    "    trial_total = 1\n",
    "    patch_ax.plot([0,2],[trial_total-.5, trial_total-.5], '--k')\n",
    "\n",
    "    for i, ras in enumerate(rasters):\n",
    "        spike_counts = plot_raster(ax, ras, trial_total, window)\n",
    "        num_trials_in_raster = len(ras)\n",
    "        patch_ax.add_patch(patches.Rectangle((0,trial_total -.5), 1,\n",
    "                                    num_trials_in_raster+1, facecolor = colors[i], alpha = 0.5))\n",
    "\n",
    "        patch_ax.plot([0,2],[trial_total-.5, trial_total-.5], '--k')\n",
    "        plot_psth(spike_counts, ax1, window, color = colors[i], bin_size = bin_size)\n",
    "        trial_total = trial_total + num_trials_in_raster +1\n",
    "\n",
    "    return spike_counts, trial_total"
   ]
  },
  {
   "cell_type": "code",
   "execution_count": 46,
   "metadata": {},
   "outputs": [],
   "source": [
    "def plot_raster_fig(rasters, trial_type, window, colors, bin_size = 0.025, ylim_p = None):\n",
    "    \"\"\"\n",
    "    setup figure and plot rasters and PSTHs of indicated unit\n",
    "    \"\"\"\n",
    "\n",
    "    fig = mpl.figure(figsize=(4, 3.5))\n",
    "    gs = [gridspec.GridSpec(1,1) for i in range(4)]\n",
    "    gs[0].update(bottom = 0.88, top=0.95, left = 0.2, right = 0.83)\n",
    "    gs[2].update(bottom=0.15, top=0.41, left = 0.2, right = 0.83)\n",
    "    gs[1].update(bottom=0.45, top=0.88, left = 0.2, right = 0.83)\n",
    "    gs[3].update(bottom=0.45, top=0.88, left = 0.83, right = 0.9)\n",
    "\n",
    "    (ax1, ax2, ax3) = [mpl.subplot(gs[i][0, 0]) for i in range(3)]\n",
    "    patch_ax = mpl.subplot(gs[3][0, 0], sharey = ax2)\n",
    "\n",
    "    ax1.add_patch(patches.Rectangle((0,0), 0.15, 0.75, facecolor = 'k', alpha = 0.75))\n",
    "    spike_counts, trial_total = plot_rasters_psths(rasters, window, ax2,ax3, patch_ax, colors)\n",
    "\n",
    "    for ax in [ax1,ax2,ax3, patch_ax]:\n",
    "        ax.set_xlim(window[0],window[1]-bin_size)\n",
    "        ax.spines['right'].set_visible(False)\n",
    "        ax.spines['top'].set_visible(False)\n",
    "\n",
    "    ax1.axis('off')\n",
    "    ax1.set_ylim(0,2)\n",
    "\n",
    "    ax2.spines['bottom'].set_visible(False)\n",
    "    ax2.set_ylabel('Trials')    \n",
    "    ax2.axes.get_xaxis().set_ticks([])\n",
    "    ax2.set_ylim(-1, trial_total+.5)\n",
    "\n",
    "    og_ylim = ax2.get_ylim()\n",
    "    ax2.spines['left'].set_bounds(0, trial_total)\n",
    "    ax2.set_yticks(np.arange(0, og_ylim[1], 20))\n",
    "        \n",
    "    ax3.set_xlabel('Time(s)')\n",
    "    ax3.set_ylabel('Firing\\nrate (Hz)') \n",
    "    if ylim_p != None:\n",
    "        ax3.set_ylim(ylim_p)\n",
    "\n",
    "    patch_ax.axis('off')\n",
    "    patch_ax.set_xlim(0,2)\n",
    "    return fig"
   ]
  },
  {
   "cell_type": "code",
   "execution_count": 47,
   "metadata": {},
   "outputs": [],
   "source": [
    "def plot_unit(unit_name, log_df, x_min, x_max, trial_type = 'Stim_Som_NoCue', colors = ['k', 'C0'], ylim=None, bin_size = 0.025):\n",
    "    \"\"\"\n",
    "    indexes trials by trial type and passes them to\n",
    "    plot_rasters for plotting\n",
    "    \"\"\"\n",
    "    if 'Som' in trial_type:\n",
    "        resp = 1\n",
    "    else:\n",
    "        resp = 2\n",
    "    \n",
    "    current_cell = log_df[log_df['uni_id'] == unit_name]\n",
    "    lick = current_cell[(current_cell['trial_type'] == trial_type) & (current_cell['block_type'] == 'Whisker') & current_cell['response'].isin([resp])]\n",
    "    no_lick = current_cell[(current_cell['trial_type'] == trial_type) & (current_cell['block_type'] == 'Visual') & current_cell['response'].isin([1,2])]\n",
    "    rasters = [no_lick, lick]\n",
    "\n",
    "    fig = plot_raster_fig(rasters, trial_type, [x_min, x_max], colors, ylim_p = ylim, bin_size = bin_size)\n",
    "\n",
    "    return fig"
   ]
  },
  {
   "cell_type": "code",
   "execution_count": 83,
   "metadata": {},
   "outputs": [
    {
     "data": {
      "image/png": "[encoded data removed]",
      "text/plain": [
       "<Figure size 288x252 with 4 Axes>"
      ]
     },
     "metadata": {
      "needs_background": "light"
     },
     "output_type": "display_data"
    }
   ],
   "source": [
    "fig = plot_unit('08809-04-167t2', log_df, -0.25, 0.75, trial_type = 'Stim_Som_NoCue', bin_size = bin_size)"
   ]
  },
  {
   "cell_type": "code",
   "execution_count": 82,
   "metadata": {},
   "outputs": [
    {
     "data": {
      "image/png": "[encoded data removed]",
      "text/plain": [
       "<Figure size 288x252 with 4 Axes>"
      ]
     },
     "metadata": {
      "needs_background": "light"
     },
     "output_type": "display_data"
    }
   ],
   "source": [
    "fig = plot_unit('08809-04-167t2', log_df, -0.25, 0.75, trial_type = 'Stim_Vis_NoCue', bin_size = bin_size)"
   ]
  },
  {
   "cell_type": "code",
   "execution_count": 14,
   "metadata": {},
   "outputs": [
    {
     "data": {
      "text/html": [
       "<div>\n",
       "<style scoped>\n",
       "    .dataframe tbody tr th:only-of-type {\n",
       "        vertical-align: middle;\n",
       "    }\n",
       "\n",
       "    .dataframe tbody tr th {\n",
       "        vertical-align: top;\n",
       "    }\n",
       "\n",
       "    .dataframe thead th {\n",
       "        text-align: right;\n",
       "    }\n",
       "</style>\n",
       "<table border=\"1\" class=\"dataframe\">\n",
       "  <thead>\n",
       "    <tr style=\"text-align: right;\">\n",
       "      <th></th>\n",
       "      <th>uni_id</th>\n",
       "      <th>mouse_name</th>\n",
       "      <th>date</th>\n",
       "      <th>cluster_name</th>\n",
       "    </tr>\n",
       "  </thead>\n",
       "  <tbody>\n",
       "    <tr>\n",
       "      <td>0</td>\n",
       "      <td>07401-03-161t1</td>\n",
       "      <td>EF0074</td>\n",
       "      <td>01-03-16</td>\n",
       "      <td>TT1clst1</td>\n",
       "    </tr>\n",
       "    <tr>\n",
       "      <td>1</td>\n",
       "      <td>07401-03-162t1</td>\n",
       "      <td>EF0074</td>\n",
       "      <td>01-03-16</td>\n",
       "      <td>TT2clst1</td>\n",
       "    </tr>\n",
       "    <tr>\n",
       "      <td>2</td>\n",
       "      <td>07401-03-162t2</td>\n",
       "      <td>EF0074</td>\n",
       "      <td>01-03-16</td>\n",
       "      <td>TT2clst2</td>\n",
       "    </tr>\n",
       "    <tr>\n",
       "      <td>3</td>\n",
       "      <td>07401-03-165t1</td>\n",
       "      <td>EF0074</td>\n",
       "      <td>01-03-16</td>\n",
       "      <td>TT5clst1</td>\n",
       "    </tr>\n",
       "    <tr>\n",
       "      <td>4</td>\n",
       "      <td>07401-03-165t2</td>\n",
       "      <td>EF0074</td>\n",
       "      <td>01-03-16</td>\n",
       "      <td>TT5clst2</td>\n",
       "    </tr>\n",
       "    <tr>\n",
       "      <td>...</td>\n",
       "      <td>...</td>\n",
       "      <td>...</td>\n",
       "      <td>...</td>\n",
       "      <td>...</td>\n",
       "    </tr>\n",
       "    <tr>\n",
       "      <td>1534</td>\n",
       "      <td>11406-01-187t1</td>\n",
       "      <td>EF0114</td>\n",
       "      <td>06-01-18</td>\n",
       "      <td>TT7clst1</td>\n",
       "    </tr>\n",
       "    <tr>\n",
       "      <td>1535</td>\n",
       "      <td>11406-01-187t2</td>\n",
       "      <td>EF0114</td>\n",
       "      <td>06-01-18</td>\n",
       "      <td>TT7clst2</td>\n",
       "    </tr>\n",
       "    <tr>\n",
       "      <td>1536</td>\n",
       "      <td>11406-01-187t3</td>\n",
       "      <td>EF0114</td>\n",
       "      <td>06-01-18</td>\n",
       "      <td>TT7clst3</td>\n",
       "    </tr>\n",
       "    <tr>\n",
       "      <td>1537</td>\n",
       "      <td>11406-01-188t1</td>\n",
       "      <td>EF0114</td>\n",
       "      <td>06-01-18</td>\n",
       "      <td>TT8clst1</td>\n",
       "    </tr>\n",
       "    <tr>\n",
       "      <td>1538</td>\n",
       "      <td>11406-01-188t2</td>\n",
       "      <td>EF0114</td>\n",
       "      <td>06-01-18</td>\n",
       "      <td>TT8clst2</td>\n",
       "    </tr>\n",
       "  </tbody>\n",
       "</table>\n",
       "<p>1539 rows × 4 columns</p>\n",
       "</div>"
      ],
      "text/plain": [
       "              uni_id mouse_name      date cluster_name\n",
       "0     07401-03-161t1     EF0074  01-03-16     TT1clst1\n",
       "1     07401-03-162t1     EF0074  01-03-16     TT2clst1\n",
       "2     07401-03-162t2     EF0074  01-03-16     TT2clst2\n",
       "3     07401-03-165t1     EF0074  01-03-16     TT5clst1\n",
       "4     07401-03-165t2     EF0074  01-03-16     TT5clst2\n",
       "...              ...        ...       ...          ...\n",
       "1534  11406-01-187t1     EF0114  06-01-18     TT7clst1\n",
       "1535  11406-01-187t2     EF0114  06-01-18     TT7clst2\n",
       "1536  11406-01-187t3     EF0114  06-01-18     TT7clst3\n",
       "1537  11406-01-188t1     EF0114  06-01-18     TT8clst1\n",
       "1538  11406-01-188t2     EF0114  06-01-18     TT8clst2\n",
       "\n",
       "[1539 rows x 4 columns]"
      ]
     },
     "execution_count": 14,
     "metadata": {},
     "output_type": "execute_result"
    }
   ],
   "source": [
    "log_df[['uni_id', 'mouse_name', 'date', 'cluster_name']].drop_duplicates().reset_index(drop=True)"
   ]
  },
  {
   "cell_type": "markdown",
   "metadata": {},
   "source": [
    "### load auc data"
   ]
  },
  {
   "cell_type": "code",
   "execution_count": 5,
   "metadata": {},
   "outputs": [],
   "source": [
    "log_df = pd.read_hdf(f'{data_directory}/log_df_processed_02-28-2019.h5', 'fixed')\n",
    "unit_key_df = pd.read_hdf(f'{data_directory}/unit_key_df_processed_02-28-2019.h5', 'fixed')\n",
    "unit_key_df = unit_key_df[~(unit_key_df['mouse_name'].isin(['EF0083','EF0085', 'EF0112', 'EF0111']))]\n",
    "log_df = log_df.loc[log_df['uni_id'].isin(unit_key_df['uni_id']),:].reset_index(drop = True)"
   ]
  },
  {
   "cell_type": "code",
   "execution_count": 28,
   "metadata": {},
   "outputs": [
    {
     "data": {
      "text/html": [
       "<div>\n",
       "<style scoped>\n",
       "    .dataframe tbody tr th:only-of-type {\n",
       "        vertical-align: middle;\n",
       "    }\n",
       "\n",
       "    .dataframe tbody tr th {\n",
       "        vertical-align: top;\n",
       "    }\n",
       "\n",
       "    .dataframe thead th {\n",
       "        text-align: right;\n",
       "    }\n",
       "</style>\n",
       "<table border=\"1\" class=\"dataframe\">\n",
       "  <thead>\n",
       "    <tr style=\"text-align: right;\">\n",
       "      <th></th>\n",
       "      <th>uni_id</th>\n",
       "      <th>mouse_name</th>\n",
       "      <th>date</th>\n",
       "      <th>cluster_name</th>\n",
       "    </tr>\n",
       "  </thead>\n",
       "  <tbody>\n",
       "    <tr>\n",
       "      <td>0</td>\n",
       "      <td>07401-03-161t1</td>\n",
       "      <td>EF0074</td>\n",
       "      <td>01-03-16</td>\n",
       "      <td>TT1clst1</td>\n",
       "    </tr>\n",
       "    <tr>\n",
       "      <td>1</td>\n",
       "      <td>07401-03-162t1</td>\n",
       "      <td>EF0074</td>\n",
       "      <td>01-03-16</td>\n",
       "      <td>TT2clst1</td>\n",
       "    </tr>\n",
       "    <tr>\n",
       "      <td>2</td>\n",
       "      <td>07401-03-162t2</td>\n",
       "      <td>EF0074</td>\n",
       "      <td>01-03-16</td>\n",
       "      <td>TT2clst2</td>\n",
       "    </tr>\n",
       "    <tr>\n",
       "      <td>3</td>\n",
       "      <td>07401-03-165t1</td>\n",
       "      <td>EF0074</td>\n",
       "      <td>01-03-16</td>\n",
       "      <td>TT5clst1</td>\n",
       "    </tr>\n",
       "    <tr>\n",
       "      <td>4</td>\n",
       "      <td>07401-03-165t2</td>\n",
       "      <td>EF0074</td>\n",
       "      <td>01-03-16</td>\n",
       "      <td>TT5clst2</td>\n",
       "    </tr>\n",
       "    <tr>\n",
       "      <td>...</td>\n",
       "      <td>...</td>\n",
       "      <td>...</td>\n",
       "      <td>...</td>\n",
       "      <td>...</td>\n",
       "    </tr>\n",
       "    <tr>\n",
       "      <td>1534</td>\n",
       "      <td>11406-01-187t1</td>\n",
       "      <td>EF0114</td>\n",
       "      <td>06-01-18</td>\n",
       "      <td>TT7clst1</td>\n",
       "    </tr>\n",
       "    <tr>\n",
       "      <td>1535</td>\n",
       "      <td>11406-01-187t2</td>\n",
       "      <td>EF0114</td>\n",
       "      <td>06-01-18</td>\n",
       "      <td>TT7clst2</td>\n",
       "    </tr>\n",
       "    <tr>\n",
       "      <td>1536</td>\n",
       "      <td>11406-01-187t3</td>\n",
       "      <td>EF0114</td>\n",
       "      <td>06-01-18</td>\n",
       "      <td>TT7clst3</td>\n",
       "    </tr>\n",
       "    <tr>\n",
       "      <td>1537</td>\n",
       "      <td>11406-01-188t1</td>\n",
       "      <td>EF0114</td>\n",
       "      <td>06-01-18</td>\n",
       "      <td>TT8clst1</td>\n",
       "    </tr>\n",
       "    <tr>\n",
       "      <td>1538</td>\n",
       "      <td>11406-01-188t2</td>\n",
       "      <td>EF0114</td>\n",
       "      <td>06-01-18</td>\n",
       "      <td>TT8clst2</td>\n",
       "    </tr>\n",
       "  </tbody>\n",
       "</table>\n",
       "<p>1539 rows × 4 columns</p>\n",
       "</div>"
      ],
      "text/plain": [
       "              uni_id mouse_name      date cluster_name\n",
       "0     07401-03-161t1     EF0074  01-03-16     TT1clst1\n",
       "1     07401-03-162t1     EF0074  01-03-16     TT2clst1\n",
       "2     07401-03-162t2     EF0074  01-03-16     TT2clst2\n",
       "3     07401-03-165t1     EF0074  01-03-16     TT5clst1\n",
       "4     07401-03-165t2     EF0074  01-03-16     TT5clst2\n",
       "...              ...        ...       ...          ...\n",
       "1534  11406-01-187t1     EF0114  06-01-18     TT7clst1\n",
       "1535  11406-01-187t2     EF0114  06-01-18     TT7clst2\n",
       "1536  11406-01-187t3     EF0114  06-01-18     TT7clst3\n",
       "1537  11406-01-188t1     EF0114  06-01-18     TT8clst1\n",
       "1538  11406-01-188t2     EF0114  06-01-18     TT8clst2\n",
       "\n",
       "[1539 rows x 4 columns]"
      ]
     },
     "execution_count": 28,
     "metadata": {},
     "output_type": "execute_result"
    }
   ],
   "source": [
    "corr_cols"
   ]
  },
  {
   "cell_type": "code",
   "execution_count": 30,
   "metadata": {},
   "outputs": [
    {
     "data": {
      "text/html": [
       "<div>\n",
       "<style scoped>\n",
       "    .dataframe tbody tr th:only-of-type {\n",
       "        vertical-align: middle;\n",
       "    }\n",
       "\n",
       "    .dataframe tbody tr th {\n",
       "        vertical-align: top;\n",
       "    }\n",
       "\n",
       "    .dataframe thead th {\n",
       "        text-align: right;\n",
       "    }\n",
       "</style>\n",
       "<table border=\"1\" class=\"dataframe\">\n",
       "  <thead>\n",
       "    <tr style=\"text-align: right;\">\n",
       "      <th></th>\n",
       "      <th>RT_mean_TLR</th>\n",
       "      <th>RT_mean_VLL</th>\n",
       "      <th>RT_median_TLR</th>\n",
       "      <th>RT_median_VLL</th>\n",
       "      <th>RT_std_TLR</th>\n",
       "      <th>RT_std_VLL</th>\n",
       "      <th>RT_num_TLR</th>\n",
       "      <th>RT_num_VLL</th>\n",
       "      <th>FR_mean</th>\n",
       "      <th>FR_std</th>\n",
       "      <th>...</th>\n",
       "      <th>conf_lower149</th>\n",
       "      <th>conf_lower150</th>\n",
       "      <th>conf_lower151</th>\n",
       "      <th>conf_lower152</th>\n",
       "      <th>conf_lower153</th>\n",
       "      <th>conf_lower154</th>\n",
       "      <th>conf_lower155</th>\n",
       "      <th>conf_lower156</th>\n",
       "      <th>conf_lower157</th>\n",
       "      <th>conf_lower158</th>\n",
       "    </tr>\n",
       "  </thead>\n",
       "  <tbody>\n",
       "    <tr>\n",
       "      <td>0</td>\n",
       "      <td>0.503702</td>\n",
       "      <td>1.006379</td>\n",
       "      <td>0.391000</td>\n",
       "      <td>0.604750</td>\n",
       "      <td>0.414956</td>\n",
       "      <td>0.810292</td>\n",
       "      <td>39.0</td>\n",
       "      <td>34.0</td>\n",
       "      <td>6.236726</td>\n",
       "      <td>2.312674</td>\n",
       "      <td>...</td>\n",
       "      <td>0.575630</td>\n",
       "      <td>0.495349</td>\n",
       "      <td>0.578125</td>\n",
       "      <td>0.631579</td>\n",
       "      <td>0.578947</td>\n",
       "      <td>0.612500</td>\n",
       "      <td>0.661765</td>\n",
       "      <td>0.671875</td>\n",
       "      <td>0.618182</td>\n",
       "      <td>0.631579</td>\n",
       "    </tr>\n",
       "    <tr>\n",
       "      <td>1</td>\n",
       "      <td>0.679468</td>\n",
       "      <td>0.892815</td>\n",
       "      <td>0.530767</td>\n",
       "      <td>0.845567</td>\n",
       "      <td>0.533435</td>\n",
       "      <td>0.552224</td>\n",
       "      <td>49.0</td>\n",
       "      <td>41.0</td>\n",
       "      <td>10.101010</td>\n",
       "      <td>3.050438</td>\n",
       "      <td>...</td>\n",
       "      <td>0.597222</td>\n",
       "      <td>0.589744</td>\n",
       "      <td>0.678788</td>\n",
       "      <td>0.645161</td>\n",
       "      <td>0.578947</td>\n",
       "      <td>0.597561</td>\n",
       "      <td>0.615385</td>\n",
       "      <td>0.617647</td>\n",
       "      <td>0.578947</td>\n",
       "      <td>0.612500</td>\n",
       "    </tr>\n",
       "    <tr>\n",
       "      <td>2</td>\n",
       "      <td>0.936456</td>\n",
       "      <td>0.994782</td>\n",
       "      <td>0.493250</td>\n",
       "      <td>0.814633</td>\n",
       "      <td>0.788529</td>\n",
       "      <td>0.664484</td>\n",
       "      <td>88.0</td>\n",
       "      <td>87.0</td>\n",
       "      <td>6.060606</td>\n",
       "      <td>2.755793</td>\n",
       "      <td>...</td>\n",
       "      <td>0.684375</td>\n",
       "      <td>0.716216</td>\n",
       "      <td>0.688657</td>\n",
       "      <td>0.710526</td>\n",
       "      <td>0.829670</td>\n",
       "      <td>0.815789</td>\n",
       "      <td>0.699017</td>\n",
       "      <td>0.743902</td>\n",
       "      <td>0.792683</td>\n",
       "      <td>0.694103</td>\n",
       "    </tr>\n",
       "    <tr>\n",
       "      <td>3</td>\n",
       "      <td>0.679468</td>\n",
       "      <td>0.892815</td>\n",
       "      <td>0.530767</td>\n",
       "      <td>0.845567</td>\n",
       "      <td>0.533435</td>\n",
       "      <td>0.552224</td>\n",
       "      <td>49.0</td>\n",
       "      <td>41.0</td>\n",
       "      <td>23.501684</td>\n",
       "      <td>4.182835</td>\n",
       "      <td>...</td>\n",
       "      <td>0.718750</td>\n",
       "      <td>0.583491</td>\n",
       "      <td>0.729730</td>\n",
       "      <td>0.697368</td>\n",
       "      <td>0.647059</td>\n",
       "      <td>0.647475</td>\n",
       "      <td>0.614286</td>\n",
       "      <td>0.594595</td>\n",
       "      <td>0.618421</td>\n",
       "      <td>0.592105</td>\n",
       "    </tr>\n",
       "    <tr>\n",
       "      <td>4</td>\n",
       "      <td>0.679468</td>\n",
       "      <td>0.892815</td>\n",
       "      <td>0.530767</td>\n",
       "      <td>0.845567</td>\n",
       "      <td>0.533435</td>\n",
       "      <td>0.552224</td>\n",
       "      <td>49.0</td>\n",
       "      <td>41.0</td>\n",
       "      <td>10.437710</td>\n",
       "      <td>3.068708</td>\n",
       "      <td>...</td>\n",
       "      <td>0.507692</td>\n",
       "      <td>0.686523</td>\n",
       "      <td>0.644444</td>\n",
       "      <td>0.689011</td>\n",
       "      <td>0.487037</td>\n",
       "      <td>0.586813</td>\n",
       "      <td>0.660934</td>\n",
       "      <td>0.658444</td>\n",
       "      <td>0.582176</td>\n",
       "      <td>0.742063</td>\n",
       "    </tr>\n",
       "    <tr>\n",
       "      <td>...</td>\n",
       "      <td>...</td>\n",
       "      <td>...</td>\n",
       "      <td>...</td>\n",
       "      <td>...</td>\n",
       "      <td>...</td>\n",
       "      <td>...</td>\n",
       "      <td>...</td>\n",
       "      <td>...</td>\n",
       "      <td>...</td>\n",
       "      <td>...</td>\n",
       "      <td>...</td>\n",
       "      <td>...</td>\n",
       "      <td>...</td>\n",
       "      <td>...</td>\n",
       "      <td>...</td>\n",
       "      <td>...</td>\n",
       "      <td>...</td>\n",
       "      <td>...</td>\n",
       "      <td>...</td>\n",
       "      <td>...</td>\n",
       "      <td>...</td>\n",
       "    </tr>\n",
       "    <tr>\n",
       "      <td>1534</td>\n",
       "      <td>0.889032</td>\n",
       "      <td>1.034190</td>\n",
       "      <td>0.441967</td>\n",
       "      <td>0.625100</td>\n",
       "      <td>0.820312</td>\n",
       "      <td>0.835476</td>\n",
       "      <td>67.0</td>\n",
       "      <td>77.0</td>\n",
       "      <td>15.249639</td>\n",
       "      <td>3.858257</td>\n",
       "      <td>...</td>\n",
       "      <td>0.554948</td>\n",
       "      <td>0.522059</td>\n",
       "      <td>0.579310</td>\n",
       "      <td>0.589655</td>\n",
       "      <td>0.666942</td>\n",
       "      <td>0.581967</td>\n",
       "      <td>0.548495</td>\n",
       "      <td>0.624772</td>\n",
       "      <td>0.694114</td>\n",
       "      <td>0.637466</td>\n",
       "    </tr>\n",
       "    <tr>\n",
       "      <td>1535</td>\n",
       "      <td>0.889032</td>\n",
       "      <td>1.034190</td>\n",
       "      <td>0.441967</td>\n",
       "      <td>0.625100</td>\n",
       "      <td>0.820312</td>\n",
       "      <td>0.835476</td>\n",
       "      <td>67.0</td>\n",
       "      <td>77.0</td>\n",
       "      <td>8.023088</td>\n",
       "      <td>2.568277</td>\n",
       "      <td>...</td>\n",
       "      <td>0.582812</td>\n",
       "      <td>0.540680</td>\n",
       "      <td>0.615385</td>\n",
       "      <td>0.567708</td>\n",
       "      <td>0.586957</td>\n",
       "      <td>0.558221</td>\n",
       "      <td>0.522879</td>\n",
       "      <td>0.521554</td>\n",
       "      <td>0.643939</td>\n",
       "      <td>0.605952</td>\n",
       "    </tr>\n",
       "    <tr>\n",
       "      <td>1536</td>\n",
       "      <td>0.889032</td>\n",
       "      <td>1.034190</td>\n",
       "      <td>0.441967</td>\n",
       "      <td>0.625100</td>\n",
       "      <td>0.820312</td>\n",
       "      <td>0.835476</td>\n",
       "      <td>67.0</td>\n",
       "      <td>77.0</td>\n",
       "      <td>8.392496</td>\n",
       "      <td>3.104073</td>\n",
       "      <td>...</td>\n",
       "      <td>0.540737</td>\n",
       "      <td>0.584848</td>\n",
       "      <td>0.543803</td>\n",
       "      <td>0.612903</td>\n",
       "      <td>0.649123</td>\n",
       "      <td>0.475713</td>\n",
       "      <td>0.545575</td>\n",
       "      <td>0.525112</td>\n",
       "      <td>0.592530</td>\n",
       "      <td>0.595238</td>\n",
       "    </tr>\n",
       "    <tr>\n",
       "      <td>1537</td>\n",
       "      <td>0.889032</td>\n",
       "      <td>1.034190</td>\n",
       "      <td>0.441967</td>\n",
       "      <td>0.625100</td>\n",
       "      <td>0.820312</td>\n",
       "      <td>0.835476</td>\n",
       "      <td>67.0</td>\n",
       "      <td>77.0</td>\n",
       "      <td>9.454545</td>\n",
       "      <td>3.085557</td>\n",
       "      <td>...</td>\n",
       "      <td>0.546752</td>\n",
       "      <td>0.515152</td>\n",
       "      <td>0.584324</td>\n",
       "      <td>0.632345</td>\n",
       "      <td>0.491525</td>\n",
       "      <td>0.604598</td>\n",
       "      <td>0.569217</td>\n",
       "      <td>0.527731</td>\n",
       "      <td>0.556604</td>\n",
       "      <td>0.571320</td>\n",
       "    </tr>\n",
       "    <tr>\n",
       "      <td>1538</td>\n",
       "      <td>0.889032</td>\n",
       "      <td>1.034190</td>\n",
       "      <td>0.441967</td>\n",
       "      <td>0.625100</td>\n",
       "      <td>0.820312</td>\n",
       "      <td>0.835476</td>\n",
       "      <td>67.0</td>\n",
       "      <td>77.0</td>\n",
       "      <td>2.101010</td>\n",
       "      <td>1.413376</td>\n",
       "      <td>...</td>\n",
       "      <td>0.524839</td>\n",
       "      <td>0.575000</td>\n",
       "      <td>0.578125</td>\n",
       "      <td>0.538462</td>\n",
       "      <td>0.552632</td>\n",
       "      <td>0.541667</td>\n",
       "      <td>0.521212</td>\n",
       "      <td>0.594828</td>\n",
       "      <td>0.531746</td>\n",
       "      <td>0.550000</td>\n",
       "    </tr>\n",
       "  </tbody>\n",
       "</table>\n",
       "<p>1539 rows × 521 columns</p>\n",
       "</div>"
      ],
      "text/plain": [
       "      RT_mean_TLR  RT_mean_VLL  RT_median_TLR  RT_median_VLL  RT_std_TLR  \\\n",
       "0        0.503702     1.006379       0.391000       0.604750    0.414956   \n",
       "1        0.679468     0.892815       0.530767       0.845567    0.533435   \n",
       "2        0.936456     0.994782       0.493250       0.814633    0.788529   \n",
       "3        0.679468     0.892815       0.530767       0.845567    0.533435   \n",
       "4        0.679468     0.892815       0.530767       0.845567    0.533435   \n",
       "...           ...          ...            ...            ...         ...   \n",
       "1534     0.889032     1.034190       0.441967       0.625100    0.820312   \n",
       "1535     0.889032     1.034190       0.441967       0.625100    0.820312   \n",
       "1536     0.889032     1.034190       0.441967       0.625100    0.820312   \n",
       "1537     0.889032     1.034190       0.441967       0.625100    0.820312   \n",
       "1538     0.889032     1.034190       0.441967       0.625100    0.820312   \n",
       "\n",
       "      RT_std_VLL  RT_num_TLR  RT_num_VLL    FR_mean    FR_std  ...  \\\n",
       "0       0.810292        39.0        34.0   6.236726  2.312674  ...   \n",
       "1       0.552224        49.0        41.0  10.101010  3.050438  ...   \n",
       "2       0.664484        88.0        87.0   6.060606  2.755793  ...   \n",
       "3       0.552224        49.0        41.0  23.501684  4.182835  ...   \n",
       "4       0.552224        49.0        41.0  10.437710  3.068708  ...   \n",
       "...          ...         ...         ...        ...       ...  ...   \n",
       "1534    0.835476        67.0        77.0  15.249639  3.858257  ...   \n",
       "1535    0.835476        67.0        77.0   8.023088  2.568277  ...   \n",
       "1536    0.835476        67.0        77.0   8.392496  3.104073  ...   \n",
       "1537    0.835476        67.0        77.0   9.454545  3.085557  ...   \n",
       "1538    0.835476        67.0        77.0   2.101010  1.413376  ...   \n",
       "\n",
       "     conf_lower149 conf_lower150 conf_lower151 conf_lower152 conf_lower153  \\\n",
       "0         0.575630      0.495349      0.578125      0.631579      0.578947   \n",
       "1         0.597222      0.589744      0.678788      0.645161      0.578947   \n",
       "2         0.684375      0.716216      0.688657      0.710526      0.829670   \n",
       "3         0.718750      0.583491      0.729730      0.697368      0.647059   \n",
       "4         0.507692      0.686523      0.644444      0.689011      0.487037   \n",
       "...            ...           ...           ...           ...           ...   \n",
       "1534      0.554948      0.522059      0.579310      0.589655      0.666942   \n",
       "1535      0.582812      0.540680      0.615385      0.567708      0.586957   \n",
       "1536      0.540737      0.584848      0.543803      0.612903      0.649123   \n",
       "1537      0.546752      0.515152      0.584324      0.632345      0.491525   \n",
       "1538      0.524839      0.575000      0.578125      0.538462      0.552632   \n",
       "\n",
       "     conf_lower154 conf_lower155 conf_lower156 conf_lower157 conf_lower158  \n",
       "0         0.612500      0.661765      0.671875      0.618182      0.631579  \n",
       "1         0.597561      0.615385      0.617647      0.578947      0.612500  \n",
       "2         0.815789      0.699017      0.743902      0.792683      0.694103  \n",
       "3         0.647475      0.614286      0.594595      0.618421      0.592105  \n",
       "4         0.586813      0.660934      0.658444      0.582176      0.742063  \n",
       "...            ...           ...           ...           ...           ...  \n",
       "1534      0.581967      0.548495      0.624772      0.694114      0.637466  \n",
       "1535      0.558221      0.522879      0.521554      0.643939      0.605952  \n",
       "1536      0.475713      0.545575      0.525112      0.592530      0.595238  \n",
       "1537      0.604598      0.569217      0.527731      0.556604      0.571320  \n",
       "1538      0.541667      0.521212      0.594828      0.531746      0.550000  \n",
       "\n",
       "[1539 rows x 521 columns]"
      ]
     },
     "execution_count": 30,
     "metadata": {},
     "output_type": "execute_result"
    }
   ],
   "source": [
    "tactile_lick_noLick_aucs.reset_index(drop=True)"
   ]
  },
  {
   "cell_type": "code",
   "execution_count": 31,
   "metadata": {},
   "outputs": [],
   "source": [
    "corr_cols = log_df[['uni_id', 'mouse_name', 'date', 'cluster_name']].drop_duplicates().reset_index(drop=True)\n",
    "tactile_lick_noLick_aucs = pd.read_hdf(r'C:\\Users\\efink\\Documents\\DATA\\Crossmodal_only\\Som_touch_hit_fa0_2019-09-05.h5_full.h5', 'table').reset_index(drop=True)\n",
    "tactile_lick_noLick_aucs.loc[:,['uni_id', 'mouse_name', 'date', 'cluster_name']] = corr_cols\n",
    "visual_lick_noLick_aucs = pd.read_hdf(r'C:\\Users\\efink\\Documents\\DATA\\Crossmodal_only\\Vis_visual_hit_fa0_2019-09-06.h5_full.h5').reset_index(drop=True)\n",
    "visual_lick_noLick_aucs[['uni_id', 'mouse_name', 'date', 'cluster_name']] = corr_cols"
   ]
  },
  {
   "cell_type": "code",
   "execution_count": 32,
   "metadata": {},
   "outputs": [
    {
     "data": {
      "text/plain": [
       "array(['EF0074', 'EF0076', 'EF0077', 'EF0079', 'EF0081', 'EF0084',\n",
       "       'EF0088', 'EF0089', 'EF0114'], dtype=object)"
      ]
     },
     "execution_count": 32,
     "metadata": {},
     "output_type": "execute_result"
    }
   ],
   "source": [
    "tactile_lick_noLick_aucs['mouse_name'].drop_duplicates().values"
   ]
  },
  {
   "cell_type": "markdown",
   "metadata": {},
   "source": [
    "### filter auc data for tactile lick-right/ visual lick-left  data "
   ]
  },
  {
   "cell_type": "code",
   "execution_count": 33,
   "metadata": {},
   "outputs": [
    {
     "data": {
      "text/plain": [
       "(1539, 525)"
      ]
     },
     "execution_count": 33,
     "metadata": {},
     "output_type": "execute_result"
    }
   ],
   "source": [
    "tactile_lick_noLick_aucs = tactile_lick_noLick_aucs.merge(unit_key_df['uni_id'].to_frame(), on = 'uni_id', how = 'right')\n",
    "visual_lick_noLick_aucs = visual_lick_noLick_aucs.merge(unit_key_df['uni_id'].to_frame(), on = 'uni_id', how = 'right')\n",
    "visual_lick_noLick_aucs.shape"
   ]
  },
  {
   "cell_type": "markdown",
   "metadata": {},
   "source": [
    "# Identify units with a significant detect probability (DP) and define onset times"
   ]
  },
  {
   "cell_type": "code",
   "execution_count": 34,
   "metadata": {
    "ExecuteTime": {
     "end_time": "2018-02-22T15:24:48.080561Z",
     "start_time": "2018-02-22T15:24:47.974476"
    }
   },
   "outputs": [],
   "source": [
    "auc_col_names = tactile_lick_noLick_aucs.columns[tactile_lick_noLick_aucs.columns.str.contains('auc')]\n",
    "low_conf_col_names = tactile_lick_noLick_aucs.columns[tactile_lick_noLick_aucs.columns.str.contains('low')]\n",
    "up_conf_col_names =tactile_lick_noLick_aucs.columns[tactile_lick_noLick_aucs.columns.str.contains('up')]"
   ]
  },
  {
   "cell_type": "code",
   "execution_count": 35,
   "metadata": {
    "ExecuteTime": {
     "end_time": "2018-02-22T15:24:48.812152Z",
     "start_time": "2018-02-22T15:24:48.081561"
    },
    "scrolled": true
   },
   "outputs": [],
   "source": [
    "# find bins where auc is significant \n",
    "raw_tac_sig_AUC = pd.DataFrame(~((tactile_lick_noLick_aucs.loc[:,low_conf_col_names].fillna(0.5) >= 0.5).values & \n",
    "                    (tactile_lick_noLick_aucs.loc[:,up_conf_col_names].fillna(0.5) <= 0.5).values)*1, index = tactile_lick_noLick_aucs['uni_id'])\n",
    "\n",
    "raw_vis_sig_AUC = pd.DataFrame(~((visual_lick_noLick_aucs.loc[:,low_conf_col_names].fillna(0.5) >= 0.5).values & \n",
    "                    (visual_lick_noLick_aucs.loc[:,up_conf_col_names].fillna(0.5) <= 0.5).values)*1, index = visual_lick_noLick_aucs['uni_id'])\n",
    "\n",
    "# identify direction of significant bins\n",
    "auc_dir_t = (tactile_lick_noLick_aucs.loc[:,auc_col_names] >= 0.5)*1 + (tactile_lick_noLick_aucs.loc[:,auc_col_names] < 0.5)*-1\n",
    "auc_dir_v = (visual_lick_noLick_aucs.loc[:,auc_col_names] >= 0.5)*1 + (visual_lick_noLick_aucs.loc[:,auc_col_names] < 0.5)*-1\n",
    "auc_dir_v = (visual_lick_noLick_aucs.loc[:,auc_col_names] >= 0.5)*1 + (visual_lick_noLick_aucs.loc[:,auc_col_names] < 0.5)*-1\n",
    "auc_dir_t.index = tactile_lick_noLick_aucs['uni_id']; auc_dir_t.columns = raw_tac_sig_AUC.columns\n",
    "auc_dir_v.index = visual_lick_noLick_aucs['uni_id']; auc_dir_v.columns = raw_vis_sig_AUC.columns\n",
    "\n",
    "raw_tac_sig_AUC = raw_tac_sig_AUC*auc_dir_t\n",
    "raw_vis_sig_AUC = raw_vis_sig_AUC*auc_dir_v"
   ]
  },
  {
   "cell_type": "code",
   "execution_count": 36,
   "metadata": {
    "ExecuteTime": {
     "end_time": "2018-02-22T15:25:26.222772Z",
     "start_time": "2018-02-22T15:24:48.813152"
    }
   },
   "outputs": [],
   "source": [
    "# take running sum of bins to identify bins with consecutive significant bins\n",
    "smooth_tac_sig_AUC = raw_tac_sig_AUC.apply(lambda y: np.convolve(y, [1,1], 'same'), axis = 1)\n",
    "smooth_vis_sig_AUC = raw_vis_sig_AUC.apply(lambda y: np.convolve(y, [1,1], 'same'), axis = 1)\n",
    "smooth_tac_sig_AUC = pd.DataFrame(smooth_tac_sig_AUC.to_dict()).T\n",
    "smooth_vis_sig_AUC= pd.DataFrame(smooth_vis_sig_AUC.to_dict()).T\n",
    "\n",
    "### to get the first bin of 2 that are significantly different from 0 need to subtract 1 from all_sig_tac/vis since convolve \n",
    "### was used with 'same' setting (otherwise would need to subtract 2 if setting was 'full')\n",
    "all_sig_tac = (smooth_tac_sig_AUC.isin([2,-2])*1).apply(lambda y: np.where(y), axis = 1)\n",
    "all_sig_tac = all_sig_tac.apply(lambda y: (y[0]-1)*bin_size-1 if len(y[0])>0 else [])\n",
    "\n",
    "all_sig_vis = (smooth_vis_sig_AUC.isin([2,-2])*1).apply(lambda y: np.where(y), axis = 1)\n",
    "all_sig_vis = all_sig_vis.apply(lambda y: (y[0]-1)*bin_size-1 if len(y[0])>0 else [])\n",
    "\n",
    "### find first significant bin for each unit for each modality\n",
    "all_first_sig_tac = all_sig_tac.apply(lambda y:  y[(y>=0) & (y<1)] if len(y)!=0 else []) \n",
    "all_first_sig_tac = all_first_sig_tac.apply(lambda y:  np.nan if len(y)==0 else np.min(y))\n",
    "\n",
    "all_first_sig_vis = all_sig_vis.apply(lambda y:  y[(y>=0) & (y<1)] if len(y)!=0 else [])\n",
    "all_first_sig_vis = all_first_sig_vis.apply(lambda y:  np.nan if len(y)==0 else np.min(y))\n",
    "dp_onsets = pd.merge(all_first_sig_vis.to_frame(name = 'vis_dp_onset').reset_index(), all_first_sig_tac.to_frame(name = 'tac_dp_onset').reset_index(), how = 'outer')\n",
    "dp_onsets = dp_onsets.rename(columns = {'index': 'uni_id'})"
   ]
  },
  {
   "cell_type": "markdown",
   "metadata": {},
   "source": [
    "# Find good example units that show range of responses"
   ]
  },
  {
   "cell_type": "markdown",
   "metadata": {},
   "source": [
    "## sort units either by tac/vis auc ratio or mean auc"
   ]
  },
  {
   "cell_type": "code",
   "execution_count": 37,
   "metadata": {},
   "outputs": [],
   "source": [
    "nan_rows = tactile_lick_noLick_aucs.loc[:, auc_col_names[0:]].isnull().any(axis = 1)\n",
    "tactile_lick_noLick_aucs = tactile_lick_noLick_aucs[~nan_rows]\n",
    "visual_lick_noLick_aucs = visual_lick_noLick_aucs[~nan_rows]"
   ]
  },
  {
   "cell_type": "code",
   "execution_count": 38,
   "metadata": {},
   "outputs": [],
   "source": [
    "m_tac_cp = tactile_lick_noLick_aucs.loc[:, auc_col_names[39:50]].mean(axis = 1)\n",
    "m_vis_cp = visual_lick_noLick_aucs.loc[:, auc_col_names[39:50]].mean(axis = 1)\n",
    "\n",
    "ratio = m_vis_cp.values/m_tac_cp.values\n",
    "ratio_ind = np.argsort(ratio)\n",
    "\n",
    "high_mean = m_vis_cp.values*m_tac_cp.values\n",
    "high_mean_ind = np.argsort(high_mean)[::-1]\n",
    "                     \n",
    "sorted_ratio_uni_ids = tactile_lick_noLick_aucs.iloc[ratio_ind]['uni_id']\n",
    "sorted_mean_uni_ids = tactile_lick_noLick_aucs.iloc[high_mean_ind]['uni_id']\n",
    "\n",
    "### generators that make flipping through units easy\n",
    "ratio_unit_gen = (unit for unit in sorted_ratio_uni_ids)\n",
    "high_mean_unit_gen = (unit for unit in sorted_mean_uni_ids)"
   ]
  },
  {
   "cell_type": "code",
   "execution_count": 39,
   "metadata": {},
   "outputs": [],
   "source": [
    "### convert onsets to bin indeces\n",
    "dp_onsets[['tac_dp_onset_inds', 'vis_dp_onset_inds']] = ((dp_onsets[['tac_dp_onset', 'vis_dp_onset']].fillna(-0)+1)/0.025).astype(int)"
   ]
  },
  {
   "cell_type": "code",
   "execution_count": 40,
   "metadata": {},
   "outputs": [
    {
     "data": {
      "text/plain": [
       "'07602-27-163t1'"
      ]
     },
     "execution_count": 40,
     "metadata": {},
     "output_type": "execute_result"
    }
   ],
   "source": [
    "next(high_mean_unit_gen)"
   ]
  },
  {
   "cell_type": "code",
   "execution_count": 81,
   "metadata": {},
   "outputs": [
    {
     "name": "stdout",
     "output_type": "stream",
     "text": [
      "08809-04-167t2\n"
     ]
    },
    {
     "data": {
      "text/plain": [
       "(<Figure size 1080x288 with 2 Axes>,\n",
       " <matplotlib.axes._subplots.AxesSubplot at 0x1d7611d77c8>,\n",
       " <matplotlib.axes._subplots.AxesSubplot at 0x1d7611f4608>)"
      ]
     },
     "execution_count": 81,
     "metadata": {},
     "output_type": "execute_result"
    },
    {
     "data": {
      "image/png": "[encoded data removed]",
      "text/plain": [
       "<Figure size 1080x288 with 2 Axes>"
      ]
     },
     "metadata": {
      "needs_background": "light"
     },
     "output_type": "display_data"
    }
   ],
   "source": [
    "am.plot_auc(next(high_mean_unit_gen), tactile_lick_noLick_aucs, visual_lick_noLick_aucs, window = [-.25,1])"
   ]
  },
  {
   "cell_type": "code",
   "execution_count": null,
   "metadata": {},
   "outputs": [],
   "source": [
    "am.plot_auc('07603-04-162t1', tactile_lick_noLick_aucs, visual_lick_noLick_aucs, window = [-.25,1])"
   ]
  },
  {
   "cell_type": "code",
   "execution_count": null,
   "metadata": {},
   "outputs": [],
   "source": [
    "am.plot_auc('07401-09-164t3', tactile_lick_noLick_aucs, visual_lick_noLick_aucs, window = [-0.25,1])"
   ]
  },
  {
   "cell_type": "code",
   "execution_count": null,
   "metadata": {},
   "outputs": [],
   "source": [
    "am.plot_auc('07903-22-164t2', tactile_lick_noLick_aucs, visual_lick_noLick_aucs, window = [-0.25,1])"
   ]
  },
  {
   "cell_type": "code",
   "execution_count": null,
   "metadata": {},
   "outputs": [],
   "source": [
    "sorted_ratio_uni_ids.index"
   ]
  },
  {
   "cell_type": "code",
   "execution_count": null,
   "metadata": {},
   "outputs": [],
   "source": [
    "import matplotlib.pylab as plt\n",
    "df = tactile_lick_noLick_aucs.loc[sorted_ratio_uni_ids.index,tactile_lick_noLick_aucs.columns.str.contains('auc')]\n",
    "plt.imshow(df.iloc[:,15:100], aspect = 'auto', vmin = 0.25, vmax = 0.75)\n",
    "fig = plt.gcf()\n",
    "fig.set_size_inches(3,5)"
   ]
  },
  {
   "cell_type": "code",
   "execution_count": null,
   "metadata": {},
   "outputs": [],
   "source": [
    "import matplotlib.pylab as plt\n",
    "df = visual_lick_noLick_aucs.loc[:,visual_lick_noLick_aucs.columns.str.contains('auc')]\n",
    "plt.imshow(df.iloc[:,15:100], aspect = 'auto', vmin = 0.25, vmax = 0.75)\n",
    "fig = plt.gcf()\n",
    "fig.set_size_inches(3,5)\n"
   ]
  },
  {
   "cell_type": "code",
   "execution_count": null,
   "metadata": {},
   "outputs": [],
   "source": [
    "import matplotlib.pylab as plt\n",
    "df = tactile_lick_noLick_aucs.loc[:,tactile_lick_noLick_aucs.columns.str.contains('auc')]\n",
    "mean_df = df.mean(axis = 0).reset_index(drop=True)\n",
    "mean_df.iloc[15:75].plot()"
   ]
  },
  {
   "cell_type": "code",
   "execution_count": null,
   "metadata": {},
   "outputs": [],
   "source": [
    "touch_lick_units = dp_onsets.loc[~dp_onsets['tac_dp_onset'].isnull() & dp_onsets['vis_dp_onset'].isnull(), 'uni_id'].to_frame()\n",
    "vis_lick_units = dp_onsets.loc[~dp_onsets['vis_dp_onset'].isnull() & dp_onsets['tac_dp_onset'].isnull(), 'uni_id'].to_frame()\n",
    "bimodal_lick_units = dp_onsets.loc[~dp_onsets[['vis_dp_onset', 'tac_dp_onset']].isnull().any(axis = 1), 'uni_id'].to_frame()"
   ]
  },
  {
   "cell_type": "code",
   "execution_count": null,
   "metadata": {},
   "outputs": [],
   "source": [
    "touch_lick_units.loc[touch_lick_units['uni_id'] == '07903-22-164t2', :]"
   ]
  },
  {
   "cell_type": "code",
   "execution_count": null,
   "metadata": {},
   "outputs": [],
   "source": [
    "size_mult = 0.1"
   ]
  },
  {
   "cell_type": "code",
   "execution_count": null,
   "metadata": {},
   "outputs": [],
   "source": [
    "from matplotlib_venn import venn2\n",
    "\n",
    "fig = mpl.figure(figsize = [10*size_mult,10*size_mult])\n",
    "v = venn2([touch_lick_units.shape[0], vis_lick_units.shape[0], bimodal_lick_units.shape[0]],\n",
    "          ('Touch-Lick neurons', 'Visual-Lick neurons'))\n",
    "v.get_patch_by_id('10').set_color('#7F3F97')\n",
    "v.get_patch_by_id('01').set_color('C1')\n",
    "fig.savefig('modality_venn.pdf', format = 'pdf', dpi = 900)"
   ]
  },
  {
   "cell_type": "code",
   "execution_count": null,
   "metadata": {},
   "outputs": [],
   "source": [
    "log_df = pd.read_hdf(f'{data_directory}/log_df_processed_02-28-2019.h5', 'fixed')\n",
    "unit_key_df = pd.read_hdf(f'{data_directory}/unit_key_df_processed_02-28-2019.h5', 'fixed')\n",
    "unit_key_df = unit_key_df[~(unit_key_df['mouse_name'].isin(['EF0083','EF0085', 'EF0112', 'EF0111']))]\n",
    "log_df = log_df.loc[log_df['uni_id'].isin(unit_key_df['uni_id']),:].reset_index(drop = True)"
   ]
  },
  {
   "cell_type": "code",
   "execution_count": null,
   "metadata": {},
   "outputs": [],
   "source": [
    "log_df['uni_id'].drop_duplicates().reset_index(drop=True)"
   ]
  },
  {
   "cell_type": "code",
   "execution_count": null,
   "metadata": {},
   "outputs": [],
   "source": [
    "unit_key_df.loc[0:10, 'uni_id']"
   ]
  },
  {
   "cell_type": "code",
   "execution_count": null,
   "metadata": {},
   "outputs": [],
   "source": [
    "tactile_lick_noLick_aucs['uni_id'].apply(lambda x: (log_df['uni_id'] == x).index)"
   ]
  },
  {
   "cell_type": "code",
   "execution_count": null,
   "metadata": {},
   "outputs": [],
   "source": [
    "corr_inds = unit_key_df.sort_values(by = ['mouse_name', 'date', 'cluster_name']).index"
   ]
  },
  {
   "cell_type": "code",
   "execution_count": null,
   "metadata": {},
   "outputs": [],
   "source": [
    "inds = log_df['uni_id'].drop_duplicates().reset_index()"
   ]
  },
  {
   "cell_type": "code",
   "execution_count": null,
   "metadata": {},
   "outputs": [],
   "source": [
    "inds['index'] = corr_inds"
   ]
  },
  {
   "cell_type": "code",
   "execution_count": null,
   "metadata": {},
   "outputs": [],
   "source": [
    "inds.sort_values('index')"
   ]
  },
  {
   "cell_type": "code",
   "execution_count": null,
   "metadata": {},
   "outputs": [],
   "source": []
  },
  {
   "cell_type": "code",
   "execution_count": 86,
   "metadata": {},
   "outputs": [
    {
     "data": {
      "text/plain": [
       "array([8, 3, 8, 5, 0, 2, 9, 0, 2, 9])"
      ]
     },
     "execution_count": 86,
     "metadata": {},
     "output_type": "execute_result"
    }
   ],
   "source": [
    "np.random.randint(0,10,10)"
   ]
  },
  {
   "cell_type": "code",
   "execution_count": 89,
   "metadata": {},
   "outputs": [],
   "source": [
    "inds = np.array([[1,2],[1,3]])"
   ]
  },
  {
   "cell_type": "code",
   "execution_count": 94,
   "metadata": {},
   "outputs": [],
   "source": [
    "y_vals = np.array([9,8,7,5])"
   ]
  },
  {
   "cell_type": "code",
   "execution_count": 96,
   "metadata": {},
   "outputs": [
    {
     "data": {
      "text/plain": [
       "array([[8, 7],\n",
       "       [8, 5]])"
      ]
     },
     "execution_count": 96,
     "metadata": {},
     "output_type": "execute_result"
    }
   ],
   "source": [
    "y_vals[inds]"
   ]
  },
  {
   "cell_type": "code",
   "execution_count": 125,
   "metadata": {},
   "outputs": [],
   "source": [
    "x = []"
   ]
  },
  {
   "cell_type": "code",
   "execution_count": 126,
   "metadata": {},
   "outputs": [],
   "source": [
    "y = np.array([0,1])\n"
   ]
  },
  {
   "cell_type": "code",
   "execution_count": 129,
   "metadata": {},
   "outputs": [],
   "source": [
    "x.append(y)"
   ]
  },
  {
   "cell_type": "code",
   "execution_count": 131,
   "metadata": {},
   "outputs": [
    {
     "data": {
      "text/plain": [
       "array([[0, 1],\n",
       "       [0, 1]])"
      ]
     },
     "execution_count": 131,
     "metadata": {},
     "output_type": "execute_result"
    }
   ],
   "source": [
    "np.vstack(x)"
   ]
  },
  {
   "cell_type": "code",
   "execution_count": 133,
   "metadata": {},
   "outputs": [
    {
     "data": {
      "text/plain": [
       "31.25"
      ]
     },
     "execution_count": 133,
     "metadata": {},
     "output_type": "execute_result"
    }
   ],
   "source": [
    "125/4"
   ]
  },
  {
   "cell_type": "code",
   "execution_count": 134,
   "metadata": {},
   "outputs": [
    {
     "data": {
      "text/plain": [
       "187.5"
      ]
     },
     "execution_count": 134,
     "metadata": {},
     "output_type": "execute_result"
    }
   ],
   "source": [
    "31.25*6"
   ]
  },
  {
   "cell_type": "code",
   "execution_count": 135,
   "metadata": {},
   "outputs": [
    {
     "data": {
      "text/plain": [
       "6.0"
      ]
     },
     "execution_count": 135,
     "metadata": {},
     "output_type": "execute_result"
    }
   ],
   "source": [
    "1500/250"
   ]
  },
  {
   "cell_type": "code",
   "execution_count": 141,
   "metadata": {},
   "outputs": [
    {
     "data": {
      "text/plain": [
       "array([1, 2, 1, 5, 7, 4, 7, 9, 2, 9])"
      ]
     },
     "execution_count": 141,
     "metadata": {},
     "output_type": "execute_result"
    }
   ],
   "source": [
    "np.random.randint(0, high = 10, size = [10])"
   ]
  },
  {
   "cell_type": "code",
   "execution_count": null,
   "metadata": {},
   "outputs": [],
   "source": []
  }
 ],
 "metadata": {
  "kernelspec": {
   "display_name": "Python 3 (ipykernel)",
   "language": "python",
   "name": "python3"
  },
  "language_info": {
   "codemirror_mode": {
    "name": "ipython",
    "version": 3
   },
   "file_extension": ".py",
   "mimetype": "text/x-python",
   "name": "python",
   "nbconvert_exporter": "python",
   "pygments_lexer": "ipython3",
   "version": "3.9.6"
  }
 },
 "nbformat": 4,
 "nbformat_minor": 4
}

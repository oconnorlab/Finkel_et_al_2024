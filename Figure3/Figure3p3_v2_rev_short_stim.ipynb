{
 "cells": [
  {
   "cell_type": "code",
   "execution_count": 2,
   "metadata": {
    "ExecuteTime": {
     "end_time": "2018-02-22T15:18:20.218026Z",
     "start_time": "2018-02-22T15:18:15.577176"
    },
    "scrolled": true
   },
   "outputs": [
    {
     "name": "stderr",
     "output_type": "stream",
     "text": [
      "C:\\Users\\efink\\Anaconda3\\envs\\crossmodal\\lib\\site-packages\\ipykernel_launcher.py:10: DeprecationWarning: Using or importing the ABCs from 'collections' instead of from 'collections.abc' is deprecated, and in 3.8 it will stop working\n",
      "  # Remove the CWD from sys.path while we load stuff.\n"
     ]
    }
   ],
   "source": [
    "import scipy as sp\n",
    "import scipy.io\n",
    "import os\n",
    "import numpy as np\n",
    "import pandas as pd\n",
    "import glob\n",
    "import csv\n",
    "import random as rand\n",
    "from tqdm import tnrange, tqdm_notebook\n",
    "from collections import Iterable\n",
    "import matplotlib.pylab as plt\n",
    "import matplotlib as mpl\n",
    "import random as rand\n",
    "from ipywidgets import *\n",
    "import colorlover as cl\n",
    "from scipy import stats\n",
    "import importlib\n",
    "import sys\n",
    "sys.path.append(os.getcwd()+'\\\\..')\n",
    "from utils import utils, zscores\n",
    "from utils import plotting_utils as pu\n",
    "from utils import auc_methods as am\n",
    "import matplotlib.patches as patches\n",
    "from matplotlib import gridspec\n",
    "from sklearn.metrics import roc_curve, auc\n",
    "from sklearn.model_selection import train_test_split\n",
    "from sklearn.preprocessing import label_binarize\n",
    "\n",
    "%load_ext autoreload\n",
    "%autoreload 2\n",
    "mpl.rcParams['pdf.fonttype'] = 42\n",
    "mpl.rcParams['ps.fonttype'] = 42"
   ]
  },
  {
   "cell_type": "code",
   "execution_count": 3,
   "metadata": {
    "ExecuteTime": {
     "end_time": "2018-02-22T15:18:20.467227Z",
     "start_time": "2018-02-22T15:18:20.356138"
    }
   },
   "outputs": [],
   "source": [
    "size_mult = 0.1\n",
    "plt.close('all')\n",
    "\n",
    "font = {'family' : 'Arial',\n",
    "        'weight' : 'normal',\n",
    "        'size'   : 12}\n",
    "\n",
    "mpl.rc('font', **font)\n",
    "mpl.rc('xtick', labelsize=12) \n",
    "mpl.rc('ytick', labelsize=12)\n",
    "mpl.rc('axes', labelsize=12)\n",
    "\n",
    "mpl.rcParams['pdf.fonttype'] = 42\n",
    "mpl.rcParams['ps.fonttype'] = 42\n"
   ]
  },
  {
   "cell_type": "code",
   "execution_count": 4,
   "metadata": {},
   "outputs": [],
   "source": [
    "bin_size = 0.025\n",
    "window = [-1, 3]\n",
    "edges = np.arange(window[0], window[1], bin_size)"
   ]
  },
  {
   "cell_type": "markdown",
   "metadata": {},
   "source": [
    "# Load data and prepare data\n",
    "## Load behavior and spike data"
   ]
  },
  {
   "cell_type": "code",
   "execution_count": 5,
   "metadata": {},
   "outputs": [],
   "source": [
    "DATA_DIR = os.path.abspath('../data')\n",
    "log_df = pd.read_hdf(os.path.join(DATA_DIR, 'log_df_processed_02-28-2019.h5'), 'fixed')\n",
    "unit_key_df = pd.read_hdf(os.path.join(DATA_DIR, 'unit_key_df_processed_02-28-2019.h5'), 'fixed')"
   ]
  },
  {
   "cell_type": "code",
   "execution_count": 6,
   "metadata": {},
   "outputs": [
    {
     "data": {
      "text/plain": [
       "(1539, 46)"
      ]
     },
     "execution_count": 6,
     "metadata": {},
     "output_type": "execute_result"
    }
   ],
   "source": [
    "unit_key_df.shape"
   ]
  },
  {
   "cell_type": "markdown",
   "metadata": {},
   "source": [
    "### Remove any units that were recorded from tactile lick-left/visual lick-right mice"
   ]
  },
  {
   "cell_type": "code",
   "execution_count": 7,
   "metadata": {},
   "outputs": [
    {
     "data": {
      "text/plain": [
       "array(['EF0089', 'EF0114', 'EF0079', 'EF0074', 'EF0088', 'EF0077',\n",
       "       'EF0084', 'EF0081', 'EF0076'], dtype=object)"
      ]
     },
     "execution_count": 7,
     "metadata": {},
     "output_type": "execute_result"
    }
   ],
   "source": [
    "unit_key_df = unit_key_df[~(unit_key_df['mouse_name'].isin(['EF0083','EF0085', 'EF0112', 'EF0111']))] # these are mice with tetrodes not implanted in pricipal whisker\n",
    "unit_key_df['mouse_name'].unique()"
   ]
  },
  {
   "cell_type": "code",
   "execution_count": 8,
   "metadata": {},
   "outputs": [],
   "source": [
    "def plot_raster(ax,ras,trial_total, window, bin_size = 0.025):\n",
    "    \"\"\"\n",
    "    plot raster for a specific trial_type/outcome stacked on previous plotted raster\n",
    "    \"\"\"  \n",
    "    spike_counts = []\n",
    "    for trial, spike in enumerate(ras['spike_times(stim_aligned)']):\n",
    "        spike = spike[(spike>window[0]) & (spike<=window[1])]\n",
    "        ax.vlines(spike, trial + trial_total - .5, trial + trial_total +.5)\n",
    "        ax.vlines(ras.iloc[trial]['first_lick'], trial + trial_total - .5, trial +\n",
    "                   trial_total + .5, color = 'r', linewidth = 5)\n",
    "\n",
    "        spike = spike[(spike>window[0]) & (spike<=window[1])]\n",
    "        edges = np.arange(window[0], window[1]+bin_size*2, bin_size)\n",
    "        count, _ = np.histogram(spike,edges)\n",
    "        spike_counts.append(count)\n",
    "    return spike_counts"
   ]
  },
  {
   "cell_type": "code",
   "execution_count": 9,
   "metadata": {},
   "outputs": [],
   "source": [
    "def plot_psth(spike_counts, ax, window, color, bin_size = 0.025):\n",
    "    \"\"\"\n",
    "    plot psth corresponding to a raster\n",
    "    \"\"\"\n",
    "    average_hist = np.mean(spike_counts, axis=0)/bin_size\n",
    "    SE_hist = stats.sem(spike_counts)/bin_size\n",
    "    edges = np.arange(window[0], window[1]+bin_size*2, bin_size)\n",
    "    ax.plot(edges[0:-1], average_hist, color = color)\n",
    "    ax.fill_between(edges[0:-1], average_hist-SE_hist, average_hist+SE_hist, alpha = 0.3, color = color)"
   ]
  },
  {
   "cell_type": "code",
   "execution_count": 10,
   "metadata": {},
   "outputs": [],
   "source": [
    "def plot_rasters_psths(rasters, window, ax, ax1, patch_ax, colors, bin_size = 0.025):\n",
    "    \"\"\"\n",
    "    plot rasters and psths for each trial_type/outcome in \"rasters\"\n",
    "    \"\"\"\n",
    "    \n",
    "    trial_total = 1\n",
    "    patch_ax.plot([0,2],[trial_total-.5, trial_total-.5], '--k')\n",
    "\n",
    "    for i, ras in enumerate(rasters):\n",
    "        spike_counts = plot_raster(ax, ras, trial_total, window)\n",
    "        num_trials_in_raster = len(ras)\n",
    "        patch_ax.add_patch(patches.Rectangle((0,trial_total -.5), 1,\n",
    "                                    num_trials_in_raster+1, facecolor = colors[i], alpha = 0.5))\n",
    "\n",
    "        patch_ax.plot([0,2],[trial_total-.5, trial_total-.5], '--k')\n",
    "        plot_psth(spike_counts, ax1, window, color = colors[i], bin_size = bin_size)\n",
    "        trial_total = trial_total + num_trials_in_raster +1\n",
    "\n",
    "    return spike_counts, trial_total"
   ]
  },
  {
   "cell_type": "code",
   "execution_count": 11,
   "metadata": {},
   "outputs": [],
   "source": [
    "def plot_raster_fig(rasters, trial_type, window, colors, bin_size = 0.025, ylim_p = None):\n",
    "    \"\"\"\n",
    "    setup figure and plot rasters and PSTHs of indicated unit\n",
    "    \"\"\"\n",
    "\n",
    "    fig = plt.figure(figsize=(4, 3.5))\n",
    "    gs = [gridspec.GridSpec(1,1) for i in range(4)]\n",
    "    gs[0].update(bottom = 0.88, top=0.95, left = 0.2, right = 0.83)\n",
    "    gs[2].update(bottom=0.15, top=0.41, left = 0.2, right = 0.83)\n",
    "    gs[1].update(bottom=0.45, top=0.88, left = 0.2, right = 0.83)\n",
    "    gs[3].update(bottom=0.45, top=0.88, left = 0.83, right = 0.9)\n",
    "\n",
    "    (ax1, ax2, ax3) = [plt.subplot(gs[i][0, 0]) for i in range(3)]\n",
    "    patch_ax = plt.subplot(gs[3][0, 0], sharey = ax2)\n",
    "\n",
    "    ax1.add_patch(patches.Rectangle((0,0), 0.15, 0.75, facecolor = 'k', alpha = 0.75))\n",
    "    spike_counts, trial_total = plot_rasters_psths(rasters, window, ax2,ax3, patch_ax, colors)\n",
    "\n",
    "    for ax in [ax1,ax2,ax3, patch_ax]:\n",
    "        ax.set_xlim(window[0],window[1]-bin_size)\n",
    "        ax.spines['right'].set_visible(False)\n",
    "        ax.spines['top'].set_visible(False)\n",
    "\n",
    "    ax1.axis('off')\n",
    "    ax1.set_ylim(0,2)\n",
    "\n",
    "    ax2.spines['bottom'].set_visible(False)\n",
    "    ax2.set_ylabel('Trials')    \n",
    "    ax2.axes.get_xaxis().set_ticks([])\n",
    "    ax2.set_ylim(-1, trial_total+.5)\n",
    "\n",
    "    og_ylim = ax2.get_ylim()\n",
    "    ax2.spines['left'].set_bounds(0, trial_total)\n",
    "    ax2.set_yticks(np.arange(0, og_ylim[1], 20))\n",
    "        \n",
    "    ax3.set_xlabel('Time(s)')\n",
    "    ax3.set_ylabel('Firing\\nrate (Hz)') \n",
    "    if ylim_p != None:\n",
    "        ax3.set_ylim(ylim_p)\n",
    "\n",
    "    patch_ax.axis('off')\n",
    "    patch_ax.set_xlim(0,2)\n",
    "    return fig"
   ]
  },
  {
   "cell_type": "code",
   "execution_count": 3,
   "metadata": {},
   "outputs": [],
   "source": [
    "import numpy as np"
   ]
  },
  {
   "cell_type": "code",
   "execution_count": 7,
   "metadata": {},
   "outputs": [
    {
     "data": {
      "text/plain": [
       "array([False, False, False])"
      ]
     },
     "execution_count": 7,
     "metadata": {},
     "output_type": "execute_result"
    }
   ],
   "source": [
    "np.isin(np.array([0,1,2]), [-3,3])"
   ]
  },
  {
   "cell_type": "code",
   "execution_count": 12,
   "metadata": {},
   "outputs": [],
   "source": [
    "def plot_unit(unit_name, log_df, x_min, x_max, trial_type = 'Stim_Som_NoCue', colors = ['k', 'C0'], ylim=None, bin_size = 0.025):\n",
    "    \"\"\"\n",
    "    indexes trials by trial type and passes them to\n",
    "    plot_rasters for plotting\n",
    "    \"\"\"\n",
    "    if 'Som' in trial_type:\n",
    "        resp = 1\n",
    "    else:\n",
    "        resp = 2\n",
    "    \n",
    "    current_cell = log_df[log_df['uni_id'] == unit_name]\n",
    "    lick = current_cell[(current_cell['trial_type'] == trial_type) & current_cell['response'].isin([resp])]\n",
    "    no_lick = current_cell[(current_cell['trial_type'] == trial_type) & current_cell['response'].isin([0])]\n",
    "    rasters = [no_lick, lick]\n",
    "\n",
    "    fig = plot_raster_fig(rasters, trial_type, [x_min, x_max], colors, ylim_p = ylim, bin_size = bin_size)\n",
    "\n",
    "    return fig"
   ]
  },
  {
   "cell_type": "code",
   "execution_count": 13,
   "metadata": {},
   "outputs": [
    {
     "name": "stdout",
     "output_type": "stream",
     "text": [
      "Automatic pdb calling has been turned ON\n"
     ]
    }
   ],
   "source": [
    "%pdb"
   ]
  },
  {
   "cell_type": "markdown",
   "metadata": {},
   "source": [
    "### load auc data"
   ]
  },
  {
   "cell_type": "code",
   "execution_count": 14,
   "metadata": {},
   "outputs": [],
   "source": [
    "tactile_lick_noLick_aucs = pd.read_hdf(r'C:\\Users\\efink\\Documents\\DATA\\Crossmodal_only\\Touch_lick_no_lick_auc_2019-02-27.h5', 'table')\n",
    "visual_lick_noLick_aucs = pd.read_hdf(r'C:\\Users\\efink\\Documents\\DATA\\Crossmodal_only\\Visual_lick_no_lick_auc_2019-02-27.h5', 'table')\n",
    "short_tactile_lick_noLick_aucs = pd.read_hdf(r'C:\\Users\\efink\\Documents\\DATA\\Crossmodal_only\\1CycStim_tac_Lick_no_lick0_2021-05-02.h5_full.h5')\n",
    "short_visual_lick_noLick_aucs = pd.read_hdf(r'C:\\Users\\efink\\Documents\\DATA\\Crossmodal_only\\1CycStim_Vis_Lick_no_lick0_2021-05-03.h5_full.h5')"
   ]
  },
  {
   "cell_type": "code",
   "execution_count": 15,
   "metadata": {},
   "outputs": [
    {
     "data": {
      "text/html": [
       "<div>\n",
       "<style scoped>\n",
       "    .dataframe tbody tr th:only-of-type {\n",
       "        vertical-align: middle;\n",
       "    }\n",
       "\n",
       "    .dataframe tbody tr th {\n",
       "        vertical-align: top;\n",
       "    }\n",
       "\n",
       "    .dataframe thead th {\n",
       "        text-align: right;\n",
       "    }\n",
       "</style>\n",
       "<table border=\"1\" class=\"dataframe\">\n",
       "  <thead>\n",
       "    <tr style=\"text-align: right;\">\n",
       "      <th></th>\n",
       "      <th>area_under_cp_visual_stim_sp</th>\n",
       "      <th>max_cp_visual_stim_sp</th>\n",
       "      <th>cp_onset_visual_stim_sp</th>\n",
       "      <th>tt_comp</th>\n",
       "      <th>comparison</th>\n",
       "      <th>auc_score0</th>\n",
       "      <th>auc_score1</th>\n",
       "      <th>auc_score2</th>\n",
       "      <th>auc_score3</th>\n",
       "      <th>auc_score4</th>\n",
       "      <th>...</th>\n",
       "      <th>conf_lower149</th>\n",
       "      <th>conf_lower150</th>\n",
       "      <th>conf_lower151</th>\n",
       "      <th>conf_lower152</th>\n",
       "      <th>conf_lower153</th>\n",
       "      <th>conf_lower154</th>\n",
       "      <th>conf_lower155</th>\n",
       "      <th>conf_lower156</th>\n",
       "      <th>conf_lower157</th>\n",
       "      <th>conf_lower158</th>\n",
       "    </tr>\n",
       "  </thead>\n",
       "  <tbody>\n",
       "    <tr>\n",
       "      <td>0</td>\n",
       "      <td>0.405556</td>\n",
       "      <td>0.637778</td>\n",
       "      <td>NaN</td>\n",
       "      <td>1CycStim_Som_NoCue</td>\n",
       "      <td>Lick_no_lick</td>\n",
       "      <td>0.460185</td>\n",
       "      <td>0.516667</td>\n",
       "      <td>0.588889</td>\n",
       "      <td>0.385185</td>\n",
       "      <td>0.542593</td>\n",
       "      <td>...</td>\n",
       "      <td>0.567362</td>\n",
       "      <td>0.650000</td>\n",
       "      <td>0.755898</td>\n",
       "      <td>0.579630</td>\n",
       "      <td>0.577546</td>\n",
       "      <td>0.777778</td>\n",
       "      <td>0.636719</td>\n",
       "      <td>0.600870</td>\n",
       "      <td>0.705082</td>\n",
       "      <td>0.655556</td>\n",
       "    </tr>\n",
       "    <tr>\n",
       "      <td>1</td>\n",
       "      <td>-0.100000</td>\n",
       "      <td>0.533333</td>\n",
       "      <td>NaN</td>\n",
       "      <td>1CycStim_Som_NoCue</td>\n",
       "      <td>Lick_no_lick</td>\n",
       "      <td>0.500000</td>\n",
       "      <td>0.494444</td>\n",
       "      <td>0.511111</td>\n",
       "      <td>0.450000</td>\n",
       "      <td>0.500000</td>\n",
       "      <td>...</td>\n",
       "      <td>0.629630</td>\n",
       "      <td>0.633333</td>\n",
       "      <td>0.577731</td>\n",
       "      <td>0.538889</td>\n",
       "      <td>0.500000</td>\n",
       "      <td>0.500000</td>\n",
       "      <td>0.500000</td>\n",
       "      <td>0.618182</td>\n",
       "      <td>0.500000</td>\n",
       "      <td>0.500000</td>\n",
       "    </tr>\n",
       "    <tr>\n",
       "      <td>2</td>\n",
       "      <td>-0.250000</td>\n",
       "      <td>0.566667</td>\n",
       "      <td>NaN</td>\n",
       "      <td>1CycStim_Som_NoCue</td>\n",
       "      <td>Lick_no_lick</td>\n",
       "      <td>0.403704</td>\n",
       "      <td>0.450000</td>\n",
       "      <td>0.505556</td>\n",
       "      <td>0.522222</td>\n",
       "      <td>0.472222</td>\n",
       "      <td>...</td>\n",
       "      <td>0.542857</td>\n",
       "      <td>0.676044</td>\n",
       "      <td>0.554622</td>\n",
       "      <td>0.660342</td>\n",
       "      <td>0.550000</td>\n",
       "      <td>0.640653</td>\n",
       "      <td>0.534965</td>\n",
       "      <td>0.603030</td>\n",
       "      <td>0.657143</td>\n",
       "      <td>0.588889</td>\n",
       "    </tr>\n",
       "    <tr>\n",
       "      <td>3</td>\n",
       "      <td>0.102222</td>\n",
       "      <td>0.593333</td>\n",
       "      <td>NaN</td>\n",
       "      <td>1CycStim_Som_NoCue</td>\n",
       "      <td>Lick_no_lick</td>\n",
       "      <td>0.527778</td>\n",
       "      <td>0.371296</td>\n",
       "      <td>0.583333</td>\n",
       "      <td>0.466667</td>\n",
       "      <td>0.444444</td>\n",
       "      <td>...</td>\n",
       "      <td>0.657343</td>\n",
       "      <td>0.642857</td>\n",
       "      <td>0.678766</td>\n",
       "      <td>0.686025</td>\n",
       "      <td>0.600840</td>\n",
       "      <td>0.670330</td>\n",
       "      <td>0.686933</td>\n",
       "      <td>0.642424</td>\n",
       "      <td>0.582143</td>\n",
       "      <td>0.749023</td>\n",
       "    </tr>\n",
       "    <tr>\n",
       "      <td>4</td>\n",
       "      <td>0.214444</td>\n",
       "      <td>0.622222</td>\n",
       "      <td>NaN</td>\n",
       "      <td>1CycStim_Som_NoCue</td>\n",
       "      <td>Lick_no_lick</td>\n",
       "      <td>0.487963</td>\n",
       "      <td>0.483333</td>\n",
       "      <td>0.411111</td>\n",
       "      <td>0.482407</td>\n",
       "      <td>0.537037</td>\n",
       "      <td>...</td>\n",
       "      <td>0.765625</td>\n",
       "      <td>0.612305</td>\n",
       "      <td>0.656085</td>\n",
       "      <td>0.710084</td>\n",
       "      <td>0.457672</td>\n",
       "      <td>0.717268</td>\n",
       "      <td>0.606250</td>\n",
       "      <td>0.631868</td>\n",
       "      <td>0.587912</td>\n",
       "      <td>0.612121</td>\n",
       "    </tr>\n",
       "  </tbody>\n",
       "</table>\n",
       "<p>5 rows × 482 columns</p>\n",
       "</div>"
      ],
      "text/plain": [
       "   area_under_cp_visual_stim_sp  max_cp_visual_stim_sp  \\\n",
       "0                      0.405556               0.637778   \n",
       "1                     -0.100000               0.533333   \n",
       "2                     -0.250000               0.566667   \n",
       "3                      0.102222               0.593333   \n",
       "4                      0.214444               0.622222   \n",
       "\n",
       "   cp_onset_visual_stim_sp             tt_comp    comparison  auc_score0  \\\n",
       "0                      NaN  1CycStim_Som_NoCue  Lick_no_lick    0.460185   \n",
       "1                      NaN  1CycStim_Som_NoCue  Lick_no_lick    0.500000   \n",
       "2                      NaN  1CycStim_Som_NoCue  Lick_no_lick    0.403704   \n",
       "3                      NaN  1CycStim_Som_NoCue  Lick_no_lick    0.527778   \n",
       "4                      NaN  1CycStim_Som_NoCue  Lick_no_lick    0.487963   \n",
       "\n",
       "   auc_score1  auc_score2  auc_score3  auc_score4  ...  conf_lower149  \\\n",
       "0    0.516667    0.588889    0.385185    0.542593  ...       0.567362   \n",
       "1    0.494444    0.511111    0.450000    0.500000  ...       0.629630   \n",
       "2    0.450000    0.505556    0.522222    0.472222  ...       0.542857   \n",
       "3    0.371296    0.583333    0.466667    0.444444  ...       0.657343   \n",
       "4    0.483333    0.411111    0.482407    0.537037  ...       0.765625   \n",
       "\n",
       "   conf_lower150  conf_lower151  conf_lower152  conf_lower153  conf_lower154  \\\n",
       "0       0.650000       0.755898       0.579630       0.577546       0.777778   \n",
       "1       0.633333       0.577731       0.538889       0.500000       0.500000   \n",
       "2       0.676044       0.554622       0.660342       0.550000       0.640653   \n",
       "3       0.642857       0.678766       0.686025       0.600840       0.670330   \n",
       "4       0.612305       0.656085       0.710084       0.457672       0.717268   \n",
       "\n",
       "   conf_lower155  conf_lower156  conf_lower157  conf_lower158  \n",
       "0       0.636719       0.600870       0.705082       0.655556  \n",
       "1       0.500000       0.618182       0.500000       0.500000  \n",
       "2       0.534965       0.603030       0.657143       0.588889  \n",
       "3       0.686933       0.642424       0.582143       0.749023  \n",
       "4       0.606250       0.631868       0.587912       0.612121  \n",
       "\n",
       "[5 rows x 482 columns]"
      ]
     },
     "execution_count": 15,
     "metadata": {},
     "output_type": "execute_result"
    }
   ],
   "source": [
    "short_tactile_lick_noLick_aucs.iloc[250:255, 43:]"
   ]
  },
  {
   "cell_type": "code",
   "execution_count": 16,
   "metadata": {},
   "outputs": [
    {
     "data": {
      "text/html": [
       "<div>\n",
       "<style scoped>\n",
       "    .dataframe tbody tr th:only-of-type {\n",
       "        vertical-align: middle;\n",
       "    }\n",
       "\n",
       "    .dataframe tbody tr th {\n",
       "        vertical-align: top;\n",
       "    }\n",
       "\n",
       "    .dataframe thead th {\n",
       "        text-align: right;\n",
       "    }\n",
       "</style>\n",
       "<table border=\"1\" class=\"dataframe\">\n",
       "  <thead>\n",
       "    <tr style=\"text-align: right;\">\n",
       "      <th></th>\n",
       "      <th>area_under_cp_visual_stim_sp</th>\n",
       "      <th>max_cp_visual_stim_sp</th>\n",
       "      <th>cp_onset_visual_stim_sp</th>\n",
       "      <th>tt_comp</th>\n",
       "      <th>comparison</th>\n",
       "      <th>auc_score0</th>\n",
       "      <th>auc_score1</th>\n",
       "      <th>auc_score2</th>\n",
       "      <th>auc_score3</th>\n",
       "      <th>auc_score4</th>\n",
       "      <th>...</th>\n",
       "      <th>conf_lower149</th>\n",
       "      <th>conf_lower150</th>\n",
       "      <th>conf_lower151</th>\n",
       "      <th>conf_lower152</th>\n",
       "      <th>conf_lower153</th>\n",
       "      <th>conf_lower154</th>\n",
       "      <th>conf_lower155</th>\n",
       "      <th>conf_lower156</th>\n",
       "      <th>conf_lower157</th>\n",
       "      <th>conf_lower158</th>\n",
       "    </tr>\n",
       "  </thead>\n",
       "  <tbody>\n",
       "    <tr>\n",
       "      <td>0</td>\n",
       "      <td>0.405556</td>\n",
       "      <td>0.637778</td>\n",
       "      <td>NaN</td>\n",
       "      <td>1CycStim_Vis_NoCue</td>\n",
       "      <td>Lick_no_lick</td>\n",
       "      <td>0.578598</td>\n",
       "      <td>0.424242</td>\n",
       "      <td>0.603220</td>\n",
       "      <td>0.500000</td>\n",
       "      <td>0.437500</td>\n",
       "      <td>...</td>\n",
       "      <td>0.606838</td>\n",
       "      <td>0.594595</td>\n",
       "      <td>0.459804</td>\n",
       "      <td>0.468750</td>\n",
       "      <td>0.515686</td>\n",
       "      <td>0.585714</td>\n",
       "      <td>0.578571</td>\n",
       "      <td>0.522549</td>\n",
       "      <td>0.563620</td>\n",
       "      <td>0.508272</td>\n",
       "    </tr>\n",
       "    <tr>\n",
       "      <td>1</td>\n",
       "      <td>-0.100000</td>\n",
       "      <td>0.533333</td>\n",
       "      <td>NaN</td>\n",
       "      <td>1CycStim_Vis_NoCue</td>\n",
       "      <td>Lick_no_lick</td>\n",
       "      <td>0.500000</td>\n",
       "      <td>0.484848</td>\n",
       "      <td>0.531250</td>\n",
       "      <td>0.500947</td>\n",
       "      <td>0.515152</td>\n",
       "      <td>...</td>\n",
       "      <td>0.578853</td>\n",
       "      <td>0.630952</td>\n",
       "      <td>0.583333</td>\n",
       "      <td>0.500000</td>\n",
       "      <td>0.500000</td>\n",
       "      <td>0.500000</td>\n",
       "      <td>0.500000</td>\n",
       "      <td>0.500000</td>\n",
       "      <td>0.500000</td>\n",
       "      <td>0.500000</td>\n",
       "    </tr>\n",
       "    <tr>\n",
       "      <td>2</td>\n",
       "      <td>-0.250000</td>\n",
       "      <td>0.566667</td>\n",
       "      <td>NaN</td>\n",
       "      <td>1CycStim_Vis_NoCue</td>\n",
       "      <td>Lick_no_lick</td>\n",
       "      <td>0.502841</td>\n",
       "      <td>0.500947</td>\n",
       "      <td>0.486742</td>\n",
       "      <td>0.517992</td>\n",
       "      <td>0.410985</td>\n",
       "      <td>...</td>\n",
       "      <td>0.521368</td>\n",
       "      <td>0.500000</td>\n",
       "      <td>0.621622</td>\n",
       "      <td>0.597973</td>\n",
       "      <td>0.678315</td>\n",
       "      <td>0.610048</td>\n",
       "      <td>0.654915</td>\n",
       "      <td>0.600000</td>\n",
       "      <td>0.610048</td>\n",
       "      <td>0.533144</td>\n",
       "    </tr>\n",
       "    <tr>\n",
       "      <td>3</td>\n",
       "      <td>0.102222</td>\n",
       "      <td>0.593333</td>\n",
       "      <td>NaN</td>\n",
       "      <td>1CycStim_Vis_NoCue</td>\n",
       "      <td>Lick_no_lick</td>\n",
       "      <td>0.616477</td>\n",
       "      <td>0.551136</td>\n",
       "      <td>0.363636</td>\n",
       "      <td>0.491477</td>\n",
       "      <td>0.554924</td>\n",
       "      <td>...</td>\n",
       "      <td>0.693376</td>\n",
       "      <td>0.560784</td>\n",
       "      <td>0.845833</td>\n",
       "      <td>0.643541</td>\n",
       "      <td>0.703125</td>\n",
       "      <td>0.714286</td>\n",
       "      <td>0.635714</td>\n",
       "      <td>0.590909</td>\n",
       "      <td>0.619048</td>\n",
       "      <td>0.643293</td>\n",
       "    </tr>\n",
       "    <tr>\n",
       "      <td>4</td>\n",
       "      <td>0.214444</td>\n",
       "      <td>0.622222</td>\n",
       "      <td>NaN</td>\n",
       "      <td>1CycStim_Vis_NoCue</td>\n",
       "      <td>Lick_no_lick</td>\n",
       "      <td>0.519886</td>\n",
       "      <td>0.520833</td>\n",
       "      <td>0.469697</td>\n",
       "      <td>0.530303</td>\n",
       "      <td>0.533144</td>\n",
       "      <td>...</td>\n",
       "      <td>0.552083</td>\n",
       "      <td>0.675510</td>\n",
       "      <td>0.497059</td>\n",
       "      <td>0.644886</td>\n",
       "      <td>0.712121</td>\n",
       "      <td>0.671429</td>\n",
       "      <td>0.647306</td>\n",
       "      <td>0.721429</td>\n",
       "      <td>0.562500</td>\n",
       "      <td>0.742105</td>\n",
       "    </tr>\n",
       "  </tbody>\n",
       "</table>\n",
       "<p>5 rows × 482 columns</p>\n",
       "</div>"
      ],
      "text/plain": [
       "   area_under_cp_visual_stim_sp  max_cp_visual_stim_sp  \\\n",
       "0                      0.405556               0.637778   \n",
       "1                     -0.100000               0.533333   \n",
       "2                     -0.250000               0.566667   \n",
       "3                      0.102222               0.593333   \n",
       "4                      0.214444               0.622222   \n",
       "\n",
       "   cp_onset_visual_stim_sp             tt_comp    comparison  auc_score0  \\\n",
       "0                      NaN  1CycStim_Vis_NoCue  Lick_no_lick    0.578598   \n",
       "1                      NaN  1CycStim_Vis_NoCue  Lick_no_lick    0.500000   \n",
       "2                      NaN  1CycStim_Vis_NoCue  Lick_no_lick    0.502841   \n",
       "3                      NaN  1CycStim_Vis_NoCue  Lick_no_lick    0.616477   \n",
       "4                      NaN  1CycStim_Vis_NoCue  Lick_no_lick    0.519886   \n",
       "\n",
       "   auc_score1  auc_score2  auc_score3  auc_score4  ...  conf_lower149  \\\n",
       "0    0.424242    0.603220    0.500000    0.437500  ...       0.606838   \n",
       "1    0.484848    0.531250    0.500947    0.515152  ...       0.578853   \n",
       "2    0.500947    0.486742    0.517992    0.410985  ...       0.521368   \n",
       "3    0.551136    0.363636    0.491477    0.554924  ...       0.693376   \n",
       "4    0.520833    0.469697    0.530303    0.533144  ...       0.552083   \n",
       "\n",
       "   conf_lower150  conf_lower151  conf_lower152  conf_lower153  conf_lower154  \\\n",
       "0       0.594595       0.459804       0.468750       0.515686       0.585714   \n",
       "1       0.630952       0.583333       0.500000       0.500000       0.500000   \n",
       "2       0.500000       0.621622       0.597973       0.678315       0.610048   \n",
       "3       0.560784       0.845833       0.643541       0.703125       0.714286   \n",
       "4       0.675510       0.497059       0.644886       0.712121       0.671429   \n",
       "\n",
       "   conf_lower155  conf_lower156  conf_lower157  conf_lower158  \n",
       "0       0.578571       0.522549       0.563620       0.508272  \n",
       "1       0.500000       0.500000       0.500000       0.500000  \n",
       "2       0.654915       0.600000       0.610048       0.533144  \n",
       "3       0.635714       0.590909       0.619048       0.643293  \n",
       "4       0.647306       0.721429       0.562500       0.742105  \n",
       "\n",
       "[5 rows x 482 columns]"
      ]
     },
     "execution_count": 16,
     "metadata": {},
     "output_type": "execute_result"
    }
   ],
   "source": [
    "short_visual_lick_noLick_aucs.iloc[250:255, 43:]"
   ]
  },
  {
   "cell_type": "markdown",
   "metadata": {},
   "source": [
    "### filter auc data for tactile lick-right/ visual lick-left  data "
   ]
  },
  {
   "cell_type": "code",
   "execution_count": 17,
   "metadata": {},
   "outputs": [
    {
     "data": {
      "text/plain": [
       "((1539, 483), (1539, 483), (1539, 525))"
      ]
     },
     "execution_count": 17,
     "metadata": {},
     "output_type": "execute_result"
    }
   ],
   "source": [
    "tactile_lick_noLick_aucs = tactile_lick_noLick_aucs.merge(unit_key_df['uni_id'].to_frame(), on = 'uni_id', how = 'right')\n",
    "visual_lick_noLick_aucs = visual_lick_noLick_aucs.merge(unit_key_df['uni_id'].to_frame(), on = 'uni_id', how = 'right')\n",
    "short_tactile_lick_noLick_aucs = short_tactile_lick_noLick_aucs.merge(unit_key_df['uni_id'].to_frame(), on = 'uni_id', how = 'right')\n",
    "short_visual_lick_noLick_aucs = short_visual_lick_noLick_aucs.merge(unit_key_df['uni_id'].to_frame(), on = 'uni_id', how = 'right')\n",
    "\n",
    "visual_lick_noLick_aucs.shape, tactile_lick_noLick_aucs.shape, short_tactile_lick_noLick_aucs.shape"
   ]
  },
  {
   "cell_type": "markdown",
   "metadata": {},
   "source": [
    "# Identify units with a significant detect probability (DP) and define onset times"
   ]
  },
  {
   "cell_type": "code",
   "execution_count": 18,
   "metadata": {},
   "outputs": [],
   "source": [
    "def process_dp(auc_df):\n",
    "    auc_col_names = auc_df.columns[auc_df.columns.str.contains('auc')]\n",
    "    low_conf_col_names = auc_df.columns[auc_df.columns.str.contains('low')]\n",
    "    up_conf_col_names =auc_df.columns[auc_df.columns.str.contains('up')]\n",
    "    \n",
    "    # find bins where auc is significant \n",
    "    raw_sig_AUC = pd.DataFrame(~((auc_df.loc[:,low_conf_col_names].fillna(0.5) >= 0.5).values & \n",
    "                        (auc_df.loc[:,up_conf_col_names].fillna(0.5) <= 0.5).values)*1, index = auc_df['uni_id'])\n",
    "\n",
    "    # identify direction of significant bins\n",
    "    auc_dir = (auc_df.loc[:,auc_col_names] >= 0.5)*1 + (auc_df.loc[:,auc_col_names] < 0.5)*-1\n",
    "    auc_dir.index = auc_df['uni_id']; auc_dir.columns = raw_sig_AUC.columns\n",
    "    raw_sig_AUC = raw_sig_AUC*auc_dir\n",
    "    \n",
    "    # take running sum of bins to identify bins with consecutive significant bins\n",
    "    smooth_sig_AUC = raw_sig_AUC.apply(lambda y: np.convolve(y, [1,1], 'same'), axis = 1)\n",
    "    smooth_sig_AUC = pd.DataFrame(smooth_sig_AUC.to_dict()).T\n",
    "\n",
    "    ### to get the first bin of 2 that are significantly different from 0 need to subtract 1 from all_sig_tac/vis since convolve \n",
    "    ### was used with 'same' setting (otherwise would need to subtract 2 if setting was 'full')\n",
    "    all_sig = (smooth_sig_AUC.isin([2,-2])*1).apply(lambda y: np.where(y), axis = 1)\n",
    "    all_sig = all_sig.apply(lambda y: (y[0]-1)*bin_size-1 if len(y[0])>0 else [])\n",
    "\n",
    "    ### find first significant bin for each unit for each modality\n",
    "    all_first_sig = all_sig.apply(lambda y:  y[(y>=0) & (y<1)] if len(y)!=0 else []) \n",
    "    all_first_sig = all_first_sig.apply(lambda y:  np.nan if len(y)==0 else np.min(y))\n",
    "    \n",
    "    return all_first_sig\n"
   ]
  },
  {
   "cell_type": "code",
   "execution_count": 19,
   "metadata": {
    "ExecuteTime": {
     "end_time": "2018-02-22T15:24:48.812152Z",
     "start_time": "2018-02-22T15:24:48.081561"
    },
    "scrolled": true
   },
   "outputs": [],
   "source": [
    "all_first_sig_tac = process_dp(tactile_lick_noLick_aucs).to_frame(name = 'tac_dp_onset')\n",
    "all_first_sig_vis = process_dp(visual_lick_noLick_aucs).to_frame(name = 'vis_dp_onset')\n",
    "all_first_sig_tac_short = process_dp(short_tactile_lick_noLick_aucs).to_frame(name = 'tac_dp_onset_short')\n",
    "all_first_sig_vis_short = process_dp(short_visual_lick_noLick_aucs).to_frame(name = 'vis_dp_onset_short')\n",
    "\n",
    "dp_onsets = pd.concat(\n",
    "    [all_first_sig_vis, \n",
    "    all_first_sig_tac, \n",
    "    all_first_sig_tac_short,\n",
    "    all_first_sig_vis_short], \n",
    "    axis = 1, sort = True)\n",
    "\n",
    "### convert onsets to bin indeces\n",
    "dp_onsets[['tac_dp_onset_inds', 'vis_dp_onset_inds']] = ((dp_onsets[['tac_dp_onset', 'vis_dp_onset']].fillna(-0)+1)/0.025).astype(int)\n",
    "dp_onsets[['tac_dp_onset_short_inds', 'vis_dp_onset_short_inds']] = ((dp_onsets[['tac_dp_onset_short', 'vis_dp_onset_short']].fillna(-0)+1)/0.025).astype(int)"
   ]
  },
  {
   "cell_type": "markdown",
   "metadata": {},
   "source": [
    "# Plot scatter plot of touch DP and vis DP and plot modality preference index\n",
    "* use any unit that has at a significant DP in at least one modality trial.\n",
    "* average over the three seconds after stimulus onset"
   ]
  },
  {
   "cell_type": "code",
   "execution_count": 20,
   "metadata": {},
   "outputs": [],
   "source": [
    "def plot_choice_prob_scatter(uni_ids, tac_auc_df, vis_auc_df, window, color, ax):\n",
    "    tac = tac_auc_df.merge(uni_ids.to_frame(), on = 'uni_id')\n",
    "    vis = vis_auc_df.merge(uni_ids.to_frame(), on = 'uni_id')\n",
    "    tac['tac_cp'] = tac.iloc[:, window[0]:window[1]].mean(axis = 1)\n",
    "    vis['vis_cp'] = vis.iloc[:, window[0]:window[1]].mean(axis = 1)\n",
    "    ax.scatter(tac['tac_cp'], vis['vis_cp'], color = color, alpha = 0.3,clip_on=False, s = 10)\n",
    "    ax.plot([0,1], [0,1], '--k')\n",
    "    ax.plot([0,1], [0.5,0.5], 'k', alpha = 0.4)\n",
    "    ax.plot([0.5,.5], [0,1],'k', alpha = 0.4)\n",
    "    ax.spines['top'].set_visible(False); ax.spines['right'].set_visible(False) \n",
    "    ax.set_ylim(0.3,0.9), ax.set_xlim(0.3,0.9)\n",
    "    ax.set_xlabel('Mean touch dp')\n",
    "    ax.set_ylabel('Mean visual dp')\n",
    "    return tac[['uni_id', 'tac_cp']], vis[['uni_id', 'vis_cp']]"
   ]
  },
  {
   "cell_type": "code",
   "execution_count": 21,
   "metadata": {},
   "outputs": [],
   "source": [
    "def calc_pref(mean_tac_dp, mean_vis_dp):\n",
    "    pref = (abs(mean_tac_dp-0.5) - abs(mean_vis_dp-0.5))/(abs(mean_tac_dp-0.5) + abs(mean_vis_dp-0.5))\n",
    "    return pref"
   ]
  },
  {
   "cell_type": "code",
   "execution_count": 24,
   "metadata": {},
   "outputs": [
    {
     "ename": "SyntaxError",
     "evalue": "unexpected EOF while parsing (<ipython-input-24-6cf746abb003>, line 1)",
     "output_type": "error",
     "traceback": [
      "\u001b[1;36m  File \u001b[1;32m\"<ipython-input-24-6cf746abb003>\"\u001b[1;36m, line \u001b[1;32m1\u001b[0m\n\u001b[1;33m    dp_onsets.loc[~dp_onsets[['vis_dp_onset', 'tac_dp_onset']].isnull()\u001b[0m\n\u001b[1;37m                                                                       ^\u001b[0m\n\u001b[1;31mSyntaxError\u001b[0m\u001b[1;31m:\u001b[0m unexpected EOF while parsing\n"
     ]
    }
   ],
   "source": [
    "dp_onsets.loc[~dp_onsets[['vis_dp_onset', 'tac_dp_onset']].isnull()"
   ]
  },
  {
   "cell_type": "code",
   "execution_count": 29,
   "metadata": {},
   "outputs": [
    {
     "data": {
      "text/plain": [
       "Index(['07401-03-162t1', '07401-03-162t2', '07401-03-165t1', '07401-03-165t2',\n",
       "       '07401-03-165t3', '07401-03-165t4', '07401-03-165t5', '07401-03-166t1',\n",
       "       '07401-03-166t2', '07401-03-167t1',\n",
       "       ...\n",
       "       '11405-31-184t3', '11405-31-184t4', '11405-31-185t1', '11405-31-186t1',\n",
       "       '11405-31-187t2', '11405-31-188t1', '11405-31-188t2', '11406-01-181t2',\n",
       "       '11406-01-184t1', '11406-01-187t1'],\n",
       "      dtype='object', length=1033)"
      ]
     },
     "execution_count": 29,
     "metadata": {},
     "output_type": "execute_result"
    }
   ],
   "source": [
    "all_sig_units"
   ]
  },
  {
   "cell_type": "code",
   "execution_count": 33,
   "metadata": {},
   "outputs": [
    {
     "data": {
      "text/plain": [
       "(1033, 1)"
      ]
     },
     "execution_count": 33,
     "metadata": {},
     "output_type": "execute_result"
    }
   ],
   "source": [
    "all_sig_units = pd.DataFrame(dp_onsets.loc[~dp_onsets[['vis_dp_onset', 'tac_dp_onset']].isnull().all(axis = 1)].index, columns = ['uni_id'])\n",
    "all_sig_units.shape"
   ]
  },
  {
   "cell_type": "markdown",
   "metadata": {},
   "source": [
    "### Visual DP more often than not begins later than touch DP. Taking average of all 3 seconds after stim onset tries to control for that when comparing between trial types. However, this dilutes the average DP for both trials significantly and takes into account time bins that are not relevant for DP (ie >1.5 seconds - this is well beyond most of the reaction times of the mice). One solution is to align trials to the detected onsets for each unit in each trial type and then average for the first 500ms"
   ]
  },
  {
   "cell_type": "code",
   "execution_count": 35,
   "metadata": {},
   "outputs": [],
   "source": [
    "def align_auc(auc_df, onsets):\n",
    "    auc_cols = ['uni_id'] + list(auc_df.columns[auc_df.columns.str.contains('auc')])\n",
    "    auc_df = auc_df.loc[:, auc_cols]\n",
    "    auc_df = auc_df.merge(onsets, on = 'uni_id')\n",
    "    onset_column = onsets.columns[-1]\n",
    "    aligned_auc = np.vstack(auc_df.apply(lambda x: [x[['uni_id']+x[onset_column]].values], axis = 1).values)\n",
    "    aligned_auc_df = pd.DataFrame(aligned_auc[:,1:], index= aligned_auc[:,0])\n",
    "    aligned_auc_df = aligned_auc_df.reset_index().rename(columns = {'index': 'uni_id'})\n",
    "    return aligned_auc_df"
   ]
  },
  {
   "cell_type": "code",
   "execution_count": 36,
   "metadata": {},
   "outputs": [],
   "source": [
    "dp_onsets['tac_dp_auc_window']= dp_onsets['tac_dp_onset_inds'].apply(lambda x: ['auc_score'+str(i) for i in range(x, x+40)])\n",
    "dp_onsets['vis_dp_auc_window']= dp_onsets['vis_dp_onset_inds'].apply(lambda x: ['auc_score'+str(i) for i in range(x, x+40)])\n",
    "dp_onsets['tac_dp_auc_window_short']= dp_onsets['tac_dp_onset_inds'].apply(lambda x: ['auc_score'+str(i) for i in range(x, x+40)])\n",
    "dp_onsets['vis_dp_auc_window_short']= dp_onsets['vis_dp_onset_inds'].apply(lambda x: ['auc_score'+str(i) for i in range(x, x+40)])\n",
    "\n",
    "dp_onsets = dp_onsets.reset_index()\n",
    "dp_onsets = dp_onsets.rename(columns = {'index':'uni_id'})"
   ]
  },
  {
   "cell_type": "code",
   "execution_count": 37,
   "metadata": {},
   "outputs": [],
   "source": [
    "aligned_tac_dp = align_auc(tactile_lick_noLick_aucs, dp_onsets[['uni_id','tac_dp_auc_window']])\n",
    "aligned_vis_dp = align_auc(visual_lick_noLick_aucs, dp_onsets[['uni_id','vis_dp_auc_window']])\n",
    "\n",
    "aligned_tac_short_dp = align_auc(short_tactile_lick_noLick_aucs, dp_onsets[['uni_id','tac_dp_auc_window']])\n",
    "aligned_vis_short_dp = align_auc(short_visual_lick_noLick_aucs, dp_onsets[['uni_id','vis_dp_auc_window']])\n",
    "\n",
    "aligned_tac_dp = aligned_tac_dp.merge(dp_onsets[['uni_id', 'tac_dp_onset']])\n",
    "aligned_vis_dp = aligned_vis_dp.merge(dp_onsets[['uni_id', 'vis_dp_onset']])\n",
    "\n",
    "aligned_tac_short_dp = aligned_tac_short_dp.merge(dp_onsets[['uni_id', 'tac_dp_onset_short']])\n",
    "aligned_vis_short_dp = aligned_vis_short_dp.merge(dp_onsets[['uni_id', 'vis_dp_onset_short']])\n",
    "\n",
    "\n",
    "# aligned_tac_dp.head()"
   ]
  },
  {
   "cell_type": "code",
   "execution_count": 38,
   "metadata": {},
   "outputs": [],
   "source": [
    "def cum_dist(arr, bins):\n",
    "    hist = np.histogram(arr, bins = bins)\n",
    "    cumsum = np.cumsum(hist[0])\n",
    "    return [cumsum, hist[1]]"
   ]
  },
  {
   "cell_type": "code",
   "execution_count": 39,
   "metadata": {},
   "outputs": [],
   "source": [
    "def prettify_ax(ax, x_label, y_label, y_lim = None, x_lim = None):\n",
    "    ax.spines['top'].set_visible(False)\n",
    "    ax.spines['right'].set_visible(False)\n",
    "    ax.set_xlabel(x_label)\n",
    "    ax.set_ylabel(y_label)\n",
    "    \n",
    "    if y_lim:\n",
    "        ax.set_ylim(y_lim)\n",
    "        \n",
    "    if x_lim:\n",
    "        ax.set_xlim(x_lim)\n",
    "        \n",
    "    return ax"
   ]
  },
  {
   "cell_type": "code",
   "execution_count": 40,
   "metadata": {
    "scrolled": true
   },
   "outputs": [
    {
     "data": {
      "image/png": "[encoded data removed]",
      "text/plain": [
       "<Figure size 684x648 with 1 Axes>"
      ]
     },
     "metadata": {
      "needs_background": "light"
     },
     "output_type": "display_data"
    }
   ],
   "source": [
    "figure, ax = plt.subplots(1,1,figsize = (9.5, 9))\n",
    "\n",
    "cumsum = cum_dist(dp_onsets['tac_dp_onset'].dropna(), bins = np.arange(0,1, 0.025))\n",
    "ax.plot(cumsum[1][:-1], cumsum[0]/dp_onsets['tac_dp_onset'].dropna().shape, color = 'm')\n",
    "\n",
    "cumsum = cum_dist(dp_onsets['vis_dp_onset'].dropna(), bins = np.arange(0,1, 0.025))\n",
    "ax.plot(cumsum[1][:-1], cumsum[0]/dp_onsets['vis_dp_onset'].dropna().shape, color = 'C1')\n",
    "\n",
    "cumsum = cum_dist(dp_onsets['tac_dp_onset_short'].dropna(), bins = np.arange(0,1, 0.025))\n",
    "ax.plot(cumsum[1][:-1], cumsum[0]/dp_onsets['tac_dp_onset_short'].dropna().shape,':m')\n",
    "\n",
    "cumsum = cum_dist(dp_onsets['vis_dp_onset_short'].dropna(), bins = np.arange(0,1, 0.025))\n",
    "ax.plot(cumsum[1][:-1], cumsum[0]/dp_onsets['vis_dp_onset_short'].dropna().shape,':C1')\n",
    "\n",
    "\n",
    "prettify_ax(ax, 'DP onset (s)', 'Cummulative fraction')\n",
    "\n",
    "ticks = np.arange(0,1.05,0.05)\n",
    "ax.set_xticks(ticks)\n",
    "ticks = np.round(ticks.copy(),2).astype(str)\n",
    "ticks[1::2] = ''\n",
    "ax.set_xticklabels(ticks)\n",
    "\n",
    "ticks = np.arange(0,1.05,0.05)\n",
    "ax.set_yticks(ticks)\n",
    "ticks = np.round(ticks.copy(),2).astype(str)\n",
    "ticks[1::2] = ''\n",
    "ax.set_yticklabels(ticks)\n",
    "\n",
    "figure.savefig('DP_onset_cum_dist_short_long.pdf', format = 'pdf', dpi = 900)"
   ]
  },
  {
   "cell_type": "code",
   "execution_count": 41,
   "metadata": {},
   "outputs": [
    {
     "data": {
      "text/plain": [
       "Ks_2sampResult(statistic=0.2636642092823205, pvalue=1.1102230246251565e-16)"
      ]
     },
     "execution_count": 41,
     "metadata": {},
     "output_type": "execute_result"
    }
   ],
   "source": [
    "scipy.stats.ks_2samp(dp_onsets['tac_dp_onset'].dropna(), dp_onsets['vis_dp_onset'].dropna())"
   ]
  },
  {
   "cell_type": "code",
   "execution_count": 42,
   "metadata": {},
   "outputs": [
    {
     "data": {
      "text/plain": [
       "Ks_2sampResult(statistic=0.03866357439694854, pvalue=0.7180194943917371)"
      ]
     },
     "execution_count": 42,
     "metadata": {},
     "output_type": "execute_result"
    }
   ],
   "source": [
    "scipy.stats.ks_2samp(dp_onsets['tac_dp_onset'].dropna(), dp_onsets['tac_dp_onset_short'].dropna())"
   ]
  },
  {
   "cell_type": "code",
   "execution_count": 43,
   "metadata": {},
   "outputs": [
    {
     "data": {
      "text/plain": [
       "Ks_2sampResult(statistic=0.15224849327770051, pvalue=7.779175967947971e-06)"
      ]
     },
     "execution_count": 43,
     "metadata": {},
     "output_type": "execute_result"
    }
   ],
   "source": [
    "scipy.stats.ks_2samp(dp_onsets['vis_dp_onset'].dropna(), dp_onsets['vis_dp_onset_short'].dropna())"
   ]
  },
  {
   "cell_type": "code",
   "execution_count": null,
   "metadata": {},
   "outputs": [],
   "source": []
  }
 ],
 "metadata": {
  "kernelspec": {
   "display_name": "Python 3 (ipykernel)",
   "language": "python",
   "name": "python3"
  },
  "language_info": {
   "codemirror_mode": {
    "name": "ipython",
    "version": 3
   },
   "file_extension": ".py",
   "mimetype": "text/x-python",
   "name": "python",
   "nbconvert_exporter": "python",
   "pygments_lexer": "ipython3",
   "version": "3.9.6"
  },
  "widgets": {
   "state": {
    "47f62d6e6a064485883402505fe1f9e7": {
     "views": [
      {
       "cell_index": 8
      }
     ]
    },
    "94460585be434f03bd85a882b903ecb7": {
     "views": [
      {
       "cell_index": 6
      }
     ]
    }
   },
   "version": "1.2.0"
  }
 },
 "nbformat": 4,
 "nbformat_minor": 4
}

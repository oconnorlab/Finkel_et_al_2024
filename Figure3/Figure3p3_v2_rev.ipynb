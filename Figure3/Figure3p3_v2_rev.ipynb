{
 "cells": [
  {
   "cell_type": "code",
   "execution_count": null,
   "metadata": {
    "ExecuteTime": {
     "end_time": "2018-02-22T15:18:20.218026Z",
     "start_time": "2018-02-22T15:18:15.577176"
    },
    "scrolled": true
   },
   "outputs": [],
   "source": [
    "import scipy as sp\n",
    "import scipy.io\n",
    "import os\n",
    "import numpy as np\n",
    "import pandas as pd\n",
    "import glob\n",
    "import csv\n",
    "import random as rand\n",
    "from tqdm import tnrange, tqdm_notebook\n",
    "from collections import Iterable\n",
    "import matplotlib.pylab as plt\n",
    "import matplotlib as mpl\n",
    "import random as rand\n",
    "from ipywidgets import *\n",
    "import colorlover as cl\n",
    "from scipy import stats\n",
    "import importlib\n",
    "import sys\n",
    "sys.path.append(os.getcwd()+'\\\\..')\n",
    "from utils import utils, zscores\n",
    "from utils import plotting_utils as pu\n",
    "from utils import auc_methods as am\n",
    "import matplotlib.patches as patches\n",
    "from matplotlib import gridspec\n",
    "from sklearn.metrics import roc_curve, auc\n",
    "from sklearn.model_selection import train_test_split\n",
    "from sklearn.preprocessing import label_binarize\n",
    "\n",
    "%load_ext autoreload\n",
    "%autoreload 2\n",
    "mpl.rcParams['pdf.fonttype'] = 42\n",
    "mpl.rcParams['ps.fonttype'] = 42"
   ]
  },
  {
   "cell_type": "code",
   "execution_count": null,
   "metadata": {},
   "outputs": [],
   "source": [
    "size_mult = 1\n",
    "plt.close('all')\n",
    "\n",
    "font = {'family' : 'Arial',\n",
    "        'weight' : 'normal',\n",
    "        'size'   : 12}\n",
    "\n",
    "mpl.rc('font', **font)\n",
    "mpl.rc('xtick', labelsize=12) \n",
    "mpl.rc('ytick', labelsize=12)\n",
    "mpl.rc('axes', labelsize=12)\n",
    "\n",
    "mpl.rcParams['pdf.fonttype'] = 42\n",
    "mpl.rcParams['ps.fonttype'] = 42\n"
   ]
  },
  {
   "cell_type": "code",
   "execution_count": null,
   "metadata": {
    "ExecuteTime": {
     "end_time": "2018-02-22T15:18:20.467227Z",
     "start_time": "2018-02-22T15:18:20.356138"
    }
   },
   "outputs": [],
   "source": [
    "size_mult = 0.1\n",
    "plt.close('all')\n",
    "\n",
    "font = {'family' : 'Arial',\n",
    "        'weight' : 'normal',\n",
    "        'size'   : 6}\n",
    "\n",
    "mpl.rc('font', **font)\n",
    "mpl.rc('xtick', labelsize=6) \n",
    "mpl.rc('ytick', labelsize=6)\n",
    "mpl.rc('axes', labelsize=6)\n",
    "\n",
    "mpl.rcParams['pdf.fonttype'] = 42\n",
    "mpl.rcParams['ps.fonttype'] = 42\n"
   ]
  },
  {
   "cell_type": "code",
   "execution_count": null,
   "metadata": {},
   "outputs": [],
   "source": [
    "bin_size = 0.025\n",
    "window = [-1, 3]\n",
    "edges = np.arange(window[0], window[1], bin_size)"
   ]
  },
  {
   "cell_type": "markdown",
   "metadata": {},
   "source": [
    "# Load data and prepare data\n",
    "## Load behavior and spike data"
   ]
  },
  {
   "cell_type": "code",
   "execution_count": null,
   "metadata": {},
   "outputs": [],
   "source": [
    "DATA_DIR = os.path.abspath('../data')\n",
    "log_df = pd.read_hdf(os.path.join(DATA_DIR, 'log_df_processed_02-28-2019.h5'), 'fixed')\n",
    "unit_key_df = pd.read_hdf(os.path.join(DATA_DIR, 'unit_key_df_processed_02-28-2019.h5'), 'fixed')"
   ]
  },
  {
   "cell_type": "markdown",
   "metadata": {},
   "source": [
    "### Remove any units that were recorded from tactile lick-left/visual lick-right mice"
   ]
  },
  {
   "cell_type": "code",
   "execution_count": null,
   "metadata": {},
   "outputs": [],
   "source": [
    "unit_key_df = unit_key_df[~(unit_key_df['mouse_name'].isin(['EF0083','EF0085', 'EF0112', 'EF0111']))] # these are mice with tetrodes not implanted in pricipal whisker\n",
    "unit_key_df['mouse_name'].unique()"
   ]
  },
  {
   "cell_type": "code",
   "execution_count": null,
   "metadata": {},
   "outputs": [],
   "source": [
    "def plot_raster(ax,ras,trial_total, window, bin_size = 0.025):\n",
    "    \"\"\"\n",
    "    plot raster for a specific trial_type/outcome stacked on previous plotted raster\n",
    "    \"\"\"  \n",
    "    spike_counts = []\n",
    "    for trial, spike in enumerate(ras['spike_times(stim_aligned)']):\n",
    "        spike = spike[(spike>window[0]) & (spike<=window[1])]\n",
    "        ax.vlines(spike, trial + trial_total - .5, trial + trial_total +.5)\n",
    "        ax.vlines(ras.iloc[trial]['first_lick'], trial + trial_total - .5, trial +\n",
    "                   trial_total + .5, color = 'r', linewidth = 5)\n",
    "\n",
    "        spike = spike[(spike>window[0]) & (spike<=window[1])]\n",
    "        edges = np.arange(window[0], window[1]+bin_size*2, bin_size)\n",
    "        count, _ = np.histogram(spike,edges)\n",
    "        spike_counts.append(count)\n",
    "    return spike_counts"
   ]
  },
  {
   "cell_type": "code",
   "execution_count": null,
   "metadata": {},
   "outputs": [],
   "source": [
    "def plot_psth(spike_counts, ax, window, color, bin_size = 0.025):\n",
    "    \"\"\"\n",
    "    plot psth corresponding to a raster\n",
    "    \"\"\"\n",
    "    average_hist = np.mean(spike_counts, axis=0)/bin_size\n",
    "    SE_hist = stats.sem(spike_counts)/bin_size\n",
    "    edges = np.arange(window[0], window[1]+bin_size*2, bin_size)\n",
    "    ax.plot(edges[0:-1], average_hist, color = color)\n",
    "    ax.fill_between(edges[0:-1], average_hist-SE_hist, average_hist+SE_hist, alpha = 0.3, color = color)"
   ]
  },
  {
   "cell_type": "code",
   "execution_count": null,
   "metadata": {},
   "outputs": [],
   "source": [
    "def plot_rasters_psths(rasters, window, ax, ax1, patch_ax, colors, bin_size = 0.025):\n",
    "    \"\"\"\n",
    "    plot rasters and psths for each trial_type/outcome in \"rasters\"\n",
    "    \"\"\"\n",
    "    \n",
    "    trial_total = 1\n",
    "    patch_ax.plot([0,2],[trial_total-.5, trial_total-.5], '--k')\n",
    "\n",
    "    for i, ras in enumerate(rasters):\n",
    "        spike_counts = plot_raster(ax, ras, trial_total, window)\n",
    "        num_trials_in_raster = len(ras)\n",
    "        patch_ax.add_patch(patches.Rectangle((0,trial_total -.5), 1,\n",
    "                                    num_trials_in_raster+1, facecolor = colors[i], alpha = 0.5))\n",
    "\n",
    "        patch_ax.plot([0,2],[trial_total-.5, trial_total-.5], '--k')\n",
    "        plot_psth(spike_counts, ax1, window, color = colors[i], bin_size = bin_size)\n",
    "        trial_total = trial_total + num_trials_in_raster +1\n",
    "\n",
    "    return spike_counts, trial_total"
   ]
  },
  {
   "cell_type": "code",
   "execution_count": null,
   "metadata": {},
   "outputs": [],
   "source": [
    "def plot_raster_fig(rasters, trial_type, window, colors, bin_size = 0.025, ylim_p = None):\n",
    "    \"\"\"\n",
    "    setup figure and plot rasters and PSTHs of indicated unit\n",
    "    \"\"\"\n",
    "\n",
    "    fig = plt.figure(figsize=(4, 3.5))\n",
    "    gs = [gridspec.GridSpec(1,1) for i in range(4)]\n",
    "    gs[0].update(bottom = 0.88, top=0.95, left = 0.2, right = 0.83)\n",
    "    gs[2].update(bottom=0.15, top=0.41, left = 0.2, right = 0.83)\n",
    "    gs[1].update(bottom=0.45, top=0.88, left = 0.2, right = 0.83)\n",
    "    gs[3].update(bottom=0.45, top=0.88, left = 0.83, right = 0.9)\n",
    "\n",
    "    (ax1, ax2, ax3) = [plt.subplot(gs[i][0, 0]) for i in range(3)]\n",
    "    patch_ax = plt.subplot(gs[3][0, 0], sharey = ax2)\n",
    "\n",
    "    ax1.add_patch(patches.Rectangle((0,0), 0.15, 0.75, facecolor = 'k', alpha = 0.75))\n",
    "    spike_counts, trial_total = plot_rasters_psths(rasters, window, ax2,ax3, patch_ax, colors)\n",
    "\n",
    "    for ax in [ax1,ax2,ax3, patch_ax]:\n",
    "        ax.set_xlim(window[0],window[1]-bin_size)\n",
    "        ax.spines['right'].set_visible(False)\n",
    "        ax.spines['top'].set_visible(False)\n",
    "\n",
    "    ax1.axis('off')\n",
    "    ax1.set_ylim(0,2)\n",
    "\n",
    "    ax2.spines['bottom'].set_visible(False)\n",
    "    ax2.set_ylabel('Trials')    \n",
    "    ax2.axes.get_xaxis().set_ticks([])\n",
    "    ax2.set_ylim(-1, trial_total+.5)\n",
    "\n",
    "    og_ylim = ax2.get_ylim()\n",
    "    ax2.spines['left'].set_bounds(0, trial_total)\n",
    "    ax2.set_yticks(np.arange(0, og_ylim[1], 20))\n",
    "        \n",
    "    ax3.set_xlabel('Time(s)')\n",
    "    ax3.set_ylabel('Firing\\nrate (Hz)') \n",
    "    if ylim_p != None:\n",
    "        ax3.set_ylim(ylim_p)\n",
    "\n",
    "    patch_ax.axis('off')\n",
    "    patch_ax.set_xlim(0,2)\n",
    "    return fig"
   ]
  },
  {
   "cell_type": "code",
   "execution_count": null,
   "metadata": {},
   "outputs": [],
   "source": [
    "def plot_unit(unit_name, log_df, x_min, x_max, trial_type = 'Stim_Som_NoCue', colors = ['k', 'C0'], ylim=None, bin_size = 0.025):\n",
    "    \"\"\"\n",
    "    indexes trials by trial type and passes them to\n",
    "    plot_rasters for plotting\n",
    "    \"\"\"\n",
    "    if 'Som' in trial_type:\n",
    "        resp = 1\n",
    "    else:\n",
    "        resp = 2\n",
    "    \n",
    "    current_cell = log_df[log_df['uni_id'] == unit_name]\n",
    "    lick = current_cell[(current_cell['trial_type'] == trial_type) & current_cell['response'].isin([resp])]\n",
    "    no_lick = current_cell[(current_cell['trial_type'] == trial_type) & current_cell['response'].isin([0])]\n",
    "    rasters = [no_lick, lick]\n",
    "\n",
    "    fig = plot_raster_fig(rasters, trial_type, [x_min, x_max], colors, ylim_p = ylim, bin_size = bin_size)\n",
    "\n",
    "    return fig"
   ]
  },
  {
   "cell_type": "code",
   "execution_count": null,
   "metadata": {},
   "outputs": [],
   "source": [
    "%pdb"
   ]
  },
  {
   "cell_type": "code",
   "execution_count": null,
   "metadata": {},
   "outputs": [],
   "source": [
    "fig = plot_unit('07903-22-164t2', log_df, -0.25, 0.75, trial_type = 'Stim_Som_NoCue', bin_size = bin_size)"
   ]
  },
  {
   "cell_type": "code",
   "execution_count": null,
   "metadata": {},
   "outputs": [],
   "source": [
    "fig = plot_unit('07903-22-164t2', log_df, -0.25, 0.75, trial_type = 'Stim_Vis_NoCue', bin_size = bin_size)"
   ]
  },
  {
   "cell_type": "code",
   "execution_count": null,
   "metadata": {},
   "outputs": [],
   "source": [
    "fig = plot_unit('07903-22-164t2', log_df, -0.25, 0.75, trial_type = '1CycStim_Som_NoCue', bin_size = bin_size)"
   ]
  },
  {
   "cell_type": "code",
   "execution_count": null,
   "metadata": {},
   "outputs": [],
   "source": [
    "fig = plot_unit('07903-22-164t2', log_df, -0.25, 0.75, trial_type = '1CycStim_Vis_NoCue', bin_size = bin_size)"
   ]
  },
  {
   "cell_type": "code",
   "execution_count": null,
   "metadata": {},
   "outputs": [],
   "source": [
    "import cmocean"
   ]
  },
  {
   "cell_type": "code",
   "execution_count": null,
   "metadata": {},
   "outputs": [],
   "source": [
    "sub_map = unit_key_df\n",
    "colors = cmocean.cm.thermal\n",
    "columns = ['Touch Stim Lick(z_score)', 'Short Touch Stim Lick(z_score)',\n",
    "           'Visual Stim Lick(z_score)', 'Short Visual Stim Lick(z_score)']\n",
    "data = {}\n",
    "for z_map in columns:\n",
    "    data[z_map] = pd.DataFrame(np.stack(sub_map[z_map].dropna().as_matrix()))\n",
    "\n",
    "# py.iplot(fig, filename= 'Hit_CR_Miss')\n",
    "\n",
    "\n",
    "fig5c_1 = mpl.figure(figsize = (6,7))\n",
    "\n",
    "gs1 = gridspec.GridSpec(1,1)\n",
    "gs2 = gridspec.GridSpec(1,1)\n",
    "\n",
    "gs1.update(bottom=0.1, top=0.68, left = 0.15, right = 0.9)\n",
    "gs2.update(bottom = 0.69, top=0.87, left = 0.15, right = 0.9)\n",
    "\n",
    "\n",
    "ax1 = mpl.subplot(gs1[0, 0])\n",
    "ax2 = mpl.subplot(gs2[0, 0], sharex =ax1)\n",
    "ax2.axis('off')\n",
    "ax2.add_patch(patches.Rectangle((0,3.6), 0.15, 1, facecolor = 'C0', alpha = .5))\n",
    "ax2.add_patch(patches.Rectangle((0,1.2), 0.15, 1, facecolor = 'C1', alpha = .5))\n",
    "\n",
    "ax2.add_patch(patches.Rectangle((0,2.4), 0.05, 1, facecolor = 'c', alpha = .5))\n",
    "ax2.add_patch(patches.Rectangle((0,0), 0.05, 1, facecolor = '#feb24c', alpha = .5))\n",
    "\n",
    "\n",
    "ax2.set_ylim(0,4.7)\n",
    "\n",
    "Col1 = data[columns[0]]\n",
    "Col2 = data[columns[1]]\n",
    "Col3 = data[columns[2]]\n",
    "Col4 = data[columns[3]]\n",
    "# Col3 = data[columns[2]]\n",
    "\n",
    "cols = [Col1, Col2, Col3, Col4]\n",
    "\n",
    "m_psth = []\n",
    "sem_psth = []\n",
    "\n",
    "for z_map in cols:\n",
    "    m_psth.append(z_map.mean(axis = 0))\n",
    "    sem_psth.append(scipy.stats.sem(z_map, axis = 0))\n",
    "\n",
    "colors = ['C0','c', 'C1','#feb24c']\n",
    "\n",
    "xvals = np.arange(-1,3,bin_size)\n",
    "for col in range(4):\n",
    "    ax1.plot(xvals[:-1],m_psth[col], colors[col])\n",
    "    ax1.fill_between(xvals[0:-1], m_psth[col]-sem_psth[col], m_psth[col]+sem_psth[col],\n",
    "                     alpha=0.5,color = colors[col])\n",
    "  \n",
    "  \n",
    "# ax1.text(.8, .8, \"Hit\" , size=18, transform=ax1.transAxes, color = colors[0])\n",
    "ax1.text(.6, .96, \"Touch lick\" , size=18, transform=ax1.transAxes, color = colors[0])\n",
    "ax1.text(.6, .9, \"Short touch lick\" , size=18, transform=ax1.transAxes, color = colors[1])\n",
    "ax1.text(.6, .84, \"Visual lick\" , size=18, transform=ax1.transAxes, color = colors[2])\n",
    "ax1.text(.6, .78, \"Short visual lick\" , size=18, transform=ax1.transAxes, color = colors[3])\n",
    "ax1.set_xlabel('Time from stim onset (s)')\n",
    "ax1.set_ylabel('Mean Z-score')\n",
    "ax1.spines['right'].set_visible(False)\n",
    "ax1.spines['top'].set_visible(False)\n",
    "ax1.set_xlim(-.5,.75)\n",
    "\n",
    "fig5c_1"
   ]
  },
  {
   "cell_type": "markdown",
   "metadata": {},
   "source": [
    "### load auc data"
   ]
  },
  {
   "cell_type": "code",
   "execution_count": null,
   "metadata": {},
   "outputs": [],
   "source": []
  },
  {
   "cell_type": "code",
   "execution_count": null,
   "metadata": {},
   "outputs": [],
   "source": [
    "tactile_lick_noLick_aucs = pd.read_hdf(r'C:\\Users\\efink\\Documents\\DATA\\Crossmodal_only\\Touch_lick_no_lick_auc_2019-02-27.h5', 'table')\n",
    "visual_lick_noLick_aucs = pd.read_hdf(r'C:\\Users\\efink\\Documents\\DATA\\Crossmodal_only\\Visual_lick_no_lick_auc_2019-02-27.h5', 'table')"
   ]
  },
  {
   "cell_type": "code",
   "execution_count": null,
   "metadata": {},
   "outputs": [],
   "source": [
    "visual_lick_noLick_aucs['mouse_name'].drop_duplicates().values"
   ]
  },
  {
   "cell_type": "markdown",
   "metadata": {},
   "source": [
    "### filter auc data for tactile lick-right/ visual lick-left  data "
   ]
  },
  {
   "cell_type": "code",
   "execution_count": null,
   "metadata": {},
   "outputs": [],
   "source": [
    "tactile_lick_noLick_aucs = tactile_lick_noLick_aucs.merge(unit_key_df['uni_id'].to_frame(), on = 'uni_id', how = 'right')\n",
    "visual_lick_noLick_aucs = visual_lick_noLick_aucs.merge(unit_key_df['uni_id'].to_frame(), on = 'uni_id', how = 'right')\n",
    "visual_lick_noLick_aucs.shape"
   ]
  },
  {
   "cell_type": "markdown",
   "metadata": {},
   "source": [
    "# Identify units with a significant detect probability (DP) and define onset times"
   ]
  },
  {
   "cell_type": "code",
   "execution_count": null,
   "metadata": {
    "ExecuteTime": {
     "end_time": "2018-02-22T15:24:48.080561Z",
     "start_time": "2018-02-22T15:24:47.974476"
    }
   },
   "outputs": [],
   "source": [
    "auc_col_names = tactile_lick_noLick_aucs.columns[tactile_lick_noLick_aucs.columns.str.contains('auc')]\n",
    "low_conf_col_names = tactile_lick_noLick_aucs.columns[tactile_lick_noLick_aucs.columns.str.contains('low')]\n",
    "up_conf_col_names =tactile_lick_noLick_aucs.columns[tactile_lick_noLick_aucs.columns.str.contains('up')]"
   ]
  },
  {
   "cell_type": "code",
   "execution_count": null,
   "metadata": {
    "ExecuteTime": {
     "end_time": "2018-02-22T15:24:48.812152Z",
     "start_time": "2018-02-22T15:24:48.081561"
    },
    "scrolled": true
   },
   "outputs": [],
   "source": [
    "# find bins where auc is significant \n",
    "raw_tac_sig_AUC = pd.DataFrame(~((tactile_lick_noLick_aucs.loc[:,low_conf_col_names].fillna(0.5) >= 0.5).values & \n",
    "                    (tactile_lick_noLick_aucs.loc[:,up_conf_col_names].fillna(0.5) <= 0.5).values)*1, index = tactile_lick_noLick_aucs['uni_id'])\n",
    "\n",
    "raw_vis_sig_AUC = pd.DataFrame(~((visual_lick_noLick_aucs.loc[:,low_conf_col_names].fillna(0.5) >= 0.5).values & \n",
    "                    (visual_lick_noLick_aucs.loc[:,up_conf_col_names].fillna(0.5) <= 0.5).values)*1, index = visual_lick_noLick_aucs['uni_id'])\n",
    "\n",
    "# identify direction of significant bins\n",
    "auc_dir_t = (tactile_lick_noLick_aucs.loc[:,auc_col_names] >= 0.5)*1 + (tactile_lick_noLick_aucs.loc[:,auc_col_names] < 0.5)*-1\n",
    "auc_dir_v = (visual_lick_noLick_aucs.loc[:,auc_col_names] >= 0.5)*1 + (visual_lick_noLick_aucs.loc[:,auc_col_names] < 0.5)*-1\n",
    "auc_dir_v = (visual_lick_noLick_aucs.loc[:,auc_col_names] >= 0.5)*1 + (visual_lick_noLick_aucs.loc[:,auc_col_names] < 0.5)*-1\n",
    "auc_dir_t.index = tactile_lick_noLick_aucs['uni_id']; auc_dir_t.columns = raw_tac_sig_AUC.columns\n",
    "auc_dir_v.index = visual_lick_noLick_aucs['uni_id']; auc_dir_v.columns = raw_vis_sig_AUC.columns\n",
    "\n",
    "raw_tac_sig_AUC = raw_tac_sig_AUC*auc_dir_t\n",
    "raw_vis_sig_AUC = raw_vis_sig_AUC*auc_dir_v"
   ]
  },
  {
   "cell_type": "code",
   "execution_count": null,
   "metadata": {
    "ExecuteTime": {
     "end_time": "2018-02-22T15:25:26.222772Z",
     "start_time": "2018-02-22T15:24:48.813152"
    }
   },
   "outputs": [],
   "source": [
    "# take running sum of bins to identify bins with consecutive significant bins\n",
    "smooth_tac_sig_AUC = raw_tac_sig_AUC.apply(lambda y: np.convolve(y, [1,1], 'same'), axis = 1)\n",
    "smooth_vis_sig_AUC = raw_vis_sig_AUC.apply(lambda y: np.convolve(y, [1,1], 'same'), axis = 1)\n",
    "smooth_tac_sig_AUC = pd.DataFrame(smooth_tac_sig_AUC.to_dict()).T\n",
    "smooth_vis_sig_AUC= pd.DataFrame(smooth_vis_sig_AUC.to_dict()).T\n",
    "\n",
    "### to get the first bin of 2 that are significantly different from 0 need to subtract 1 from all_sig_tac/vis since convolve \n",
    "### was used with 'same' setting (otherwise would need to subtract 2 if setting was 'full')\n",
    "all_sig_tac = (smooth_tac_sig_AUC.isin([2,-2])*1).apply(lambda y: np.where(y), axis = 1)\n",
    "all_sig_tac = all_sig_tac.apply(lambda y: (y[0]-1)*bin_size-1 if len(y[0])>0 else [])\n",
    "\n",
    "all_sig_vis = (smooth_vis_sig_AUC.isin([2,-2])*1).apply(lambda y: np.where(y), axis = 1)\n",
    "all_sig_vis = all_sig_vis.apply(lambda y: (y[0]-1)*bin_size-1 if len(y[0])>0 else [])\n",
    "\n",
    "### find first significant bin for each unit for each modality\n",
    "all_first_sig_tac = all_sig_tac.apply(lambda y:  y[(y>=0) & (y<1)] if len(y)!=0 else []) \n",
    "all_first_sig_tac = all_first_sig_tac.apply(lambda y:  np.nan if len(y)==0 else np.min(y))\n",
    "\n",
    "all_first_sig_vis = all_sig_vis.apply(lambda y:  y[(y>=0) & (y<1)] if len(y)!=0 else [])\n",
    "all_first_sig_vis = all_first_sig_vis.apply(lambda y:  np.nan if len(y)==0 else np.min(y))\n",
    "dp_onsets = pd.merge(all_first_sig_vis.to_frame(name = 'vis_dp_onset').reset_index(), all_first_sig_tac.to_frame(name = 'tac_dp_onset').reset_index(), how = 'outer')\n",
    "dp_onsets = dp_onsets.rename(columns = {'index': 'uni_id'})"
   ]
  },
  {
   "cell_type": "markdown",
   "metadata": {},
   "source": [
    "# Find good example units that show range of responses"
   ]
  },
  {
   "cell_type": "markdown",
   "metadata": {},
   "source": [
    "## sort units either by tac/vis auc ratio or mean auc"
   ]
  },
  {
   "cell_type": "code",
   "execution_count": null,
   "metadata": {},
   "outputs": [],
   "source": [
    "visual_lick_noLick_aucs.shape"
   ]
  },
  {
   "cell_type": "code",
   "execution_count": null,
   "metadata": {},
   "outputs": [],
   "source": [
    "m_tac_cp = tactile_lick_noLick_aucs.loc[:, auc_col_names[39:50]].mean(axis = 1)\n",
    "m_vis_cp = visual_lick_noLick_aucs.loc[:, auc_col_names[39:50]].mean(axis = 1)\n",
    "\n",
    "ratio = m_vis_cp.values/m_tac_cp.values\n",
    "ratio_ind = np.argsort(ratio)\n",
    "\n",
    "high_mean = m_vis_cp.values*m_tac_cp.values\n",
    "high_mean_ind = np.argsort(high_mean)[::-1]\n",
    "                     \n",
    "sorted_ratio_uni_ids = tactile_lick_noLick_aucs.iloc[ratio_ind]['uni_id']\n",
    "sorted_mean_uni_ids = tactile_lick_noLick_aucs.iloc[high_mean_ind]['uni_id']\n",
    "\n",
    "### generators that make flipping through units easy\n",
    "ratio_unit_gen = (unit for unit in sorted_ratio_uni_ids)\n",
    "high_mean_unit_gen = (unit for unit in sorted_mean_uni_ids)"
   ]
  },
  {
   "cell_type": "code",
   "execution_count": null,
   "metadata": {},
   "outputs": [],
   "source": [
    "### convert onsets to bin indeces\n",
    "dp_onsets[['tac_dp_onset_inds', 'vis_dp_onset_inds']] = ((dp_onsets[['tac_dp_onset', 'vis_dp_onset']].fillna(-0)+1)/0.025).astype(int)"
   ]
  },
  {
   "cell_type": "code",
   "execution_count": null,
   "metadata": {},
   "outputs": [],
   "source": [
    "am.plot_auc(next(high_mean_unit_gen), tactile_lick_noLick_aucs, visual_lick_noLick_aucs, window = [-.25,1])"
   ]
  },
  {
   "cell_type": "code",
   "execution_count": null,
   "metadata": {},
   "outputs": [],
   "source": [
    "am.plot_auc('07603-04-162t1', tactile_lick_noLick_aucs, visual_lick_noLick_aucs, window = [-.25,1])"
   ]
  },
  {
   "cell_type": "code",
   "execution_count": null,
   "metadata": {},
   "outputs": [],
   "source": [
    "am.plot_auc('07401-09-164t3', tactile_lick_noLick_aucs, visual_lick_noLick_aucs, window = [-0.25,1])"
   ]
  },
  {
   "cell_type": "code",
   "execution_count": null,
   "metadata": {},
   "outputs": [],
   "source": [
    "am.plot_auc('07903-22-164t2', tactile_lick_noLick_aucs, visual_lick_noLick_aucs, window = [-0.25,1])"
   ]
  },
  {
   "cell_type": "code",
   "execution_count": null,
   "metadata": {},
   "outputs": [],
   "source": [
    "dp_onsets"
   ]
  },
  {
   "cell_type": "code",
   "execution_count": null,
   "metadata": {},
   "outputs": [],
   "source": [
    "dp_onsets"
   ]
  },
  {
   "cell_type": "code",
   "execution_count": null,
   "metadata": {},
   "outputs": [],
   "source": [
    "## calculate mean length of dp\n",
    "sig_tac_units = dp_onsets.dropna(subset = ['tac_dp_onset'])[['uni_id', 'tac_dp_onset_inds']].set_index('uni_id')\n",
    "sig_tac_units['non_sig_bins'] = (raw_tac_sig_AUC.loc[sig_tac_units.index] == 0).apply(lambda x: np.where(x)[0], axis =1)\n",
    "sig_tac_units['tac_dp_offset_inds'] = sig_tac_units.apply(lambda x:  x['non_sig_bins'][x['non_sig_bins']>x['tac_dp_onset_inds']][0], axis =1)\n",
    "\n",
    "tac_mean = (sig_tac_units['tac_dp_offset_inds']-sig_tac_units['tac_dp_onset_inds']).mean()\n",
    "tac_sem = (sig_tac_units['tac_dp_offset_inds']-sig_tac_units['tac_dp_onset_inds']).std()/np.sqrt(sig_tac_units.shape[0])\n",
    "\n",
    "sig_vis_units = dp_onsets.dropna(subset = ['vis_dp_onset'])[['uni_id', 'vis_dp_onset_inds']].set_index('uni_id')\n",
    "sig_vis_units['non_sig_bins'] = (raw_vis_sig_AUC.loc[sig_vis_units.index] == 0).apply(lambda x: np.where(x)[0], axis =1)\n",
    "sig_vis_units['vis_dp_offset_inds'] = sig_vis_units.apply(lambda x:  x['non_sig_bins'][x['non_sig_bins']>x['vis_dp_onset_inds']][0], axis =1)\n",
    "\n",
    "vis_mean = (sig_vis_units['vis_dp_offset_inds']-sig_vis_units['vis_dp_onset_inds']).mean()\n",
    "vis_sem = (sig_vis_units['vis_dp_offset_inds']-sig_vis_units['vis_dp_onset_inds']).std()/np.sqrt(sig_vis_units.shape[0])\n",
    "\n",
    "print(f\"Vis dp duration: mean = {vis_mean}, sem = {vis_sem}\")"
   ]
  },
  {
   "cell_type": "code",
   "execution_count": null,
   "metadata": {},
   "outputs": [],
   "source": []
  },
  {
   "cell_type": "code",
   "execution_count": null,
   "metadata": {},
   "outputs": [],
   "source": [
    "example_units = ['07603-04-162t1', '07401-09-164t3', '07903-22-164t2']"
   ]
  },
  {
   "cell_type": "markdown",
   "metadata": {},
   "source": [
    "# Plot scatter plot of touch DP and vis DP and plot modality preference index\n",
    "* use any unit that has at a significant DP in at least one modality trial.\n",
    "* average over the three seconds after stimulus onset"
   ]
  },
  {
   "cell_type": "code",
   "execution_count": null,
   "metadata": {},
   "outputs": [],
   "source": [
    "def plot_choice_prob_scatter(uni_ids, tac_auc_df, vis_auc_df, window, color, ax):\n",
    "    tac = tac_auc_df.merge(uni_ids.to_frame(), on = 'uni_id')\n",
    "    vis = vis_auc_df.merge(uni_ids.to_frame(), on = 'uni_id')\n",
    "    tac['tac_cp'] = tac.iloc[:, window[0]:window[1]].mean(axis = 1)\n",
    "    vis['vis_cp'] = vis.iloc[:, window[0]:window[1]].mean(axis = 1)\n",
    "    ax.scatter(tac['tac_cp'], vis['vis_cp'], color = color, alpha = 0.3,clip_on=False, s = 10)\n",
    "    ax.plot([0,1], [0,1], '--k')\n",
    "    ax.plot([0,1], [0.5,0.5], 'k', alpha = 0.4)\n",
    "    ax.plot([0.5,.5], [0,1],'k', alpha = 0.4)\n",
    "    ax.spines['top'].set_visible(False); ax.spines['right'].set_visible(False) \n",
    "    ax.set_ylim(0.3,0.9), ax.set_xlim(0.3,0.9)\n",
    "    ax.set_xlabel('Mean touch dp')\n",
    "    ax.set_ylabel('Mean visual dp')\n",
    "    return tac[['uni_id', 'tac_cp']], vis[['uni_id', 'vis_cp']]"
   ]
  },
  {
   "cell_type": "code",
   "execution_count": null,
   "metadata": {},
   "outputs": [],
   "source": [
    "def calc_pref(mean_tac_dp, mean_vis_dp):\n",
    "    pref = (abs(mean_tac_dp-0.5) - abs(mean_vis_dp-0.5))/(abs(mean_tac_dp-0.5) + abs(mean_vis_dp-0.5))\n",
    "    return pref"
   ]
  },
  {
   "cell_type": "code",
   "execution_count": null,
   "metadata": {},
   "outputs": [],
   "source": [
    "dp_onsets['tac_dp_onset'].dropna()"
   ]
  },
  {
   "cell_type": "code",
   "execution_count": null,
   "metadata": {},
   "outputs": [],
   "source": [
    "dp_onsets[~dp_onsets[['vis_dp_onset', 'tac_dp_onset']].isnull().all(axis=1)]"
   ]
  },
  {
   "cell_type": "code",
   "execution_count": null,
   "metadata": {},
   "outputs": [],
   "source": [
    "all_sig_units = dp_onsets.loc[~dp_onsets[['vis_dp_onset', 'tac_dp_onset']].isnull().all(axis = 1), 'uni_id'].to_frame()\n",
    "all_sig_units.shape"
   ]
  },
  {
   "cell_type": "code",
   "execution_count": null,
   "metadata": {},
   "outputs": [],
   "source": [
    "all_sig_units.shape"
   ]
  },
  {
   "cell_type": "code",
   "execution_count": null,
   "metadata": {},
   "outputs": [],
   "source": [
    "fig, axes = plt.subplots(1,2, figsize = (10,3.5), gridspec_kw = {'width_ratios':[1, 2]})\n",
    "\n",
    "mean_tac_cp, mean_vis_cp = plot_choice_prob_scatter(all_sig_units['uni_id'], tactile_lick_noLick_aucs, visual_lick_noLick_aucs, [45,159], 'k', axes[0])\n",
    "for unit in example_units:\n",
    "    x = mean_tac_cp.loc[mean_tac_cp['uni_id'] == unit, 'tac_cp'].values[0]\n",
    "    y = mean_vis_cp.loc[mean_tac_cp['uni_id'] == unit, 'vis_cp'].values[0]\n",
    "#     axes[0].annotate('local max', xy=(x, y), xytext=(3, 1.5),arrowprops=dict(facecolor='black', shrink=0.05))\n",
    "    axes[0].scatter(x, y)\n",
    "    print(x, y)\n",
    "prefs = calc_pref(mean_tac_cp['tac_cp'], mean_vis_cp['vis_cp']).T\n",
    "all_sig_units['prefs'] = prefs\n",
    "                 \n",
    "import ptitprince as pt\n",
    "ax1 = axes[-1]\n",
    "plt.sca(ax1)\n",
    "pt.RainCloud(x = prefs, ax = ax1, width_viol=0.5, width_box=0.075, move = 0.2, palette = ['C7'], orient = 'h')\n",
    "ax1.spines['top'].set_visible(False); ax1.spines['right'].set_visible(False)\n",
    "ax1.set_ylabel('modality preference \\n(touch cp - visual cp) / \\n(touch cp + visual cp)')\n",
    "fig.tight_layout()\n",
    "# fig.savefig('Lick-units_scatter.pdf', format='pdf', dpi=900, transparent = True)"
   ]
  },
  {
   "cell_type": "markdown",
   "metadata": {},
   "source": [
    "### Visual DP more often than not begins later than touch DP. Taking average of all 3 seconds after stim onset tries to control for that when comparing between trial types. However, this dilutes the average DP for both trials significantly and takes into account time bins that are not relevant for DP (ie >1.5 seconds - this is well beyond most of the reaction times of the mice). One solution is to align trials to the detected onsets for each unit in each trial type and then average for the first 500ms"
   ]
  },
  {
   "cell_type": "code",
   "execution_count": null,
   "metadata": {},
   "outputs": [],
   "source": [
    "def align_auc(auc_df, onsets):\n",
    "    auc_cols = ['uni_id'] + list(auc_df.columns[auc_df.columns.str.contains('auc')])\n",
    "    auc_df = auc_df.loc[:, auc_cols]\n",
    "    auc_df = auc_df.merge(onsets, on = 'uni_id')\n",
    "    onset_column = onsets.columns[-1]\n",
    "    aligned_auc = np.vstack(auc_df.apply(lambda x: [x[['uni_id']+x[onset_column]].values], axis = 1).values)\n",
    "    aligned_auc_df = pd.DataFrame(aligned_auc[:,1:], index= aligned_auc[:,0])\n",
    "    aligned_auc_df = aligned_auc_df.reset_index().rename(columns = {'index': 'uni_id'})\n",
    "    return aligned_auc_df"
   ]
  },
  {
   "cell_type": "code",
   "execution_count": null,
   "metadata": {},
   "outputs": [],
   "source": [
    "dp_onsets['tac_dp_auc_window']= dp_onsets['tac_dp_onset_inds'].apply(lambda x: ['auc_score'+str(i) for i in range(x, x+40)])\n",
    "dp_onsets['vis_dp_auc_window']= dp_onsets['vis_dp_onset_inds'].apply(lambda x: ['auc_score'+str(i) for i in range(x, x+40)])"
   ]
  },
  {
   "cell_type": "code",
   "execution_count": null,
   "metadata": {},
   "outputs": [],
   "source": [
    "aligned_tac_dp = align_auc(tactile_lick_noLick_aucs, dp_onsets[['uni_id','tac_dp_auc_window']])\n",
    "aligned_vis_dp = align_auc(visual_lick_noLick_aucs, dp_onsets[['uni_id','vis_dp_auc_window']])\n",
    "\n",
    "aligned_tac_dp = aligned_tac_dp.merge(dp_onsets[['uni_id', 'tac_dp_onset']])\n",
    "aligned_vis_dp = aligned_vis_dp.merge(dp_onsets[['uni_id', 'vis_dp_onset']])\n",
    "\n",
    "aligned_tac_dp.head()"
   ]
  },
  {
   "cell_type": "code",
   "execution_count": null,
   "metadata": {},
   "outputs": [],
   "source": [
    "prefs.shape"
   ]
  },
  {
   "cell_type": "code",
   "execution_count": null,
   "metadata": {},
   "outputs": [],
   "source": [
    "mean_tac_cp.shape"
   ]
  },
  {
   "cell_type": "code",
   "execution_count": null,
   "metadata": {},
   "outputs": [],
   "source": [
    "fig, axes = plt.subplots(1,2, figsize = (11,3.7), gridspec_kw = {'width_ratios':[1, 2.5]})\n",
    "\n",
    "mean_tac_cp, mean_vis_cp = plot_choice_prob_scatter(all_sig_units['uni_id'], aligned_tac_dp, aligned_vis_dp, [1,20], 'C7', axes[0])\n",
    "for unit in example_units:\n",
    "    x = mean_tac_cp.loc[mean_tac_cp['uni_id'] == unit, 'tac_cp'].values[0]\n",
    "    y = mean_vis_cp.loc[mean_tac_cp['uni_id'] == unit, 'vis_cp'].values[0]\n",
    "#     axes[0].annotate('local max', xy=(x, y), xytext=(3, 1.5),arrowprops=dict(facecolor='black', shrink=0.05))\n",
    "    axes[0].scatter(x, y)\n",
    "    print(x, y)\n",
    "prefs = calc_pref(mean_tac_cp['tac_cp'], mean_vis_cp['vis_cp']).T\n",
    "all_sig_units['prefs'] = prefs.values\n",
    "example_prefs = all_sig_units[all_sig_units['uni_id'].isin(example_units)]\n",
    "\n",
    "import ptitprince as pt\n",
    "ax1 = axes[-1]\n",
    "plt.sca(ax1)\n",
    "pt.RainCloud(x = prefs, ax = ax1, width_viol=0.5, width_box=0.05, move = 0.25, palette = ['C7'], orient = 'h', jitter = .15)\n",
    "ax1.scatter(example_prefs['prefs'], [-.1]*3, c = ['C1', 'C0', 'C2'])\n",
    "ax1.axvline(x = 0, linestyle = '--', color = 'k')\n",
    "ax1.spines['top'].set_visible(False); ax1.spines['right'].set_visible(False)\n",
    "ax1.set_ylabel('modality preference index')\n",
    "fig.tight_layout()\n",
    "\n",
    "\n",
    "print(f\"t-test, p = {scipy.stats.ttest_1samp(prefs, 0)[1]:.4f}\")\n",
    "fig.savefig('Lick-units_scatter.pdf', format='pdf', dpi=900, transparent = True)"
   ]
  },
  {
   "cell_type": "code",
   "execution_count": null,
   "metadata": {},
   "outputs": [],
   "source": [
    "def cum_dist(arr, bins):\n",
    "    hist = np.histogram(arr, bins = bins)\n",
    "    cumsum = np.cumsum(hist[0])\n",
    "    return [cumsum, hist[1]]"
   ]
  },
  {
   "cell_type": "code",
   "execution_count": null,
   "metadata": {},
   "outputs": [],
   "source": [
    "def prettify_ax(ax, x_label, y_label, y_lim = None, x_lim = None):\n",
    "    ax.spines['top'].set_visible(False)\n",
    "    ax.spines['right'].set_visible(False)\n",
    "    ax.set_xlabel(x_label)\n",
    "    ax.set_ylabel(y_label)\n",
    "    \n",
    "    if y_lim:\n",
    "        ax.set_ylim(y_lim)\n",
    "        \n",
    "    if x_lim:\n",
    "        ax.set_xlim(x_lim)\n",
    "        \n",
    "    return ax"
   ]
  },
  {
   "cell_type": "code",
   "execution_count": null,
   "metadata": {},
   "outputs": [],
   "source": []
  },
  {
   "cell_type": "code",
   "execution_count": null,
   "metadata": {},
   "outputs": [],
   "source": [
    "figure, ax = plt.subplots(1,1,figsize = (9.5, 9))\n",
    "\n",
    "cumsum = cum_dist(dp_onsets['tac_dp_onset'].dropna(), bins = np.arange(0,1, 0.025))\n",
    "ax.plot(cumsum[1][:-1], cumsum[0]/dp_onsets['tac_dp_onset'].dropna().shape, color = 'm')\n",
    "\n",
    "cumsum = cum_dist(dp_onsets['vis_dp_onset'].dropna(), bins = np.arange(0,1, 0.025))\n",
    "ax.plot(cumsum[1][:-1], cumsum[0]/dp_onsets['vis_dp_onset'].dropna().shape, color = 'C1')\n",
    "\n",
    "prettify_ax(ax, 'DP onset (s)', 'Cummulative fraction')\n",
    "\n",
    "ticks = np.arange(0,1.05,0.05)\n",
    "ax.set_xticks(ticks)\n",
    "ticks = np.round(ticks.copy(),2).astype(str)\n",
    "ticks[1::2] = ''\n",
    "ax.set_xticklabels(ticks)\n",
    "\n",
    "ticks = np.arange(0,1.05,0.05)\n",
    "ax.set_yticks(ticks)\n",
    "ticks = np.round(ticks.copy(),2).astype(str)\n",
    "ticks[1::2] = ''\n",
    "ax.set_yticklabels(ticks)\n",
    "\n",
    "# figure.savefig('DP_onset_cum_dist.pdf', format = 'pdf', dpi = 900)"
   ]
  },
  {
   "cell_type": "markdown",
   "metadata": {},
   "source": [
    "## ks test testing whether DP onset distributions are significantly different"
   ]
  },
  {
   "cell_type": "code",
   "execution_count": null,
   "metadata": {},
   "outputs": [],
   "source": [
    "dp_onsets['tac_dp_onset'].dropna().shape"
   ]
  },
  {
   "cell_type": "code",
   "execution_count": null,
   "metadata": {},
   "outputs": [],
   "source": [
    "dp_onsets['vis_dp_onset'].dropna().shape"
   ]
  },
  {
   "cell_type": "code",
   "execution_count": null,
   "metadata": {},
   "outputs": [],
   "source": [
    "scipy.stats.ks_2samp(dp_onsets['tac_dp_onset'].dropna(), dp_onsets['vis_dp_onset'].dropna())"
   ]
  },
  {
   "cell_type": "markdown",
   "metadata": {},
   "source": [
    "## Compare DP onset of neural data with DP onset for whisker tracking data from Rajan and Yi-ting's revision experiment"
   ]
  },
  {
   "cell_type": "code",
   "execution_count": null,
   "metadata": {},
   "outputs": [],
   "source": [
    "surrogate_whisker_touch_dp = pd.read_csv('Surrogate_whisker_Tactile_DP_onsets.csv')\n",
    "surrogate_whisker_visual_dp = pd.read_csv('Surrogate_whisker_Visual_DP_onsets.csv')\n",
    "\n",
    "target_whisker_touch_dp = pd.read_csv('Target_whisker_Tactile_DP_onsets.csv')\n",
    "target_whisker_visual_dp = pd.read_csv('Target_whisker_Visual_DP_onsets.csv')"
   ]
  },
  {
   "cell_type": "code",
   "execution_count": null,
   "metadata": {},
   "outputs": [],
   "source": [
    "for df in [surrogate_whisker_touch_dp,surrogate_whisker_visual_dp, target_whisker_touch_dp, target_whisker_visual_dp]:\n",
    "    df.loc[0, 'X'] = 0.0\n",
    "    df.iloc[-1].loc['X'] = 1.0\n",
    "\n",
    "    df.loc[0, 'X'] = 0.0\n",
    "    df.iloc[-1].loc['X'] = 1.0"
   ]
  },
  {
   "cell_type": "code",
   "execution_count": null,
   "metadata": {},
   "outputs": [],
   "source": [
    "tactile_dp_units = dp_onsets[['uni_id', 'tac_dp_onset']].dropna()\n",
    "visual_dp_units  = dp_onsets[['uni_id', 'vis_dp_onset']].dropna()"
   ]
  },
  {
   "cell_type": "code",
   "execution_count": null,
   "metadata": {},
   "outputs": [],
   "source": [
    "tactile_dp_units = tactile_dp_units.merge(unit_key_df[['uni_id','mouse_name', 'date', 'RT_median_TLR']], how = 'left')\n",
    "visual_dp_units  = visual_dp_units.merge(unit_key_df[['uni_id','mouse_name', 'date', 'RT_median_VLL']], how = 'left')"
   ]
  },
  {
   "cell_type": "code",
   "execution_count": null,
   "metadata": {},
   "outputs": [],
   "source": [
    "figure, (ax1, ax2) = plt.subplots(1,2,figsize = (17.5, 6.5))\n",
    "\n",
    "\n",
    "for n, alpha, text_offset  in zip(range(1,5), [1,.8,.6,.4, .2], [0,.04,.08,.12,.16]):\n",
    "    tactile_top_n_dp_units = (tactile_dp_units.set_index('uni_id')\n",
    "                                     .groupby(['mouse_name','date'])\n",
    "                                     .apply(lambda x: x.sort_values('tac_dp_onset').iloc[:n]['tac_dp_onset'])\n",
    "                                     .reset_index())\n",
    "    visual_top_n_dp_units = (visual_dp_units.set_index('uni_id')\n",
    "                                    .groupby(['mouse_name','date'])\n",
    "                                    .apply(lambda x:  x.sort_values('vis_dp_onset').iloc[:n]['vis_dp_onset'])\n",
    "                                    .reset_index())\n",
    "\n",
    "\n",
    "    tactile_top_n_dp_units.columns = ['mouse_name', 'date', 'uni_id', 'tac_dp_onset']\n",
    "    visual_top_n_dp_units.columns = ['mouse_name', 'date', 'uni_id', 'vis_dp_onset']\n",
    "\n",
    "    cumsum = cum_dist(tactile_top_n_dp_units['tac_dp_onset'], bins = np.arange(0,1, 0.025))\n",
    "    ax1.plot(cumsum[1][:-1], cumsum[0]/tactile_top_n_dp_units['tac_dp_onset'].shape[0], color = 'm', alpha = alpha)\n",
    "    \n",
    "    ax1.text(.4, .45 - text_offset, \n",
    "             f'shortest {n} dp onsets per session (total n = {tactile_top_n_dp_units.shape[0]})'\n",
    "             , color = 'm', alpha = alpha)\n",
    "\n",
    "    cumsum = cum_dist(visual_top_n_dp_units['vis_dp_onset'], bins = np.arange(0,1, 0.025))\n",
    "    ax2.plot(cumsum[1][:-1], cumsum[0]/visual_top_n_dp_units['vis_dp_onset'].shape[0], color = 'C1', alpha = alpha)\n",
    "\n",
    "    ax2.text(.4, .45 - text_offset, \n",
    "         f'shortest {n} dp onsets per session (total n = {visual_top_n_dp_units.shape[0]})'\n",
    "         , color = 'C1', alpha = alpha)\n",
    "\n",
    "ax1.plot(surrogate_whisker_touch_dp['X'], surrogate_whisker_touch_dp['Y'],'k')\n",
    "ax1.plot(target_whisker_touch_dp['X'], target_whisker_touch_dp['Y'], color = [0.35,0.35,0.35])\n",
    "ax2.plot(surrogate_whisker_visual_dp['X'], surrogate_whisker_visual_dp['Y'], 'k')\n",
    "ax2.plot(target_whisker_visual_dp['X'], target_whisker_visual_dp['Y'], color = [0.35,0.35,0.35])\n",
    "\n",
    "ax1.set_title('Touch lick trials')\n",
    "ax2.set_title('Visual lick trials')\n",
    "\n",
    "ax1.text(0.37, 0.5, 'Neural activity DP onset', color = 'm')\n",
    "ax1.text(0.37, 0.25, 'Surrogate Whisker angle DP onset', color = 'k')\n",
    "ax1.text(0.37, 0.2, 'Target Whisker angle DP onset', color = [0.35,0.35,0.35])\n",
    "\n",
    "ax2.text(0.37, 0.5, 'Neural activity DP onset', color = 'C1')\n",
    "ax2.text(0.37, 0.25, 'Surrogate Whisker angle DP onset', color = 'k')\n",
    "ax2.text(0.37, 0.2, 'Target Whisker angle DP onset', color = [0.35,0.35,0.35])\n",
    "\n",
    "\n",
    "\n",
    "for ax in [ax1,ax2]:\n",
    "    prettify_ax(ax, 'DP onset (s)', 'Cummulative fraction')\n",
    "    ticks = np.arange(0,1.05,0.05)\n",
    "    ax.set_xticks(ticks)\n",
    "    ax.set_xlim(0,1)\n",
    "    ax.set_ylim(0,1)\n",
    "    ticks = np.round(ticks.copy(),2).astype(str)\n",
    "    ticks[1::2] = ''\n",
    "    ax.set_xticklabels(ticks)\n",
    "\n",
    "    ticks = np.arange(0,1.05,0.05)\n",
    "    ax.set_yticks(ticks)\n",
    "    ticks = np.round(ticks.copy(),2).astype(str)\n",
    "    ticks[1::2] = ''\n",
    "    ax.set_yticklabels(ticks)\n",
    "    \n",
    "figure.savefig('DP_neural_vs_whisker.pdf', format='pdf', dpi=900, transparent = True)"
   ]
  },
  {
   "cell_type": "code",
   "execution_count": null,
   "metadata": {},
   "outputs": [],
   "source": [
    "tactile_top_1_dp_units = (tactile_dp_units.set_index('uni_id')\n",
    "                                 .groupby(['mouse_name','date'])\n",
    "                                 .apply(lambda x: x.sort_values('tac_dp_onset').iloc[:1]['tac_dp_onset'])\n",
    "                                 .reset_index())\n",
    "visual_top_1_dp_units = (visual_dp_units.set_index('uni_id')\n",
    "                                .groupby(['mouse_name','date'])\n",
    "                                .apply(lambda x:  x.sort_values('vis_dp_onset').iloc[:1]['vis_dp_onset'])\n",
    "                                .reset_index())\n",
    "\n",
    "q3_tac, q1_tac = np.percentile(tactile_top_1_dp_units['tac_dp_onset'], [75 ,25])\n",
    "iqr_tac = q3_tac - q1_tac\n",
    "\n",
    "q3_vis, q1_vis = np.percentile(visual_top_1_dp_units['vis_dp_onset'], [75 ,25])\n",
    "iqr_vis = q3_vis - q1_vis\n",
    "\n",
    "print(f\"median for shortest 1 dp distribution (tactile): {tactile_top_1_dp_units['tac_dp_onset'].median():.3} sec\")\n",
    "print(f\"25th percentile (tactile): {q1_tac:.5} sec\")\n",
    "print(f\"75th percentile (tactile): {q3_tac:.5} sec\")\n",
    "print(f\"IQR shortest 1 dp distribution (tactile): {iqr_tac:.4} sec\\n\\n\")\n",
    "\n",
    "\n",
    "print(f\"median for shortest 1 dp distribution (visual): {visual_top_1_dp_units['vis_dp_onset'].median():.3} sec\")\n",
    "print(f\"25th percentile (visual): {q1_vis:.5} sec\")\n",
    "print(f\"75th percentile (visual): {q3_vis:.5} sec\")\n",
    "print(f\"IQR shortest 1 dp distribution (visual): {iqr_vis:.4} sec\")\n",
    "\n"
   ]
  },
  {
   "cell_type": "code",
   "execution_count": null,
   "metadata": {},
   "outputs": [],
   "source": [
    "surrogate_whisker_dp_indv = pd.read_csv('Surrogate_whisker_DP_onsets.csv')\n",
    "median_surr_whisker_dp = surrogate_whisker_dp_indv['Tactile'].dropna().median()\n",
    "q3_whisker, q1_whisker = np.percentile(surrogate_whisker_dp_indv['Tactile'].dropna(), [75 ,25])\n",
    "iqr_whisker = q3_whisker - q1_whisker\n",
    "\n",
    "print(f\"median for surrogate whisker dp distribution (tactile): {median_surr_whisker_dp:.3} sec\")\n",
    "print(f\"25th percentile (whisker): {q1_whisker:.5} sec\")\n",
    "print(f\"75th percentile (whisker): {q3_whisker:.5} sec\")\n",
    "print(f\"IQR surrogate whisker dp distribution (tactile): {iqr_whisker:.3} sec\")\n"
   ]
  },
  {
   "cell_type": "code",
   "execution_count": null,
   "metadata": {},
   "outputs": [],
   "source": [
    "q3_whisker - q1_whisker"
   ]
  },
  {
   "cell_type": "code",
   "execution_count": null,
   "metadata": {},
   "outputs": [],
   "source": [
    "scipy.stats.ks_2samp(tactile_top_1_dp_units['tac_dp_onset'].dropna(), surrogate_whisker_dp_indv['Tactile'].dropna(), 'greater')"
   ]
  },
  {
   "cell_type": "code",
   "execution_count": null,
   "metadata": {},
   "outputs": [],
   "source": [
    "scipy.stats.ks_2samp(visual_top_1_dp_units['vis_dp_onset'].dropna(), surrogate_whisker_dp_indv['Visual'].dropna())"
   ]
  },
  {
   "cell_type": "code",
   "execution_count": null,
   "metadata": {},
   "outputs": [],
   "source": [
    "tactile_preRT_DP = tactile_dp_units[tactile_dp_units['tac_dp_onset']<tactile_dp_units['RT_median_TLR']]\n",
    "visual_preRT_DP = visual_dp_units[visual_dp_units['vis_dp_onset']<visual_dp_units['RT_median_VLL']]\n",
    "\n",
    "tac_dp_stats = tactile_top_quantile_dp_units.groupby(['mouse_name','date'])['uni_id'].count().describe(percentiles = [0.1,0.2,0.5,0.8, 0.9])\n",
    "vis_dp_stats = visual_top_quantile_dp_units.groupby(['mouse_name','date'])['uni_id'].count().describe(percentiles = [0.1,0.2,0.5,0.8, 0.9])\n",
    "\n",
    "summary_stats = pd.concat([tac_dp_stats, vis_dp_stats], axis = 1)\n",
    "summary_stats.columns = ['Touch', 'Visual']\n",
    "summary_stats"
   ]
  },
  {
   "cell_type": "markdown",
   "metadata": {},
   "source": [
    "## plot figures describing numbers and fraction of neurons showing DP and SP"
   ]
  },
  {
   "cell_type": "code",
   "execution_count": null,
   "metadata": {},
   "outputs": [],
   "source": [
    "touch_lick_units = dp_onsets.loc[~dp_onsets['tac_dp_onset'].isnull() & dp_onsets['vis_dp_onset'].isnull(), 'uni_id'].to_frame()\n",
    "vis_lick_units = dp_onsets.loc[~dp_onsets['vis_dp_onset'].isnull() & dp_onsets['tac_dp_onset'].isnull(), 'uni_id'].to_frame()\n",
    "bimodal_lick_units = dp_onsets.loc[~dp_onsets[['vis_dp_onset', 'tac_dp_onset']].isnull().any(axis = 1), 'uni_id'].to_frame()"
   ]
  },
  {
   "cell_type": "code",
   "execution_count": null,
   "metadata": {},
   "outputs": [],
   "source": [
    "touch_lick_units.shape[0] + vis_lick_units.shape[0] + bimodal_lick_units.shape[0]"
   ]
  },
  {
   "cell_type": "code",
   "execution_count": null,
   "metadata": {
    "ExecuteTime": {
     "end_time": "2018-02-22T15:24:48.812152Z",
     "start_time": "2018-02-22T15:24:48.081561"
    },
    "scrolled": true
   },
   "outputs": [],
   "source": [
    "def get_sig_auc(df, num_bins_sig = 2, time_offset = -1, sig_window = [0,1]):\n",
    "    # find bins where auc is significant \n",
    "    auc_col_names = df.columns[df.columns.str.contains('auc')]\n",
    "    low_conf_col_names = df.columns[df.columns.str.contains('low')]\n",
    "    up_conf_col_names =df.columns[df.columns.str.contains('up')]\n",
    "\n",
    "    raw_sig_AUC = pd.DataFrame(~((df.loc[:,low_conf_col_names].fillna(0.5) >= 0.5).values & \n",
    "                        (df.loc[:,up_conf_col_names].fillna(0.5) <= 0.5).values)*1, index = df['uni_id'])\n",
    "\n",
    "    # identify direction of significant bins\n",
    "    auc_dir = (df.loc[:,auc_col_names] >= 0.5)*1 + (df.loc[:,auc_col_names] < 0.5)*-1\n",
    "    auc_dir.index = df['uni_id']; auc_dir.columns = raw_sig_AUC.columns\n",
    "    raw_sig_AUC = raw_sig_AUC*auc_dir\n",
    "\n",
    "    # take running sum of bins to identify bins with consecutive significant bins\n",
    "    smooth_sig_AUC = raw_sig_AUC.apply(lambda y: np.convolve(y, [1]*num_bins_sig, 'same'), axis = 1)\n",
    "    smooth_sig_AUC = pd.DataFrame(smooth_sig_AUC.to_dict()).T\n",
    "\n",
    "    ### to get the first bin of 2 that are significantly different from 0 need to subtract 1 from all_sig_tac/vis since convolve \n",
    "    ### was used with 'same' setting (otherwise would need to subtract 2 if setting was 'full')\n",
    "    all_sig = (smooth_sig_AUC.isin([num_bins_sig,-num_bins_sig])*1).apply(lambda y: np.where(y), axis = 1)\n",
    "    all_sig = all_sig.apply(lambda y: (y[0]-1)*bin_size+time_offset if len(y[0])>0 else [])\n",
    "\n",
    "    ### find first significant bin for each unit\n",
    "    all_first_sig = all_sig.apply(lambda y:  y[(y>=sig_window[0]) & (y<sig_window[1])] if len(y)!=0 else []) \n",
    "    all_first_sig = all_first_sig.apply(lambda y:  np.nan if len(y)==0 else np.min(y))\n",
    "\n",
    "    return all_first_sig\n"
   ]
  },
  {
   "cell_type": "code",
   "execution_count": null,
   "metadata": {},
   "outputs": [],
   "source": [
    "touch_stim_prob_auc = pd.read_hdf(r'C:\\Users\\efink\\Documents\\DATA\\Crossmodal_only\\Touch_stim_prob_auc_2019-02-24.h5', 'table')\n",
    "visual_stim_prob_auc = pd.read_hdf(r'C:\\Users\\efink\\Documents\\DATA\\Crossmodal_only\\Visual_stim_prob_auc_2019-02-28.h5', 'table')\n",
    "touch_detect_prob_auc = pd.read_hdf(r'C:\\Users\\efink\\Documents\\DATA\\Crossmodal_only\\Touch_lick_no_lick_auc_2019-02-27.h5', 'table')\n",
    "visual_detect_prob_auc = pd.read_hdf(r'C:\\Users\\efink\\Documents\\DATA\\Crossmodal_only\\Visual_lick_no_lick_auc_2019-02-27.h5', 'table')"
   ]
  },
  {
   "cell_type": "code",
   "execution_count": null,
   "metadata": {
    "ExecuteTime": {
     "end_time": "2018-02-22T15:25:26.222772Z",
     "start_time": "2018-02-22T15:24:48.813152"
    }
   },
   "outputs": [],
   "source": [
    "all_first_sig_tac_dp = get_sig_auc(touch_detect_prob_auc.merge(unit_key_df))\n",
    "all_first_sig_vis_dp = get_sig_auc(visual_detect_prob_auc.merge(unit_key_df))\n",
    "\n",
    "all_first_sig_tac_sp = get_sig_auc(touch_stim_prob_auc.merge(unit_key_df),num_bins_sig =2, time_offset=-0.25, sig_window = [0,0.200])\n"
   ]
  },
  {
   "cell_type": "code",
   "execution_count": null,
   "metadata": {},
   "outputs": [],
   "source": [
    "touch_dp_units = set(all_first_sig_tac_dp.dropna().index)\n",
    "visual_dp_units = set(all_first_sig_vis_dp.dropna().index)\n",
    "touch_sp_units = set(all_first_sig_tac_sp.dropna().index)\n"
   ]
  },
  {
   "cell_type": "code",
   "execution_count": null,
   "metadata": {},
   "outputs": [],
   "source": [
    "size_mult = 0.1"
   ]
  },
  {
   "cell_type": "code",
   "execution_count": null,
   "metadata": {},
   "outputs": [],
   "source": [
    "from matplotlib_venn import venn3, venn3_circles\n",
    "\n",
    "fig = plt.figure(figsize = [20*size_mult,20*size_mult])\n",
    "v = venn3((touch_dp_units,visual_dp_units,touch_sp_units), ('Touch-Lick neurons', 'Visual-Lick neurons', 'Touch-stim neurons'), set_colors = ['#7F3F97', 'C1', 'cyan'], alpha = 0.5 )\n",
    "venn3_circles((touch_dp_units,visual_dp_units,touch_sp_units))\n",
    "# v.get_patch_by_id('10').set_color('#7F3F97')\n",
    "# v.get_patch_by_id('01').set_color('C1')\n",
    "fig.savefig('modality_venn.pdf', format = 'pdf', dpi = 900)"
   ]
  },
  {
   "cell_type": "code",
   "execution_count": null,
   "metadata": {},
   "outputs": [],
   "source": [
    "mean_sp = touch_stim_prob_auc.set_index('uni_id').loc[:, auc_col_names[9:17]].apply(np.mean, axis = 1)"
   ]
  },
  {
   "cell_type": "code",
   "execution_count": null,
   "metadata": {},
   "outputs": [],
   "source": [
    "mean_cp = mean_tac_cp.merge(mean_vis_cp, how = 'outer').set_index('uni_id')"
   ]
  },
  {
   "cell_type": "code",
   "execution_count": null,
   "metadata": {},
   "outputs": [],
   "source": [
    "pos_tac_dp = mean_cp.loc[touch_dp_units, 'tac_cp']>=0.5\n",
    "pos_vis_dp = mean_cp.loc[visual_dp_units, 'vis_cp']>=0.5\n",
    "pos_tac_sp = mean_sp.loc[touch_sp_units]>=0.5\n"
   ]
  },
  {
   "cell_type": "code",
   "execution_count": null,
   "metadata": {},
   "outputs": [],
   "source": [
    "size_mult = .7"
   ]
  },
  {
   "cell_type": "code",
   "execution_count": null,
   "metadata": {},
   "outputs": [],
   "source": [
    "fig, ax = plt.subplots(1,1, figsize = (14*size_mult,12*size_mult))\n",
    "\n",
    "for i, group in enumerate([pos_tac_dp, pos_vis_dp, pos_tac_sp]):\n",
    "    ax.bar(i, sum(~group)/1539, color = '#f03b20', width = .85)\n",
    "    ax.bar(i, sum(group)/1539, bottom = sum(~group)/1539, color = '#2ca25f', width = .85)\n",
    "    ax.bar(i, (1539-len(group))/1539, bottom = len(group)/1539, color = [0.5,0.5,0.5], width = .85)\n",
    "    \n",
    "ax.spines['top'].set_visible(False)\n",
    "ax.spines['right'].set_visible(False)\n",
    "plt.xticks(rotation = 45, ha = 'right')\n",
    "ax.set_xticks([0,1,2])\n",
    "ax.set_xticklabels(['Neurons w/\\ntactile DP', 'Neurons w/\\nvisual DP', 'Neurons w/\\ntactile SP'])\n",
    "ax.text(.9, 0.62, 'No mod.', color = [0.5,0.5,0.5], transform = ax.transAxes)\n",
    "ax.text(.9, 0.5, 'Excited', color ='#2ca25f', transform = ax.transAxes)\n",
    "ax.text(.9, 0.38, 'Inhibited', color = '#f03b20', transform = ax.transAxes)\n",
    "ax.set_ylabel('Fraction of neurons')\n",
    "ax.set_xlim(-0.7,2.9)\n",
    "fig.savefig('directional_mod_bar.pdf', format = 'pdf', dpi = 900)"
   ]
  },
  {
   "cell_type": "code",
   "execution_count": null,
   "metadata": {},
   "outputs": [],
   "source": [
    "[sum(group) for group in [pos_tac_dp, pos_vis_dp, pos_tac_sp]]"
   ]
  },
  {
   "cell_type": "code",
   "execution_count": null,
   "metadata": {},
   "outputs": [],
   "source": [
    "pd.concat([pos_tac_dp, pos_vis_dp, pos_tac_sp], axis = 1).any(axis = 1).sum()"
   ]
  },
  {
   "cell_type": "code",
   "execution_count": null,
   "metadata": {},
   "outputs": [],
   "source": [
    "[sum(~group) for group in [pos_tac_dp, pos_vis_dp, pos_tac_sp]]"
   ]
  },
  {
   "cell_type": "code",
   "execution_count": null,
   "metadata": {},
   "outputs": [],
   "source": [
    "pd.concat([~pos_tac_dp, ~pos_vis_dp, ~pos_tac_sp], axis = 1).any(axis = 1).sum()"
   ]
  },
  {
   "cell_type": "code",
   "execution_count": null,
   "metadata": {},
   "outputs": [],
   "source": []
  }
 ],
 "metadata": {
  "kernelspec": {
   "display_name": "Python 3 (ipykernel)",
   "language": "python",
   "name": "python3"
  },
  "language_info": {
   "codemirror_mode": {
    "name": "ipython",
    "version": 3
   },
   "file_extension": ".py",
   "mimetype": "text/x-python",
   "name": "python",
   "nbconvert_exporter": "python",
   "pygments_lexer": "ipython3",
   "version": "3.9.6"
  },
  "widgets": {
   "state": {
    "47f62d6e6a064485883402505fe1f9e7": {
     "views": [
      {
       "cell_index": 8
      }
     ]
    },
    "94460585be434f03bd85a882b903ecb7": {
     "views": [
      {
       "cell_index": 6
      }
     ]
    }
   },
   "version": "1.2.0"
  }
 },
 "nbformat": 4,
 "nbformat_minor": 4
}

{
 "cells": [
  {
   "cell_type": "code",
   "execution_count": 54,
   "metadata": {
    "ExecuteTime": {
     "end_time": "2017-11-27T12:29:23.463934Z",
     "start_time": "2017-11-27T12:29:22.253291"
    },
    "collapsed": true,
    "jupyter": {
     "outputs_hidden": true
    }
   },
   "outputs": [],
   "source": [
    "#!pip install ipywidgets\n",
    "#!jupyter nbextension enable --py widgetsnbextension\n",
    "import scipy as sp\n",
    "import scipy.io\n",
    "import scipy.stats\n",
    "import os\n",
    "import numpy as np\n",
    "import pandas as pd\n",
    "import glob\n",
    "import csv\n",
    "import random as rand\n",
    "from tqdm import tnrange, tqdm_notebook\n",
    "import sys\n",
    "sys.path.append(os.getcwd()+'\\\\..')\n",
    "from utils import utils\n",
    "import cmocean\n",
    "import matplotlib.patches as patches\n",
    "from matplotlib import gridspec\n",
    "\n",
    "from collections import Iterable\n",
    "import matplotlib.pylab as mpl\n",
    "import random as rand\n",
    "from ipywidgets import *\n",
    "import colorlover as cl\n",
    "from utils import zscores\n",
    "\n",
    "from sklearn.metrics import roc_curve, auc\n",
    "from sklearn.model_selection import train_test_split\n",
    "from sklearn.preprocessing import label_binarize\n"
   ]
  },
  {
   "cell_type": "code",
   "execution_count": 2,
   "metadata": {
    "ExecuteTime": {
     "end_time": "2017-11-27T12:29:23.469840Z",
     "start_time": "2017-11-27T12:29:23.463934"
    },
    "collapsed": true,
    "jupyter": {
     "outputs_hidden": true
    }
   },
   "outputs": [],
   "source": [
    "font = {'family' : 'sans-serif',\n",
    "        'weight' : 'normal',\n",
    "        'size'   : 20}\n",
    "\n",
    "mpl.rc('font', **font)\n",
    "mpl.rc('xtick', labelsize=20) \n",
    "mpl.rc('ytick', labelsize=20)\n",
    "mpl.rc('axes', labelsize=20)"
   ]
  },
  {
   "cell_type": "code",
   "execution_count": 3,
   "metadata": {},
   "outputs": [
    {
     "data": {
      "text/plain": [
       "'C:\\\\Users\\\\efink\\\\Documents\\\\Github\\\\crossmodal\\\\Figure3'"
      ]
     },
     "execution_count": 3,
     "metadata": {},
     "output_type": "execute_result"
    }
   ],
   "source": [
    "% pwd"
   ]
  },
  {
   "cell_type": "markdown",
   "metadata": {},
   "source": [
    "# Load data and prepare data\n",
    "## Load behavior and spike data"
   ]
  },
  {
   "cell_type": "code",
   "execution_count": 4,
   "metadata": {},
   "outputs": [],
   "source": [
    "bin_size = 0.025\n",
    "window = [-1, 3]\n",
    "edges = np.arange(window[0], window[1], bin_size)"
   ]
  },
  {
   "cell_type": "code",
   "execution_count": null,
   "metadata": {},
   "outputs": [],
   "source": [
    "DATA_DIR = os.path.abspath('../data')\n",
    "log_df = pd.read_hdf(os.path.join(DATA_DIR, 'log_df_processed_02-28-2019.h5'), 'fixed')\n",
    "unit_key_df = pd.read_hdf(os.path.join(DATA_DIR, 'unit_key_df_processed_02-28-2019.h5'), 'fixed')"
   ]
  },
  {
   "cell_type": "code",
   "execution_count": 55,
   "metadata": {},
   "outputs": [
    {
     "data": {
      "application/vnd.jupyter.widget-view+json": {
       "model_id": "817758c2d8b3499db835855920f3dfa2",
       "version_major": 2,
       "version_minor": 0
      },
      "text/html": [
       "<p>Failed to display Jupyter Widget of type <code>HBox</code>.</p>\n",
       "<p>\n",
       "  If you're reading this message in the Jupyter Notebook or JupyterLab Notebook, it may mean\n",
       "  that the widgets JavaScript is still loading. If this message persists, it\n",
       "  likely means that the widgets JavaScript library is either not installed or\n",
       "  not enabled. See the <a href=\"https://ipywidgets.readthedocs.io/en/stable/user_install.html\">Jupyter\n",
       "  Widgets Documentation</a> for setup instructions.\n",
       "</p>\n",
       "<p>\n",
       "  If you're reading this message in another frontend (for example, a static\n",
       "  rendering on GitHub or <a href=\"https://nbviewer.jupyter.org/\">NBViewer</a>),\n",
       "  it may mean that your frontend doesn't currently support widgets.\n",
       "</p>\n"
      ],
      "text/plain": [
       "HBox(children=(IntProgress(value=0, max=2931), HTML(value='')))"
      ]
     },
     "metadata": {},
     "output_type": "display_data"
    },
    {
     "name": "stdout",
     "output_type": "stream",
     "text": [
      "\n"
     ]
    },
    {
     "name": "stderr",
     "output_type": "stream",
     "text": [
      "C:\\Users\\efink\\Documents\\Github\\crossmodal\\Figure3\\..\\utils\\zscores.py:94: RuntimeWarning: Mean of empty slice\n",
      "  act_resp_touch  = act_resp_touch.apply(lambda y: np.nanmean(y))\n",
      "C:\\Users\\efink\\Documents\\Github\\crossmodal\\Figure3\\..\\utils\\zscores.py:95: RuntimeWarning: Mean of empty slice\n",
      "  act_resp_vis  = act_resp_vis.apply(lambda y: np.nanmean(y))\n"
     ]
    }
   ],
   "source": [
    "unit_key_df = zscores.calc_z_scores(log_df, unit_key_df, bin_size, window)\n",
    "\n",
    "#### drop units that have a baseline mean and std of 0 otherwise Z-score will be NaN\n",
    "unit_key_df = unit_key_df[~(unit_key_df['FR_std'] == 0)]"
   ]
  },
  {
   "cell_type": "code",
   "execution_count": 53,
   "metadata": {},
   "outputs": [
    {
     "name": "stderr",
     "output_type": "stream",
     "text": [
      "C:\\Users\\efink\\Anaconda3\\lib\\site-packages\\pandas\\core\\groupby.py:933: RuntimeWarning: Mean of empty slice\n",
      "  f = lambda x: func(x, *args, **kwargs)\n",
      "C:\\Users\\efink\\Anaconda3\\lib\\site-packages\\numpy\\lib\\function_base.py:4033: RuntimeWarning: All-NaN slice encountered\n",
      "  r = func(a, **kwargs)\n",
      "C:\\Users\\efink\\Anaconda3\\lib\\site-packages\\numpy\\lib\\nanfunctions.py:1434: RuntimeWarning: Degrees of freedom <= 0 for slice.\n",
      "  keepdims=keepdims)\n"
     ]
    },
    {
     "data": {
      "application/vnd.jupyter.widget-view+json": {
       "model_id": "39ef19dbe9174ae7bb93e05c231b3347",
       "version_major": 2,
       "version_minor": 0
      },
      "text/html": [
       "<p>Failed to display Jupyter Widget of type <code>HBox</code>.</p>\n",
       "<p>\n",
       "  If you're reading this message in the Jupyter Notebook or JupyterLab Notebook, it may mean\n",
       "  that the widgets JavaScript is still loading. If this message persists, it\n",
       "  likely means that the widgets JavaScript library is either not installed or\n",
       "  not enabled. See the <a href=\"https://ipywidgets.readthedocs.io/en/stable/user_install.html\">Jupyter\n",
       "  Widgets Documentation</a> for setup instructions.\n",
       "</p>\n",
       "<p>\n",
       "  If you're reading this message in another frontend (for example, a static\n",
       "  rendering on GitHub or <a href=\"https://nbviewer.jupyter.org/\">NBViewer</a>),\n",
       "  it may mean that your frontend doesn't currently support widgets.\n",
       "</p>\n"
      ],
      "text/plain": [
       "HBox(children=(IntProgress(value=0, max=2931), HTML(value='')))"
      ]
     },
     "metadata": {},
     "output_type": "display_data"
    },
    {
     "name": "stdout",
     "output_type": "stream",
     "text": [
      "\n"
     ]
    },
    {
     "ename": "NameError",
     "evalue": "name 'zscores' is not defined",
     "output_type": "error",
     "traceback": [
      "\u001b[1;31m---------------------------------------------------------------------------\u001b[0m",
      "\u001b[1;31mNameError\u001b[0m                                 Traceback (most recent call last)",
      "\u001b[1;32m<ipython-input-53-9a2cf3632797>\u001b[0m in \u001b[0;36m<module>\u001b[1;34m()\u001b[0m\n\u001b[0;32m      5\u001b[0m \u001b[0mlog_df\u001b[0m\u001b[1;33m[\u001b[0m\u001b[1;34m'spike_counts(stim_aligned)'\u001b[0m\u001b[1;33m]\u001b[0m \u001b[1;33m=\u001b[0m \u001b[0mlog_df\u001b[0m\u001b[1;33m[\u001b[0m\u001b[1;34m'spike_times(stim_aligned)'\u001b[0m\u001b[1;33m]\u001b[0m\u001b[1;33m.\u001b[0m\u001b[0mapply\u001b[0m\u001b[1;33m(\u001b[0m\u001b[1;32mlambda\u001b[0m \u001b[0mx\u001b[0m\u001b[1;33m:\u001b[0m \u001b[0mnp\u001b[0m\u001b[1;33m.\u001b[0m\u001b[0mhistogram\u001b[0m\u001b[1;33m(\u001b[0m\u001b[0mx\u001b[0m\u001b[1;33m,\u001b[0m\u001b[0medges\u001b[0m\u001b[1;33m)\u001b[0m\u001b[1;33m[\u001b[0m\u001b[1;36m0\u001b[0m\u001b[1;33m]\u001b[0m\u001b[1;33m/\u001b[0m\u001b[0mbin_size\u001b[0m\u001b[1;33m)\u001b[0m\u001b[1;33m\u001b[0m\u001b[0m\n\u001b[0;32m      6\u001b[0m \u001b[1;33m\u001b[0m\u001b[0m\n\u001b[1;32m----> 7\u001b[1;33m \u001b[0munit_key_df\u001b[0m \u001b[1;33m=\u001b[0m \u001b[0mzscores\u001b[0m\u001b[1;33m.\u001b[0m\u001b[0mcalc_z_scores\u001b[0m\u001b[1;33m(\u001b[0m\u001b[0mlog_df\u001b[0m\u001b[1;33m,\u001b[0m \u001b[0munit_key_df\u001b[0m\u001b[1;33m,\u001b[0m \u001b[0mbin_size\u001b[0m\u001b[1;33m,\u001b[0m \u001b[0mwindow\u001b[0m\u001b[1;33m)\u001b[0m\u001b[1;33m\u001b[0m\u001b[0m\n\u001b[0m\u001b[0;32m      8\u001b[0m \u001b[1;33m\u001b[0m\u001b[0m\n\u001b[0;32m      9\u001b[0m \u001b[1;31m#### drop units that have a baseline mean and std of 0 otherwise Z-score will be NaN\u001b[0m\u001b[1;33m\u001b[0m\u001b[1;33m\u001b[0m\u001b[0m\n",
      "\u001b[1;31mNameError\u001b[0m: name 'zscores' is not defined"
     ]
    }
   ],
   "source": [
    "data_directory = r'C:\\Users\\efink\\Documents\\DATA\\Crossmodal_only'\n",
    "log_df, unit_key_df = utils.load_data(data_directory)\n",
    "unit_key_df = utils.calc_unit_stats(unit_key_df, log_df, bin_size)\n",
    "\n",
    "log_df['spike_counts(stim_aligned)'] = log_df['spike_times(stim_aligned)'].apply(lambda x: np.histogram(x,edges)[0]/bin_size)\n",
    "\n",
    "unit_key_df = zscores.calc_z_scores(log_df, unit_key_df, bin_size, window)\n",
    "\n",
    "#### drop units that have a baseline mean and std of 0 otherwise Z-score will be NaN\n",
    "unit_key_df = unit_key_df[~(unit_key_df['FR_std'] == 0)]\n",
    "\n",
    "##### uncomment below if the processed data is already saved\n",
    "# log_df = pd.read_hdf(f'{data_directory}/log_df_processed_02-28-2019.h5', 'fixed')\n",
    "# unit_key_df = pd.read_hdf(f'{data_directory}/unit_key_df_processed_02-28-2019.h5', 'fixed')"
   ]
  },
  {
   "cell_type": "markdown",
   "metadata": {},
   "source": [
    "### Remove any units that were recorded from tactile lick-left/visual lick-right mice"
   ]
  },
  {
   "cell_type": "code",
   "execution_count": 56,
   "metadata": {},
   "outputs": [
    {
     "data": {
      "text/plain": [
       "array(['EF0074', 'EF0076', 'EF0077', 'EF0079', 'EF0081', 'EF0084',\n",
       "       'EF0088', 'EF0089', 'EF0091', 'EF0099', 'EF0101', 'EF0102',\n",
       "       'EF0114'], dtype=object)"
      ]
     },
     "execution_count": 56,
     "metadata": {},
     "output_type": "execute_result"
    }
   ],
   "source": [
    "unit_key_df = unit_key_df[~(unit_key_df['mouse_name'].isin(['EF0083','EF0085', 'EF0112', 'EF0111']))] # these are mice with tetrodes not implanted in pricipal whisker\n",
    "unit_key_df['mouse_name'].unique()"
   ]
  },
  {
   "cell_type": "markdown",
   "metadata": {},
   "source": [
    "### load auc data"
   ]
  },
  {
   "cell_type": "code",
   "execution_count": 57,
   "metadata": {},
   "outputs": [],
   "source": [
    "tactile_lick_noLick_aucs = pd.read_hdf(r'C:\\Users\\efink\\Documents\\DATA\\Crossmodal_only\\Touch_lick_no_lick_auc_2019-02-27.h5', 'table')\n",
    "visual_lick_noLick_aucs = pd.read_hdf(r'C:\\Users\\efink\\Documents\\DATA\\Crossmodal_only\\Visual_lick_no_lick_auc_2019-02-27.h5', 'table')"
   ]
  },
  {
   "cell_type": "code",
   "execution_count": 58,
   "metadata": {},
   "outputs": [
    {
     "data": {
      "text/plain": [
       "array(['EF0074', 'EF0076', 'EF0077', 'EF0079', 'EF0081', 'EF0083',\n",
       "       'EF0084', 'EF0085', 'EF0088', 'EF0089', 'EF0091', 'EF0099',\n",
       "       'EF0101', 'EF0102', 'EF0114'], dtype=object)"
      ]
     },
     "execution_count": 58,
     "metadata": {},
     "output_type": "execute_result"
    }
   ],
   "source": [
    "visual_lick_noLick_aucs['mouse_name'].drop_duplicates().values"
   ]
  },
  {
   "cell_type": "markdown",
   "metadata": {},
   "source": [
    "### filter auc data for tactile lick-right/ visual lick-left  data "
   ]
  },
  {
   "cell_type": "code",
   "execution_count": 59,
   "metadata": {},
   "outputs": [
    {
     "data": {
      "text/plain": [
       "(2103, 483)"
      ]
     },
     "execution_count": 59,
     "metadata": {},
     "output_type": "execute_result"
    }
   ],
   "source": [
    "tactile_lick_noLick_aucs = tactile_lick_noLick_aucs.merge(unit_key_df['uni_id'].to_frame(), on = 'uni_id', how = 'right')\n",
    "visual_lick_noLick_aucs = visual_lick_noLick_aucs.merge(unit_key_df['uni_id'].to_frame(), on = 'uni_id', how = 'right')\n",
    "visual_lick_noLick_aucs.shape"
   ]
  },
  {
   "cell_type": "markdown",
   "metadata": {},
   "source": [
    "# Identify units with a significant detect probability (DP) and define onset times"
   ]
  },
  {
   "cell_type": "code",
   "execution_count": 60,
   "metadata": {
    "ExecuteTime": {
     "end_time": "2018-02-22T15:24:48.080561Z",
     "start_time": "2018-02-22T15:24:47.974476"
    }
   },
   "outputs": [],
   "source": [
    "auc_col_names = tactile_lick_noLick_aucs.columns[tactile_lick_noLick_aucs.columns.str.contains('auc')]\n",
    "low_conf_col_names = tactile_lick_noLick_aucs.columns[tactile_lick_noLick_aucs.columns.str.contains('low')]\n",
    "up_conf_col_names =tactile_lick_noLick_aucs.columns[tactile_lick_noLick_aucs.columns.str.contains('up')]"
   ]
  },
  {
   "cell_type": "code",
   "execution_count": 61,
   "metadata": {
    "ExecuteTime": {
     "end_time": "2018-02-22T15:24:48.812152Z",
     "start_time": "2018-02-22T15:24:48.081561"
    },
    "scrolled": true
   },
   "outputs": [],
   "source": [
    "# find bins where auc is significant \n",
    "raw_tac_sig_AUC = pd.DataFrame(~((tactile_lick_noLick_aucs.loc[:,low_conf_col_names].fillna(0.5) >= 0.5).as_matrix() & \n",
    "                    (tactile_lick_noLick_aucs.loc[:,up_conf_col_names].fillna(0.5) <= 0.5).as_matrix())*1, index = tactile_lick_noLick_aucs['uni_id'])\n",
    "\n",
    "raw_vis_sig_AUC = pd.DataFrame(~((visual_lick_noLick_aucs.loc[:,low_conf_col_names].fillna(0.5) >= 0.5).as_matrix() & \n",
    "                    (visual_lick_noLick_aucs.loc[:,up_conf_col_names].fillna(0.5) <= 0.5).as_matrix())*1, index = visual_lick_noLick_aucs['uni_id'])\n",
    "\n",
    "# identify direction of significant bins\n",
    "auc_dir_t = (tactile_lick_noLick_aucs.loc[:,auc_col_names] >= 0.5)*1 + (tactile_lick_noLick_aucs.loc[:,auc_col_names] < 0.5)*-1\n",
    "auc_dir_v = (visual_lick_noLick_aucs.loc[:,auc_col_names] >= 0.5)*1 + (visual_lick_noLick_aucs.loc[:,auc_col_names] < 0.5)*-1\n",
    "auc_dir_v = (visual_lick_noLick_aucs.loc[:,auc_col_names] >= 0.5)*1 + (visual_lick_noLick_aucs.loc[:,auc_col_names] < 0.5)*-1\n",
    "auc_dir_t.index = tactile_lick_noLick_aucs['uni_id']; auc_dir_t.columns = raw_tac_sig_AUC.columns\n",
    "auc_dir_v.index = visual_lick_noLick_aucs['uni_id']; auc_dir_v.columns = raw_vis_sig_AUC.columns\n",
    "\n",
    "raw_tac_sig_AUC = raw_tac_sig_AUC*auc_dir_t\n",
    "raw_vis_sig_AUC = raw_vis_sig_AUC*auc_dir_v"
   ]
  },
  {
   "cell_type": "code",
   "execution_count": 62,
   "metadata": {
    "ExecuteTime": {
     "end_time": "2018-02-22T15:25:26.222772Z",
     "start_time": "2018-02-22T15:24:48.813152"
    }
   },
   "outputs": [],
   "source": [
    "# take running sum of bins to identify bins with consecutive significant bins\n",
    "smooth_tac_sig_AUC = raw_tac_sig_AUC.apply(lambda y: np.convolve(y, [1,1], 'same'), axis = 1)\n",
    "smooth_vis_sig_AUC = raw_vis_sig_AUC.apply(lambda y: np.convolve(y, [1,1], 'same'), axis = 1)\n",
    "\n",
    "### to get the first bin of 2 that are significantly different from 0 need to subtract 1 from all_sig_tac/vis since convolve \n",
    "### was used with 'same' setting (otherwise would need to subtract 2 if setting was 'full')\n",
    "all_sig_tac = (smooth_tac_sig_AUC.isin([2,-2])*1).apply(lambda y: np.where(y), axis = 1)\n",
    "all_sig_tac = all_sig_tac.apply(lambda y: (y[0]-1)*bin_size-1 if len(y[0])>0 else [])\n",
    "\n",
    "all_sig_vis = (smooth_vis_sig_AUC.isin([2,-2])*1).apply(lambda y: np.where(y), axis = 1)\n",
    "all_sig_vis = all_sig_vis.apply(lambda y: (y[0]-1)*bin_size-1 if len(y[0])>0 else [])\n",
    "\n",
    "### find first significant bin for each unit for each modality\n",
    "all_first_sig_tac = all_sig_tac.apply(lambda y:  y[(y>=0) & (y<1)] if len(y)!=0 else []) \n",
    "all_first_sig_tac = all_first_sig_tac.apply(lambda y:  np.nan if len(y)==0 else np.min(y))\n",
    "\n",
    "all_first_sig_vis = all_sig_vis.apply(lambda y:  y[(y>=0) & (y<1)] if len(y)!=0 else [])\n",
    "all_first_sig_vis = all_first_sig_vis.apply(lambda y:  np.nan if len(y)==0 else np.min(y))\n",
    "dp_onsets = pd.merge(all_first_sig_vis.to_frame(name = 'vis_dp_onset').reset_index(), all_first_sig_tac.to_frame(name = 'tac_dp_onset').reset_index(), how = 'outer')"
   ]
  },
  {
   "cell_type": "code",
   "execution_count": 63,
   "metadata": {
    "ExecuteTime": {
     "end_time": "2017-11-27T12:30:56.845104Z",
     "start_time": "2017-11-27T12:30:56.547110"
    },
    "jupyter": {
     "outputs_hidden": false
    }
   },
   "outputs": [],
   "source": [
    "# bimodal_lick_units = pd.read_hdf('bimodal_lick_units.h5', 'table') \n",
    "# touch_lick_units = pd.read_hdf('touch_lick_units.h5', 'table')\n",
    "# vis_lick_units = pd.read_hdf('vis_lick_units.h5', 'table') "
   ]
  },
  {
   "cell_type": "code",
   "execution_count": 64,
   "metadata": {},
   "outputs": [],
   "source": [
    "unit_key_df = pd.merge(unit_key_df, dp_onsets, on = 'uni_id')"
   ]
  },
  {
   "cell_type": "code",
   "execution_count": 65,
   "metadata": {
    "ExecuteTime": {
     "end_time": "2017-11-27T12:30:56.888134Z",
     "start_time": "2017-11-27T12:30:56.849109"
    },
    "collapsed": true,
    "jupyter": {
     "outputs_hidden": true
    }
   },
   "outputs": [],
   "source": [
    "bimodal_lick_units = unit_key_df.dropna(subset = ['vis_dp_onset', 'tac_dp_onset']).copy()\n",
    "# touch_and_bimodal = pd.concat([bimodal_lick_units, touch_lick_units], axis = 0)\n",
    "# visual_and_bimodal = pd.concat([bimodal_lick_units, vis_lick_units], axis = 0)"
   ]
  },
  {
   "cell_type": "code",
   "execution_count": 66,
   "metadata": {
    "ExecuteTime": {
     "end_time": "2017-11-27T12:30:57.142307Z",
     "start_time": "2017-11-27T12:30:56.890138"
    },
    "jupyter": {
     "outputs_hidden": false
    }
   },
   "outputs": [],
   "source": [
    "import matplotlib.patches as patches\n",
    "from matplotlib import gridspec\n",
    "def plot_rasters(rasters, window, bin_size, stim_type, ylim=None, st_len = 'long'):\n",
    "    mpl.close('all')\n",
    "    fig = mpl.figure(figsize=(8, 7))\n",
    "    first_raster = rasters[0]\n",
    "    fig.suptitle (rasters[0].iloc[0,0] +', '+ rasters[0].iloc[0, 1] +', '+ rasters[0].iloc[0, 13], size = 22)\n",
    "\n",
    "    gs1 = gridspec.GridSpec(1,1)\n",
    "    gs2 = gridspec.GridSpec(2,1)\n",
    "    gs3 = gridspec.GridSpec(2,1)\n",
    "    gs1.update(bottom = 0.81, top=0.87, left = 0.2, right = 0.82)\n",
    "    gs2.update(bottom=0.1, top=0.8, left = 0.2, right = 0.82)\n",
    "    gs3.update(bottom=0.1, top=0.8, left = 0.83, right = 0.9)\n",
    "    ax1 = mpl.subplot(gs1[0, 0])\n",
    "    ax2 = mpl.subplot(gs2[0, 0])\n",
    "    ax3 = mpl.subplot(gs2[1, 0])\n",
    "    patch_ax = mpl.subplot(gs3[0, 0], sharey = ax2)\n",
    "\n",
    "    ax1.axis('off')\n",
    "    hists = []\n",
    "    \n",
    "    if stim_type == 'short visual':\n",
    "        colors = ['C7','#cc4c02', '#fed98e']\n",
    "        ax1.add_patch(patches.Rectangle((0,0),  0.05, 1, facecolor = '#feb24c', alpha = 0.5))\n",
    "        ax3.text(.55, .7, \"Short visual Lick\" , size=20, transform=ax3.transAxes, color = colors[1])\n",
    "        ax3.text(.55, .6, \"Short visual no Lick\" , size=20, transform=ax3.transAxes, color = colors[0])\n",
    "    elif stim_type == 'short touch':\n",
    "        colors = ['C7','b', '#6baed6']\n",
    "        ax1.add_patch(patches.Rectangle((0,0),  0.05, 1, facecolor = 'c', alpha = 0.5))\n",
    "        ax3.text(.55, .7, \"Short touch Lick\" , size=20, transform=ax3.transAxes, color = colors[1])\n",
    "        ax3.text(.55, .6, \"Short touch no Lick\" , size=20, transform=ax3.transAxes, color = colors[0])\n",
    "    elif stim_type == 'touch':\n",
    "        colors = ['C7','b', '#6baed6']\n",
    "        ax1.add_patch(patches.Rectangle((0,0),  0.15, 1, facecolor = 'C0', alpha = 0.5))\n",
    "        ax3.text(.6, .7, \"Touch-Lick\" , size=20, transform=ax3.transAxes, color = colors[1])\n",
    "        ax3.text(.6, .6, \"Touch-no Lick\" , size=20, transform=ax3.transAxes, color = colors[0])      \n",
    "    elif stim_type == 'visual':\n",
    "        colors = ['C7','#cc4c02', '#fed98e']\n",
    "        ax1.add_patch(patches.Rectangle((0,0),  0.15, 1, facecolor = 'C1', alpha = 0.5))\n",
    "        ax3.text(.6, .7, \"Visual-Lick\" , size=20, transform=ax3.transAxes, color = colors[1])\n",
    "        ax3.text(.6, .6, \"Visual-no Lick\" , size=20, transform=ax3.transAxes, color = colors[0])       \n",
    "\n",
    "    mpl.sca(ax2)\n",
    "    trial_type = 0\n",
    "    trial_total = 0\n",
    "    for i in range(3):\n",
    "        ras = rasters[trial_type]\n",
    "        spike_counts = []\n",
    "        for trial, spike in enumerate(ras['spike_times(stim_aligned)']):\n",
    "            spike = spike[(spike>window[0]) & (spike<=window[1])]\n",
    "            mpl.vlines(spike, trial + trial_total + .5, trial + trial_total + 1.5)\n",
    "            mpl.vlines(ras.iloc[trial]['first_lick'], trial + trial_total + .5, trial +\n",
    "                       trial_total + 1.5, color = colors[i], linewidth = 5)\n",
    "           \n",
    "            spike = spike[(spike>window[0]) & (spike<=window[1])]\n",
    "            edges = np.arange(window[0], window[1]+bin_size*2, bin_size)\n",
    "            count, _ = np.histogram(spike,edges)\n",
    "            spike_counts.append(count)\n",
    "            \n",
    "        c1 = 0 + 0.5*trial_type\n",
    "        c2 = 0.5 + 0.5*trial_type\n",
    "   \n",
    "        hists.append(np.array(spike_counts))\n",
    "        patch_ax.add_patch(patches.Rectangle((window[0],trial_total+c1), window[1]-window[0],\n",
    "                                       trial + c2, facecolor = colors[trial_type], alpha = 0.5)) \n",
    "        trial_total += trial\n",
    "        trial_type += 1\n",
    "        \n",
    "    ax2.set_xlabel('Time(s)', fontsize = 20)\n",
    "    ax2.set_ylabel('Trials', fontsize= 20)\n",
    "\n",
    "    from scipy import stats\n",
    "    average_hists = []\n",
    "    SE_hists =[]\n",
    "    colors = colors[::-1]\n",
    "    for i, hist in enumerate(hists[::-1]):\n",
    "        average_hists.append(np.mean(hist, axis=0)/bin_size)\n",
    "        SE_hists.append(stats.sem(hist)/bin_size)\n",
    "        \n",
    "        ax3.plot(edges[0:-1], average_hists[i], color = colors[i])\n",
    "        ax3.fill_between(edges[0:-1], average_hists[i]-SE_hists[i],\n",
    "                        average_hists[i]+SE_hists[i], alpha = 0.5, color = colors[i])\n",
    "    \n",
    "   \n",
    "    ax3.spines['right'].set_visible(False)\n",
    "    ax3.spines['top'].set_visible(False)\n",
    "    ax3.xaxis.set_ticks_position('bottom')\n",
    "    ax3.yaxis.set_ticks_position('left')\n",
    "    ax3.set_xlabel('Time from stim onset(s)', fontsize = 20)\n",
    "    ax3.set_ylabel('Firing Rate (Hz)', fontsize= 20)\n",
    "    \n",
    "    if ylim != None:\n",
    "        ax3.set_ylim(ylim)\n",
    "\n",
    "    ax2.spines['right'].set_visible(False)\n",
    "    ax2.spines['top'].set_visible(False)\n",
    "    ax2.spines['bottom'].set_visible(False)\n",
    "    ax2.axes.get_xaxis().set_visible(False)\n",
    "    gs2.update(hspace=0.05)\n",
    "    gs3.update(hspace=0.05)\n",
    "    ax2.yaxis.set_ticks_position('left')\n",
    "    ax2.set_ylim(0.5, trial_total+.5)    \n",
    "        \n",
    "    ax1.set_ylim(0,2)\n",
    "    patch_ax.axis('off')\n",
    "    for ax in [ax1,ax2,ax3]:\n",
    "        ax.set_xlim(window[0],window[1]-bin_size)\n",
    "        \n",
    "    return fig, average_hists, SE_hists"
   ]
  },
  {
   "cell_type": "code",
   "execution_count": 67,
   "metadata": {
    "ExecuteTime": {
     "end_time": "2017-11-27T12:30:57.195358Z",
     "start_time": "2017-11-27T12:30:57.145314"
    },
    "code_folding": [],
    "jupyter": {
     "outputs_hidden": false
    }
   },
   "outputs": [],
   "source": [
    "def plot_unit(current_cell, x_min, x_max, stim_type = 'touch', ylim=None):\n",
    "    if stim_type == 'touch':\n",
    "        stim = current_cell['trial_type'] == 'Stim_Som_NoCue'\n",
    "        lick = (current_cell['response'] == 1)\n",
    "    elif stim_type == 'short touch':\n",
    "        stim = current_cell['trial_type'] == '1CycStim_Som_NoCue'\n",
    "        lick = (current_cell['response'] == 1)\n",
    "    elif stim_type == 'visual':\n",
    "        stim = current_cell['trial_type'] == 'Stim_Vis_NoCue'\n",
    "        lick = (current_cell['response'] == 2)\n",
    "    elif stim_type == 'short visual':\n",
    "        stim = current_cell['trial_type'] == '1CycStim_Vis_NoCue'\n",
    "        lick = (current_cell['response'] == 2)\n",
    "#     lick = (current_cell['response'] == )\n",
    "    no_lick = current_cell['response'] == 0\n",
    "    \n",
    "    stim_no_lick_rows = current_cell[stim & no_lick][0:30]\n",
    "    stim_lick_rows = current_cell[stim & lick]\n",
    "                                     \n",
    "    terciles = stim_lick_rows['first_lick'].quantile([.33, .67])\n",
    "    first_tercile = stim_lick_rows[stim_lick_rows['first_lick'] <= terciles[.33]]\n",
    "    second_tercile = stim_lick_rows[(stim_lick_rows['first_lick'] > terciles[.33]) &\n",
    "                                    ((stim_lick_rows['first_lick'] < terciles[.67]))]\n",
    "    third_tercile = stim_lick_rows[stim_lick_rows['first_lick'] >= terciles[.67]]\n",
    "\n",
    "\n",
    "    rasters = [stim_no_lick_rows ,first_tercile, third_tercile]\n",
    "    fig = plot_rasters(rasters, [x_min, x_max], 0.025, ylim = ylim, stim_type = stim_type)[0]\n",
    "\n",
    "    return fig"
   ]
  },
  {
   "cell_type": "code",
   "execution_count": 68,
   "metadata": {
    "ExecuteTime": {
     "end_time": "2017-11-27T12:30:57.650207Z",
     "start_time": "2017-11-27T12:30:57.196356"
    },
    "collapsed": true,
    "jupyter": {
     "outputs_hidden": true
    }
   },
   "outputs": [],
   "source": [
    "unit_ids = bimodal_lick_units[['mouse_name', 'date', 'cluster_name']]\n",
    "unit_rows = pd.merge(log_df, unit_ids.iloc[13].to_frame().T, on = ['mouse_name', 'date', 'cluster_name'], how = 'inner')"
   ]
  },
  {
   "cell_type": "code",
   "execution_count": 69,
   "metadata": {
    "ExecuteTime": {
     "end_time": "2017-11-27T12:30:58.270456Z",
     "start_time": "2017-11-27T12:30:57.652204"
    },
    "jupyter": {
     "outputs_hidden": false
    }
   },
   "outputs": [
    {
     "data": {
      "image/png": "[encoded data removed]",
      "text/plain": [
       "<Figure size 576x504 with 4 Axes>"
      ]
     },
     "metadata": {},
     "output_type": "display_data"
    }
   ],
   "source": [
    "mpl.close('all')\n",
    "fig = plot_unit(unit_rows, -0.15, 1, stim_type = 'touch')"
   ]
  },
  {
   "cell_type": "code",
   "execution_count": 70,
   "metadata": {
    "ExecuteTime": {
     "end_time": "2017-11-27T12:30:59.017528Z",
     "start_time": "2017-11-27T12:30:58.271456"
    },
    "jupyter": {
     "outputs_hidden": false
    }
   },
   "outputs": [
    {
     "data": {
      "image/png": "[encoded data removed]",
      "text/plain": [
       "<Figure size 576x504 with 4 Axes>"
      ]
     },
     "metadata": {},
     "output_type": "display_data"
    }
   ],
   "source": [
    "mpl.close('all')\n",
    "fig = plot_unit(unit_rows, -0.3, 1.5, stim_type = 'visual')"
   ]
  },
  {
   "cell_type": "code",
   "execution_count": 71,
   "metadata": {
    "ExecuteTime": {
     "end_time": "2017-11-27T12:30:59.052556Z",
     "start_time": "2017-11-27T12:30:59.018527"
    },
    "code_folding": [],
    "jupyter": {
     "outputs_hidden": false
    }
   },
   "outputs": [],
   "source": [
    "# unit_ids = touch_and_bimodal[['mouse_name', 'date', 'cluster_name']]\n",
    "\n",
    "def get_tercile_rows(subset_df, stim_type):\n",
    "    unit_ids = subset_df[['mouse_name', 'date', 'cluster_name']].drop_duplicates()\n",
    "    for unit_num in tnrange(unit_ids.shape[0]):\n",
    "        unit_rows = subset_df.reset_index().merge(unit_ids.iloc[unit_num].to_frame().T, \n",
    "                             on = ['mouse_name', 'date', 'cluster_name'], how = 'inner').set_index('index')\n",
    "        if stim_type == 'touch':\n",
    "            stim = unit_rows['trial_type'] == 'Stim_Som_NoCue'\n",
    "        elif stim_type == 'short touch':\n",
    "            stim = unit_rows['trial_type'] == '1CycStim_Som_NoCue'\n",
    "        elif stim_type == 'visual':\n",
    "            stim = unit_rows['trial_type'] == 'Stim_Vis_NoCue'\n",
    "        elif stim_type == 'short visual':\n",
    "            stim = unit_rows['trial_type'] == '1CycStim_Vis_NoCue'\n",
    "            \n",
    "        lick = (unit_rows['response'] != 0) & (unit_rows['correct'] == 1)\n",
    "        no_lick = (unit_rows['response'] == 0) & (unit_rows['correct'] == 1)\n",
    "\n",
    "        stim_no_lick_rows = unit_rows[stim & no_lick]\n",
    "        stim_lick_rows = unit_rows[stim & lick]\n",
    "        \n",
    "        no_lick = list(stim_no_lick_rows.index)\n",
    "        terciles = stim_lick_rows['first_lick'].quantile([.33, .67])\n",
    "        first_terc = (list(stim_lick_rows.index[stim_lick_rows['first_lick'] <= terciles[.33]]))\n",
    "        second_terc = (list(stim_lick_rows.index[(stim_lick_rows['first_lick'] > terciles[.33]) &\n",
    "                                        ((stim_lick_rows['first_lick'] < terciles[.67]))]))\n",
    "        third_terc = (list(stim_lick_rows.index[stim_lick_rows['first_lick']\n",
    "                                                         >= terciles[.67]]))\n",
    "        subset_df.loc[no_lick, 'terc_group'] = 0\n",
    "        subset_df.loc[first_terc, 'terc_group'] = 1\n",
    "        subset_df.loc[second_terc, 'terc_group'] = 2\n",
    "        subset_df.loc[third_terc, 'terc_group'] = 3\n",
    "        \n",
    "    return subset_df\n"
   ]
  },
  {
   "cell_type": "code",
   "execution_count": null,
   "metadata": {
    "ExecuteTime": {
     "end_time": "2017-11-27T12:32:26.814515Z",
     "start_time": "2017-11-27T12:30:59.053557"
    },
    "jupyter": {
     "outputs_hidden": false
    }
   },
   "outputs": [
    {
     "data": {
      "application/vnd.jupyter.widget-view+json": {
       "model_id": "95530e611257449a89cd2fa8416dc717",
       "version_major": 2,
       "version_minor": 0
      },
      "text/html": [
       "<p>Failed to display Jupyter Widget of type <code>HBox</code>.</p>\n",
       "<p>\n",
       "  If you're reading this message in the Jupyter Notebook or JupyterLab Notebook, it may mean\n",
       "  that the widgets JavaScript is still loading. If this message persists, it\n",
       "  likely means that the widgets JavaScript library is either not installed or\n",
       "  not enabled. See the <a href=\"https://ipywidgets.readthedocs.io/en/stable/user_install.html\">Jupyter\n",
       "  Widgets Documentation</a> for setup instructions.\n",
       "</p>\n",
       "<p>\n",
       "  If you're reading this message in another frontend (for example, a static\n",
       "  rendering on GitHub or <a href=\"https://nbviewer.jupyter.org/\">NBViewer</a>),\n",
       "  it may mean that your frontend doesn't currently support widgets.\n",
       "</p>\n"
      ],
      "text/plain": [
       "HBox(children=(IntProgress(value=0, max=666), HTML(value='')))"
      ]
     },
     "metadata": {},
     "output_type": "display_data"
    },
    {
     "name": "stdout",
     "output_type": "stream",
     "text": [
      "\n"
     ]
    },
    {
     "data": {
      "application/vnd.jupyter.widget-view+json": {
       "model_id": "e7df32759c2c4621bf1ed9939f1fe2ac",
       "version_major": 2,
       "version_minor": 0
      },
      "text/html": [
       "<p>Failed to display Jupyter Widget of type <code>HBox</code>.</p>\n",
       "<p>\n",
       "  If you're reading this message in the Jupyter Notebook or JupyterLab Notebook, it may mean\n",
       "  that the widgets JavaScript is still loading. If this message persists, it\n",
       "  likely means that the widgets JavaScript library is either not installed or\n",
       "  not enabled. See the <a href=\"https://ipywidgets.readthedocs.io/en/stable/user_install.html\">Jupyter\n",
       "  Widgets Documentation</a> for setup instructions.\n",
       "</p>\n",
       "<p>\n",
       "  If you're reading this message in another frontend (for example, a static\n",
       "  rendering on GitHub or <a href=\"https://nbviewer.jupyter.org/\">NBViewer</a>),\n",
       "  it may mean that your frontend doesn't currently support widgets.\n",
       "</p>\n"
      ],
      "text/plain": [
       "HBox(children=(IntProgress(value=0, max=666), HTML(value='')))"
      ]
     },
     "metadata": {},
     "output_type": "display_data"
    }
   ],
   "source": [
    "id_cols = ['mouse_name', 'date', 'cluster_name']\n",
    "bi_units_trials = pd.merge(log_df, bimodal_lick_units[id_cols], on = id_cols, how = 'inner')\n",
    "bi_units_trials['terc_group'] = -1\n",
    "bi_units_trials = get_tercile_rows(bi_units_trials, stim_type = 'touch')\n",
    "bi_units_trials = get_tercile_rows(bi_units_trials, stim_type = 'visual')\n",
    "bi_units_trials = bi_units_trials[~bi_units_trials['trial_type'].str.contains('1Cyc')].reset_index(drop=True)"
   ]
  },
  {
   "cell_type": "code",
   "execution_count": null,
   "metadata": {
    "ExecuteTime": {
     "end_time": "2017-11-27T12:32:49.238959Z",
     "start_time": "2017-11-27T12:32:42.061158"
    },
    "jupyter": {
     "outputs_hidden": false
    }
   },
   "outputs": [],
   "source": [
    "window = [-1, 3]\n",
    "edges = np.arange(window[0], window[1], bin_size)\n",
    "\n",
    "bi_units_trials['spike_counts(stim_aligned)'] = bi_units_trials['spike_times(stim_aligned)'].apply(\n",
    "    lambda x: np.histogram(x,edges)[0]/bin_size)\n",
    "\n",
    "\n",
    "conds = ['t_stim_no_lick', 't_stim_lick_first_terc', 't_stim_lick_second_terc', 't_stim_lick_third_terc',\n",
    "        'v_stim_no_lick', 'v_stim_lick_first_terc', 'v_stim_lick_second_terc', 'v_stim_lick_third_terc']\n",
    "\n",
    "z_conds = ['t_stim_no_lick(z_score)', 't_stim_lick_first_terc(z_score)', 't_stim_lick_second_terc(z_score)',\n",
    "           't_stim_lick_third_terc(z_score)','v_stim_no_lick(z_score)', 'v_stim_lick_first_terc(z_score)',\n",
    "           'v_stim_lick_second_terc(z_score)', 'v_stim_lick_third_terc(z_score)']\n",
    "\n",
    "for c in range(8):\n",
    "    bimodal_lick_units[conds[c]] = np.nan\n",
    "    bimodal_lick_units[conds[c]] = bimodal_lick_units[conds[c]].astype(object)\n",
    "    bimodal_lick_units[z_conds[c]] = np.nan\n",
    "    bimodal_lick_units[z_conds[c]] = bimodal_lick_units[z_conds[c]].astype(object)\n",
    "    "
   ]
  },
  {
   "cell_type": "code",
   "execution_count": null,
   "metadata": {},
   "outputs": [],
   "source": [
    "unit_key_df.columns"
   ]
  },
  {
   "cell_type": "code",
   "execution_count": null,
   "metadata": {
    "ExecuteTime": {
     "end_time": "2017-11-27T12:32:42.061158Z",
     "start_time": "2017-11-27T12:32:30.756699"
    },
    "jupyter": {
     "outputs_hidden": false
    }
   },
   "outputs": [],
   "source": [
    "bimodal_lick_units['FR_mean'] = np.nan\n",
    "bimodal_lick_units['FR_std'] = np.nan\n",
    "\n",
    "for num in tnrange(len(bimodal_lick_units.index)):\n",
    "    unit = bimodal_lick_units.index[num]\n",
    "    unit_rows = bi_units_trials[(bi_units_trials['mouse_name'] == bimodal_lick_units.loc[unit, 'mouse_name']) &\n",
    "                              (bi_units_trials['date'] == bimodal_lick_units.loc[unit,'date']) &\n",
    "                              (bi_units_trials['cluster_name'] == bimodal_lick_units.loc[unit,'cluster_name'])]\n",
    "    mouse_name = unit_rows['mouse_name'].iloc[0]\n",
    "    date = unit_rows['date'].iloc[0]\n",
    "    cluster_name = unit_rows['cluster_name'].iloc[0]\n",
    "    \n",
    "    ## since there are 8 trial types (short/long x touchStim/visStim x touchBlock/visBlock) will use random sample of\n",
    "    ## 1/8 of all trials to calculate mean and std of baseline firing rate for each unit\n",
    "    baseline_trial_inds = rand.sample(list(unit_rows.index), int(np.max(unit_rows['trial_num'])/24))\n",
    "    bin_means = np.mean(np.stack(unit_rows.loc[baseline_trial_inds, \n",
    "                                               'baseline_spike_count'].as_matrix(), axis = 0), axis=0)/bin_size\n",
    "\n",
    "    bimodal_lick_units.loc[unit,'FR_mean'] = np.mean(bin_means)\n",
    "    bimodal_lick_units.loc[unit,'FR_std'] = np.std(bin_means)\n",
    "    \n",
    "\n",
    "bimodal_lick_units = bimodal_lick_units[bimodal_lick_units['FR_std'] != 0].reset_index(drop = True)"
   ]
  },
  {
   "cell_type": "code",
   "execution_count": 26,
   "metadata": {
    "ExecuteTime": {
     "end_time": "2017-11-27T12:32:49.465903Z",
     "start_time": "2017-11-27T12:32:49.238959"
    },
    "jupyter": {
     "outputs_hidden": false
    }
   },
   "outputs": [
    {
     "data": {
      "text/html": [
       "<div>\n",
       "<style scoped>\n",
       "    .dataframe tbody tr th:only-of-type {\n",
       "        vertical-align: middle;\n",
       "    }\n",
       "\n",
       "    .dataframe tbody tr th {\n",
       "        vertical-align: top;\n",
       "    }\n",
       "\n",
       "    .dataframe thead th {\n",
       "        text-align: right;\n",
       "    }\n",
       "</style>\n",
       "<table border=\"1\" class=\"dataframe\">\n",
       "  <thead>\n",
       "    <tr style=\"text-align: right;\">\n",
       "      <th></th>\n",
       "      <th>ts_nl</th>\n",
       "      <th>ts_ft</th>\n",
       "      <th>ts_st</th>\n",
       "      <th>ts_tt</th>\n",
       "      <th>vs_nl</th>\n",
       "      <th>vs_ft</th>\n",
       "      <th>vs_st</th>\n",
       "      <th>vs_tt</th>\n",
       "    </tr>\n",
       "  </thead>\n",
       "  <tbody>\n",
       "    <tr>\n",
       "      <th>0</th>\n",
       "      <td>True</td>\n",
       "      <td>False</td>\n",
       "      <td>False</td>\n",
       "      <td>False</td>\n",
       "      <td>False</td>\n",
       "      <td>False</td>\n",
       "      <td>False</td>\n",
       "      <td>False</td>\n",
       "    </tr>\n",
       "    <tr>\n",
       "      <th>1</th>\n",
       "      <td>False</td>\n",
       "      <td>False</td>\n",
       "      <td>False</td>\n",
       "      <td>False</td>\n",
       "      <td>False</td>\n",
       "      <td>False</td>\n",
       "      <td>False</td>\n",
       "      <td>False</td>\n",
       "    </tr>\n",
       "    <tr>\n",
       "      <th>2</th>\n",
       "      <td>False</td>\n",
       "      <td>True</td>\n",
       "      <td>False</td>\n",
       "      <td>False</td>\n",
       "      <td>False</td>\n",
       "      <td>False</td>\n",
       "      <td>False</td>\n",
       "      <td>False</td>\n",
       "    </tr>\n",
       "    <tr>\n",
       "      <th>3</th>\n",
       "      <td>False</td>\n",
       "      <td>False</td>\n",
       "      <td>False</td>\n",
       "      <td>False</td>\n",
       "      <td>False</td>\n",
       "      <td>False</td>\n",
       "      <td>False</td>\n",
       "      <td>False</td>\n",
       "    </tr>\n",
       "    <tr>\n",
       "      <th>4</th>\n",
       "      <td>False</td>\n",
       "      <td>True</td>\n",
       "      <td>False</td>\n",
       "      <td>False</td>\n",
       "      <td>False</td>\n",
       "      <td>False</td>\n",
       "      <td>False</td>\n",
       "      <td>False</td>\n",
       "    </tr>\n",
       "  </tbody>\n",
       "</table>\n",
       "</div>"
      ],
      "text/plain": [
       "   ts_nl  ts_ft  ts_st  ts_tt  vs_nl  vs_ft  vs_st  vs_tt\n",
       "0   True  False  False  False  False  False  False  False\n",
       "1  False  False  False  False  False  False  False  False\n",
       "2  False   True  False  False  False  False  False  False\n",
       "3  False  False  False  False  False  False  False  False\n",
       "4  False   True  False  False  False  False  False  False"
      ]
     },
     "execution_count": 26,
     "metadata": {},
     "output_type": "execute_result"
    }
   ],
   "source": [
    "whisker = bi_units_trials['block_type'] == 'Whisker'\n",
    "visual = bi_units_trials['block_type'] == 'Visual'\n",
    "correct = bi_units_trials['correct'] == 1\n",
    "lick = bi_units_trials['response'] != 0\n",
    "lick_right = bi_units_trials['response'] == 1\n",
    "lick_left = bi_units_trials['response'] == 2\n",
    "\n",
    "t_stim = bi_units_trials['trial_type'].str.contains('Stim_Som')\n",
    "v_stim = bi_units_trials['trial_type'].str.contains('Stim_Vis')\n",
    "\n",
    "tt_key = pd.DataFrame()\n",
    "tt_key['ts_nl'] = t_stim & (bi_units_trials['terc_group'] == 0)\n",
    "tt_key['ts_ft'] = t_stim & (bi_units_trials['terc_group'] == 1)\n",
    "tt_key['ts_st'] = t_stim & (bi_units_trials['terc_group'] == 2)\n",
    "tt_key['ts_tt'] = t_stim & (bi_units_trials['terc_group'] == 3)\n",
    "tt_key['vs_nl'] = v_stim & (bi_units_trials['terc_group'] == 0)\n",
    "tt_key['vs_ft'] = v_stim & (bi_units_trials['terc_group'] == 1)\n",
    "tt_key['vs_st'] = v_stim & (bi_units_trials['terc_group'] == 2)\n",
    "tt_key['vs_tt'] = v_stim & (bi_units_trials['terc_group'] == 3)\n",
    "\n",
    "\n",
    "tt_key.head()"
   ]
  },
  {
   "cell_type": "code",
   "execution_count": 27,
   "metadata": {
    "ExecuteTime": {
     "end_time": "2017-11-27T12:33:11.409886Z",
     "start_time": "2017-11-27T12:32:49.466903"
    },
    "jupyter": {
     "outputs_hidden": false
    }
   },
   "outputs": [
    {
     "data": {
      "application/vnd.jupyter.widget-view+json": {
       "model_id": "924e026f9f234c5482314d60106cf90a",
       "version_major": 2,
       "version_minor": 0
      },
      "text/html": [
       "<p>Failed to display Jupyter Widget of type <code>HBox</code>.</p>\n",
       "<p>\n",
       "  If you're reading this message in the Jupyter Notebook or JupyterLab Notebook, it may mean\n",
       "  that the widgets JavaScript is still loading. If this message persists, it\n",
       "  likely means that the widgets JavaScript library is either not installed or\n",
       "  not enabled. See the <a href=\"https://ipywidgets.readthedocs.io/en/stable/user_install.html\">Jupyter\n",
       "  Widgets Documentation</a> for setup instructions.\n",
       "</p>\n",
       "<p>\n",
       "  If you're reading this message in another frontend (for example, a static\n",
       "  rendering on GitHub or <a href=\"https://nbviewer.jupyter.org/\">NBViewer</a>),\n",
       "  it may mean that your frontend doesn't currently support widgets.\n",
       "</p>\n"
      ],
      "text/plain": [
       "HBox(children=(IntProgress(value=0, max=551), HTML(value='')))"
      ]
     },
     "metadata": {},
     "output_type": "display_data"
    },
    {
     "name": "stderr",
     "output_type": "stream",
     "text": [
      "C:\\Users\\efink\\Anaconda3\\lib\\site-packages\\ipykernel_launcher.py:25: FutureWarning: set_value is deprecated and will be removed in a future release. Please use .at[] or .iat[] accessors instead\n",
      "C:\\Users\\efink\\Anaconda3\\lib\\site-packages\\ipykernel_launcher.py:27: FutureWarning: set_value is deprecated and will be removed in a future release. Please use .at[] or .iat[] accessors instead\n"
     ]
    },
    {
     "name": "stdout",
     "output_type": "stream",
     "text": [
      "\n"
     ]
    }
   ],
   "source": [
    "for i in tnrange(len(bimodal_lick_units.index)):\n",
    "    unit = bimodal_lick_units.index[i]\n",
    "\n",
    "    unit_row_inds = ((bi_units_trials['mouse_name'] == bimodal_lick_units.loc[unit, 'mouse_name']) &\n",
    "                        (bi_units_trials['date'] == bimodal_lick_units.loc[unit,'date']) &\n",
    "                        (bi_units_trials['cluster_name'] == bimodal_lick_units.loc[unit,'cluster_name']))\n",
    "    unit_rows = bi_units_trials[unit_row_inds]\n",
    "    unit_tt = tt_key[unit_row_inds]\n",
    "    \n",
    "  \n",
    "    trial_types = [unit_tt['ts_nl'],unit_tt['ts_ft'], unit_tt['ts_st'], unit_tt['ts_tt'],\n",
    "                   unit_tt['vs_nl'], unit_tt['vs_ft'], unit_tt['vs_st'], unit_tt['vs_tt']]\n",
    "    bin_means_all = []\n",
    "    \n",
    "    for j in range(8):\n",
    "        tt_rows = unit_rows[trial_types[j].as_matrix()]\n",
    "        if len(tt_rows['spike_counts(stim_aligned)'].as_matrix())<2:\n",
    "            bin_means = np.array([np.nan]*159)\n",
    "        else:\n",
    "            bin_means = np.mean(np.stack(tt_rows['spike_counts(stim_aligned)'].as_matrix(), axis = 0), axis=0)\n",
    "            \n",
    "        baseline_mean = bimodal_lick_units.loc[unit, 'FR_mean']\n",
    "        baseline_std = bimodal_lick_units.loc[unit, 'FR_std']\n",
    "        \n",
    "        bimodal_lick_units.set_value(unit,conds[j],bin_means)\n",
    "\n",
    "        bimodal_lick_units.set_value(unit,z_conds[j],(bin_means - baseline_mean)/baseline_std)\n"
   ]
  },
  {
   "cell_type": "code",
   "execution_count": 28,
   "metadata": {
    "ExecuteTime": {
     "end_time": "2017-11-27T12:35:34.021773Z",
     "start_time": "2017-11-27T12:35:08.029642"
    },
    "jupyter": {
     "outputs_hidden": false
    }
   },
   "outputs": [
    {
     "name": "stderr",
     "output_type": "stream",
     "text": [
      "C:\\Users\\efink\\Anaconda3\\lib\\site-packages\\numpy\\lib\\function_base.py:4033: RuntimeWarning: All-NaN slice encountered\n",
      "  r = func(a, **kwargs)\n"
     ]
    },
    {
     "data": {
      "application/vnd.jupyter.widget-view+json": {
       "model_id": "3ed26943192b4c4fb910c74178b48d54",
       "version_major": 2,
       "version_minor": 0
      },
      "text/html": [
       "<p>Failed to display Jupyter Widget of type <code>HBox</code>.</p>\n",
       "<p>\n",
       "  If you're reading this message in the Jupyter Notebook or JupyterLab Notebook, it may mean\n",
       "  that the widgets JavaScript is still loading. If this message persists, it\n",
       "  likely means that the widgets JavaScript library is either not installed or\n",
       "  not enabled. See the <a href=\"https://ipywidgets.readthedocs.io/en/stable/user_install.html\">Jupyter\n",
       "  Widgets Documentation</a> for setup instructions.\n",
       "</p>\n",
       "<p>\n",
       "  If you're reading this message in another frontend (for example, a static\n",
       "  rendering on GitHub or <a href=\"https://nbviewer.jupyter.org/\">NBViewer</a>),\n",
       "  it may mean that your frontend doesn't currently support widgets.\n",
       "</p>\n"
      ],
      "text/plain": [
       "HBox(children=(IntProgress(value=0, max=551), HTML(value='')))"
      ]
     },
     "metadata": {},
     "output_type": "display_data"
    },
    {
     "name": "stdout",
     "output_type": "stream",
     "text": [
      "\n"
     ]
    }
   ],
   "source": [
    "RT_median_table = pd.pivot_table(bi_units_trials, values = 'first_lick', index = \n",
    "                       ['uni_id','trial_type','terc_group'], aggfunc = np.nanmedian)\n",
    "\n",
    "for num in tqdm_notebook(bimodal_lick_units.index):\n",
    "    unit = bimodal_lick_units.loc[num, 'uni_id']\n",
    "    unit_rows = bi_units_trials[bi_units_trials['uni_id'] == unit]\n",
    "                              \n",
    "     \n",
    "    bimodal_lick_units.loc[num, 'RT_med_TLR_fterc'] = RT_median_table.loc[unit, 'Stim_Som_NoCue', 1].values\n",
    "    bimodal_lick_units.loc[num, 'RT_med_VLL_fterc'] = RT_median_table.loc[unit, 'Stim_Vis_NoCue', 1].values\n",
    "    bimodal_lick_units.loc[num, 'RT_med_TLR_sterc'] = RT_median_table.loc[unit, 'Stim_Som_NoCue', 2].values\n",
    "    bimodal_lick_units.loc[num, 'RT_med_VLL_sterc'] = RT_median_table.loc[unit, 'Stim_Vis_NoCue', 2].values\n",
    "    bimodal_lick_units.loc[num, 'RT_med_TLR_tterc'] = RT_median_table.loc[unit, 'Stim_Som_NoCue', 3].values\n",
    "    bimodal_lick_units.loc[num, 'RT_med_VLL_tterc'] = RT_median_table.loc[unit, 'Stim_Vis_NoCue', 3].values\n",
    "\n",
    "    "
   ]
  },
  {
   "cell_type": "code",
   "execution_count": 29,
   "metadata": {
    "ExecuteTime": {
     "end_time": "2017-11-27T12:35:34.654048Z",
     "start_time": "2017-11-27T12:35:34.638235"
    },
    "jupyter": {
     "outputs_hidden": false
    }
   },
   "outputs": [],
   "source": [
    "reaction_times = bimodal_lick_units[['mouse_name', 'date', 'RT_med_TLR_fterc', 'RT_med_TLR_sterc', \n",
    "                                     'RT_med_TLR_tterc', 'RT_med_VLL_fterc','RT_med_VLL_sterc',\n",
    "                                     'RT_med_VLL_tterc']].drop_duplicates().reset_index(drop=True)\n"
   ]
  },
  {
   "cell_type": "code",
   "execution_count": 30,
   "metadata": {
    "ExecuteTime": {
     "end_time": "2017-11-28T16:33:49.208991Z",
     "start_time": "2017-11-28T16:33:49.199984"
    },
    "jupyter": {
     "outputs_hidden": false
    }
   },
   "outputs": [],
   "source": [
    "sub_map = bimodal_lick_units\n",
    "z_scored_df = sub_map\n",
    "\n",
    "data = {}\n",
    "\n",
    "columns = [['t_stim_no_lick(z_score)', 't_stim_lick_first_terc(z_score)', 'v_stim_lick_third_terc(z_score)'],\n",
    "           ['t_stim_no_lick(z_score)', 't_stim_lick_third_terc(z_score)',  'v_stim_lick_first_terc(z_score)']]\n",
    "\n",
    "for i,col in enumerate(columns):\n",
    "    data[i] = [pd.DataFrame(np.stack(sub_map[z_map].as_matrix())) for z_map in col]\n"
   ]
  },
  {
   "cell_type": "code",
   "execution_count": 31,
   "metadata": {
    "ExecuteTime": {
     "end_time": "2017-11-28T16:34:00.973298Z",
     "start_time": "2017-11-28T16:34:00.487740"
    },
    "jupyter": {
     "outputs_hidden": false
    }
   },
   "outputs": [
    {
     "data": {
      "image/png": "[encoded data removed]",
      "text/plain": [
       "<Figure size 576x288 with 4 Axes>"
      ]
     },
     "metadata": {},
     "output_type": "display_data"
    }
   ],
   "source": [
    "mpl.close('all')\n",
    "fig2b_3 = mpl.figure(figsize = (8,4))\n",
    "\n",
    "gs1 = gridspec.GridSpec(1,2)\n",
    "gs2 = gridspec.GridSpec(1,2)\n",
    "\n",
    "gs1.update(bottom=0.25, top=0.8, left = 0.15, right = 0.85, wspace=0.05)\n",
    "gs2.update(bottom = 0.81, top=0.87, left = 0.15, right = 0.85, wspace=0.05)\n",
    "\n",
    "colors = ['C0', 'C1',]\n",
    "\n",
    "ax1 = mpl.subplot(gs1[0, 0])\n",
    "ax2 = mpl.subplot(gs1[0, 1],sharey=ax1, sharex = ax1)\n",
    "\n",
    "axs = [ax1,ax2]\n",
    "xvals = np.arange(-1,3,bin_size)\n",
    "\n",
    "\n",
    "for i, col in enumerate(list(data.keys())):\n",
    "    trial_types = data[col]\n",
    "    ax = mpl.subplot(gs2[0, i],sharex=axs[i])\n",
    "    ax.add_patch(patches.Rectangle((0,0), 0.15, 1, facecolor = 'C0', alpha = 0.5))\n",
    "    ax.add_patch(patches.Rectangle((0,1), 0.15, 2, facecolor = 'C1', alpha = 0.5))\n",
    "    ax.set_ylim(0,2)\n",
    "\n",
    "    ax.axis('off')\n",
    "\n",
    "    for tt in trial_types:\n",
    "        z_map = tt\n",
    "        m_psth = z_map.mean(axis = 0)\n",
    "        sem_psth = scipy.stats.sem(z_map, axis = 0, nan_policy = 'omit')\n",
    "        axs[i].plot(xvals[:-1],m_psth)\n",
    "        axs[i].fill_between(xvals[0:-1], m_psth-sem_psth, m_psth+sem_psth,alpha=0.5,)\n",
    "        axs[i].set_xticks(np.arange(-1,1.6,0.5))\n",
    "        axs[i].set_xlim(-0.3,1)\n",
    "        axs[i].spines['right'].set_visible(False)\n",
    "        axs[i].spines['top'].set_visible(False)\n",
    "        axs[i].set_xlabel('Time from\\nstim onset (s)')\n",
    "        if i>0:\n",
    "            axs[i].axes.get_yaxis().set_visible(False)\n",
    "            axs[i].spines['left'].set_visible(False)\n",
    "            \n",
    "ylim = ax1.get_ylim()\n",
    "\n",
    "bplot1 = ax1.boxplot([reaction_times['RT_med_TLR_fterc'],reaction_times['RT_med_VLL_tterc']], \n",
    "                     vert = False, positions = [2.5,2.8], showfliers = False,patch_artist = True)\n",
    "bplot2 = ax2.boxplot([reaction_times['RT_med_TLR_tterc'],reaction_times['RT_med_VLL_fterc']],\n",
    "                     vert = False, positions = [2.5,2.8], showfliers = False,patch_artist = True)\n",
    "ax1.set_ylim(-0.5, 3)\n",
    "ax1.set_ylim(-0.5, 3)\n",
    "ax1.set_xlim(-0.3, 1.5)\n",
    "\n",
    "ax1.set_yticks([0,1,2,3])\n",
    "ax1.set_yticklabels([0,1,2, 3])\n",
    "\n",
    "axs[0].set_ylabel('Mean Z-score')\n",
    "# axs[-1].text(.45, .16, \"Touch block\" , transform=axs[i].transAxes, color = colors[0])\n",
    "# axs[-1].text(.45, .05, \"Visual block\" , transform=axs[i].transAxes, color = colors[1])\n",
    "for bplot in (bplot1, bplot2):\n",
    "    for patch, color in zip(bplot['boxes'], colors):\n",
    "        for element in ['whiskers', 'fliers', 'means', 'medians', 'caps']:\n",
    "            mpl.setp(bplot[element], color='k')\n",
    "        patch.set_facecolor(color)\n",
    "        patch.set_alpha(0.5)\n",
    "\n",
    "ylim_hit_psth = axs[0].get_ylim()\n",
    "\n",
    "# fig2b_3"
   ]
  },
  {
   "cell_type": "code",
   "execution_count": 33,
   "metadata": {
    "ExecuteTime": {
     "end_time": "2017-11-27T12:41:04.411608Z",
     "start_time": "2017-11-27T12:41:03.181422"
    },
    "jupyter": {
     "outputs_hidden": false
    }
   },
   "outputs": [],
   "source": [
    "# fig2b_3.savefig('fig3_suppB.tiff',format='tiff', dpi = 900)"
   ]
  },
  {
   "cell_type": "code",
   "execution_count": 34,
   "metadata": {
    "ExecuteTime": {
     "end_time": "2017-11-27T12:43:20.769314Z",
     "start_time": "2017-11-27T12:43:20.757304"
    },
    "collapsed": true,
    "jupyter": {
     "outputs_hidden": true
    }
   },
   "outputs": [],
   "source": [
    "data = {}\n",
    "\n",
    "columns = [['t_stim_no_lick(z_score)', 't_stim_lick_first_terc(z_score)', 't_stim_lick_second_terc(z_score)',\n",
    "           't_stim_lick_third_terc(z_score)'],['v_stim_no_lick(z_score)', 'v_stim_lick_first_terc(z_score)',\n",
    "           'v_stim_lick_second_terc(z_score)', 'v_stim_lick_third_terc(z_score)']]\n",
    "\n",
    "for i,col in enumerate(columns):\n",
    "    data[i] = [pd.DataFrame(np.stack(sub_map[z_map].as_matrix())) for z_map in col]\n"
   ]
  },
  {
   "cell_type": "code",
   "execution_count": 35,
   "metadata": {
    "ExecuteTime": {
     "end_time": "2017-11-27T12:43:33.937873Z",
     "start_time": "2017-11-27T12:43:33.390892"
    },
    "jupyter": {
     "outputs_hidden": false
    }
   },
   "outputs": [
    {
     "data": {
      "image/png": "[encoded data removed]",
      "text/plain": [
       "<Figure size 720x360 with 4 Axes>"
      ]
     },
     "execution_count": 35,
     "metadata": {},
     "output_type": "execute_result"
    },
    {
     "data": {
      "image/png": "[encoded data removed]",
      "text/plain": [
       "<Figure size 720x360 with 4 Axes>"
      ]
     },
     "metadata": {},
     "output_type": "display_data"
    }
   ],
   "source": [
    "mpl.close('all')\n",
    "fig2b_3 = mpl.figure(figsize = (10,5))\n",
    "\n",
    "gs1 = gridspec.GridSpec(1,2)\n",
    "gs2 = gridspec.GridSpec(1,2)\n",
    "\n",
    "gs1.update(bottom=0.25, top=0.8, left = 0.15, right = 0.85, wspace=0.05)\n",
    "gs2.update(bottom = 0.81, top=0.87, left = 0.15, right = 0.85, wspace=0.05)\n",
    "\n",
    "\n",
    "colors = ['C0', 'C1',]\n",
    "\n",
    "ax1 = mpl.subplot(gs1[0, 0])\n",
    "ax2 = mpl.subplot(gs1[0, 1],sharey=ax1, sharex = ax1)\n",
    "ax3 = mpl.subplot(gs2[0, 0], sharex=ax1)\n",
    "ax4 = mpl.subplot(gs2[0, 1], sharex=ax2)\n",
    "ax3.add_patch(patches.Rectangle((0,0), 0.15, 1, facecolor = 'C0', alpha = 0.5))\n",
    "ax4.add_patch(patches.Rectangle((0,0), 0.15, 1, facecolor = 'C1', alpha = 0.5))\n",
    "\n",
    "for ax in [ax3,ax4]:\n",
    "    ax.set_ylim(0,2)\n",
    "    ax.axis('off')\n",
    "\n",
    "axs = [ax1,ax2]\n",
    "xvals = np.arange(-1,3,bin_size)\n",
    "for i, col in enumerate(list(data.keys())):\n",
    "    trial_types = data[col]\n",
    "\n",
    "    colors = ['C7', 'C3', 'C4', 'C5']\n",
    "    for j,tt in enumerate(trial_types):\n",
    "        z_map = tt\n",
    "        m_psth = z_map.mean(axis = 0)\n",
    "        sem_psth = scipy.stats.sem(z_map, axis = 0, nan_policy = 'omit')\n",
    "        axs[i].plot(xvals[:-1],m_psth, color = colors[j])\n",
    "        axs[i].fill_between(xvals[0:-1], m_psth-sem_psth, m_psth+sem_psth,alpha=0.5, color = colors[j])\n",
    "        axs[i].set_xticks(np.arange(-1,3,1))\n",
    "        axs[i].set_xlim(-0.3,1)\n",
    "        axs[i].spines['right'].set_visible(False)\n",
    "        axs[i].spines['top'].set_visible(False)\n",
    "        axs[i].set_xlabel('Time from\\nstim onset (s)')\n",
    "        if i>0:\n",
    "            axs[i].axes.get_yaxis().set_visible(False)\n",
    "            axs[i].spines['left'].set_visible(False)\n",
    "        \n",
    "axs[0].set_ylabel('Mean Z-score')\n",
    "axs[-1].text(.75, .79, \"No lick\" , transform=axs[i].transAxes, color = 'C7')\n",
    "axs[-1].text(.75, .69, \"Lick-1st tercile\" , transform=axs[i].transAxes, color = 'C3')\n",
    "axs[-1].text(.75, .59, \"Lick-2nd tercile\" , transform=axs[i].transAxes, color = 'C4')\n",
    "axs[-1].text(.75, .49, \"Lick-3rd tercile\" , transform=axs[i].transAxes, color = 'C5')\n",
    "\n",
    "bplot1 = ax1.boxplot([reaction_times['RT_med_TLR_fterc'],reaction_times['RT_med_TLR_sterc'], \n",
    "                      reaction_times['RT_med_TLR_tterc']], vert = False, positions = [3.5,3.9,4.3], \n",
    "                     showfliers = False, patch_artist = True)\n",
    "bplot2 = ax2.boxplot([reaction_times['RT_med_VLL_fterc'],reaction_times['RT_med_VLL_sterc'], \n",
    "                      reaction_times['RT_med_VLL_tterc']], vert = False, positions = [3.5,3.9,4.3], \n",
    "                     showfliers = False , patch_artist = True)\n",
    "for bplot in (bplot1, bplot2):\n",
    "    for patch, color in zip(bplot['boxes'], colors[1:]):\n",
    "        for element in ['whiskers', 'fliers', 'means', 'medians', 'caps']:\n",
    "            mpl.setp(bplot[element], color='k')\n",
    "        patch.set_facecolor(color)\n",
    "        patch.set_alpha(0.5)\n",
    "\n",
    "\n",
    "ax1.set_ylim(-0.5,4.5)\n",
    "ax1.set_xlim(-0.3,1.5)\n",
    "ax1.set_yticks([0,2,4])\n",
    "ax1.set_yticklabels([0,2,4])\n",
    "\n",
    "ylim_hit_psth = axs[0].get_ylim()\n",
    "\n",
    "fig2b_3"
   ]
  },
  {
   "cell_type": "code",
   "execution_count": 36,
   "metadata": {
    "ExecuteTime": {
     "end_time": "2017-11-27T12:43:44.563930Z",
     "start_time": "2017-11-27T12:43:44.086241"
    },
    "collapsed": true,
    "jupyter": {
     "outputs_hidden": true
    }
   },
   "outputs": [],
   "source": [
    "# fig2b_3.savefig('fig3_suppB.tiff',format='tiff', dpi = 900)"
   ]
  },
  {
   "cell_type": "code",
   "execution_count": null,
   "metadata": {
    "ExecuteTime": {
     "end_time": "2017-11-15T13:35:39.763303Z",
     "start_time": "2017-11-15T13:35:39.375101"
    },
    "collapsed": true,
    "jupyter": {
     "outputs_hidden": true
    }
   },
   "outputs": [],
   "source": [
    "z_scored_df = pd.read_hdf('z_scored_df.h5', 'table')\n"
   ]
  },
  {
   "cell_type": "code",
   "execution_count": null,
   "metadata": {
    "ExecuteTime": {
     "end_time": "2017-11-15T13:35:39.784314Z",
     "start_time": "2017-11-15T13:35:39.767301"
    },
    "jupyter": {
     "outputs_hidden": false
    }
   },
   "outputs": [],
   "source": [
    "sub_map = z_scored_df.merge(bimodal_lick_units, on = id_cols, how = 'inner')"
   ]
  },
  {
   "cell_type": "code",
   "execution_count": null,
   "metadata": {
    "ExecuteTime": {
     "end_time": "2017-11-15T12:38:22.070797Z",
     "start_time": "2017-11-15T17:36:54.120Z"
    },
    "jupyter": {
     "outputs_hidden": false
    }
   },
   "outputs": [],
   "source": [
    "data[z_map] = pd.DataFrame(np.stack(sub_map[z_map].as_matrix()))"
   ]
  },
  {
   "cell_type": "code",
   "execution_count": null,
   "metadata": {
    "collapsed": true,
    "jupyter": {
     "outputs_hidden": true
    }
   },
   "outputs": [],
   "source": []
  }
 ],
 "metadata": {
  "kernelspec": {
   "display_name": "Python 3 (ipykernel)",
   "language": "python",
   "name": "python3"
  },
  "language_info": {
   "codemirror_mode": {
    "name": "ipython",
    "version": 3
   },
   "file_extension": ".py",
   "mimetype": "text/x-python",
   "name": "python",
   "nbconvert_exporter": "python",
   "pygments_lexer": "ipython3",
   "version": "3.9.6"
  }
 },
 "nbformat": 4,
 "nbformat_minor": 4
}

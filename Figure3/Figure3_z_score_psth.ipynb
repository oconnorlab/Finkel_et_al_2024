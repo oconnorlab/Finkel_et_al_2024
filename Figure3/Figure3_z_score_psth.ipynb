{
 "cells": [
  {
   "cell_type": "code",
   "execution_count": 2,
   "metadata": {
    "ExecuteTime": {
     "end_time": "2017-08-04T13:52:46.356215Z",
     "start_time": "2017-08-04T13:52:45.033819"
    },
    "tags": []
   },
   "outputs": [
    {
     "name": "stderr",
     "output_type": "stream",
     "text": [
      "C:\\Users\\Eric\\AppData\\Local\\Temp/ipykernel_6872/1158576645.py:18: DeprecationWarning: Using or importing the ABCs from 'collections' instead of from 'collections.abc' is deprecated since Python 3.3, and in 3.10 it will stop working\n",
      "  from collections import Iterable\n"
     ]
    }
   ],
   "source": [
    "#!pip install ipywidgets\n",
    "#!jupyter nbextension enable --py widgetsnbextension\n",
    "import scipy as sp\n",
    "import scipy.io\n",
    "import scipy.stats\n",
    "import os\n",
    "import numpy as np\n",
    "import pandas as pd\n",
    "import glob\n",
    "import csv\n",
    "import random as rand\n",
    "from tqdm import tnrange, tqdm_notebook\n",
    "\n",
    "import cmocean\n",
    "import matplotlib.patches as patches\n",
    "from matplotlib import gridspec\n",
    "\n",
    "from collections import Iterable\n",
    "import matplotlib.pylab as mpl\n",
    "import random as rand\n",
    "from ipywidgets import *\n",
    "import colorlover as cl\n",
    "import sys\n",
    "sys.path.append(os.getcwd()+'/../')\n",
    "from utils import utils, zscores\n",
    "\n",
    "\n",
    "from sklearn.metrics import roc_curve, auc\n",
    "from sklearn.model_selection import train_test_split\n",
    "from sklearn.preprocessing import label_binarize\n"
   ]
  },
  {
   "cell_type": "code",
   "execution_count": 3,
   "metadata": {
    "ExecuteTime": {
     "end_time": "2017-08-04T13:52:46.362810Z",
     "start_time": "2017-08-04T13:52:46.356215"
    },
    "tags": []
   },
   "outputs": [],
   "source": [
    "font = {'family' : 'sans-serif',\n",
    "        'weight' : 'normal',\n",
    "        'size'   : 24}\n",
    "\n",
    "mpl.rc('font', **font)\n",
    "mpl.rc('xtick', labelsize=20) \n",
    "mpl.rc('ytick', labelsize=20)\n",
    "mpl.rc('axes', labelsize=20)\n",
    "\n",
    "bin_size = 0.025"
   ]
  },
  {
   "cell_type": "code",
   "execution_count": 24,
   "metadata": {},
   "outputs": [],
   "source": [
    "DATA_DIR = os.path.abspath('../data')\n",
    "##### uncomment below if the processed data is already saved\n",
    "log_df_1cyc = pd.read_hdf(os.path.join(DATA_DIR, 'log_df_processed_02-28-2019.h5'), 'fixed').reset_index(drop = True)\n",
    "unit_key_df_1cyc = pd.read_hdf(os.path.join(DATA_DIR, 'unit_key_df_processed_02-28-2019.h5'), 'fixed')"
   ]
  },
  {
   "cell_type": "code",
   "execution_count": 26,
   "metadata": {},
   "outputs": [],
   "source": [
    "z_score_bl_df = log_df_1cyc.copy()"
   ]
  },
  {
   "cell_type": "code",
   "execution_count": 27,
   "metadata": {},
   "outputs": [],
   "source": [
    "baseline_df = pd.DataFrame(-np.column_stack((z_score_bl_df['stim_onset'], np.repeat(0.5, len(z_score_bl_df['stim_onset'])))),\n",
    "                  columns = ['baseline_min', 'baseline_max'])"
   ]
  },
  {
   "cell_type": "code",
   "execution_count": 28,
   "metadata": {},
   "outputs": [
    {
     "data": {
      "text/plain": [
       "453926"
      ]
     },
     "execution_count": 28,
     "metadata": {},
     "output_type": "execute_result"
    }
   ],
   "source": [
    "len(np.repeat(0.5, len(z_score_bl_df['stim_onset'])))"
   ]
  },
  {
   "cell_type": "code",
   "execution_count": 29,
   "metadata": {},
   "outputs": [
    {
     "data": {
      "text/plain": [
       "(453926, 2)"
      ]
     },
     "execution_count": 29,
     "metadata": {},
     "output_type": "execute_result"
    }
   ],
   "source": [
    "np.column_stack((z_score_bl_df['stim_onset'], np.repeat(0.5, len(z_score_bl_df['stim_onset'])))).shape"
   ]
  },
  {
   "cell_type": "code",
   "execution_count": 30,
   "metadata": {},
   "outputs": [],
   "source": [
    "baseline_df = pd.DataFrame(-np.column_stack((z_score_bl_df['stim_onset'], np.repeat(0.5, len(z_score_bl_df['stim_onset'])))),\n",
    "                  columns = ['baseline_min', 'baseline_max'])"
   ]
  },
  {
   "cell_type": "code",
   "execution_count": 31,
   "metadata": {},
   "outputs": [
    {
     "data": {
      "text/html": [
       "<div>\n",
       "<style scoped>\n",
       "    .dataframe tbody tr th:only-of-type {\n",
       "        vertical-align: middle;\n",
       "    }\n",
       "\n",
       "    .dataframe tbody tr th {\n",
       "        vertical-align: top;\n",
       "    }\n",
       "\n",
       "    .dataframe thead th {\n",
       "        text-align: right;\n",
       "    }\n",
       "</style>\n",
       "<table border=\"1\" class=\"dataframe\">\n",
       "  <thead>\n",
       "    <tr style=\"text-align: right;\">\n",
       "      <th></th>\n",
       "      <th>baseline_min</th>\n",
       "      <th>baseline_max</th>\n",
       "    </tr>\n",
       "  </thead>\n",
       "  <tbody>\n",
       "    <tr>\n",
       "      <th>0</th>\n",
       "      <td>-5.231200</td>\n",
       "      <td>-0.5</td>\n",
       "    </tr>\n",
       "    <tr>\n",
       "      <th>1</th>\n",
       "      <td>-3.007500</td>\n",
       "      <td>-0.5</td>\n",
       "    </tr>\n",
       "    <tr>\n",
       "      <th>2</th>\n",
       "      <td>-1.640900</td>\n",
       "      <td>-0.5</td>\n",
       "    </tr>\n",
       "    <tr>\n",
       "      <th>3</th>\n",
       "      <td>-7.220600</td>\n",
       "      <td>-0.5</td>\n",
       "    </tr>\n",
       "    <tr>\n",
       "      <th>4</th>\n",
       "      <td>-1.426950</td>\n",
       "      <td>-0.5</td>\n",
       "    </tr>\n",
       "    <tr>\n",
       "      <th>...</th>\n",
       "      <td>...</td>\n",
       "      <td>...</td>\n",
       "    </tr>\n",
       "    <tr>\n",
       "      <th>453921</th>\n",
       "      <td>-4.896933</td>\n",
       "      <td>-0.5</td>\n",
       "    </tr>\n",
       "    <tr>\n",
       "      <th>453922</th>\n",
       "      <td>-2.192833</td>\n",
       "      <td>-0.5</td>\n",
       "    </tr>\n",
       "    <tr>\n",
       "      <th>453923</th>\n",
       "      <td>-5.315067</td>\n",
       "      <td>-0.5</td>\n",
       "    </tr>\n",
       "    <tr>\n",
       "      <th>453924</th>\n",
       "      <td>-3.606233</td>\n",
       "      <td>-0.5</td>\n",
       "    </tr>\n",
       "    <tr>\n",
       "      <th>453925</th>\n",
       "      <td>-1.357567</td>\n",
       "      <td>-0.5</td>\n",
       "    </tr>\n",
       "  </tbody>\n",
       "</table>\n",
       "<p>453926 rows × 2 columns</p>\n",
       "</div>"
      ],
      "text/plain": [
       "        baseline_min  baseline_max\n",
       "0          -5.231200          -0.5\n",
       "1          -3.007500          -0.5\n",
       "2          -1.640900          -0.5\n",
       "3          -7.220600          -0.5\n",
       "4          -1.426950          -0.5\n",
       "...              ...           ...\n",
       "453921     -4.896933          -0.5\n",
       "453922     -2.192833          -0.5\n",
       "453923     -5.315067          -0.5\n",
       "453924     -3.606233          -0.5\n",
       "453925     -1.357567          -0.5\n",
       "\n",
       "[453926 rows x 2 columns]"
      ]
     },
     "execution_count": 31,
     "metadata": {},
     "output_type": "execute_result"
    }
   ],
   "source": [
    "baseline_df"
   ]
  },
  {
   "cell_type": "code",
   "execution_count": 32,
   "metadata": {
    "ExecuteTime": {
     "end_time": "2017-08-04T17:10:45.941342Z",
     "start_time": "2017-08-04T17:10:17.265317"
    },
    "jupyter": {
     "outputs_hidden": false
    }
   },
   "outputs": [],
   "source": [
    "z_score_bl_df = log_df_1cyc.copy()\n",
    "\n",
    "# ITI is added on to the beginning of each trial therefore stim-onset time is a direct measure of ITI length.\n",
    "# will restrict baseline periods to 0.5 s before stim onset - periods will be [-stimOnset to -0.5]\n",
    "baseline_df = pd.DataFrame(-np.column_stack((z_score_bl_df['stim_onset'], np.repeat(0.5, len(z_score_bl_df['stim_onset'])))),\n",
    "                  columns = ['baseline_min', 'baseline_max'])\n",
    "z_score_bl_df = pd.concat((z_score_bl_df, baseline_df), axis=1)\n",
    "\n",
    "# remove all trials with dropped stim-onsets that are due to premature licking\n",
    "z_score_bl_df['baseline_min'] = z_score_bl_df['baseline_min'].replace(0, np.nan)\n",
    "z_score_bl_df = z_score_bl_df.dropna(subset = ['baseline_min'])\n",
    "\n",
    "# remove all trials with short ITIs and truncate ITIs of trials with ITIs longer than 3.5s\n",
    "z_score_bl_df = z_score_bl_df[z_score_bl_df['baseline_min'] <= -3.5]  \n",
    "z_score_bl_df.loc[:, 'baseline_min'] = -3.5\n",
    "\n",
    "\n",
    "edges = np.arange(-3.5, -1, bin_size)\n",
    "z_score_bl_df['baseline_spike_count'] = [np.histogram(trial_spikes, edges)[0] \n",
    "                                         for trial_spikes in z_score_bl_df['spike_times(stim_aligned)']]"
   ]
  },
  {
   "cell_type": "code",
   "execution_count": 34,
   "metadata": {
    "ExecuteTime": {
     "end_time": "2017-08-04T17:20:15.129600Z",
     "start_time": "2017-08-04T17:14:35.467428"
    },
    "jupyter": {
     "outputs_hidden": false
    }
   },
   "outputs": [
    {
     "name": "stderr",
     "output_type": "stream",
     "text": [
      "C:\\Users\\Eric\\AppData\\Local\\Temp/ipykernel_6872/1840706730.py:5: TqdmDeprecationWarning: Please use `tqdm.notebook.trange` instead of `tqdm.tnrange`\n",
      "  for num in tnrange(len(unit_key_df_1cyc.index)):\n"
     ]
    },
    {
     "data": {
      "application/vnd.jupyter.widget-view+json": {
       "model_id": "aca2e85168994a879b78ccd0a5c17d8e",
       "version_major": 2,
       "version_minor": 0
      },
      "text/plain": [
       "  0%|          | 0/1539 [00:00<?, ?it/s]"
      ]
     },
     "metadata": {},
     "output_type": "display_data"
    }
   ],
   "source": [
    "unit_key_df_1cyc['FR_mean'] = np.nan\n",
    "unit_key_df_1cyc['FR_std'] = np.nan\n",
    "import warnings\n",
    "\n",
    "for num in tnrange(len(unit_key_df_1cyc.index)):\n",
    "    unit = unit_key_df_1cyc.index[num]\n",
    "    unit_rows = z_score_bl_df[(z_score_bl_df['mouse_name'] == unit_key_df_1cyc.loc[unit, 'mouse_name']) &\n",
    "                              (z_score_bl_df['date'] == unit_key_df_1cyc.loc[unit,'date']) &\n",
    "                              (z_score_bl_df['cluster_name'] == unit_key_df_1cyc.loc[unit,'cluster_name'])]\n",
    "    mouse_name = unit_rows['mouse_name'].iloc[0]\n",
    "    date = unit_rows['date'].iloc[0]\n",
    "    cluster_name = unit_rows['cluster_name'].iloc[0]\n",
    "    \n",
    "    ## since there are 8 trial types (short/long x touchStim/visStim x touchBlock/visBlock) will use random sample of\n",
    "    ## 1/8 of all trials to calculate mean and std of baseline firing rate for each unit\n",
    "    baseline_trial_inds = rand.sample(list(unit_rows.index), int(np.max(unit_rows['trial_num'])/8))\n",
    "    bin_means = np.mean(np.stack(unit_rows.loc[baseline_trial_inds, \n",
    "                                               'baseline_spike_count'].values, axis = 0), axis=0)/bin_size\n",
    "\n",
    "    unit_key_df_1cyc.loc[unit,'FR_mean'] = np.mean(bin_means)\n",
    "    unit_key_df_1cyc.loc[unit,'FR_std'] = np.std(bin_means)\n",
    "\n",
    "unit_key_df_1cyc = unit_key_df_1cyc[unit_key_df_1cyc['FR_std'] != 0].reset_index(drop = True)"
   ]
  },
  {
   "cell_type": "code",
   "execution_count": 35,
   "metadata": {},
   "outputs": [
    {
     "data": {
      "text/plain": [
       "array(['EF0074', 'EF0076', 'EF0077', 'EF0079', 'EF0081', 'EF0084',\n",
       "       'EF0088', 'EF0089', 'EF0114'], dtype=object)"
      ]
     },
     "execution_count": 35,
     "metadata": {},
     "output_type": "execute_result"
    }
   ],
   "source": [
    "log_df_1cyc['mouse_name'].unique()"
   ]
  },
  {
   "cell_type": "code",
   "execution_count": 36,
   "metadata": {},
   "outputs": [
    {
     "data": {
      "text/plain": [
       "array(['EF0074', 'EF0076', 'EF0077', 'EF0079', 'EF0081', 'EF0084',\n",
       "       'EF0088', 'EF0089', 'EF0114'], dtype=object)"
      ]
     },
     "execution_count": 36,
     "metadata": {},
     "output_type": "execute_result"
    }
   ],
   "source": [
    "log_df_1cyc['mouse_name'].unique()"
   ]
  },
  {
   "cell_type": "code",
   "execution_count": 37,
   "metadata": {
    "ExecuteTime": {
     "end_time": "2017-08-04T17:22:11.766374Z",
     "start_time": "2017-08-04T17:20:27.241564"
    },
    "tags": []
   },
   "outputs": [
    {
     "ename": "KeyError",
     "evalue": "'spike_times(stim_aligned)'",
     "output_type": "error",
     "traceback": [
      "\u001b[1;31m---------------------------------------------------------------------------\u001b[0m",
      "\u001b[1;31mKeyError\u001b[0m                                  Traceback (most recent call last)",
      "\u001b[1;32m~\\AppData\\Local\\Temp/ipykernel_6872/1738553632.py\u001b[0m in \u001b[0;36m<module>\u001b[1;34m\u001b[0m\n\u001b[0;32m      3\u001b[0m \u001b[1;33m\u001b[0m\u001b[0m\n\u001b[0;32m      4\u001b[0m \u001b[0mlog_df_1cyc\u001b[0m\u001b[1;33m[\u001b[0m\u001b[1;34m'spike_counts(stim_aligned)'\u001b[0m\u001b[1;33m]\u001b[0m \u001b[1;33m=\u001b[0m \u001b[0mlog_df_1cyc\u001b[0m\u001b[1;33m[\u001b[0m\u001b[1;34m'spike_times(stim_aligned)'\u001b[0m\u001b[1;33m]\u001b[0m\u001b[1;33m.\u001b[0m\u001b[0mapply\u001b[0m\u001b[1;33m(\u001b[0m\u001b[1;32mlambda\u001b[0m \u001b[0mx\u001b[0m\u001b[1;33m:\u001b[0m \u001b[0mnp\u001b[0m\u001b[1;33m.\u001b[0m\u001b[0mhistogram\u001b[0m\u001b[1;33m(\u001b[0m\u001b[0mx\u001b[0m\u001b[1;33m,\u001b[0m\u001b[0medges\u001b[0m\u001b[1;33m)\u001b[0m\u001b[1;33m[\u001b[0m\u001b[1;36m0\u001b[0m\u001b[1;33m]\u001b[0m\u001b[1;33m/\u001b[0m\u001b[0mbin_size\u001b[0m\u001b[1;33m)\u001b[0m\u001b[1;33m\u001b[0m\u001b[1;33m\u001b[0m\u001b[0m\n\u001b[1;32m----> 5\u001b[1;33m \u001b[0mlog_df_1cyc\u001b[0m\u001b[1;33m.\u001b[0m\u001b[0mloc\u001b[0m\u001b[1;33m[\u001b[0m\u001b[1;34m'spike_counts(stim_aligned)'\u001b[0m\u001b[1;33m]\u001b[0m \u001b[1;33m=\u001b[0m \u001b[0mlog_df_1cyc\u001b[0m\u001b[1;33m.\u001b[0m\u001b[0mloc\u001b[0m\u001b[1;33m[\u001b[0m\u001b[1;34m'spike_times(stim_aligned)'\u001b[0m\u001b[1;33m]\u001b[0m\u001b[1;33m.\u001b[0m\u001b[0mapply\u001b[0m\u001b[1;33m(\u001b[0m\u001b[1;32mlambda\u001b[0m \u001b[0mx\u001b[0m\u001b[1;33m:\u001b[0m \u001b[0mx\u001b[0m\u001b[1;33m/\u001b[0m\u001b[0mbin_size\u001b[0m\u001b[1;33m)\u001b[0m\u001b[1;33m\u001b[0m\u001b[1;33m\u001b[0m\u001b[0m\n\u001b[0m\u001b[0;32m      6\u001b[0m \u001b[1;33m\u001b[0m\u001b[0m\n\u001b[0;32m      7\u001b[0m \u001b[1;31m# log_df_1cyc['spike_counts(lick_aligned)'] = log_df_1cyc['spike_times(lick_aligned)'].apply(lambda x: np.histogram(x,edges)[0]/bin_size)\u001b[0m\u001b[1;33m\u001b[0m\u001b[1;33m\u001b[0m\u001b[1;33m\u001b[0m\u001b[0m\n",
      "\u001b[1;32m~\\anaconda3\\envs\\crossmodal\\lib\\site-packages\\pandas\\core\\indexing.py\u001b[0m in \u001b[0;36m__getitem__\u001b[1;34m(self, key)\u001b[0m\n\u001b[0;32m    929\u001b[0m \u001b[1;33m\u001b[0m\u001b[0m\n\u001b[0;32m    930\u001b[0m             \u001b[0mmaybe_callable\u001b[0m \u001b[1;33m=\u001b[0m \u001b[0mcom\u001b[0m\u001b[1;33m.\u001b[0m\u001b[0mapply_if_callable\u001b[0m\u001b[1;33m(\u001b[0m\u001b[0mkey\u001b[0m\u001b[1;33m,\u001b[0m \u001b[0mself\u001b[0m\u001b[1;33m.\u001b[0m\u001b[0mobj\u001b[0m\u001b[1;33m)\u001b[0m\u001b[1;33m\u001b[0m\u001b[1;33m\u001b[0m\u001b[0m\n\u001b[1;32m--> 931\u001b[1;33m             \u001b[1;32mreturn\u001b[0m \u001b[0mself\u001b[0m\u001b[1;33m.\u001b[0m\u001b[0m_getitem_axis\u001b[0m\u001b[1;33m(\u001b[0m\u001b[0mmaybe_callable\u001b[0m\u001b[1;33m,\u001b[0m \u001b[0maxis\u001b[0m\u001b[1;33m=\u001b[0m\u001b[0maxis\u001b[0m\u001b[1;33m)\u001b[0m\u001b[1;33m\u001b[0m\u001b[1;33m\u001b[0m\u001b[0m\n\u001b[0m\u001b[0;32m    932\u001b[0m \u001b[1;33m\u001b[0m\u001b[0m\n\u001b[0;32m    933\u001b[0m     \u001b[1;32mdef\u001b[0m \u001b[0m_is_scalar_access\u001b[0m\u001b[1;33m(\u001b[0m\u001b[0mself\u001b[0m\u001b[1;33m,\u001b[0m \u001b[0mkey\u001b[0m\u001b[1;33m:\u001b[0m \u001b[0mtuple\u001b[0m\u001b[1;33m)\u001b[0m\u001b[1;33m:\u001b[0m\u001b[1;33m\u001b[0m\u001b[1;33m\u001b[0m\u001b[0m\n",
      "\u001b[1;32m~\\anaconda3\\envs\\crossmodal\\lib\\site-packages\\pandas\\core\\indexing.py\u001b[0m in \u001b[0;36m_getitem_axis\u001b[1;34m(self, key, axis)\u001b[0m\n\u001b[0;32m   1162\u001b[0m         \u001b[1;31m# fall thru to straight lookup\u001b[0m\u001b[1;33m\u001b[0m\u001b[1;33m\u001b[0m\u001b[1;33m\u001b[0m\u001b[0m\n\u001b[0;32m   1163\u001b[0m         \u001b[0mself\u001b[0m\u001b[1;33m.\u001b[0m\u001b[0m_validate_key\u001b[0m\u001b[1;33m(\u001b[0m\u001b[0mkey\u001b[0m\u001b[1;33m,\u001b[0m \u001b[0maxis\u001b[0m\u001b[1;33m)\u001b[0m\u001b[1;33m\u001b[0m\u001b[1;33m\u001b[0m\u001b[0m\n\u001b[1;32m-> 1164\u001b[1;33m         \u001b[1;32mreturn\u001b[0m \u001b[0mself\u001b[0m\u001b[1;33m.\u001b[0m\u001b[0m_get_label\u001b[0m\u001b[1;33m(\u001b[0m\u001b[0mkey\u001b[0m\u001b[1;33m,\u001b[0m \u001b[0maxis\u001b[0m\u001b[1;33m=\u001b[0m\u001b[0maxis\u001b[0m\u001b[1;33m)\u001b[0m\u001b[1;33m\u001b[0m\u001b[1;33m\u001b[0m\u001b[0m\n\u001b[0m\u001b[0;32m   1165\u001b[0m \u001b[1;33m\u001b[0m\u001b[0m\n\u001b[0;32m   1166\u001b[0m     \u001b[1;32mdef\u001b[0m \u001b[0m_get_slice_axis\u001b[0m\u001b[1;33m(\u001b[0m\u001b[0mself\u001b[0m\u001b[1;33m,\u001b[0m \u001b[0mslice_obj\u001b[0m\u001b[1;33m:\u001b[0m \u001b[0mslice\u001b[0m\u001b[1;33m,\u001b[0m \u001b[0maxis\u001b[0m\u001b[1;33m:\u001b[0m \u001b[0mint\u001b[0m\u001b[1;33m)\u001b[0m\u001b[1;33m:\u001b[0m\u001b[1;33m\u001b[0m\u001b[1;33m\u001b[0m\u001b[0m\n",
      "\u001b[1;32m~\\anaconda3\\envs\\crossmodal\\lib\\site-packages\\pandas\\core\\indexing.py\u001b[0m in \u001b[0;36m_get_label\u001b[1;34m(self, label, axis)\u001b[0m\n\u001b[0;32m   1111\u001b[0m     \u001b[1;32mdef\u001b[0m \u001b[0m_get_label\u001b[0m\u001b[1;33m(\u001b[0m\u001b[0mself\u001b[0m\u001b[1;33m,\u001b[0m \u001b[0mlabel\u001b[0m\u001b[1;33m,\u001b[0m \u001b[0maxis\u001b[0m\u001b[1;33m:\u001b[0m \u001b[0mint\u001b[0m\u001b[1;33m)\u001b[0m\u001b[1;33m:\u001b[0m\u001b[1;33m\u001b[0m\u001b[1;33m\u001b[0m\u001b[0m\n\u001b[0;32m   1112\u001b[0m         \u001b[1;31m# GH#5667 this will fail if the label is not present in the axis.\u001b[0m\u001b[1;33m\u001b[0m\u001b[1;33m\u001b[0m\u001b[1;33m\u001b[0m\u001b[0m\n\u001b[1;32m-> 1113\u001b[1;33m         \u001b[1;32mreturn\u001b[0m \u001b[0mself\u001b[0m\u001b[1;33m.\u001b[0m\u001b[0mobj\u001b[0m\u001b[1;33m.\u001b[0m\u001b[0mxs\u001b[0m\u001b[1;33m(\u001b[0m\u001b[0mlabel\u001b[0m\u001b[1;33m,\u001b[0m \u001b[0maxis\u001b[0m\u001b[1;33m=\u001b[0m\u001b[0maxis\u001b[0m\u001b[1;33m)\u001b[0m\u001b[1;33m\u001b[0m\u001b[1;33m\u001b[0m\u001b[0m\n\u001b[0m\u001b[0;32m   1114\u001b[0m \u001b[1;33m\u001b[0m\u001b[0m\n\u001b[0;32m   1115\u001b[0m     \u001b[1;32mdef\u001b[0m \u001b[0m_handle_lowerdim_multi_index_axis0\u001b[0m\u001b[1;33m(\u001b[0m\u001b[0mself\u001b[0m\u001b[1;33m,\u001b[0m \u001b[0mtup\u001b[0m\u001b[1;33m:\u001b[0m \u001b[0mtuple\u001b[0m\u001b[1;33m)\u001b[0m\u001b[1;33m:\u001b[0m\u001b[1;33m\u001b[0m\u001b[1;33m\u001b[0m\u001b[0m\n",
      "\u001b[1;32m~\\anaconda3\\envs\\crossmodal\\lib\\site-packages\\pandas\\core\\generic.py\u001b[0m in \u001b[0;36mxs\u001b[1;34m(self, key, axis, level, drop_level)\u001b[0m\n\u001b[0;32m   3774\u001b[0m                 \u001b[1;32mraise\u001b[0m \u001b[0mTypeError\u001b[0m\u001b[1;33m(\u001b[0m\u001b[1;34mf\"Expected label or tuple of labels, got {key}\"\u001b[0m\u001b[1;33m)\u001b[0m \u001b[1;32mfrom\u001b[0m \u001b[0me\u001b[0m\u001b[1;33m\u001b[0m\u001b[1;33m\u001b[0m\u001b[0m\n\u001b[0;32m   3775\u001b[0m         \u001b[1;32melse\u001b[0m\u001b[1;33m:\u001b[0m\u001b[1;33m\u001b[0m\u001b[1;33m\u001b[0m\u001b[0m\n\u001b[1;32m-> 3776\u001b[1;33m             \u001b[0mloc\u001b[0m \u001b[1;33m=\u001b[0m \u001b[0mindex\u001b[0m\u001b[1;33m.\u001b[0m\u001b[0mget_loc\u001b[0m\u001b[1;33m(\u001b[0m\u001b[0mkey\u001b[0m\u001b[1;33m)\u001b[0m\u001b[1;33m\u001b[0m\u001b[1;33m\u001b[0m\u001b[0m\n\u001b[0m\u001b[0;32m   3777\u001b[0m \u001b[1;33m\u001b[0m\u001b[0m\n\u001b[0;32m   3778\u001b[0m             \u001b[1;32mif\u001b[0m \u001b[0misinstance\u001b[0m\u001b[1;33m(\u001b[0m\u001b[0mloc\u001b[0m\u001b[1;33m,\u001b[0m \u001b[0mnp\u001b[0m\u001b[1;33m.\u001b[0m\u001b[0mndarray\u001b[0m\u001b[1;33m)\u001b[0m\u001b[1;33m:\u001b[0m\u001b[1;33m\u001b[0m\u001b[1;33m\u001b[0m\u001b[0m\n",
      "\u001b[1;32m~\\anaconda3\\envs\\crossmodal\\lib\\site-packages\\pandas\\core\\indexes\\range.py\u001b[0m in \u001b[0;36mget_loc\u001b[1;34m(self, key, method, tolerance)\u001b[0m\n\u001b[0;32m    386\u001b[0m                 \u001b[1;32mexcept\u001b[0m \u001b[0mValueError\u001b[0m \u001b[1;32mas\u001b[0m \u001b[0merr\u001b[0m\u001b[1;33m:\u001b[0m\u001b[1;33m\u001b[0m\u001b[1;33m\u001b[0m\u001b[0m\n\u001b[0;32m    387\u001b[0m                     \u001b[1;32mraise\u001b[0m \u001b[0mKeyError\u001b[0m\u001b[1;33m(\u001b[0m\u001b[0mkey\u001b[0m\u001b[1;33m)\u001b[0m \u001b[1;32mfrom\u001b[0m \u001b[0merr\u001b[0m\u001b[1;33m\u001b[0m\u001b[1;33m\u001b[0m\u001b[0m\n\u001b[1;32m--> 388\u001b[1;33m             \u001b[1;32mraise\u001b[0m \u001b[0mKeyError\u001b[0m\u001b[1;33m(\u001b[0m\u001b[0mkey\u001b[0m\u001b[1;33m)\u001b[0m\u001b[1;33m\u001b[0m\u001b[1;33m\u001b[0m\u001b[0m\n\u001b[0m\u001b[0;32m    389\u001b[0m         \u001b[1;32mreturn\u001b[0m \u001b[0msuper\u001b[0m\u001b[1;33m(\u001b[0m\u001b[1;33m)\u001b[0m\u001b[1;33m.\u001b[0m\u001b[0mget_loc\u001b[0m\u001b[1;33m(\u001b[0m\u001b[0mkey\u001b[0m\u001b[1;33m,\u001b[0m \u001b[0mmethod\u001b[0m\u001b[1;33m=\u001b[0m\u001b[0mmethod\u001b[0m\u001b[1;33m,\u001b[0m \u001b[0mtolerance\u001b[0m\u001b[1;33m=\u001b[0m\u001b[0mtolerance\u001b[0m\u001b[1;33m)\u001b[0m\u001b[1;33m\u001b[0m\u001b[1;33m\u001b[0m\u001b[0m\n\u001b[0;32m    390\u001b[0m \u001b[1;33m\u001b[0m\u001b[0m\n",
      "\u001b[1;31mKeyError\u001b[0m: 'spike_times(stim_aligned)'"
     ]
    }
   ],
   "source": [
    "window = [-1, 3]\n",
    "edges = np.arange(window[0], window[1], bin_size)\n",
    "\n",
    "log_df_1cyc['spike_counts(stim_aligned)'] = log_df_1cyc['spike_times(stim_aligned)'].apply(lambda x: np.histogram(x,edges)[0]/bin_size)\n",
    "log_df_1cyc.loc['spike_counts(stim_aligned)'] = log_df_1cyc.loc['spike_times(stim_aligned)'].apply(lambda x: x/bin_size)\n",
    "\n",
    "# log_df_1cyc['spike_counts(lick_aligned)'] = log_df_1cyc['spike_times(lick_aligned)'].apply(lambda x: np.histogram(x,edges)[0]/bin_size)\n",
    "# log_df_1cyc.loc['spike_counts(lick_aligned)'] = log_df_1cyc.loc['spike_times(lick_aligned)'].apply(lambda x: x/bin_size)\n",
    "\n",
    "conds = ['Touch Stim Lick', 'Touch Stim No Lick', 'Short Touch Stim Lick', 'Short Touch Stim No Lick',\n",
    "         'Visual Stim Lick', 'Visual Stim No Lick', 'Short Visual Stim Lick', 'Short Visual Stim No Lick']\n",
    "\n",
    "z_conds =['Touch Stim Lick(z_score)', 'Touch Stim No Lick(z_score)', 'Short Touch Stim Lick(z_score)',\n",
    "          'Short Touch Stim No Lick(z_score)','Visual Stim Lick(z_score)', 'Visual Stim No Lick(z_score)',\n",
    "          'Short Visual Stim Lick(z_score)', 'Short Visual Stim No Lick(z_score)']\n",
    "\n",
    "for c in range(8):\n",
    "    unit_key_df_1cyc[conds[c]] = np.nan\n",
    "    unit_key_df_1cyc[conds[c]] = unit_key_df_1cyc[conds[c]].astype(object)\n",
    "    unit_key_df_1cyc[z_conds[c]] = np.nan\n",
    "    unit_key_df_1cyc[z_conds[c]] = unit_key_df_1cyc[z_conds[c]].astype(object)\n",
    "    "
   ]
  },
  {
   "cell_type": "code",
   "execution_count": null,
   "metadata": {
    "ExecuteTime": {
     "end_time": "2017-08-04T17:32:56.646026Z",
     "start_time": "2017-08-04T17:22:11.766374"
    },
    "jupyter": {
     "outputs_hidden": false
    }
   },
   "outputs": [],
   "source": [
    "for i in tnrange(len(unit_key_df_1cyc.index)):\n",
    "    unit = unit_key_df_1cyc.index[i]\n",
    "\n",
    "    unit_rows = log_df_1cyc[((log_df_1cyc['mouse_name'] == unit_key_df_1cyc.loc[unit, 'mouse_name']) &\n",
    "                        (log_df_1cyc['date'] == unit_key_df_1cyc.loc[unit,'date']) &\n",
    "                        (log_df_1cyc['cluster_name'] == unit_key_df_1cyc.loc[unit,'cluster_name']))]\n",
    "\n",
    "    ts_lick = unit_rows[(unit_rows['block_type'] == 'Whisker') & (unit_rows['correct'] == 1) &\n",
    "                       ((unit_rows['trial_type'] == 'Stim_Som_NoCue') | (unit_rows['trial_type'] == 'Stim_Som'))]\n",
    "    ts_no_lick = unit_rows[(unit_rows['response'] == 0) &\n",
    "                      ((unit_rows['trial_type'] == 'Stim_Som_NoCue')| (unit_rows['trial_type'] == 'Stim_Som'))]\n",
    "    short_ts_lick = unit_rows[(unit_rows['block_type'] == 'Whisker') & (unit_rows['correct'] == 1) &\n",
    "                       ((unit_rows['trial_type'] == '1CycStim_Som_NoCue') | (unit_rows['trial_type'] == '1CycStim_Som'))]\n",
    "    short_ts_no_lick = unit_rows[(unit_rows['response'] == 0) &\n",
    "                      ((unit_rows['trial_type'] == '1CycStim_Som_NoCue')| (unit_rows['trial_type'] == '1CycStim_Som'))]\n",
    "   \n",
    "    vs_lick = unit_rows[(unit_rows['block_type'] == 'Visual') &(unit_rows['correct'] == 1) & \n",
    "                      ((unit_rows['trial_type'] == 'Stim_Vis_NoCue')| (unit_rows['trial_type'] == 'Stim_Vis'))]\n",
    "    vs_no_lick = unit_rows[(unit_rows['response'] == 0) &\n",
    "                      ((unit_rows['trial_type'] == 'Stim_Vis_NoCue')| (unit_rows['trial_type'] == 'Stim_Vis'))]\n",
    "    short_vs_lick = unit_rows[(unit_rows['block_type'] == 'Visual') &(unit_rows['correct'] == 1) & \n",
    "                      ((unit_rows['trial_type'] == '1CycStim_Vis_NoCue')| (unit_rows['trial_type'] == '1CycStim_Vis'))]\n",
    "    short_vs_no_lick = unit_rows[(unit_rows['response'] == 0) &\n",
    "                      ((unit_rows['trial_type'] == '1CycStim_Vis_NoCue')| (unit_rows['trial_type'] == '1CycStim_Vis'))]\n",
    "    \n",
    "    trial_types = [ts_lick, ts_no_lick, short_ts_lick,short_ts_no_lick,vs_lick,\n",
    "                   vs_no_lick, short_vs_lick, short_vs_no_lick]\n",
    "    \n",
    "    bin_means_all = []\n",
    "    \n",
    "    for j in range(8):\n",
    "        if trial_types[j].shape[0] == 0:\n",
    "            continue\n",
    "        else:\n",
    "            bin_means = np.mean(np.stack(trial_types[j]['spike_counts(stim_aligned)'].values, axis = 0), axis=0)\n",
    "            baseline_mean = unit_key_df_1cyc.loc[unit, 'FR_mean']\n",
    "            baseline_std = unit_key_df_1cyc.loc[unit, 'FR_std']\n",
    "\n",
    "            unit_key_df_1cyc.at[unit,conds[j]] = bin_means\n",
    "\n",
    "            unit_key_df_1cyc.at[unit,z_conds[j]] = (bin_means - baseline_mean)/baseline_std\n",
    "   "
   ]
  },
  {
   "cell_type": "code",
   "execution_count": null,
   "metadata": {
    "ExecuteTime": {
     "end_time": "2017-08-04T16:47:09.107941Z",
     "start_time": "2017-08-04T20:37:57.578Z"
    },
    "jupyter": {
     "outputs_hidden": false
    }
   },
   "outputs": [],
   "source": [
    "unit_key_df_1cyc"
   ]
  },
  {
   "cell_type": "code",
   "execution_count": null,
   "metadata": {
    "ExecuteTime": {
     "end_time": "2017-08-04T16:47:09.107941Z",
     "start_time": "2017-08-04T20:37:57.603Z"
    },
    "jupyter": {
     "outputs_hidden": false
    }
   },
   "outputs": [],
   "source": [
    "unit_key_df_1cyc[trial_types].dropna()"
   ]
  },
  {
   "cell_type": "code",
   "execution_count": null,
   "metadata": {
    "tags": []
   },
   "outputs": [],
   "source": [
    "maps"
   ]
  },
  {
   "cell_type": "code",
   "execution_count": null,
   "metadata": {},
   "outputs": [],
   "source": [
    "data['Short Visual Stim Lick(z_score)']"
   ]
  },
  {
   "cell_type": "code",
   "execution_count": null,
   "metadata": {
    "ExecuteTime": {
     "end_time": "2017-08-04T17:32:57.044923Z",
     "start_time": "2017-08-04T17:32:56.648028"
    },
    "tags": []
   },
   "outputs": [],
   "source": [
    "mpl.close('all')\n",
    "sub_map = unit_key_df_1cyc\n",
    "colors = cmocean.cm.thermal\n",
    "columns = ['Touch Stim Lick(z_score)', 'Short Touch Stim Lick(z_score)',\n",
    "           'Touch Stim No Lick(z_score)', 'Short Touch Stim No Lick(z_score)',\n",
    "           'Visual Stim Lick(z_score)', 'Short Visual Stim Lick(z_score)',\n",
    "           'Visual Stim No Lick(z_score)', 'Short Visual Stim No Lick(z_score)']\n",
    "data = {}\n",
    "for z_map in columns:\n",
    "    data[z_map] = pd.DataFrame(np.stack(sub_map[z_map].dropna().values))\n",
    "\n",
    "# py.iplot(fig, filename= 'Hit_CR_Miss')\n",
    "\n",
    "\n",
    "fig5c_1 = mpl.figure(figsize = (8,7))\n",
    "\n",
    "gs1 = gridspec.GridSpec(1,1)\n",
    "gs2 = gridspec.GridSpec(1,1)\n",
    "\n",
    "gs1.update(bottom=0.1, top=0.68, left = 0.15, right = 0.9)\n",
    "gs2.update(bottom = 0.69, top=0.87, left = 0.15, right = 0.9)\n",
    "\n",
    "ax1 = mpl.subplot(gs1[0, 0])\n",
    "ax2 = mpl.subplot(gs2[0, 0], sharex =ax1)\n",
    "\n",
    "ax2.axis('off')\n",
    "ax2.add_patch(patches.Rectangle((0,1.6), 0.15, 1, facecolor = 'k'))\n",
    "ax2.add_patch(patches.Rectangle((0,.4), 0.05, 1, facecolor = 'k'))\n",
    "ax2.set_ylim(0,4.7)\n",
    "\n",
    "\n",
    "maps = [data[col] for col in columns]\n",
    "m_psth = []\n",
    "sem_psth = []\n",
    "\n",
    "for z_map in maps:\n",
    "    m_psth.append(z_map.mean(axis = 0))\n",
    "    sem_psth.append(scipy.stats.sem(z_map, axis = 0))\n",
    "\n",
    "colors = ['#7a0177', '#c51b8a', [0.2,.2,0.2,0.2], [0.4,0.4,0.4,0.4],  'C1','#feb24c', '#31a354', '#006837']\n",
    "\n",
    "xvals = np.arange(-1,3,bin_size)\n",
    "for col in range(len(columns)):\n",
    "    ax1.plot(xvals[:-1],m_psth[col], color = colors[col])\n",
    "    ax1.fill_between(xvals[0:-1], m_psth[col]-sem_psth[col], m_psth[col]+sem_psth[col],\n",
    "                     alpha=0.5,color = colors[col])\n",
    "  \n",
    "  \n",
    "# ax1.text(.8, .8, \"Hit\" , size=18, transform=ax1.transAxes, color = colors[0])\n",
    "ax1.text(.025, .96, \"Long tactile lick\" , size=15, transform=ax1.transAxes, color = colors[0], alpha = 1)\n",
    "ax1.text(.025, .9, \"Short tactile lick\" , size=15, transform=ax1.transAxes, color = colors[1], alpha = 1)\n",
    "ax1.text(.025, .84, \"Long visual lick\" , size=15, transform=ax1.transAxes, color = colors[4], alpha = 1)\n",
    "ax1.text(.025, .78, \"Short visual lick\" , size=15, transform=ax1.transAxes, color = colors[5], alpha = 1)\n",
    "ax1.text(.525, .96, \"Long tactile no lick\" , size=15, transform=ax1.transAxes, color = colors[2] , alpha = 1)\n",
    "ax1.text(.525, .9, \"Short tactile no lick\" , size=15, transform=ax1.transAxes, color = colors[3] , alpha = 1)\n",
    "ax1.text(.525, .84, \"Long visual no lick\" , size=15, transform=ax1.transAxes, color = colors[6], alpha = 1)\n",
    "ax1.text(.525, .78, \"Short visual no lick\" , size=15, transform=ax1.transAxes, color = colors[7] , alpha = 1)\n",
    "ax1.set_xlabel('Time from stim onset (s)')\n",
    "ax1.set_ylabel('Mean Z-score')\n",
    "ax1.spines['right'].set_visible(False)\n",
    "ax1.spines['top'].set_visible(False)\n",
    "ax1.set_xlim(-.5,1)\n",
    "ax1.set_ylim(-.5,2.1)\n",
    "\n",
    "\n",
    "fig5c_1"
   ]
  },
  {
   "cell_type": "code",
   "execution_count": null,
   "metadata": {
    "ExecuteTime": {
     "end_time": "2017-08-07T09:08:03.320732Z",
     "start_time": "2017-08-07T09:08:01.377809"
    }
   },
   "outputs": [],
   "source": [
    "fig5c_1.savefig('fig3c_1.pdf', format='pdf', dpi=900)"
   ]
  },
  {
   "cell_type": "code",
   "execution_count": null,
   "metadata": {
    "ExecuteTime": {
     "end_time": "2017-08-04T17:44:58.423635Z",
     "start_time": "2017-08-04T17:44:58.414625"
    },
    "jupyter": {
     "outputs_hidden": false
    }
   },
   "outputs": [],
   "source": [
    "sorted_unit_key_df_1cyc.columns"
   ]
  },
  {
   "cell_type": "code",
   "execution_count": null,
   "metadata": {
    "ExecuteTime": {
     "end_time": "2017-08-04T16:47:09.109941Z",
     "start_time": "2017-08-04T20:37:57.748Z"
    },
    "jupyter": {
     "outputs_hidden": false
    }
   },
   "outputs": [],
   "source": [
    "unit_key_df.columns"
   ]
  },
  {
   "cell_type": "code",
   "execution_count": null,
   "metadata": {
    "ExecuteTime": {
     "end_time": "2017-08-04T17:42:47.060779Z",
     "start_time": "2017-08-04T17:42:47.052773"
    },
    "jupyter": {
     "outputs_hidden": false
    }
   },
   "outputs": [],
   "source": [
    "unit_key_df_1cyc['abs_touch_RT_diff'] = (np.abs(unit_key_df_1cyc['RT_median_sTLR'] - unit_key_df_1cyc['RT_median_TLR']))\n",
    "sorted_unit_key_df_1cyc = unit_key_df_1cyc.sort_values(['abs_touch_RT_diff'])"
   ]
  },
  {
   "cell_type": "code",
   "execution_count": null,
   "metadata": {
    "ExecuteTime": {
     "end_time": "2017-08-04T17:42:48.107268Z",
     "start_time": "2017-08-04T17:42:47.718215"
    },
    "jupyter": {
     "outputs_hidden": false
    }
   },
   "outputs": [],
   "source": [
    "mpl.close('all')\n",
    "import matplotlib.patches as patches\n",
    "from matplotlib import gridspec\n",
    "\n",
    "fig4c_2 = mpl.figure(figsize = (15,14))\n",
    "gs1 = gridspec.GridSpec(1,3)\n",
    "gs2 = gridspec.GridSpec(1,1)\n",
    "gs1.update(bottom=0.50, top=0.86, hspace=0.15, wspace=0.3)\n",
    "gs2.update(left = 0.33, right = 0.66, bottom=0.1, top=0.38, wspace=0.05)\n",
    "\n",
    "\n",
    "ax1 = mpl.subplot(gs1[0, 0])\n",
    "ax2 = mpl.subplot(gs1[0, 2])\n",
    "ax3 = mpl.subplot(gs1[0, 1])\n",
    "ax6 = mpl.subplot(gs2[:])\n",
    "\n",
    "\n",
    "for unit in range(sorted_unit_key_df_1cyc.shape[0]):\n",
    "    ax1.add_patch(patches.Rectangle((0, unit), sorted_unit_key_df_1cyc.loc[unit, 'RT_median_VLL']*-1, 1, \n",
    "                                    edgecolor = 'w', facecolor = 'C1', linewidth = 0.1))\n",
    "    ax1.add_patch(patches.Rectangle((0, unit), sorted_unit_key_df_1cyc.loc[unit, 'RT_median_TLR'], 1, \n",
    "                                    edgecolor = 'w', facecolor = 'C0' , linewidth = 0.1))\n",
    "    \n",
    "    ax3.add_patch(patches.Rectangle((0, unit), sorted_unit_key_df_1cyc.loc[unit, 'Vis_late_onset']*-1, 1, \n",
    "                                   edgecolor = 'w', facecolor ='C1', linewidth = 0.1))\n",
    "    ax3.add_patch(patches.Rectangle((0, unit), sorted_unit_key_df_1cyc_1cyc.loc[unit, 'Tac_late_onset'], 1,\n",
    "                                    edgecolor = 'w', facecolor ='C0', linewidth = 0.1))\n",
    "    \n",
    "    ax2.add_patch(patches.Rectangle((0, unit), sorted_unit_key_df_1cyc.loc[unit, 'median_diff'], 1, \n",
    "                                    edgecolor = 'k', facecolor ='k'))\n",
    "    ax2.add_patch(patches.Rectangle((0, unit), sorted_unit_key_df_1cyc.loc[unit, 'late_onset_diff'], 1, \n",
    "                                    edgecolor = 'r', facecolor ='r', alpha = 0.8))\n",
    "ax6.scatter(bimodal_lick_units['median_diff'], bimodal_lick_units['late_onset_diff'], color = 'C6')\n",
    "ax6.plot(x, diff_fitline_values, 'k')\n",
    "\n",
    "ax1.set_xlim(-1.5,1.5)\n",
    "ax1.set_ylim(0,sorted_unit_key_df_1cyc.shape[0])\n",
    "ax2.set_xlim(-1.5,1.5)\n",
    "ax2.set_ylim(0,sorted_unit_key_df_1cyc.shape[0])\n",
    "ax3.set_xlim(-1.5,1.5)\n",
    "ax3.set_ylim(0,sorted_unit_key_df_1cyc.shape[0])\n",
    "ax6.set_xlim(-1,1)\n",
    "ax6.set_ylim(-1,1)\n",
    "\n",
    "ax2.set_xlabel('Time (s)')\n",
    "ax2.text(.6, .4, \"Median reaction\\ntime difference\" , size=20, transform=ax2.transAxes, color = 'k')\n",
    "ax2.text(.6, .25, \"Late-activity\\nonset difference\" , size=20, transform=ax2.transAxes, color = 'r')\n",
    "\n",
    "ax3.set_ylabel('Unit')\n",
    "ax6.set_ylabel('Time (s)')\n",
    "\n",
    "ax6.set_xlabel('Median reaction time\\ndifference (s)')\n",
    "ax6.set_ylabel('Late-activity\\nonset difference')\n",
    "ax6.text(.8, .65, \"r$^2$ = \"+str(np.around(vis_r**2, 2)) , size=20, transform=ax6.transAxes, color = 'k')\n",
    "\n",
    "\n",
    "for ax in [ax1,ax2, ax3, ax6]:\n",
    "    ax.spines['right'].set_visible(False)\n",
    "    ax.xaxis.set_ticks_position('bottom')\n",
    "    ax.yaxis.set_ticks_position('left')\n",
    "    ax.spines['top'].set_visible(False)\n",
    "\n",
    "    \n",
    "ax1.spines['bottom'].set_visible(False)\n",
    "ax1.get_xaxis().set_visible(False)\n",
    "\n",
    "    \n",
    "ax3.spines['bottom'].set_visible(False)\n",
    "ax3.get_xaxis().set_visible(False)\n",
    "\n",
    "\n",
    "ax1.set_ylabel('Unit')\n",
    "ax2.set_ylabel('Unit')\n",
    "\n",
    "\n",
    "ax4 = fig4c_2.add_axes([0.233, 0.48, 0.072, 0.1])\n",
    "ax4.patch.set_alpha(0)\n",
    "ax4.spines['left'].set_visible(False)\n",
    "ax4.spines['top'].set_visible(False)\n",
    "ax4.spines['right'].set_visible(False)\n",
    "ax4.get_yaxis().set_visible(False)\n",
    "ax4.set_xlabel('Median RT\\ntactile trials (s)')\n",
    "\n",
    "ax5 = fig4c_2.add_axes([0.161, 0.48, 0.072, 0.40])\n",
    "ax5.invert_xaxis()\n",
    "\n",
    "ax5.set_xlabel('Median RT\\nvisual trials (s)', labelpad = 20)\n",
    "ax5.patch.set_alpha(0)\n",
    "ax5.spines['left'].set_visible(False)\n",
    "ax5.spines['bottom'].set_visible(False)\n",
    "ax5.spines['right'].set_visible(False)\n",
    "ax5.get_yaxis().set_visible(False)\n",
    "ax5.xaxis.set_ticks_position('top')\n",
    "ax5.xaxis.set_label_position('top')\n",
    "\n",
    "\n",
    "ax7 = fig4c_2.add_axes([0.513, 0.48, 0.072, 0.1])\n",
    "ax7.patch.set_alpha(0)\n",
    "ax7.spines['left'].set_visible(False)\n",
    "ax7.spines['top'].set_visible(False)\n",
    "ax7.spines['right'].set_visible(False)\n",
    "ax7.get_yaxis().set_visible(False)\n",
    "ax7.set_xlabel('Onset of late activity\\ntactile trials (s)')\n",
    "\n",
    "ax8 = fig4c_2.add_axes([0.441, 0.48, 0.072, 0.40])\n",
    "ax8.invert_xaxis()\n",
    "\n",
    "ax8.set_xlabel('Onset of late activity\\nvisual trials (s)', labelpad = 20)\n",
    "ax8.patch.set_alpha(0)\n",
    "ax8.spines['left'].set_visible(False)\n",
    "ax8.spines['bottom'].set_visible(False)\n",
    "ax8.spines['right'].set_visible(False)\n",
    "ax8.get_yaxis().set_visible(False)\n",
    "ax8.xaxis.set_ticks_position('top')\n",
    "ax8.xaxis.set_label_position('top')\n",
    "\n",
    "\n",
    "fig4c_2"
   ]
  },
  {
   "cell_type": "code",
   "execution_count": null,
   "metadata": {
    "ExecuteTime": {
     "end_time": "2017-08-04T12:52:29.835158Z",
     "start_time": "2017-08-04T12:52:29.221033"
    },
    "jupyter": {
     "outputs_hidden": false
    }
   },
   "outputs": [],
   "source": []
  },
  {
   "cell_type": "code",
   "execution_count": null,
   "metadata": {},
   "outputs": [],
   "source": []
  },
  {
   "cell_type": "code",
   "execution_count": null,
   "metadata": {},
   "outputs": [],
   "source": []
  },
  {
   "cell_type": "code",
   "execution_count": null,
   "metadata": {},
   "outputs": [],
   "source": []
  }
 ],
 "metadata": {
  "kernelspec": {
   "display_name": "Python 3 (ipykernel)",
   "language": "python",
   "name": "python3"
  },
  "language_info": {
   "codemirror_mode": {
    "name": "ipython",
    "version": 3
   },
   "file_extension": ".py",
   "mimetype": "text/x-python",
   "name": "python",
   "nbconvert_exporter": "python",
   "pygments_lexer": "ipython3",
   "version": "3.9.6"
  }
 },
 "nbformat": 4,
 "nbformat_minor": 4
}

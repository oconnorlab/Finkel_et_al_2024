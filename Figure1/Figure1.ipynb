{
 "cells": [
  {
   "cell_type": "code",
   "execution_count": 1,
   "metadata": {
    "ExecuteTime": {
     "end_time": "2017-11-30T16:19:09.478915Z",
     "start_time": "2017-11-30T16:18:58.367062"
    }
   },
   "outputs": [
    {
     "name": "stderr",
     "output_type": "stream",
     "text": [
      "C:\\Users\\Eric\\AppData\\Local\\Temp/ipykernel_8484/2638047130.py:18: DeprecationWarning: Using or importing the ABCs from 'collections' instead of from 'collections.abc' is deprecated since Python 3.3, and in 3.10 it will stop working\n",
      "  from collections import Iterable\n"
     ]
    }
   ],
   "source": [
    "#!pip install ipywidgets\n",
    "#!jupyter nbextension enable --py widgetsnbextension\n",
    "import scipy as sp\n",
    "import scipy.io\n",
    "import scipy.stats\n",
    "import os\n",
    "import numpy as np\n",
    "import pandas as pd\n",
    "import glob\n",
    "import csv\n",
    "import random as rand\n",
    "from tqdm import tnrange, tqdm_notebook\n",
    "\n",
    "import cmocean\n",
    "import matplotlib.patches as patches\n",
    "from matplotlib import gridspec\n",
    "\n",
    "from collections import Iterable\n",
    "import matplotlib.pylab as mpl\n",
    "\n",
    "import random as rand\n",
    "from ipywidgets import *\n",
    "import colorlover as cl\n",
    "\n",
    "from sklearn.metrics import roc_curve, auc\n",
    "from sklearn.model_selection import train_test_split\n",
    "from sklearn.preprocessing import label_binarize\n"
   ]
  },
  {
   "cell_type": "code",
   "execution_count": 2,
   "metadata": {
    "ExecuteTime": {
     "end_time": "2017-11-30T16:19:09.487899Z",
     "start_time": "2017-11-30T16:19:09.480900"
    }
   },
   "outputs": [],
   "source": [
    "font = {'family' : 'sans-serif',\n",
    "        'weight' : 'normal',\n",
    "        'size'   : 22}\n",
    "\n",
    "mpl.rc('font', **font)\n",
    "mpl.rc('xtick', labelsize=20) \n",
    "mpl.rc('ytick', labelsize=20)\n",
    "mpl.rc('axes', labelsize=20)\n",
    "\n",
    "\n",
    "bin_size = 0.025\n",
    "mpl.rcParams['pdf.fonttype'] = 42\n",
    "mpl.rcParams['ps.fonttype'] = 42"
   ]
  },
  {
   "cell_type": "markdown",
   "metadata": {},
   "source": [
    "## Load behavioral data"
   ]
  },
  {
   "cell_type": "code",
   "execution_count": 3,
   "metadata": {},
   "outputs": [
    {
     "data": {
      "text/plain": [
       "'C:\\\\Users\\\\Eric\\\\Documents\\\\09-12-2021\\\\crossmodal\\\\Figure1'"
      ]
     },
     "execution_count": 3,
     "metadata": {},
     "output_type": "execute_result"
    }
   ],
   "source": [
    "os.getcwd()"
   ]
  },
  {
   "cell_type": "code",
   "execution_count": 4,
   "metadata": {
    "ExecuteTime": {
     "end_time": "2017-11-30T16:20:00.885531Z",
     "start_time": "2017-11-30T16:19:09.488899"
    },
    "jupyter": {
     "outputs_hidden": false
    }
   },
   "outputs": [],
   "source": [
    "beh_data_files = glob.glob(\"behavior*\")\n",
    "behavior_df = pd.DataFrame([])\n",
    "mat = sp.io.loadmat(beh_data_files[1])\n",
    "beh_df = pd.DataFrame(mat['behavior_log'])"
   ]
  },
  {
   "cell_type": "code",
   "execution_count": 5,
   "metadata": {
    "ExecuteTime": {
     "end_time": "2017-11-30T16:20:06.799292Z",
     "start_time": "2017-11-30T16:20:00.889527"
    },
    "jupyter": {
     "outputs_hidden": false
    }
   },
   "outputs": [
    {
     "data": {
      "text/html": [
       "<div>\n",
       "<style scoped>\n",
       "    .dataframe tbody tr th:only-of-type {\n",
       "        vertical-align: middle;\n",
       "    }\n",
       "\n",
       "    .dataframe tbody tr th {\n",
       "        vertical-align: top;\n",
       "    }\n",
       "\n",
       "    .dataframe thead th {\n",
       "        text-align: right;\n",
       "    }\n",
       "</style>\n",
       "<table border=\"1\" class=\"dataframe\">\n",
       "  <thead>\n",
       "    <tr style=\"text-align: right;\">\n",
       "      <th></th>\n",
       "      <th>mouse_name</th>\n",
       "      <th>session_type</th>\n",
       "      <th>session_date</th>\n",
       "      <th>block_type</th>\n",
       "      <th>trial_type</th>\n",
       "      <th>trial_num</th>\n",
       "      <th>som_stim_type</th>\n",
       "      <th>vis_stim_type</th>\n",
       "      <th>response</th>\n",
       "    </tr>\n",
       "  </thead>\n",
       "  <tbody>\n",
       "    <tr>\n",
       "      <th>1</th>\n",
       "      <td>EF0072</td>\n",
       "      <td>Solo.EFcross2Array</td>\n",
       "      <td>12-02-15</td>\n",
       "      <td>Visual</td>\n",
       "      <td>NoStim_Som_NoCue</td>\n",
       "      <td>1</td>\n",
       "      <td>SineAmp1Freq40Cyc40</td>\n",
       "      <td>Amp0p05Dur0p075</td>\n",
       "      <td>0</td>\n",
       "    </tr>\n",
       "    <tr>\n",
       "      <th>2</th>\n",
       "      <td>EF0072</td>\n",
       "      <td>Solo.EFcross2Array</td>\n",
       "      <td>12-02-15</td>\n",
       "      <td>Whisker</td>\n",
       "      <td>Stim_Som_NoCue</td>\n",
       "      <td>2</td>\n",
       "      <td>SineAmp1Freq40Cyc40</td>\n",
       "      <td>Amp0p05Dur0p075</td>\n",
       "      <td>0</td>\n",
       "    </tr>\n",
       "    <tr>\n",
       "      <th>3</th>\n",
       "      <td>EF0072</td>\n",
       "      <td>Solo.EFcross2Array</td>\n",
       "      <td>12-02-15</td>\n",
       "      <td>Whisker</td>\n",
       "      <td>NoStim_Som_NoCue</td>\n",
       "      <td>3</td>\n",
       "      <td>SineAmp1Freq40Cyc40</td>\n",
       "      <td>Amp0p05Dur0p075</td>\n",
       "      <td>1</td>\n",
       "    </tr>\n",
       "    <tr>\n",
       "      <th>4</th>\n",
       "      <td>EF0072</td>\n",
       "      <td>Solo.EFcross2Array</td>\n",
       "      <td>12-02-15</td>\n",
       "      <td>Whisker</td>\n",
       "      <td>Stim_Som_NoCue</td>\n",
       "      <td>4</td>\n",
       "      <td>SineAmp1Freq40Cyc40</td>\n",
       "      <td>Amp0p05Dur0p075</td>\n",
       "      <td>0</td>\n",
       "    </tr>\n",
       "    <tr>\n",
       "      <th>5</th>\n",
       "      <td>EF0072</td>\n",
       "      <td>Solo.EFcross2Array</td>\n",
       "      <td>12-02-15</td>\n",
       "      <td>Whisker</td>\n",
       "      <td>NoStim_Som_NoCue</td>\n",
       "      <td>5</td>\n",
       "      <td>SineAmp1Freq40Cyc40</td>\n",
       "      <td>Amp0p05Dur0p075</td>\n",
       "      <td>1</td>\n",
       "    </tr>\n",
       "  </tbody>\n",
       "</table>\n",
       "</div>"
      ],
      "text/plain": [
       "  mouse_name        session_type session_date block_type        trial_type  \\\n",
       "1     EF0072  Solo.EFcross2Array     12-02-15     Visual  NoStim_Som_NoCue   \n",
       "2     EF0072  Solo.EFcross2Array     12-02-15    Whisker    Stim_Som_NoCue   \n",
       "3     EF0072  Solo.EFcross2Array     12-02-15    Whisker  NoStim_Som_NoCue   \n",
       "4     EF0072  Solo.EFcross2Array     12-02-15    Whisker    Stim_Som_NoCue   \n",
       "5     EF0072  Solo.EFcross2Array     12-02-15    Whisker  NoStim_Som_NoCue   \n",
       "\n",
       "   trial_num        som_stim_type    vis_stim_type  response  \n",
       "1          1  SineAmp1Freq40Cyc40  Amp0p05Dur0p075         0  \n",
       "2          2  SineAmp1Freq40Cyc40  Amp0p05Dur0p075         0  \n",
       "3          3  SineAmp1Freq40Cyc40  Amp0p05Dur0p075         1  \n",
       "4          4  SineAmp1Freq40Cyc40  Amp0p05Dur0p075         0  \n",
       "5          5  SineAmp1Freq40Cyc40  Amp0p05Dur0p075         1  "
      ]
     },
     "execution_count": 5,
     "metadata": {},
     "output_type": "execute_result"
    }
   ],
   "source": [
    "for col in range(beh_df.shape[1]): \n",
    "    beh_df.iloc[:,col] = beh_df.iloc[:,col].str[0]\n",
    "    \n",
    "col_names = beh_df.loc[0,:]\n",
    "beh_df = beh_df.iloc[1:,:].rename(columns = col_names)\n",
    "\n",
    "for col in [5,8]:\n",
    "    beh_df.iloc[:,col] = beh_df.iloc[:,col].str[0]\n",
    "\n",
    "beh_df.head()"
   ]
  },
  {
   "cell_type": "code",
   "execution_count": 6,
   "metadata": {
    "ExecuteTime": {
     "end_time": "2017-11-30T16:20:06.838318Z",
     "start_time": "2017-11-30T16:20:06.800290"
    },
    "jupyter": {
     "outputs_hidden": false
    }
   },
   "outputs": [
    {
     "data": {
      "text/plain": [
       "array(['EF0072', 'EF0074', 'EF0076', 'EF0077', 'EF0079', 'Ef0079',\n",
       "       'EF0081', 'EF0083', 'EF0084', 'EF0085', 'EF0088', 'EF0089',\n",
       "       'EF0091', 'EF0094', 'EF0098', 'EF0099', 'EF0100', 'EF0101',\n",
       "       'EF00101', 'EF0102', 'EF0111', 'EF0112', 'EF0114', 'EF0131',\n",
       "       'EF0132', 'EF0134', 'EF0144', 'EF0147', 'EF0149', 'EF0148',\n",
       "       'EF0151'], dtype=object)"
      ]
     },
     "execution_count": 6,
     "metadata": {},
     "output_type": "execute_result"
    }
   ],
   "source": [
    "beh_df['mouse_name'].unique()"
   ]
  },
  {
   "cell_type": "markdown",
   "metadata": {},
   "source": [
    "#### clean up dataframe - remove unsuccessful mice, rename misnamed mice"
   ]
  },
  {
   "cell_type": "code",
   "execution_count": 7,
   "metadata": {
    "ExecuteTime": {
     "end_time": "2017-11-30T16:20:07.342730Z",
     "start_time": "2017-11-30T16:20:06.839319"
    },
    "jupyter": {
     "outputs_hidden": false
    }
   },
   "outputs": [],
   "source": [
    "beh_df = beh_df.loc[beh_df['mouse_name'] != 'EF0072', :]\n",
    "beh_df = beh_df.loc[beh_df['mouse_name'] != 'EF0100', :]\n",
    "beh_df.loc[beh_df['mouse_name'] == 'EF00101', 'mouse_name'] = 'EF0101'\n",
    "beh_df.loc[beh_df['mouse_name'] == 'Ef0079', 'mouse_name'] = 'EF0079'"
   ]
  },
  {
   "cell_type": "markdown",
   "metadata": {},
   "source": [
    "#### Note: EF0094,EF0098 were switch-task mice from the start and therefore will be excluded from the behavioral analyses"
   ]
  },
  {
   "cell_type": "code",
   "execution_count": 9,
   "metadata": {
    "ExecuteTime": {
     "end_time": "2017-11-30T16:20:07.578916Z",
     "start_time": "2017-11-30T16:20:07.344726"
    }
   },
   "outputs": [],
   "source": [
    "beh_df = beh_df.loc[beh_df['mouse_name'] != 'EF0094', :]\n",
    "beh_df = beh_df.loc[beh_df['mouse_name'] != 'EF0098', :]\n",
    "beh_df = beh_df.loc[beh_df['mouse_name'] != 'EF0151', :] # not included in any experiments\n",
    "beh_df = beh_df.loc[beh_df['mouse_name'] != 'EF0134', :] # not included in any experiments"
   ]
  },
  {
   "cell_type": "code",
   "execution_count": 10,
   "metadata": {
    "ExecuteTime": {
     "end_time": "2017-11-30T16:20:07.607938Z",
     "start_time": "2017-11-30T16:20:07.580916"
    },
    "jupyter": {
     "outputs_hidden": false
    }
   },
   "outputs": [
    {
     "data": {
      "text/plain": [
       "array(['EF0074', 'EF0076', 'EF0077', 'EF0079', 'EF0081', 'EF0083',\n",
       "       'EF0084', 'EF0085', 'EF0088', 'EF0089', 'EF0091', 'EF0099',\n",
       "       'EF0101', 'EF0102', 'EF0111', 'EF0112', 'EF0114', 'EF0131',\n",
       "       'EF0132', 'EF0144', 'EF0147', 'EF0149', 'EF0148'], dtype=object)"
      ]
     },
     "execution_count": 10,
     "metadata": {},
     "output_type": "execute_result"
    }
   ],
   "source": [
    "beh_df['mouse_name'].unique()"
   ]
  },
  {
   "cell_type": "markdown",
   "metadata": {},
   "source": [
    "#### remove premature lick trials"
   ]
  },
  {
   "cell_type": "code",
   "execution_count": 11,
   "metadata": {
    "ExecuteTime": {
     "end_time": "2017-11-30T16:20:07.897170Z",
     "start_time": "2017-11-30T16:20:07.609939"
    }
   },
   "outputs": [
    {
     "ename": "AttributeError",
     "evalue": "'Series' object has no attribute 'as_matrix'",
     "output_type": "error",
     "traceback": [
      "\u001b[1;31m---------------------------------------------------------------------------\u001b[0m",
      "\u001b[1;31mAttributeError\u001b[0m                            Traceback (most recent call last)",
      "\u001b[1;32m~\\AppData\\Local\\Temp/ipykernel_8484/469624691.py\u001b[0m in \u001b[0;36m<module>\u001b[1;34m\u001b[0m\n\u001b[1;32m----> 1\u001b[1;33m \u001b[0mbeh_df\u001b[0m \u001b[1;33m=\u001b[0m \u001b[0mbeh_df\u001b[0m\u001b[1;33m.\u001b[0m\u001b[0mloc\u001b[0m\u001b[1;33m[\u001b[0m\u001b[0mbeh_df\u001b[0m\u001b[1;33m[\u001b[0m\u001b[1;34m'response'\u001b[0m\u001b[1;33m]\u001b[0m\u001b[1;33m.\u001b[0m\u001b[0misin\u001b[0m\u001b[1;33m(\u001b[0m\u001b[1;33m[\u001b[0m\u001b[1;36m0\u001b[0m\u001b[1;33m,\u001b[0m\u001b[1;36m1\u001b[0m\u001b[1;33m,\u001b[0m\u001b[1;36m2\u001b[0m\u001b[1;33m]\u001b[0m\u001b[1;33m)\u001b[0m\u001b[1;33m.\u001b[0m\u001b[0mas_matrix\u001b[0m\u001b[1;33m(\u001b[0m\u001b[1;33m)\u001b[0m\u001b[1;33m,\u001b[0m \u001b[1;33m:\u001b[0m\u001b[1;33m]\u001b[0m\u001b[1;33m\u001b[0m\u001b[1;33m\u001b[0m\u001b[0m\n\u001b[0m\u001b[0;32m      2\u001b[0m \u001b[0mbeh_df\u001b[0m \u001b[1;33m=\u001b[0m \u001b[0mbeh_df\u001b[0m\u001b[1;33m.\u001b[0m\u001b[0msort_values\u001b[0m\u001b[1;33m(\u001b[0m\u001b[0mby\u001b[0m \u001b[1;33m=\u001b[0m \u001b[1;33m[\u001b[0m\u001b[1;34m'mouse_name'\u001b[0m\u001b[1;33m,\u001b[0m \u001b[1;34m'session_date'\u001b[0m\u001b[1;33m,\u001b[0m \u001b[1;34m'trial_num'\u001b[0m\u001b[1;33m]\u001b[0m\u001b[1;33m)\u001b[0m\u001b[1;33m\u001b[0m\u001b[1;33m\u001b[0m\u001b[0m\n",
      "\u001b[1;32m~\\anaconda3\\envs\\crossmodal\\lib\\site-packages\\pandas\\core\\generic.py\u001b[0m in \u001b[0;36m__getattr__\u001b[1;34m(self, name)\u001b[0m\n\u001b[0;32m   5485\u001b[0m         ):\n\u001b[0;32m   5486\u001b[0m             \u001b[1;32mreturn\u001b[0m \u001b[0mself\u001b[0m\u001b[1;33m[\u001b[0m\u001b[0mname\u001b[0m\u001b[1;33m]\u001b[0m\u001b[1;33m\u001b[0m\u001b[1;33m\u001b[0m\u001b[0m\n\u001b[1;32m-> 5487\u001b[1;33m         \u001b[1;32mreturn\u001b[0m \u001b[0mobject\u001b[0m\u001b[1;33m.\u001b[0m\u001b[0m__getattribute__\u001b[0m\u001b[1;33m(\u001b[0m\u001b[0mself\u001b[0m\u001b[1;33m,\u001b[0m \u001b[0mname\u001b[0m\u001b[1;33m)\u001b[0m\u001b[1;33m\u001b[0m\u001b[1;33m\u001b[0m\u001b[0m\n\u001b[0m\u001b[0;32m   5488\u001b[0m \u001b[1;33m\u001b[0m\u001b[0m\n\u001b[0;32m   5489\u001b[0m     \u001b[1;32mdef\u001b[0m \u001b[0m__setattr__\u001b[0m\u001b[1;33m(\u001b[0m\u001b[0mself\u001b[0m\u001b[1;33m,\u001b[0m \u001b[0mname\u001b[0m\u001b[1;33m:\u001b[0m \u001b[0mstr\u001b[0m\u001b[1;33m,\u001b[0m \u001b[0mvalue\u001b[0m\u001b[1;33m)\u001b[0m \u001b[1;33m->\u001b[0m \u001b[1;32mNone\u001b[0m\u001b[1;33m:\u001b[0m\u001b[1;33m\u001b[0m\u001b[1;33m\u001b[0m\u001b[0m\n",
      "\u001b[1;31mAttributeError\u001b[0m: 'Series' object has no attribute 'as_matrix'"
     ]
    }
   ],
   "source": [
    "beh_df = beh_df.loc[beh_df['response'].isin([0,1,2]).as_matrix(), :]\n",
    "beh_df = beh_df.sort_values(by = ['mouse_name', 'session_date', 'trial_num'])"
   ]
  },
  {
   "cell_type": "markdown",
   "metadata": {},
   "source": [
    "#### remove trials following block transitions so that it is not taken into account in performance measurement - these are trials where the mouse is figuring out through trial and error that the block has switched"
   ]
  },
  {
   "cell_type": "code",
   "execution_count": 11,
   "metadata": {
    "ExecuteTime": {
     "end_time": "2017-11-30T16:21:21.256650Z",
     "start_time": "2017-11-30T16:20:07.899171"
    },
    "jupyter": {
     "outputs_hidden": false
    }
   },
   "outputs": [],
   "source": [
    "beh_df = beh_df.sort_values(by = ['mouse_name', 'session_date', 'trial_num']).reset_index()\n",
    "unique_sessions = beh_df[['mouse_name', 'session_date']].drop_duplicates().reset_index(drop =True)\n",
    "\n",
    "all_block_trans=[]\n",
    "for session_row in range(unique_sessions.shape[0]):\n",
    "    session = unique_sessions.loc[session_row].to_frame().T\n",
    "    session_subset = pd.merge(beh_df, session, on = ['mouse_name', 'session_date'], \n",
    "                              how = 'inner').set_index('index')\n",
    "    block_trans = session_subset.index[np.where((np.diff((session_subset['block_type'] == 'Visual')*1)*-1))[0]+1]\n",
    "    block_trans = np.array([(x, x+1, x+2, x+3, x+4) for x in block_trans]).flatten()\n",
    "    all_block_trans.append(block_trans)\n",
    "    \n",
    "beh_df = beh_df.loc[~beh_df['index'].isin(np.concatenate(all_block_trans)),:]\n",
    "# session_subset.loc[~session_subset['trial_num'].isin(block_trans), 'correct'].mean()"
   ]
  },
  {
   "cell_type": "code",
   "execution_count": 12,
   "metadata": {
    "ExecuteTime": {
     "end_time": "2017-11-30T16:21:26.908264Z",
     "start_time": "2017-11-30T16:21:21.260648"
    },
    "jupyter": {
     "outputs_hidden": false
    }
   },
   "outputs": [],
   "source": [
    "from datetime import datetime\n",
    "beh_df['session_date'] = beh_df['session_date'].apply(lambda x:  datetime.strptime(x, '%m-%d-%y'))\n",
    "beh_df = beh_df.sort_values(by = 'session_date').reset_index(drop = True)"
   ]
  },
  {
   "cell_type": "markdown",
   "metadata": {},
   "source": [
    "#### define which days are the first full crossmodal training day for each mouse"
   ]
  },
  {
   "cell_type": "code",
   "execution_count": 13,
   "metadata": {
    "ExecuteTime": {
     "end_time": "2017-11-30T16:21:26.918274Z",
     "start_time": "2017-11-30T16:21:26.909265"
    },
    "jupyter": {
     "outputs_hidden": false
    }
   },
   "outputs": [],
   "source": [
    "first_CM_days = pd.DataFrame({'EF0074':'12-10-15', 'EF0076': '12-23-15', 'EF0077': '02-11-16', 'EF0079' : '02-12-16',  \n",
    "                              'EF0081': '04-12-16','EF0083': '05-10-16', 'EF0084': '06-13-16', 'EF0085': '06-13-16',\n",
    "                              'EF0088':'06-28-16',  'EF0089':'07-08-16','EF0091': '12-01-16', 'EF0094': '01-24-17',\n",
    "                              'EF0098': '02-07-17' , 'EF0099': '02-08-17', 'EF0101' : '06-20-17', 'EF0102' : '06-20-17',\n",
    "                             'EF0111':'02-20-18', 'EF0112':'02-20-18', 'EF0114':'03-12-18', 'EF0131': '06-14-18', 'EF0132':'06-21-18',\n",
    "                             'EF0144':'08-01-18', 'EF0147':'10-22-18', 'EF0148':'10-22-18', 'EF0149':'10-23-18', 'EF0151':'11-02-18'}, \n",
    "                             index = ['first_train_date']).T\n",
    "\n",
    "first_CM_days['first_train_date'] = first_CM_days['first_train_date'].apply(lambda x:  datetime.strptime(x, '%m-%d-%y'))\n"
   ]
  },
  {
   "cell_type": "markdown",
   "metadata": {},
   "source": [
    "#### load main data table that includes ephys data. This will define which days are the test days/recorded sessions for each mouse"
   ]
  },
  {
   "cell_type": "code",
   "execution_count": 14,
   "metadata": {},
   "outputs": [
    {
     "ename": "FileNotFoundError",
     "evalue": "File log_df_rev.h5 does not exist",
     "output_type": "error",
     "traceback": [
      "\u001b[1;31m---------------------------------------------------------------------------\u001b[0m",
      "\u001b[1;31mFileNotFoundError\u001b[0m                         Traceback (most recent call last)",
      "\u001b[1;32m<ipython-input-14-0f8911f75a88>\u001b[0m in \u001b[0;36m<module>\u001b[1;34m\u001b[0m\n\u001b[1;32m----> 1\u001b[1;33m \u001b[0mpd\u001b[0m\u001b[1;33m.\u001b[0m\u001b[0mread_hdf\u001b[0m\u001b[1;33m(\u001b[0m\u001b[1;34m'log_df_rev.h5'\u001b[0m\u001b[1;33m,\u001b[0m \u001b[1;34m'table'\u001b[0m\u001b[1;33m)\u001b[0m\u001b[1;33m\u001b[0m\u001b[1;33m\u001b[0m\u001b[0m\n\u001b[0m",
      "\u001b[1;32m~\\Anaconda3\\envs\\crossmodal\\lib\\site-packages\\pandas\\io\\pytables.py\u001b[0m in \u001b[0;36mread_hdf\u001b[1;34m(path_or_buf, key, mode, **kwargs)\u001b[0m\n\u001b[0;32m    379\u001b[0m         \u001b[1;32mif\u001b[0m \u001b[1;32mnot\u001b[0m \u001b[0mexists\u001b[0m\u001b[1;33m:\u001b[0m\u001b[1;33m\u001b[0m\u001b[1;33m\u001b[0m\u001b[0m\n\u001b[0;32m    380\u001b[0m             raise FileNotFoundError(\n\u001b[1;32m--> 381\u001b[1;33m                 \u001b[1;34m\"File {path} does not exist\"\u001b[0m\u001b[1;33m.\u001b[0m\u001b[0mformat\u001b[0m\u001b[1;33m(\u001b[0m\u001b[0mpath\u001b[0m\u001b[1;33m=\u001b[0m\u001b[0mpath_or_buf\u001b[0m\u001b[1;33m)\u001b[0m\u001b[1;33m\u001b[0m\u001b[1;33m\u001b[0m\u001b[0m\n\u001b[0m\u001b[0;32m    382\u001b[0m             )\n\u001b[0;32m    383\u001b[0m \u001b[1;33m\u001b[0m\u001b[0m\n",
      "\u001b[1;31mFileNotFoundError\u001b[0m: File log_df_rev.h5 does not exist"
     ]
    }
   ],
   "source": [
    "pd.read_hdf('log_df_rev.h5', 'table')"
   ]
  },
  {
   "cell_type": "code",
   "execution_count": null,
   "metadata": {
    "ExecuteTime": {
     "end_time": "2017-11-30T16:22:59.187855Z",
     "start_time": "2017-11-30T16:21:26.919274"
    },
    "jupyter": {
     "outputs_hidden": false
    }
   },
   "outputs": [],
   "source": [
    "log_df = pd.read_hdf('log_df_rev.h5', 'table')\n",
    "switch_log_df = pd.read_hdf('switching_log.h5', 'table')"
   ]
  },
  {
   "cell_type": "code",
   "execution_count": null,
   "metadata": {
    "ExecuteTime": {
     "end_time": "2017-11-30T16:23:21.716649Z",
     "start_time": "2017-11-30T16:22:59.188859"
    }
   },
   "outputs": [],
   "source": [
    "log_df['stim_onset'] = log_df['stim_onset'].fillna(0)\n",
    "log_df['spike_times(stim_aligned)'] = log_df['spike_times'] - log_df['stim_onset']\n",
    "log_df = log_df[~log_df['trial_type'].str.contains('NoStim')]\n",
    "licks = pd.concat([log_df['licks_right'] - log_df['stim_onset'] , log_df['licks_left']-log_df['stim_onset']], axis=1)\n",
    "licks = licks.applymap(lambda y: y[[0.1<y]] if len(y) > 0 else y)\n",
    "licks = licks.applymap(lambda y: y[[3>=y]] if len(y) > 0 else y)\n",
    "first_licks = licks.applymap(lambda y: min(y) if len(y) > 0 else np.nan)\n",
    "last_licks = licks.applymap(lambda y: max(y) if len(y) > 0 else np.nan)\n",
    "\n",
    "log_df['first_lick'] = first_licks.min(axis=1)\n",
    "log_df['correct'] = 0\n",
    "\n",
    "# fwd contingencies - correct responses\n",
    "log_df.loc[~(log_df['mouse_name'].isin(['EF0091', 'EF0099', 'EF0101', 'EF0102'])) & (log_df['block_type'] == 'Whisker') &\n",
    "       (log_df['trial_type'].str.contains('Som')) & (log_df['response'] == 1), 'correct'] = 1\n",
    "log_df.loc[~(log_df['mouse_name'].isin(['EF0091', 'EF0099', 'EF0101', 'EF0102'])) & (log_df['block_type'] == 'Visual') &\n",
    "       (log_df['trial_type'].str.contains('Vis')) & (log_df['response'] == 2), 'correct'] = 1\n",
    "\n",
    "#rev contingencies - correct responses\n",
    "log_df.loc[(log_df['mouse_name'].isin(['EF0091', 'EF0099', 'EF0101', 'EF0102'])) & (log_df['block_type'] == 'Whisker') &\n",
    "       (log_df['trial_type'].str.contains('Som')) & (log_df['response'] == 2), 'correct'] = 1\n",
    "log_df.loc[(log_df['mouse_name'].isin(['EF0091', 'EF0099', 'EF0101', 'EF0102'])) & (log_df['block_type'] == 'Visual') &\n",
    "       (log_df['trial_type'].str.contains('Vis')) & (log_df['response'] == 1), 'correct'] = 1\n",
    "\n",
    "#correct rejections\n",
    "log_df.loc[(log_df['block_type'] == 'Whisker') & (log_df['trial_type'].str.contains('Vis'))\n",
    "           & (log_df['response'] == 0), 'correct'] = 1\n",
    "log_df.loc[(log_df['block_type'] == 'Visual') & (log_df['trial_type'].str.contains('Som'))\n",
    "           & (log_df['response'] == 0), 'correct'] = 1"
   ]
  },
  {
   "cell_type": "code",
   "execution_count": null,
   "metadata": {
    "ExecuteTime": {
     "end_time": "2017-11-30T16:23:21.790709Z",
     "start_time": "2017-11-30T16:23:21.717650"
    },
    "jupyter": {
     "outputs_hidden": false
    }
   },
   "outputs": [],
   "source": [
    "# excluded EF0088 since trained on switching task after initial CM training\n",
    "switch_log_df = switch_log_df.loc[~(switch_log_df['mouse_name'] == 'EF0088'),:]"
   ]
  },
  {
   "cell_type": "code",
   "execution_count": null,
   "metadata": {
    "ExecuteTime": {
     "end_time": "2017-11-30T16:23:22.609574Z",
     "start_time": "2017-11-30T16:23:21.791710"
    },
    "jupyter": {
     "outputs_hidden": false
    }
   },
   "outputs": [],
   "source": [
    "recording_days_sw = switch_log_df.loc[:, ['mouse_name', 'date']].drop_duplicates()\n",
    "recording_days = pd.concat((log_df.loc[:, ['mouse_name', 'date']].drop_duplicates(), recording_days_sw), axis = 0)\n"
   ]
  },
  {
   "cell_type": "code",
   "execution_count": null,
   "metadata": {
    "ExecuteTime": {
     "end_time": "2017-11-30T16:23:23.404339Z",
     "start_time": "2017-11-30T16:23:22.610573"
    },
    "jupyter": {
     "outputs_hidden": false
    }
   },
   "outputs": [],
   "source": [
    "recording_days['date'] = recording_days['date'].apply(lambda x:  datetime.strptime(x, '%m-%d-%y'))\n",
    "\n",
    "first_recording = {}\n",
    "for mouse in recording_days['mouse_name'].unique():\n",
    "    first = recording_days.loc[recording_days['mouse_name'] == mouse, 'date'].min()\n",
    "    first_recording[mouse] = first\n",
    "first_recording = pd.DataFrame(first_recording, index = ['first_rec_date']).T\n"
   ]
  },
  {
   "cell_type": "code",
   "execution_count": null,
   "metadata": {
    "ExecuteTime": {
     "end_time": "2017-11-30T16:23:24.876855Z",
     "start_time": "2017-11-30T16:23:23.406343"
    },
    "jupyter": {
     "outputs_hidden": false
    }
   },
   "outputs": [],
   "source": [
    "beh_df['full_stim'] = 0\n",
    "beh_df.loc[~beh_df['trial_type'].str.contains('1Cyc'), 'full_stim'] = 1"
   ]
  },
  {
   "cell_type": "code",
   "execution_count": null,
   "metadata": {
    "ExecuteTime": {
     "end_time": "2017-11-30T16:23:26.118611Z",
     "start_time": "2017-11-30T16:23:24.877856"
    },
    "jupyter": {
     "outputs_hidden": false
    }
   },
   "outputs": [],
   "source": [
    "short_stim_performance = pd.pivot_table(beh_df[beh_df['full_stim'] == 0], index = ['mouse_name', 'session_date'],\n",
    "                                       values = 'correct', aggfunc = np.mean)\n",
    "full_stim_performance = pd.pivot_table(beh_df[beh_df['full_stim'] == 1], index = ['mouse_name', 'session_date'],\n",
    "                                       values = 'correct', aggfunc = np.mean)\n",
    "full_stim_performance.head()"
   ]
  },
  {
   "cell_type": "code",
   "execution_count": null,
   "metadata": {
    "ExecuteTime": {
     "end_time": "2017-11-30T16:23:26.971733Z",
     "start_time": "2017-11-30T16:23:26.119611"
    },
    "jupyter": {
     "outputs_hidden": false
    }
   },
   "outputs": [],
   "source": [
    "block_performance_short = pd.pivot_table(beh_df[beh_df['full_stim'] == 0], index = ['mouse_name', 'session_date'],\n",
    "                                         columns = ['block_type'], values = 'correct', aggfunc = np.mean)\n",
    "block_performance_full = pd.pivot_table(beh_df[beh_df['full_stim'] == 1], index = ['mouse_name', 'session_date'],\n",
    "                                        columns = ['block_type'], values = 'correct', aggfunc = np.mean)\n",
    "block_performance_full.head()"
   ]
  },
  {
   "cell_type": "markdown",
   "metadata": {},
   "source": [
    "#### calculate the proportion of trials that are hits, misses, FA, and CR for each mouse during the recording sessions"
   ]
  },
  {
   "cell_type": "code",
   "execution_count": null,
   "metadata": {
    "ExecuteTime": {
     "end_time": "2017-11-30T16:23:27.836433Z",
     "start_time": "2017-11-30T16:23:26.972732"
    },
    "jupyter": {
     "outputs_hidden": false
    }
   },
   "outputs": [],
   "source": [
    "rec_days_trials = pd.merge(beh_df, recording_days, left_on = ['mouse_name', 'session_date'],\n",
    "                           right_on = ['mouse_name', 'date'], how = 'inner')\n",
    "\n",
    "avg_tb_proportions = []\n",
    "std_tb_proportions = []\n",
    "\n",
    "avg_vb_proportions = []\n",
    "std_vb_proportions = []\n",
    "for mouse in rec_days_trials['mouse_name'].drop_duplicates():\n",
    "    mouse_rec_days = rec_days_trials[rec_days_trials['mouse_name'] == mouse]\n",
    "    t_block = mouse_rec_days['block_type'] == 'Whisker'\n",
    "    v_block = mouse_rec_days['block_type'] == 'Visual'\n",
    "    v_trial = mouse_rec_days['trial_type'].str.contains('Vis')\n",
    "    t_trial = mouse_rec_days['trial_type'].str.contains('Som')\n",
    "    lick = mouse_rec_days['response'] != 0\n",
    "    correct = mouse_rec_days['correct'] ==1\n",
    "\n",
    "    tb_hits = t_block & lick & correct\n",
    "    tb_misses = t_block & ~lick & ~correct\n",
    "    tb_FA = t_block & lick & ~correct\n",
    "    tb_CR = t_block & ~lick & correct\n",
    "\n",
    "    vb_hits = v_block & lick & correct\n",
    "    vb_misses = v_block & ~lick & ~correct\n",
    "    vb_FA = v_block & lick & ~correct\n",
    "    vb_CR = v_block & ~lick & correct\n",
    "\n",
    "    \n",
    "    tb_trial_types = [tb_hits, tb_misses, tb_FA, tb_CR]\n",
    "    vb_trial_types = [vb_hits, vb_misses, vb_FA, vb_CR]\n",
    "    avg_tb_proportions.append([sum(tt*1)/sum(t_block*1) for tt in tb_trial_types])\n",
    "    avg_vb_proportions.append([sum(tt*1)/sum(v_block*1) for tt in vb_trial_types])\n",
    "    std_tb_proportions.append([sum(tt*1)/sum(t_block*1) for tt in tb_trial_types])\n",
    "    std_vb_proportions.append([sum(tt*1)/sum(t_block*1) for tt in vb_trial_types])\n",
    "\n",
    "avg_tb_proportions = np.array(avg_tb_proportions).mean(axis = 0)\n",
    "avg_vb_proportions = np.array(avg_vb_proportions).mean(axis = 0)\n",
    "std_tb_proportions = np.array(std_tb_proportions).std(axis = 0)\n",
    "std_vb_proportions = np.array(std_vb_proportions).std(axis = 0)\n",
    "trial_type_labels = ['Hits', 'Misses', 'False alarms', 'Correct rejections']\n",
    "\n",
    "std_tb_proportions"
   ]
  },
  {
   "cell_type": "markdown",
   "metadata": {},
   "source": [
    "#### calculate performance of mice on each crosmodal training session first for full and then for short stimuli"
   ]
  },
  {
   "cell_type": "code",
   "execution_count": null,
   "metadata": {
    "ExecuteTime": {
     "end_time": "2017-11-30T16:50:17.446457Z",
     "start_time": "2017-11-30T16:50:17.274278"
    },
    "jupyter": {
     "outputs_hidden": false
    }
   },
   "outputs": [],
   "source": [
    "cm_training_perf_full = {}\n",
    "block_training_perf_full = {}\n",
    "for mouse in beh_df['mouse_name'].unique():\n",
    "    if first_recording.index.isin([mouse]).any():\n",
    "        drop_inds = ~((full_stim_performance[mouse].index >= first_CM_days.loc[mouse, 'first_train_date']) & \n",
    "                      (full_stim_performance[mouse].index <= first_recording.loc[mouse, 'first_rec_date']))\n",
    "        cm_training_perf_full[mouse] = full_stim_performance[mouse].drop(np.array(full_stim_performance[mouse].index)[drop_inds])\n",
    "        block_training_perf_full[mouse] = block_performance_full.loc[mouse].drop(np.array(block_performance_full.loc[mouse].index)[drop_inds])\n",
    "del cm_training_perf_full['EF0091']\n",
    "del block_training_perf_full['EF0091'] ## excluded since initially attempted to train on delay task before switching to CM"
   ]
  },
  {
   "cell_type": "code",
   "execution_count": null,
   "metadata": {
    "ExecuteTime": {
     "end_time": "2017-11-30T16:50:18.046349Z",
     "start_time": "2017-11-30T16:50:17.961280"
    },
    "jupyter": {
     "outputs_hidden": false
    }
   },
   "outputs": [],
   "source": [
    "cm_training_perf_short = {}\n",
    "block_training_perf_short = {}\n",
    "\n",
    "for mouse in beh_df['mouse_name'].unique():\n",
    "    if short_stim_performance.index.levels[0].isin([mouse]).any():\n",
    "        drop_inds = ~((short_stim_performance[mouse].index >= first_CM_days.loc[mouse, 'first_train_date']) & \n",
    "                      (short_stim_performance[mouse].index <= first_recording.loc[mouse, 'first_rec_date']))\n",
    "        cm_training_perf_short[mouse] = short_stim_performance[mouse].drop(np.array(short_stim_performance[mouse].index)[drop_inds])\n",
    "        block_training_perf_short[mouse] = block_performance_short.loc[mouse].drop(np.array(block_performance_short.loc[mouse].index)[drop_inds])\n",
    "# del cm_training_perf_short['EF0091']\n",
    "# del block_training_perf_short['EF0091'] ## excluded since initially attempted to train on delay task before switching to CM"
   ]
  },
  {
   "cell_type": "markdown",
   "metadata": {},
   "source": [
    "#### add days in which no units were recorded and there for dont show up in log_df."
   ]
  },
  {
   "cell_type": "code",
   "execution_count": null,
   "metadata": {
    "ExecuteTime": {
     "end_time": "2017-11-30T16:50:19.089194Z",
     "start_time": "2017-11-30T16:50:19.081188"
    },
    "jupyter": {
     "outputs_hidden": false
    }
   },
   "outputs": [],
   "source": [
    "### days in which no units were recorded dont show up in log_df and therefore must be manually entered\n",
    "additional_rec_days = {}\n",
    "additional_rec_days['EF0079'] = ['02-24-16', '02-26-16', '03-23-16', '03-28-16']\n",
    "additional_rec_days['EF0074'] = []\n",
    "additional_rec_days['EF0076'] = []\n",
    "additional_rec_days['EF0081'] = []\n",
    "additional_rec_days['EF0077'] = ['05-12-16']\n",
    "additional_rec_days['EF0084'] = ['07-26-16']\n",
    "additional_rec_days['EF0083'] = ['05-25-16','05-27-16','05-28-16','06-01-16','06-02-16','06-05-16','06-07-16']\n",
    "additional_rec_days['EF0085'] = ['08-02-16','08-16-16','08-18-16','08-19-16']\n",
    "additional_rec_days['EF0089'] = ['09-14-16', '09-06-16']\n",
    "additional_rec_days['EF0088'] = []\n",
    "additional_rec_days['EF0099'] = []\n",
    "additional_rec_days['EF0101'] = []\n",
    "additional_rec_days['EF0102'] = ['08-17-17', '08-21-17']"
   ]
  },
  {
   "cell_type": "code",
   "execution_count": null,
   "metadata": {
    "ExecuteTime": {
     "end_time": "2017-11-30T16:50:19.942120Z",
     "start_time": "2017-11-30T16:50:19.881064"
    },
    "jupyter": {
     "outputs_hidden": false
    }
   },
   "outputs": [],
   "source": [
    "for mouse in list(cm_training_perf_full.keys()):\n",
    "    if mouse in additional_rec_days:\n",
    "        add_days = pd.concat((pd.DataFrame([mouse]*len(additional_rec_days[mouse]), columns = ['mouse_name']), \n",
    "                                           pd.DataFrame(additional_rec_days[mouse], columns = ['date'])), axis = 1)\n",
    "        add_days['date'] = add_days['date'].apply(lambda x:  datetime.strptime(x, '%m-%d-%y'))\n",
    "        recording_days = recording_days.append(add_days)\n",
    "recording_days = recording_days.sort_values(by=['mouse_name', 'date'])"
   ]
  },
  {
   "cell_type": "markdown",
   "metadata": {},
   "source": [
    "#### EF0101 EF0102 underwent headcap surgery then trained to criterion then inplanted. After implantation the mouse needed a few days to recover performance leading to significantly longer time to criterion. Will remove these recovery days for the the next analysis:"
   ]
  },
  {
   "cell_type": "code",
   "execution_count": null,
   "metadata": {
    "ExecuteTime": {
     "end_time": "2017-11-30T16:50:20.774531Z",
     "start_time": "2017-11-30T16:50:20.768526"
    },
    "jupyter": {
     "outputs_hidden": false
    }
   },
   "outputs": [],
   "source": [
    "cm_training_perf_full['EF0101'] = cm_training_perf_full['EF0101'][cm_training_perf_full['EF0101'].index <= '2017-07-21']\n",
    "cm_training_perf_full['EF0102'] = cm_training_perf_full['EF0102'][cm_training_perf_full['EF0102'].index < '2017-07-27']\n",
    "block_training_perf_full['EF0101']  = block_training_perf_full[mouse][block_training_perf_full[mouse].index <= '2017-07-21']\n",
    "block_training_perf_full['EF0102']  = block_training_perf_full[mouse][block_training_perf_full[mouse].index < '2017-07-27']"
   ]
  },
  {
   "cell_type": "code",
   "execution_count": null,
   "metadata": {
    "ExecuteTime": {
     "end_time": "2017-11-30T16:50:21.212571Z",
     "start_time": "2017-11-30T16:50:21.209567"
    }
   },
   "outputs": [],
   "source": [
    "recording_days = recording_days.reset_index(drop=True)"
   ]
  },
  {
   "cell_type": "code",
   "execution_count": null,
   "metadata": {
    "ExecuteTime": {
     "end_time": "2017-11-30T16:50:21.806385Z",
     "start_time": "2017-11-30T16:50:21.801381"
    },
    "jupyter": {
     "outputs_hidden": false
    }
   },
   "outputs": [],
   "source": [
    "np.array([str(mouse) + ' ' + str(len(cm_training_perf_full[mouse])) for mouse in list(cm_training_perf_full.keys())])"
   ]
  },
  {
   "cell_type": "code",
   "execution_count": null,
   "metadata": {
    "ExecuteTime": {
     "end_time": "2017-11-30T16:50:22.204157Z",
     "start_time": "2017-11-30T16:50:22.193148"
    },
    "jupyter": {
     "outputs_hidden": false
    },
    "scrolled": true
   },
   "outputs": [],
   "source": [
    "block_performance_full.columns.rename('index', inplace = True)\n",
    "block_performance_full = block_performance_full.reset_index()\n",
    "\n",
    "block_performance_short.columns.rename('index', inplace = True)\n",
    "block_performance_short = block_performance_short.reset_index()\n",
    "\n",
    "full_stim_performance = full_stim_performance.reset_index()\n",
    "short_stim_performance = short_stim_performance.reset_index()"
   ]
  },
  {
   "cell_type": "code",
   "execution_count": null,
   "metadata": {
    "ExecuteTime": {
     "end_time": "2017-11-30T16:50:22.827557Z",
     "start_time": "2017-11-30T16:50:22.817549"
    },
    "jupyter": {
     "outputs_hidden": false
    }
   },
   "outputs": [],
   "source": [
    "performance = pd.merge(block_performance_full, full_stim_performance, on = ['mouse_name', 'session_date'])\n",
    "performance_short = pd.merge(block_performance_short, short_stim_performance, on = ['mouse_name', 'session_date'])"
   ]
  },
  {
   "cell_type": "markdown",
   "metadata": {},
   "source": [
    "### Remove all recording days where performance dropped below 65% will not be present in all further analyses\n",
    "#### Although mice reach criterion there would be the occasional day after recording phase began where mice would perform badly. This is possibly due to excessive water restriction, insufficient water restriction, or other difficult to control factors. Since we only care to see how the neurons are responding to the task variables in highly performing mice we chose to exclude these 'off days' from further analysis"
   ]
  },
  {
   "cell_type": "code",
   "execution_count": null,
   "metadata": {
    "ExecuteTime": {
     "end_time": "2017-11-30T16:50:23.862683Z",
     "start_time": "2017-11-30T16:50:23.840667"
    },
    "jupyter": {
     "outputs_hidden": false
    }
   },
   "outputs": [],
   "source": [
    "recording_day_inds = pd.merge(performance.reset_index(),recording_days, left_on = ['mouse_name', 'session_date'], \n",
    "         right_on = ['mouse_name', 'date'])['index'].as_matrix()\n",
    "\n",
    "performance['rec_day'] = 0\n",
    "performance.loc[recording_day_inds, 'rec_day'] = 1\n",
    "performance.loc[(performance['correct'] < 0.65), 'rec_day'] = 0\n",
    "\n",
    "rec_performance = performance[performance['rec_day'] == 1]\n",
    "recording_day_inds_short = pd.merge(performance_short.reset_index(), rec_performance, \n",
    "                                    on = ['mouse_name', 'session_date'])['index'].as_matrix()\n",
    "performance_short['rec_day'] = 0\n",
    "performance_short.loc[recording_day_inds_short, 'rec_day'] = 1"
   ]
  },
  {
   "cell_type": "code",
   "execution_count": null,
   "metadata": {
    "ExecuteTime": {
     "end_time": "2017-11-30T16:50:26.972674Z",
     "start_time": "2017-11-30T16:50:24.530263"
    },
    "jupyter": {
     "outputs_hidden": false
    }
   },
   "outputs": [],
   "source": [
    "mpl.close('all')\n",
    "\n",
    "# mouse_list.remove('EF0098')\n",
    "# mouse_list.remove('EF0094')\n",
    "\n",
    "## to plot all mice:\n",
    "#mouse_list = list(cm_training_perf_full.keys())\n",
    "\n",
    "##to plot example mice:\n",
    "mouse_list = ['EF0074', 'EF0099', 'EF0089']\n",
    "time_to_crit = np.array([len(cm_training_perf_full[mouse]) for mouse in mouse_list])\n",
    "ordered_mice = np.array(mouse_list)[np.argsort(time_to_crit)]\n",
    "\n",
    "fig1a = mpl.figure(figsize = (16,len(mouse_list)*4))\n",
    "gs1 = gridspec.GridSpec(len(mouse_list),1)\n",
    "gs2 = gridspec.GridSpec(len(mouse_list),1)\n",
    "gs3 = gridspec.GridSpec(1,1)\n",
    "gs4 = gridspec.GridSpec(2,1)\n",
    "\n",
    "\n",
    "gs1.update(left = 0.2, right = 0.4, hspace = 0.5)\n",
    "gs2.update(left = 0.42, right = 0.55, hspace = 0.5)\n",
    "gs3.update(bottom = 0.69, left = 0.65, right = 0.85, hspace = 0.5)\n",
    "gs4.update(bottom = 0.1, top = 0.6, left = 0.65, right = 0.85, hspace = 0.7)\n",
    "\n",
    "\n",
    "for i, mouse in enumerate(ordered_mice):\n",
    "    \n",
    "    mouse_rec_perf = performance[(performance['rec_day'] == 1) & (performance['mouse_name'] == mouse)] \n",
    "    mouse_rec_perf_short = performance_short[(performance_short['rec_day'] == 1) & (performance_short['mouse_name'] == mouse)]\n",
    "\n",
    "    ax1 = mpl.subplot(gs1[i, 0])\n",
    "    xmax_tr = len(cm_training_perf_full[mouse])+1\n",
    "    ax1.plot(range(1,xmax_tr), block_training_perf_full[mouse]['Whisker'], '-oC0', markersize = 3, alpha = 0.8)\n",
    "    ax1.plot(range(1,xmax_tr), block_training_perf_full[mouse]['Visual'], '-oC1', markersize = 3, alpha = 0.8)\n",
    "    ax1.plot(range(1,xmax_tr), cm_training_perf_full[mouse], '-ok')\n",
    "\n",
    "    \n",
    "    ax2 = mpl.subplot(gs2[i, 0])\n",
    "    xmax_rec = mouse_rec_perf.shape[0]\n",
    "    ax2.plot(range(1, xmax_rec+1,1), mouse_rec_perf['correct'], '-om', linewidth = 3)\n",
    "    ax2.plot(range(1, xmax_rec+1,1), mouse_rec_perf['Whisker'], '-oC0', markersize = 3, alpha = 0.8)\n",
    "    ax2.plot(range(1, xmax_rec+1,1), mouse_rec_perf['Visual'], '-oC1', markersize = 3, alpha = 0.8)\n",
    "\n",
    "    \n",
    "    for ax in [ax1, ax2]:\n",
    "\n",
    "        ax.spines['right'].set_visible(False)\n",
    "        ax.spines['top'].set_visible(False)\n",
    "        ax.plot([0, 45], [0.7, 0.7], '--k')\n",
    "        ax.plot([0, 45], [0.5, 0.5], '--C7', alpha = 0.8)\n",
    "\n",
    "        ax.set_ylim(0.3,1)\n",
    "        ax.set_xlim(0,35)\n",
    "        \n",
    "        ax.set_ylabel('Fraction correct')\n",
    "        ax.set_xlabel('Training sessions')\n",
    "    ax2.set_xlim(0,20)\n",
    "    ax2.spines['left'].set_visible(False)\n",
    "    ax2.axes.get_yaxis().set_visible(False)\n",
    "    ax2.set_xlabel('Test sessions')\n",
    "\n",
    "    \n",
    "ax3 = mpl.subplot(gs3[0, 0])\n",
    "time_to_crit_all = np.array([len(cm_training_perf_full[mouse]) for mouse in list(cm_training_perf_full.keys())])\n",
    "X2 = np.sort(time_to_crit_all)\n",
    "F2 = np.array(range(len(time_to_crit_all)))/len(time_to_crit_all)\n",
    "\n",
    "ax3.plot(X2, F2, 'k', linewidth = 4)\n",
    "ax3.set_xlabel('Test sessions')\n",
    "ax3.set_ylabel('Fraction of mice')\n",
    "ax3.text(.85, .25, 'n =' + str(len(time_to_crit_all)), size=20, weight = 'bold', transform=ax3.transAxes, color='k')\n",
    "ax3.set_ylim(0,1)\n",
    "ax3.set_xlim(2,40)\n",
    "\n",
    "ax4 = mpl.subplot(gs4[0, 0])\n",
    "\n",
    "full_mouse_list = list(cm_training_perf_full.keys())\n",
    "\n",
    "for mouse in full_mouse_list:\n",
    "    mouse_rec_perf = performance[(performance['rec_day'] == 1) & (performance['mouse_name'] == mouse)] \n",
    "    mouse_rec_perf_short = performance_short[(performance_short['rec_day'] == 1) & (performance_short['mouse_name'] == mouse)]\n",
    "    xvals = [0,1]\n",
    "    rec_block_perf = mouse_rec_perf[['Whisker', 'Visual']]\n",
    "\n",
    "    if mouse in block_performance_short['mouse_name'].as_matrix():\n",
    "        mouse_rec_perf_short.columns = ['mouse_name', 'session_date','short_vis', 'short_whisker', 'correct', 'rec_days']\n",
    "        rec_block_perf = pd.concat((rec_block_perf,  mouse_rec_perf_short[['short_vis', 'short_whisker']]), axis = 1)\n",
    "        rec_block_perf = rec_block_perf[['Whisker', 'Visual', 'short_whisker', 'short_vis']]\n",
    "        xvals = [0,1,2,3]\n",
    "        m_rec_block_perf = rec_block_perf.mean(axis = 0)\n",
    "        ax4.scatter([3], m_rec_block_perf['short_vis'], color = '#feb24c', s = 70)\n",
    "        ax4.scatter([2], m_rec_block_perf['short_whisker'], color = 'c', s = 70)\n",
    "        \n",
    "    m_rec_block_perf = rec_block_perf.mean(axis = 0)\n",
    "    ax4.plot(xvals, m_rec_block_perf, 'C7', zorder = 0, alpha = 0.5)\n",
    "    ax4.scatter([1], m_rec_block_perf['Visual'], color = 'C1', s = 70)\n",
    "    ax4.scatter([0], m_rec_block_perf['Whisker'], color = 'C0', s = 70)\n",
    "ax4.plot([-0.5, 3.5], [0.7, 0.7], '--k')\n",
    "ax4.plot([-0.5, 3.5], [0.5, 0.5], '--C7', alpha = 0.8)\n",
    "ax4.set_ylim(0.3,1)\n",
    "ax4.set_xlim(-0.5,3.5)\n",
    "ax4.set_ylabel('Fraction correct')\n",
    "mpl.xticks([0,1,2,3], ['Long\\ntouch', 'Long\\nvisual', 'Short\\ntouch', 'Short\\nvisual'], rotation=70)\n",
    "\n",
    "ax5 = mpl.subplot(gs4[1, 0])\n",
    "\n",
    "colors = ['C2', 'C7', 'C3', 'C4']\n",
    "bottom = 0\n",
    "for tt in range(len(avg_tb_proportions)):\n",
    "    ax5.bar(0, avg_tb_proportions[tt], bottom = bottom, color = colors[tt], yerr = std_tb_proportions[tt])\n",
    "    ax5.text(.85, .3+.12*tt, trial_type_labels[tt], size=20, weight = 'bold', transform=ax5.transAxes, color = colors[tt])\n",
    "    bottom = bottom + avg_tb_proportions[tt]\n",
    "    \n",
    "bottom = 0\n",
    "for tt in range(len(avg_vb_proportions)):\n",
    "    ax5.bar(1, avg_vb_proportions[tt], bottom = bottom, color = colors[tt], yerr = std_vb_proportions[tt])\n",
    "    bottom = bottom + avg_vb_proportions[tt]\n",
    "ax5.set_xlim(-1,2)\n",
    "ax5.set_ylabel('Fraction of trials')\n",
    "mpl.xticks([0,1], ['Touch\\nblock', 'Visual\\nblock'])\n",
    "\n",
    "\n",
    "for ax in [ax3,ax4, ax5]:\n",
    "    ax.spines['right'].set_visible(False)\n",
    "    ax.spines['top'].set_visible(False)\n",
    "\n",
    "\n",
    "fig1a"
   ]
  },
  {
   "cell_type": "code",
   "execution_count": null,
   "metadata": {
    "ExecuteTime": {
     "end_time": "2017-11-02T14:13:04.772713Z",
     "start_time": "2017-11-02T14:13:03.955225"
    }
   },
   "outputs": [],
   "source": [
    "fig1a.savefig('fig1a.pdf', format='pdf', dpi=900)"
   ]
  },
  {
   "cell_type": "code",
   "execution_count": null,
   "metadata": {
    "ExecuteTime": {
     "end_time": "2017-11-02T14:13:04.788736Z",
     "start_time": "2017-11-02T14:13:04.776716"
    },
    "jupyter": {
     "outputs_hidden": false
    }
   },
   "outputs": [],
   "source": [
    "log_df.columns"
   ]
  },
  {
   "cell_type": "code",
   "execution_count": null,
   "metadata": {
    "ExecuteTime": {
     "end_time": "2017-11-30T16:50:33.170711Z",
     "start_time": "2017-11-30T16:50:32.697329"
    },
    "jupyter": {
     "outputs_hidden": false
    }
   },
   "outputs": [],
   "source": [
    "recording_day_RTs = log_df.drop(['cluster_name', 'genotype', 'contingencies', 'spike_times(stim_aligned)',\n",
    "                                 'spike_times(last_lick_aligned)', 'identified'], axis = 1)\n",
    "recording_day_RTs.drop_duplicates(['mouse_name', 'date', 'trial_num'], inplace = True)\n",
    "recording_day_RTs.reset_index(drop = True, inplace = True) "
   ]
  },
  {
   "cell_type": "code",
   "execution_count": null,
   "metadata": {
    "ExecuteTime": {
     "end_time": "2017-11-30T16:50:33.951742Z",
     "start_time": "2017-11-30T16:50:33.545412"
    },
    "jupyter": {
     "outputs_hidden": false
    }
   },
   "outputs": [],
   "source": [
    "recording_day_RTs"
   ]
  },
  {
   "cell_type": "code",
   "execution_count": null,
   "metadata": {
    "ExecuteTime": {
     "end_time": "2017-11-30T16:50:34.421117Z",
     "start_time": "2017-11-30T16:50:34.160908"
    },
    "jupyter": {
     "outputs_hidden": false
    }
   },
   "outputs": [],
   "source": [
    "recording_day_RTs['trial_outcome'] = np.nan\n",
    "\n",
    "long_stim = ~recording_day_RTs['trial_type'].str.contains('1Cyc')\n",
    "touch_stim = recording_day_RTs['trial_type'].str.contains('Som')\n",
    "touch_block = recording_day_RTs['block_type'] == 'Whisker'\n",
    "correct = recording_day_RTs['correct']\n",
    "\n",
    "recording_day_RTs.loc[(long_stim & touch_stim & touch_block & correct), 'trial_outcome'] = 'touch_hit_long'\n",
    "recording_day_RTs.loc[(~long_stim & touch_stim & touch_block & correct), 'trial_outcome'] = 'touch_hit_short'\n",
    "recording_day_RTs.loc[(long_stim & ~touch_stim & ~touch_block & correct), 'trial_outcome'] = 'visual_hit_long'\n",
    "recording_day_RTs.loc[(~long_stim & ~touch_stim & ~touch_block & correct), 'trial_outcome'] = 'visual_hit_short'\n",
    "\n",
    "trial_type_RTs = pd.pivot_table(recording_day_RTs, index = ['mouse_name', 'date', 'trial_outcome'],\n",
    "               values = 'first_lick', aggfunc = np.median).reset_index()"
   ]
  },
  {
   "cell_type": "code",
   "execution_count": null,
   "metadata": {
    "ExecuteTime": {
     "end_time": "2017-11-30T16:51:42.572199Z",
     "start_time": "2017-11-30T16:51:42.394056"
    },
    "jupyter": {
     "outputs_hidden": false
    }
   },
   "outputs": [],
   "source": [
    "\n",
    "mpl.close('all')\n",
    "fig1a_1 = mpl.figure(figsize = (5,4))\n",
    "ax = fig1a_1 .add_subplot(111)\n",
    "\n",
    "colors = [ 'C0','C1', 'c', '#feb24c' ]\n",
    "titles = ['Touch long', 'Visual long', 'Touch short', 'Touch long']\n",
    "\n",
    "t_long = trial_type_RTs.loc[trial_type_RTs['trial_outcome'] == 'touch_hit_long', 'first_lick']\n",
    "t_short = trial_type_RTs.loc[trial_type_RTs['trial_outcome'] == 'touch_hit_short', 'first_lick']\n",
    "v_long = trial_type_RTs.loc[trial_type_RTs['trial_outcome'] == 'visual_hit_long', 'first_lick']\n",
    "v_short = trial_type_RTs.loc[trial_type_RTs['trial_outcome'] == 'visual_hit_short', 'first_lick']\n",
    "\n",
    "bplot = ax.boxplot([t_long, v_long, t_short, v_short],labels = titles, vert = False, patch_artist=True)\n",
    "\n",
    "\n",
    "for patch, color in zip(bplot['boxes'], colors):\n",
    "        patch.set_facecolor(color)\n",
    "\n",
    "mpl.setp(bplot['medians'], color='k')\n",
    "ax.spines['right'].set_visible(False)\n",
    "ax.spines['top'].set_visible(False)\n",
    "ax.set_xlim([0,1.2])\n",
    "ax.set_xlabel('Reaction time (s)')   \n",
    "fig1a_1 "
   ]
  },
  {
   "cell_type": "code",
   "execution_count": null,
   "metadata": {
    "ExecuteTime": {
     "end_time": "2017-11-30T16:52:00.962455Z",
     "start_time": "2017-11-30T16:51:59.979340"
    }
   },
   "outputs": [],
   "source": [
    "fig1a_1.savefig('fig1a_1.pdf', format='pdf', dpi=900)"
   ]
  },
  {
   "cell_type": "code",
   "execution_count": null,
   "metadata": {
    "ExecuteTime": {
     "end_time": "2017-11-02T10:47:32.712477Z",
     "start_time": "2017-11-02T10:47:32.700467"
    },
    "jupyter": {
     "outputs_hidden": false
    }
   },
   "outputs": [],
   "source": [
    "recording_days[recording_days['mouse_name'] == 'EF0099']"
   ]
  },
  {
   "cell_type": "code",
   "execution_count": null,
   "metadata": {
    "ExecuteTime": {
     "end_time": "2017-11-02T13:24:13.088807Z",
     "start_time": "2017-11-02T13:24:13.083803"
    }
   },
   "outputs": [],
   "source": [
    "recording_days['date'] = recording_days['date'].apply(lambda x: x.date())"
   ]
  },
  {
   "cell_type": "code",
   "execution_count": null,
   "metadata": {
    "ExecuteTime": {
     "end_time": "2017-11-02T10:48:12.886929Z",
     "start_time": "2017-11-02T10:48:10.934302"
    },
    "jupyter": {
     "outputs_hidden": false
    }
   },
   "outputs": [],
   "source": [
    "beh_df['date'] = beh_df['session_date'].apply(lambda x: x.date())\n",
    "test_day = pd.merge(beh_df, recording_days.loc[210].to_frame().T, on = ['mouse_name', 'date'], how = 'inner').sort_values(by= 'trial_num')\n",
    "\n",
    "t_block = test_day['block_type'] == 'Whisker'\n",
    "v_block = test_day['block_type'] == 'Visual'\n",
    "\n",
    "t_trial = test_day['trial_type'].str.contains('Som')\n",
    "v_trial = test_day['trial_type'].str.contains('Vis')\n",
    "\n",
    "lick = test_day['response'] != 0\n",
    "correct = test_day['correct'] == 1\n",
    "\n",
    "touch_lick = (t_trial & lick)*1\n",
    "visual_lick =  (v_trial & lick)*1\n",
    "no_lick = (~lick)*1\n",
    "\n",
    "\n",
    "cTL = (t_block & t_trial & lick & correct)*1\n",
    "eTL = (v_block & t_trial & lick & ~correct) | (t_block & t_trial & lick & ~correct)*1\n",
    "\n",
    "cVL = (v_block & v_trial & lick & correct)*1\n",
    "eVL = (t_block & v_trial & lick & ~correct) | (v_block & v_trial & lick & ~correct)*1\n",
    "\n",
    "tNL = (t_trial & ~lick)*1\n",
    "vNL = (v_trial & ~lick)*1\n"
   ]
  },
  {
   "cell_type": "code",
   "execution_count": null,
   "metadata": {
    "ExecuteTime": {
     "end_time": "2017-11-02T10:47:37.517080Z",
     "start_time": "2017-11-02T10:47:37.513086"
    },
    "jupyter": {
     "outputs_hidden": false
    }
   },
   "outputs": [],
   "source": [
    "# block_edges = np.abs(np.diff(t_block*1))\n",
    "# block_edges = np.where(np.insert(block_edges, 0, 1))[0]\n",
    "# block_lick_index = []\n",
    "# for edge in range(1,len(block_edges)):\n",
    "#     block_inds = block_edges[edge-1:edge+1]\n",
    "#     block_t_licks = sum(touch_lick[block_inds[0]:block_inds[1]])\n",
    "#     block_t_nLicks = sum((t_trial & no_lick)[block_inds[0]:block_inds[1]])\n",
    "#     block_v_licks = sum(visual_lick[block_inds[0]:block_inds[1]])\n",
    "#     block_v_nLicks = sum((v_trial & no_lick)[block_inds[0]:block_inds[1]])\n",
    "#     t_lick_rate = block_t_licks/(block_t_licks+block_t_nLicks)\n",
    "#     v_lick_rate = block_v_licks/(block_v_licks+block_v_nLicks)\n",
    "    \n",
    "#     block_lick_index.append((t_lick_rate-v_lick_rate)/(t_lick_rate+v_lick_rate))\n",
    "# block_lick_index"
   ]
  },
  {
   "cell_type": "code",
   "execution_count": null,
   "metadata": {
    "ExecuteTime": {
     "end_time": "2017-11-02T10:47:37.589311Z",
     "start_time": "2017-11-02T10:47:37.518080"
    },
    "jupyter": {
     "outputs_hidden": false
    }
   },
   "outputs": [],
   "source": [
    "9.363/(8.111/1.663)"
   ]
  },
  {
   "cell_type": "code",
   "execution_count": null,
   "metadata": {
    "ExecuteTime": {
     "end_time": "2017-11-02T10:47:37.961610Z",
     "start_time": "2017-11-02T10:47:37.791475"
    },
    "jupyter": {
     "outputs_hidden": false
    }
   },
   "outputs": [],
   "source": [
    "mpl.close('all')\n",
    "\n",
    "w = 15\n",
    "tL_height = np.convolve(touch_lick, [1/w]*w, 'valid')\n",
    "vL_height = np.convolve(visual_lick, [1/w]*w, 'valid')\n",
    "tNL_height = np.convolve(tNL, [1/w]*w, 'valid')\n",
    "vNL_height = np.convolve(vNL, [1/w]*w, 'valid')\n",
    "\n",
    "lick_height = vL_height +tL_height\n",
    "\n",
    "fig1b = mpl.figure(figsize = (12,3.5))\n",
    "fig1b.subplots_adjust(bottom = 0.2)\n",
    "ax = fig1b.add_subplot(111)\n",
    "\n",
    "g0 = -.5*(vL_height + tL_height)\n",
    "g0 = [0] * len(lick_height) \n",
    "fs = [tNL_height, tL_height, vL_height, vNL_height]\n",
    "\n",
    "xvals = np.arange(0,len(lick_height))\n",
    "\n",
    "g_n = g0\n",
    "\n",
    "labels =  ['Touch-no lick', 'Touch-lick', 'Visual-lick', 'Visual-no lick' ]\n",
    "colors = [[0.7]*3, 'C0',  'C1', [0.5]*3]\n",
    "for i,g_i in enumerate(fs):\n",
    "    \n",
    "    \n",
    "    color = colors[i]\n",
    "\n",
    "    ax.fill_between(xvals, g_n, g_n+g_i, color = colors[i], alpha = 0.5)\n",
    "    if i == 1:\n",
    "        ax.plot(xvals, g_n, color = colors[i])\n",
    " \n",
    "    elif i == 3:\n",
    "        ax.plot(xvals, g_n, color = colors[i-1])\n",
    "\n",
    "    g_n = g_n + g_i\n",
    "    ax.text(.85, .1+.12*i, labels[i], size=20, weight = 'bold', transform=ax.transAxes, color = colors[i])\n",
    "\n",
    "    \n",
    "xoffset = np.floor((t_block.size - len(xvals))/2)\n",
    "val_t_block = t_block.as_matrix()[xoffset: xoffset+len(xvals)]\n",
    "block_changes = np.concatenate([[0],  np.where(np.diff(val_t_block*1))[0] ,[len(val_t_block)]])\n",
    "\n",
    "block = 0\n",
    "if t_block.iloc[3] == 1:\n",
    "    block_colors = ['C0', 'C1']\n",
    "else:\n",
    "    block_colors = ['C1', 'C0']\n",
    "for i in range(len(block_changes)-1):\n",
    "    ax.add_patch(patches.Rectangle((block_changes[i],1.1),  block_changes[i+1]-block_changes[i],\n",
    "                                   .1, facecolor = block_colors[i%2], alpha = 0.5))\n",
    "    block = block + 1\n",
    "\n",
    "ax.text(.05, .9, 'Touch block', size=20, weight = 'bold', transform=ax.transAxes, color = 'C0', alpha = 0.5)\n",
    "ax.text(.3, .9, 'Visual block', size=20, weight = 'bold', transform=ax.transAxes, color = 'C1', alpha = 0.5)\n",
    "    \n",
    "\n",
    "ax.spines['right'].set_visible(False)\n",
    "ax.spines['top'].set_visible(False)\n",
    "ax.set_ylim(0,1.4)\n",
    "ax.spines['bottom'].set_position(('axes', -0.1))\n",
    "ax.set_yticks([0,0.5,1])\n",
    "ax.spines['bottom'].set_bounds(150, 200)\n",
    "ax.spines['left'].set_bounds(0, 1)\n",
    "\n",
    "ax.set_xlim(-5,300)\n",
    "ax.set_ylabel('Fraction of trials')\n",
    "\n",
    "ax.tick_params(axis=u'both', which=u'both',length=0)\n",
    "mpl.xticks([175],['50 trials'])\n",
    "ax.yaxis.set_label_coords(-.05, .35)\n",
    "\n",
    "fig1b"
   ]
  },
  {
   "cell_type": "code",
   "execution_count": null,
   "metadata": {
    "ExecuteTime": {
     "end_time": "2017-11-01T11:40:12.923335Z",
     "start_time": "2017-11-01T11:40:12.919333"
    },
    "jupyter": {
     "outputs_hidden": false
    }
   },
   "outputs": [],
   "source": [
    "# import matplotlib.colors\n",
    "# bl = np.array([31,119,180])/256\n",
    "# ora = np.array([255,127,14])/256\n",
    "# cmap = matplotlib.colors.LinearSegmentedColormap('', [[bl, 'k', ora]], N=256, gamma=1.0)"
   ]
  },
  {
   "cell_type": "code",
   "execution_count": null,
   "metadata": {
    "ExecuteTime": {
     "end_time": "2017-11-01T11:40:13.522553Z",
     "start_time": "2017-11-01T11:40:13.374430"
    },
    "jupyter": {
     "outputs_hidden": false
    }
   },
   "outputs": [],
   "source": [
    "fig1b.savefig('fig1b.pdf', format='pdf', dpi=900)"
   ]
  },
  {
   "cell_type": "code",
   "execution_count": null,
   "metadata": {
    "ExecuteTime": {
     "end_time": "2017-11-01T11:40:13.957994Z",
     "start_time": "2017-11-01T11:40:13.741819"
    },
    "jupyter": {
     "outputs_hidden": false
    }
   },
   "outputs": [],
   "source": [
    "mouse = test_day['mouse_name'].iloc[0]\n",
    "last_rec_day = recording_days[recording_days['mouse_name'] == mouse].iloc[-1]['date']\n",
    "ex_mouse = beh_df[beh_df['mouse_name'] == mouse].sort_values(by = ['session_date', 'trial_num'])\n",
    "ex_mouse = ex_mouse[(ex_mouse['session_date'] >= first_CM_days.loc[mouse][0]) & (ex_mouse['session_date'] <= last_rec_day)]"
   ]
  },
  {
   "cell_type": "code",
   "execution_count": null,
   "metadata": {
    "ExecuteTime": {
     "end_time": "2017-11-01T11:40:14.013039Z",
     "start_time": "2017-11-01T11:40:13.958993"
    },
    "jupyter": {
     "outputs_hidden": false
    }
   },
   "outputs": [],
   "source": [
    "\n",
    "t_block = ex_mouse['block_type'] == 'Whisker'\n",
    "v_block = ex_mouse['block_type'] == 'Visual'\n",
    "\n",
    "t_trial = ex_mouse['trial_type'].str.contains('Som')\n",
    "v_trial = ex_mouse['trial_type'].str.contains('Vis')\n",
    "\n",
    "lick = ex_mouse['response'] != 0\n",
    "correct = ex_mouse['correct'] == 1\n",
    "\n",
    "touch_lick = (t_trial & lick)*1\n",
    "visual_lick =  (v_trial & lick)*1\n",
    "no_lick = (~lick)*1\n",
    "\n",
    "\n",
    "cTL = (t_block & t_trial & lick & correct)*1\n",
    "eTL = ((v_block & t_trial & lick & ~correct) | (t_block & t_trial & lick & ~correct))*1\n",
    "\n",
    "cVL = (v_block & v_trial & lick & correct)*1\n",
    "eVL = ((t_block & v_trial & lick & ~correct) | (v_block & v_trial & lick & ~correct))*1\n",
    "\n",
    "tNL = (t_trial & ~lick)*1\n",
    "vNL = (v_trial & ~lick)*1\n"
   ]
  },
  {
   "cell_type": "code",
   "execution_count": null,
   "metadata": {
    "ExecuteTime": {
     "end_time": "2017-11-01T11:40:14.089100Z",
     "start_time": "2017-11-01T11:40:14.062076"
    },
    "jupyter": {
     "outputs_hidden": false
    }
   },
   "outputs": [],
   "source": [
    "att_licks = ((t_block & t_trial & lick) | (v_block & v_trial & lick))*1\n",
    "unatt_licks = ((v_block & t_trial & lick) | (t_block & v_trial & lick))*1\n",
    "\n",
    "att_noLicks = ((t_block & t_trial & ~lick) | (v_block & v_trial & ~lick))*1\n",
    "unatt_noLicks = ((v_block & t_trial & ~lick) | (t_block & v_trial & ~lick))*1\n",
    "\n",
    "pw = 400\n",
    "run_sum_aL = np.convolve(att_licks , [1]*pw, 'valid')\n",
    "run_sum_uL = np.convolve(unatt_licks, [1]*pw, 'valid')\n",
    "\n",
    "run_sum_aNL = np.convolve(att_noLicks , [1]*pw, 'valid')\n",
    "run_sum_uNL = np.convolve(unatt_noLicks, [1]*pw, 'valid')\n",
    "\n",
    "block_hit_r = run_sum_aL/(run_sum_aL+run_sum_aNL)\n",
    "block_FA_r = run_sum_uL/(run_sum_aL+run_sum_uNL)"
   ]
  },
  {
   "cell_type": "code",
   "execution_count": null,
   "metadata": {
    "ExecuteTime": {
     "end_time": "2017-11-01T11:40:15.202993Z",
     "start_time": "2017-11-01T11:40:14.242222"
    },
    "jupyter": {
     "outputs_hidden": false
    }
   },
   "outputs": [],
   "source": [
    "mpl.close('all')\n",
    "\n",
    "w = 50\n",
    "tL_height = np.convolve(touch_lick, [1/w]*w, 'valid')\n",
    "vL_height = np.convolve(visual_lick, [1/w]*w, 'valid')\n",
    "tNL_height = np.convolve(tNL, [1/w]*w, 'valid')\n",
    "vNL_height = np.convolve(vNL, [1/w]*w, 'valid')\n",
    "\n",
    "lick_height = vL_height +tL_height\n",
    "\n",
    "fig1b_2 = mpl.figure(figsize = (24,5))\n",
    "\n",
    "gs1 = gridspec.GridSpec(1,1)\n",
    "gs2 = gridspec.GridSpec(1,1)\n",
    "\n",
    "gs1.update(left = 0.2, right = 0.8, bottom = 0.5, top = 0.9, hspace = 0.5)\n",
    "gs2.update(left = 0.2, right = 0.8, bottom = 0.2, top = 0.49, hspace = 0.5)\n",
    "\n",
    "ax = mpl.subplot(gs1[0, 0])\n",
    "ax1 = mpl.subplot(gs2[0, 0])\n",
    "\n",
    "g0 = -.5*(vL_height + tL_height)\n",
    "g0 = [0] * len(lick_height) \n",
    "fs = [tNL_height, tL_height, vL_height, vNL_height]\n",
    "\n",
    "xvals = np.arange(0,len(lick_height))\n",
    "\n",
    "g_n = g0\n",
    "\n",
    "labels =  ['Touch-no lick', 'Touch-lick', 'Visual-lick', 'Visual-no lick' ]\n",
    "colors = [[0.7]*3, 'C0',  'C1', [0.5]*3]\n",
    "for i,g_i in enumerate(fs):\n",
    "    \n",
    "    color = colors[i]\n",
    "\n",
    "    ax.fill_between(xvals, g_n, g_n+g_i, color = colors[i], alpha = 0.5)\n",
    "\n",
    "    g_n = g_n + g_i\n",
    "\n",
    "    \n",
    "xoffset = np.floor((t_block.size - len(xvals))/2)\n",
    "val_t_block = t_block.as_matrix()[xoffset: xoffset+len(xvals)]\n",
    "block_changes = np.concatenate([[0],  np.where(np.diff(val_t_block*1))[0] ,[len(val_t_block)]])\n",
    "\n",
    "block = 0\n",
    "if t_block.iloc[3] == 1:\n",
    "    block_colors = ['C0', 'C1']\n",
    "else:\n",
    "    block_colors = ['C1', 'C0']\n",
    "for i in range(len(block_changes)-1):\n",
    "    ax.add_patch(patches.Rectangle((block_changes[i],1.1),  block_changes[i+1]-block_changes[i],\n",
    "                                   .3, facecolor = block_colors[i%2], alpha = 0.5))\n",
    "    block = block + 1\n",
    "\n",
    "    \n",
    "late_session_loc = np.where(ex_mouse['session_date'] == test_day['session_date'][0])[0]\n",
    "late_session_st = min(late_session_loc)\n",
    "late_session_end = max(late_session_loc)\n",
    "\n",
    "early_session_loc = np.where(ex_mouse['session_date'] == ex_mouse['session_date'].unique()[4])[0]\n",
    "early_session_st = min(early_session_loc)\n",
    "early_session_end = max(early_session_loc)\n",
    "\n",
    "mid_session_loc = np.where(ex_mouse['session_date'] == ex_mouse['session_date'].unique()[29])[0]\n",
    "mid_session_st = min(mid_session_loc)\n",
    "mid_session_end = max(mid_session_loc)\n",
    "\n",
    "first_rec = recording_days.loc[recording_days['mouse_name'] == ex_mouse['mouse_name'].iloc[0], 'date'].min()\n",
    "first_rec_start = np.where(ex_mouse['date'] == first_rec)[0].min()\n",
    "\n",
    "\n",
    "ax.plot([late_session_st]*2, [1, 1.25], linewidth = 3, color = 'k')\n",
    "ax.plot([late_session_end]*2, [1, 1.25], linewidth = 3, color = 'k')\n",
    "ax.plot([early_session_st]*2, [1, 1.25], linewidth = 3, color = 'k')\n",
    "ax.plot([early_session_end]*2, [1, 1.25], linewidth = 3, color = 'k')\n",
    "ax.plot([mid_session_st]*2, [1, 1.25], linewidth = 3, color = 'k')\n",
    "ax.plot([mid_session_end]*2, [1, 1.25], linewidth = 3, color = 'k')\n",
    "ax.plot([first_rec_start]*2, [0,1.25], linewidth = 3, color ='m')\n",
    "\n",
    "ax.spines['right'].set_visible(False)\n",
    "ax.spines['top'].set_visible(False)\n",
    "ax.spines['left'].set_visible(False)\n",
    "ax.set_ylim(0,1.8)\n",
    "ax.spines['bottom'].set_position(('axes', -0.1))\n",
    "ax.axis('off')\n",
    "ax.set_xlim(-5, len(xvals))\n",
    "\n",
    "ax1.plot(np.arange(pw/2,len(block_hit_r)+pw/2,1), block_hit_r, 'C2')\n",
    "ax1.plot(np.arange(pw/2,len(block_FA_r)+pw/2,1), block_FA_r, 'r')\n",
    "ax1.plot([pw/2,len(block_FA_r)+pw/2], [0.5,0.5], '--k')\n",
    "ax1.set_xlim(xvals[[0,-1]])\n",
    "ax1.set_ylim(0,1)\n",
    "ax1.spines['right'].set_visible(False)\n",
    "ax1.spines['top'].set_visible(False)\n",
    "ax.spines['bottom'].set_visible(False)\n",
    "mpl.xticks([8500],['1000 trials'])\n",
    "ax1.tick_params(axis=u'both', which=u'both',length=0)\n",
    "ax1.spines['bottom'].set_bounds(8000, 9000)\n",
    "ax1.spines['left'].set_bounds(0, 1)\n",
    "ax1.text(.5, .79, 'Hit rate', size=20, weight = 'bold', transform=ax1.transAxes, color = 'C2')\n",
    "ax1.text(.48, .3, 'False alarm rate', size=20, weight = 'bold', transform=ax1.transAxes, color = 'r')\n",
    "ax1.plot([first_rec_start]*2, [0,1], linewidth = 3, color ='m')\n",
    "\n",
    "\n",
    "fig1b_2\n"
   ]
  },
  {
   "cell_type": "code",
   "execution_count": null,
   "metadata": {
    "ExecuteTime": {
     "end_time": "2017-11-01T11:40:20.951617Z",
     "start_time": "2017-11-01T11:40:15.204995"
    }
   },
   "outputs": [],
   "source": [
    "fig1b_2.savefig('fig1b_2.png', format='png', dpi=900)"
   ]
  },
  {
   "cell_type": "code",
   "execution_count": null,
   "metadata": {
    "ExecuteTime": {
     "end_time": "2017-11-01T11:40:21.038679Z",
     "start_time": "2017-11-01T11:40:20.955614"
    },
    "jupyter": {
     "outputs_hidden": false
    }
   },
   "outputs": [],
   "source": [
    "ex_mouse[ex_mouse['session_date'] == ex_mouse['session_date'].unique()[29]]"
   ]
  },
  {
   "cell_type": "code",
   "execution_count": null,
   "metadata": {
    "ExecuteTime": {
     "end_time": "2017-11-01T16:59:43.352210Z",
     "start_time": "2017-11-01T16:59:41.352530"
    },
    "jupyter": {
     "outputs_hidden": false
    }
   },
   "outputs": [],
   "source": [
    "# recording_days['date'] = recording_days['date'].apply(lambda x: x.date())\n",
    "beh_df['date'] = beh_df['session_date'].apply(lambda x: x.date())\n",
    "training_day = ex_mouse[ex_mouse['session_date'] == ex_mouse['session_date'].unique()[15]]\n",
    "\n",
    "t_block = training_day['block_type'] == 'Whisker'\n",
    "v_block = training_day['block_type'] == 'visual'\n",
    "\n",
    "t_trial = training_day['trial_type'].str.contains('Som')\n",
    "v_trial = training_day['trial_type'].str.contains('Vis')\n",
    "\n",
    "lick = training_day['response'] != 0\n",
    "correct = training_day['correct'] == 1\n",
    "\n",
    "touch_lick = (t_trial & lick)*1\n",
    "visual_lick =  (v_trial & lick)*1\n",
    "no_lick = (~lick)*1\n",
    "\n",
    "\n",
    "cTL = (t_block & t_trial & lick & correct)*1\n",
    "eTL = (v_block & t_trial & lick & ~correct) | (t_block & t_trial & lick & ~correct)*1\n",
    "\n",
    "cVL = (v_block & v_trial & lick & correct)*1\n",
    "eVL = (t_block & v_trial & lick & ~correct) | (v_block & v_trial & lick & ~correct)*1\n",
    "\n",
    "tNL = (t_trial & ~lick)*1\n",
    "vNL = (v_trial & ~lick)*1\n"
   ]
  },
  {
   "cell_type": "code",
   "execution_count": null,
   "metadata": {
    "ExecuteTime": {
     "end_time": "2017-11-01T16:59:43.636445Z",
     "start_time": "2017-11-01T16:59:43.354219"
    },
    "jupyter": {
     "outputs_hidden": false
    }
   },
   "outputs": [],
   "source": [
    "mpl.close('all')\n",
    "\n",
    "w = 15\n",
    "tL_height = np.convolve(touch_lick, [1/w]*w, 'valid')\n",
    "vL_height = np.convolve(visual_lick, [1/w]*w, 'valid')\n",
    "tNL_height = np.convolve(tNL, [1/w]*w, 'valid')\n",
    "vNL_height = np.convolve(vNL, [1/w]*w, 'valid')\n",
    "\n",
    "lick_height = vL_height +tL_height\n",
    "\n",
    "fig1b_3 = mpl.figure(figsize = (12,3.5))\n",
    "fig1b_3.subplots_adjust(bottom = 0.2)\n",
    "ax = fig1b_3.add_subplot(111)\n",
    "\n",
    "g0 = -.5*(vL_height + tL_height)\n",
    "g0 = [0] * len(lick_height) \n",
    "fs = [tNL_height, tL_height, vL_height, vNL_height]\n",
    "\n",
    "xvals = np.arange(0,len(lick_height))\n",
    "\n",
    "g_n = g0\n",
    "\n",
    "labels =  ['Touch-no lick', 'Touch-lick', 'Visual-lick', 'Visual-no lick' ]\n",
    "colors = [[0.7]*3, 'C0',  'C1', [0.5]*3]\n",
    "for i,g_i in enumerate(fs):\n",
    "    \n",
    "    \n",
    "    color = colors[i]\n",
    "\n",
    "    ax.fill_between(xvals, g_n, g_n+g_i, color = colors[i], alpha = 0.5)\n",
    "    if i == 1:\n",
    "        ax.plot(xvals, g_n, color = colors[i])\n",
    " \n",
    "    elif i == 3:\n",
    "        ax.plot(xvals, g_n, color = colors[i-1])\n",
    "\n",
    "    g_n = g_n + g_i\n",
    "    ax.text(.85, .1+.12*i, labels[i], size=20, weight = 'bold', transform=ax.transAxes, color = colors[i])\n",
    "\n",
    "    \n",
    "xoffset = np.floor((t_block.size - len(xvals))/2)\n",
    "val_t_block = t_block.as_matrix()[xoffset: xoffset+len(xvals)]\n",
    "block_changes = np.concatenate([[0],  np.where(np.diff(val_t_block*1))[0] ,[len(val_t_block)]])\n",
    "\n",
    "block = 0\n",
    "if t_block.iloc[3] == 1:\n",
    "    block_colors = ['C0', 'C1']\n",
    "    block_label = ['Touch block', 'Visual block']\n",
    "else:\n",
    "    block_colors = ['C1', 'C0']\n",
    "for i in range(len(block_changes)-1):\n",
    "    ax.add_patch(patches.Rectangle((block_changes[i],1.1),  block_changes[i+1]-block_changes[i],\n",
    "                                   .1, facecolor = block_colors[i%2], alpha = 0.5))\n",
    "    block = block + i\n",
    "\n",
    "ax.text(.03, .9, block_label[0], size=20, weight = 'bold', transform=ax.transAxes, color = block_colors[0], alpha = 0.5)\n",
    "ax.text(.28, .9, block_label[1], size=20, weight = 'bold', transform=ax.transAxes, color = block_colors[1], alpha = 0.5)\n",
    "    \n",
    "\n",
    "ax.spines['right'].set_visible(False)\n",
    "ax.spines['top'].set_visible(False)\n",
    "ax.set_ylim(0,1.4)\n",
    "ax.spines['bottom'].set_position(('axes', -0.1))\n",
    "ax.set_yticks([0,0.5,1])\n",
    "ax.spines['bottom'].set_bounds(100, 150)\n",
    "ax.spines['left'].set_bounds(0, 1)\n",
    "\n",
    "ax.set_xlim(-5,270)\n",
    "ax.set_ylabel('Fraction of trials')\n",
    "\n",
    "ax.tick_params(axis=u'both', which=u'both',length=0)\n",
    "mpl.xticks([125],['50 trials'])\n",
    "ax.yaxis.set_label_coords(-.05, .35)\n",
    "\n",
    "fig1b_3"
   ]
  },
  {
   "cell_type": "code",
   "execution_count": null,
   "metadata": {
    "ExecuteTime": {
     "end_time": "2017-11-01T11:40:23.581721Z",
     "start_time": "2017-11-01T11:40:23.447615"
    }
   },
   "outputs": [],
   "source": [
    "fig1b_3.savefig('fig1b_3.pdf', format='pdf', dpi=900)"
   ]
  },
  {
   "cell_type": "code",
   "execution_count": null,
   "metadata": {
    "ExecuteTime": {
     "end_time": "2017-11-01T17:17:08.672893Z",
     "start_time": "2017-11-01T17:17:06.627221"
    },
    "jupyter": {
     "outputs_hidden": false
    }
   },
   "outputs": [],
   "source": [
    "# recording_days['date'] = recording_days['session_date'].apply(lambda x: x.date())\n",
    "beh_df['date'] = beh_df['session_date'].apply(lambda x: x.date())\n",
    "training_day = ex_mouse[ex_mouse['session_date'] == ex_mouse['session_date'].unique()[16]]\n",
    "\n",
    "t_block = training_day['block_type'] == 'Whisker'\n",
    "v_block = training_day['block_type'] == 'visual'\n",
    "\n",
    "t_trial = training_day['trial_type'].str.contains('Som')\n",
    "v_trial = training_day['trial_type'].str.contains('Vis')\n",
    "\n",
    "lick = training_day['response'] != 0\n",
    "correct = training_day['correct'] == 1\n",
    "\n",
    "touch_lick = (t_trial & lick)*1\n",
    "visual_lick =  (v_trial & lick)*1\n",
    "no_lick = (~lick)*1\n",
    "\n",
    "\n",
    "cTL = (t_block & t_trial & lick & correct)*1\n",
    "eTL = (v_block & t_trial & lick & ~correct) | (t_block & t_trial & lick & ~correct)*1\n",
    "\n",
    "cVL = (v_block & v_trial & lick & correct)*1\n",
    "eVL = (t_block & v_trial & lick & ~correct) | (v_block & v_trial & lick & ~correct)*1\n",
    "\n",
    "tNL = (t_trial & ~lick)*1\n",
    "vNL = (v_trial & ~lick)*1\n"
   ]
  },
  {
   "cell_type": "code",
   "execution_count": null,
   "metadata": {
    "ExecuteTime": {
     "end_time": "2017-11-01T17:17:09.120259Z",
     "start_time": "2017-11-01T17:17:08.674900"
    },
    "jupyter": {
     "outputs_hidden": false
    }
   },
   "outputs": [],
   "source": [
    "mpl.close('all')\n",
    "\n",
    "w = 15\n",
    "tL_height = np.convolve(touch_lick, [1/w]*w, 'valid')\n",
    "vL_height = np.convolve(visual_lick, [1/w]*w, 'valid')\n",
    "tNL_height = np.convolve(tNL, [1/w]*w, 'valid')\n",
    "vNL_height = np.convolve(vNL, [1/w]*w, 'valid')\n",
    "\n",
    "lick_height = vL_height +tL_height\n",
    "\n",
    "fig1b_4 = mpl.figure(figsize = (12,3.5))\n",
    "fig1b_4.subplots_adjust(bottom = 0.2)\n",
    "ax = fig1b_4.add_subplot(111)\n",
    "\n",
    "g0 = -.5*(vL_height + tL_height)\n",
    "g0 = [0] * len(lick_height) \n",
    "fs = [tNL_height, tL_height, vL_height, vNL_height]\n",
    "\n",
    "xvals = np.arange(0,len(lick_height))\n",
    "\n",
    "g_n = g0\n",
    "\n",
    "labels =  ['Touch-no lick', 'Touch-lick', 'Visual-lick', 'Visual-no lick' ]\n",
    "colors = [[0.7]*3, 'C0',  'C1', [0.5]*3]\n",
    "for i,g_i in enumerate(fs):\n",
    "    \n",
    "    \n",
    "    color = colors[i]\n",
    "\n",
    "    ax.fill_between(xvals, g_n, g_n+g_i, color = colors[i], alpha = 0.5)\n",
    "    if i == 1:\n",
    "        ax.plot(xvals, g_n, color = colors[i])\n",
    " \n",
    "    elif i == 3:\n",
    "        ax.plot(xvals, g_n, color = colors[i-1])\n",
    "\n",
    "    g_n = g_n + g_i\n",
    "    ax.text(.85, .1+.12*i, labels[i], size=20, weight = 'bold', transform=ax.transAxes, color = colors[i])\n",
    "\n",
    "    \n",
    "xoffset = np.floor((t_block.size - len(xvals))/2)\n",
    "val_t_block = t_block.as_matrix()[xoffset: xoffset+len(xvals)]\n",
    "block_changes = np.concatenate([[0],  np.where(np.diff(val_t_block*1))[0] ,[len(val_t_block)]])\n",
    "\n",
    "block = 0\n",
    "if t_block.iloc[3] == 1:\n",
    "    block_colors = ['C0', 'C1']\n",
    "    block_label = ['Touch block', 'Visual block']\n",
    "else:\n",
    "    block_colors = ['C1', 'C0']\n",
    "for i in range(len(block_changes)-1):\n",
    "    ax.add_patch(patches.Rectangle((block_changes[i],1.1),  block_changes[i+1]-block_changes[i],\n",
    "                                   .1, facecolor = block_colors[i%2], alpha = 0.5))\n",
    "    block = block + 1\n",
    "\n",
    "ax.text(.03, .9, block_label[0], size=20, weight = 'bold', transform=ax.transAxes, color = block_colors[0], alpha = 0.5)\n",
    "ax.text(.27, .9, block_label[1], size=20, weight = 'bold', transform=ax.transAxes, color = block_colors[1], alpha = 0.5)\n",
    "    \n",
    "\n",
    "ax.spines['right'].set_visible(False)\n",
    "ax.spines['top'].set_visible(False)\n",
    "ax.set_ylim(0,1.4)\n",
    "ax.spines['bottom'].set_position(('axes', -0.1))\n",
    "ax.set_yticks([0,0.5,1])\n",
    "ax.spines['bottom'].set_bounds(100, 150)\n",
    "ax.spines['left'].set_bounds(0, 1)\n",
    "\n",
    "ax.set_xlim(-5,270)\n",
    "ax.set_ylabel('Fraction of trials')\n",
    "\n",
    "ax.tick_params(axis=u'both', which=u'both',length=0)\n",
    "mpl.xticks([125],['50 trials'])\n",
    "ax.yaxis.set_label_coords(-.05, .35)\n",
    "\n",
    "fig1b_4"
   ]
  },
  {
   "cell_type": "code",
   "execution_count": null,
   "metadata": {
    "ExecuteTime": {
     "end_time": "2017-11-01T17:00:39.598864Z",
     "start_time": "2017-11-01T17:00:39.477767"
    },
    "jupyter": {
     "outputs_hidden": false
    }
   },
   "outputs": [],
   "source": [
    "fig1b_4.savefig('fig1b_4.pdf', format='pdf', dpi=900)"
   ]
  },
  {
   "cell_type": "code",
   "execution_count": null,
   "metadata": {
    "collapsed": true,
    "jupyter": {
     "outputs_hidden": true
    }
   },
   "outputs": [],
   "source": []
  },
  {
   "cell_type": "code",
   "execution_count": null,
   "metadata": {
    "collapsed": true,
    "jupyter": {
     "outputs_hidden": true
    }
   },
   "outputs": [],
   "source": []
  },
  {
   "cell_type": "code",
   "execution_count": null,
   "metadata": {
    "collapsed": true,
    "jupyter": {
     "outputs_hidden": true
    }
   },
   "outputs": [],
   "source": []
  },
  {
   "cell_type": "code",
   "execution_count": null,
   "metadata": {
    "collapsed": true,
    "jupyter": {
     "outputs_hidden": true
    }
   },
   "outputs": [],
   "source": []
  },
  {
   "cell_type": "code",
   "execution_count": null,
   "metadata": {
    "collapsed": true,
    "jupyter": {
     "outputs_hidden": true
    }
   },
   "outputs": [],
   "source": []
  },
  {
   "cell_type": "code",
   "execution_count": null,
   "metadata": {
    "collapsed": true,
    "jupyter": {
     "outputs_hidden": true
    }
   },
   "outputs": [],
   "source": []
  }
 ],
 "metadata": {
  "kernelspec": {
   "display_name": "Python 3 (ipykernel)",
   "language": "python",
   "name": "python3"
  },
  "language_info": {
   "codemirror_mode": {
    "name": "ipython",
    "version": 3
   },
   "file_extension": ".py",
   "mimetype": "text/x-python",
   "name": "python",
   "nbconvert_exporter": "python",
   "pygments_lexer": "ipython3",
   "version": "3.9.6"
  }
 },
 "nbformat": 4,
 "nbformat_minor": 4
}

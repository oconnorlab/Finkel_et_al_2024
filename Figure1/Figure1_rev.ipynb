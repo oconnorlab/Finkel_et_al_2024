{
 "cells": [
  {
   "cell_type": "code",
   "execution_count": 2,
   "metadata": {},
   "outputs": [
    {
     "name": "stderr",
     "output_type": "stream",
     "text": [
      "C:\\Users\\Eric\\AppData\\Local\\Temp/ipykernel_15128/2689992362.py:10: DeprecationWarning: Using or importing the ABCs from 'collections' instead of from 'collections.abc' is deprecated since Python 3.3, and in 3.10 it will stop working\n",
      "  from collections import Iterable\n"
     ]
    }
   ],
   "source": [
    "import scipy as sp\n",
    "import scipy.io\n",
    "import os\n",
    "import numpy as np\n",
    "import pandas as pd\n",
    "import glob\n",
    "import csv\n",
    "import random as rand\n",
    "from tqdm import tnrange, tqdm_notebook\n",
    "from collections import Iterable\n",
    "import matplotlib.pylab as plt\n",
    "import random as rand\n",
    "from ipywidgets import *\n",
    "from scipy import stats\n",
    "import importlib\n",
    "import sys\n",
    "sys.path.append(os.getcwd()+'/../')\n",
    "from utils import utils\n",
    "# from utils import utils, zscores\n",
    "# from utils import plotting_utils as pu\n",
    "# from utils import auc_methods as ama\n",
    "# import matplotlib.patches as patches\n",
    "# from matplotlib import gridspec\n",
    "# from sklearn.metrics import roc_curve, auc\n",
    "# from sklearn.model_selection import train_test_split\n",
    "# from sklearn.preprocessing import label_binarize\n",
    "# from matplotlib_venn import venn2\n",
    "\n",
    "%load_ext autoreload\n",
    "%autoreload 2\n",
    "import matplotlib as mpl\n",
    "mpl.rcParams['pdf.fonttype'] = 42\n",
    "mpl.rcParams['ps.fonttype'] = 42\n",
    "plt.close('all')\n",
    "\n",
    "font = {'family' : 'Arial',\n",
    "        'weight' : 'normal',\n",
    "        'size'   : 6}\n",
    "\n",
    "mpl.rc('font', **font)\n",
    "mpl.rc('xtick', labelsize=6) \n",
    "mpl.rc('ytick', labelsize=6)\n",
    "mpl.rc('axes', labelsize=6)\n",
    "\n",
    "mpl.rcParams['pdf.fonttype'] = 42\n",
    "mpl.rcParams['ps.fonttype'] = 42\n",
    "size_mult = 1"
   ]
  },
  {
   "cell_type": "code",
   "execution_count": 3,
   "metadata": {},
   "outputs": [],
   "source": [
    "DATA_DIR = os.path.abspath('../data')"
   ]
  },
  {
   "cell_type": "code",
   "execution_count": 7,
   "metadata": {},
   "outputs": [],
   "source": [
    "log_df = pd.read_hdf(os.path.join(DATA_DIR, 'log_df_processed_02-28-2019.h5'), 'fixed')\n",
    "unit_key_df = pd.read_hdf(os.path.join(DATA_DIR, 'unit_key_df_processed_02-28-2019.h5'), 'fixed')\n",
    "unit_key_df = unit_key_df[~(unit_key_df['mouse_name'].isin(['EF0083','EF0085', 'EF0112', 'EF0111']))]"
   ]
  },
  {
   "cell_type": "code",
   "execution_count": 8,
   "metadata": {},
   "outputs": [],
   "source": [
    "beh_df = log_df[['mouse_name', 'date', 'trial_num', 'block_type', \n",
    "                 'trial_type', 'response', 'correct', 'stim_onset','first_lick']].drop_duplicates(subset = ['mouse_name', 'date', 'trial_num','trial_type'])"
   ]
  },
  {
   "cell_type": "code",
   "execution_count": 9,
   "metadata": {},
   "outputs": [],
   "source": [
    "beh_df = beh_df.sort_values(by = ['mouse_name', 'date', 'trial_num']).reset_index(drop=True)"
   ]
  },
  {
   "cell_type": "code",
   "execution_count": 10,
   "metadata": {},
   "outputs": [],
   "source": [
    "##########################################"
   ]
  },
  {
   "cell_type": "code",
   "execution_count": 12,
   "metadata": {},
   "outputs": [],
   "source": [
    "# unit_key_df = pd.read_hdf(r'C:\\Users\\efink\\Documents\\Github\\crossmodal\\Figure2\\z_scored_df.h5', 'table')\n",
    "log_df = log_df = pd.read_hdf(os.path.join(DATA_DIR, 'log_df_02-19-19.h5'), 'table')\n",
    "switch_log_df = pd.read_hdf(os.path.join(DATA_DIR, 'switching_log.h5'), 'table')\n",
    "\n",
    "# excluded EF0088 since trained on switching task after initial CM training\n",
    "switch_log_df = switch_log_df.loc[~(switch_log_df['mouse_name'] == 'EF0088'),:]"
   ]
  },
  {
   "cell_type": "code",
   "execution_count": 14,
   "metadata": {},
   "outputs": [
    {
     "data": {
      "text/plain": [
       "['C:\\\\Users\\\\Eric\\\\Documents\\\\09-12-2021\\\\finkel_et_al_2023\\\\data\\\\behavior_log.mat',\n",
       " 'C:\\\\Users\\\\Eric\\\\Documents\\\\09-12-2021\\\\finkel_et_al_2023\\\\data\\\\behavior_log_01-31-19.mat',\n",
       " 'C:\\\\Users\\\\Eric\\\\Documents\\\\09-12-2021\\\\finkel_et_al_2023\\\\data\\\\behavior_log_02-19-19.mat',\n",
       " 'C:\\\\Users\\\\Eric\\\\Documents\\\\09-12-2021\\\\finkel_et_al_2023\\\\data\\\\behavior_log_02-19-19b.mat']"
      ]
     },
     "execution_count": 14,
     "metadata": {},
     "output_type": "execute_result"
    }
   ],
   "source": [
    "beh_data_files = glob.glob(os.path.join(DATA_DIR, \"behavior*\"))\n",
    "beh_data_files"
   ]
  },
  {
   "cell_type": "code",
   "execution_count": 15,
   "metadata": {
    "ExecuteTime": {
     "end_time": "2017-11-30T16:20:00.885531Z",
     "start_time": "2017-11-30T16:19:09.488899"
    },
    "jupyter": {
     "outputs_hidden": false
    }
   },
   "outputs": [],
   "source": [
    "behavior_df = pd.DataFrame([])\n",
    "mat = sp.io.loadmat(beh_data_files[-1])\n",
    "beh_df = pd.DataFrame(mat['behavior_log'])"
   ]
  },
  {
   "cell_type": "code",
   "execution_count": 16,
   "metadata": {
    "ExecuteTime": {
     "end_time": "2017-11-30T16:20:06.799292Z",
     "start_time": "2017-11-30T16:20:00.889527"
    },
    "jupyter": {
     "outputs_hidden": false
    }
   },
   "outputs": [
    {
     "data": {
      "text/html": [
       "<div>\n",
       "<style scoped>\n",
       "    .dataframe tbody tr th:only-of-type {\n",
       "        vertical-align: middle;\n",
       "    }\n",
       "\n",
       "    .dataframe tbody tr th {\n",
       "        vertical-align: top;\n",
       "    }\n",
       "\n",
       "    .dataframe thead th {\n",
       "        text-align: right;\n",
       "    }\n",
       "</style>\n",
       "<table border=\"1\" class=\"dataframe\">\n",
       "  <thead>\n",
       "    <tr style=\"text-align: right;\">\n",
       "      <th></th>\n",
       "      <th>mouse_name</th>\n",
       "      <th>session_type</th>\n",
       "      <th>session_date</th>\n",
       "      <th>block_type</th>\n",
       "      <th>trial_type</th>\n",
       "      <th>trial_num</th>\n",
       "      <th>som_stim_type</th>\n",
       "      <th>vis_stim_type</th>\n",
       "      <th>response</th>\n",
       "    </tr>\n",
       "  </thead>\n",
       "  <tbody>\n",
       "    <tr>\n",
       "      <th>1</th>\n",
       "      <td>EF0072</td>\n",
       "      <td>Solo.EFcross2Array</td>\n",
       "      <td>12-02-15</td>\n",
       "      <td>Visual</td>\n",
       "      <td>NoStim_Som_NoCue</td>\n",
       "      <td>1</td>\n",
       "      <td>SineAmp1Freq40Cyc40</td>\n",
       "      <td>Amp0p05Dur0p075</td>\n",
       "      <td>0</td>\n",
       "    </tr>\n",
       "    <tr>\n",
       "      <th>2</th>\n",
       "      <td>EF0072</td>\n",
       "      <td>Solo.EFcross2Array</td>\n",
       "      <td>12-02-15</td>\n",
       "      <td>Whisker</td>\n",
       "      <td>Stim_Som_NoCue</td>\n",
       "      <td>2</td>\n",
       "      <td>SineAmp1Freq40Cyc40</td>\n",
       "      <td>Amp0p05Dur0p075</td>\n",
       "      <td>0</td>\n",
       "    </tr>\n",
       "    <tr>\n",
       "      <th>3</th>\n",
       "      <td>EF0072</td>\n",
       "      <td>Solo.EFcross2Array</td>\n",
       "      <td>12-02-15</td>\n",
       "      <td>Whisker</td>\n",
       "      <td>NoStim_Som_NoCue</td>\n",
       "      <td>3</td>\n",
       "      <td>SineAmp1Freq40Cyc40</td>\n",
       "      <td>Amp0p05Dur0p075</td>\n",
       "      <td>1</td>\n",
       "    </tr>\n",
       "    <tr>\n",
       "      <th>4</th>\n",
       "      <td>EF0072</td>\n",
       "      <td>Solo.EFcross2Array</td>\n",
       "      <td>12-02-15</td>\n",
       "      <td>Whisker</td>\n",
       "      <td>Stim_Som_NoCue</td>\n",
       "      <td>4</td>\n",
       "      <td>SineAmp1Freq40Cyc40</td>\n",
       "      <td>Amp0p05Dur0p075</td>\n",
       "      <td>0</td>\n",
       "    </tr>\n",
       "    <tr>\n",
       "      <th>5</th>\n",
       "      <td>EF0072</td>\n",
       "      <td>Solo.EFcross2Array</td>\n",
       "      <td>12-02-15</td>\n",
       "      <td>Whisker</td>\n",
       "      <td>NoStim_Som_NoCue</td>\n",
       "      <td>5</td>\n",
       "      <td>SineAmp1Freq40Cyc40</td>\n",
       "      <td>Amp0p05Dur0p075</td>\n",
       "      <td>1</td>\n",
       "    </tr>\n",
       "  </tbody>\n",
       "</table>\n",
       "</div>"
      ],
      "text/plain": [
       "  mouse_name        session_type session_date block_type        trial_type  \\\n",
       "1     EF0072  Solo.EFcross2Array     12-02-15     Visual  NoStim_Som_NoCue   \n",
       "2     EF0072  Solo.EFcross2Array     12-02-15    Whisker    Stim_Som_NoCue   \n",
       "3     EF0072  Solo.EFcross2Array     12-02-15    Whisker  NoStim_Som_NoCue   \n",
       "4     EF0072  Solo.EFcross2Array     12-02-15    Whisker    Stim_Som_NoCue   \n",
       "5     EF0072  Solo.EFcross2Array     12-02-15    Whisker  NoStim_Som_NoCue   \n",
       "\n",
       "   trial_num        som_stim_type    vis_stim_type  response  \n",
       "1          1  SineAmp1Freq40Cyc40  Amp0p05Dur0p075         0  \n",
       "2          2  SineAmp1Freq40Cyc40  Amp0p05Dur0p075         0  \n",
       "3          3  SineAmp1Freq40Cyc40  Amp0p05Dur0p075         1  \n",
       "4          4  SineAmp1Freq40Cyc40  Amp0p05Dur0p075         0  \n",
       "5          5  SineAmp1Freq40Cyc40  Amp0p05Dur0p075         1  "
      ]
     },
     "execution_count": 16,
     "metadata": {},
     "output_type": "execute_result"
    }
   ],
   "source": [
    "for col in range(beh_df.shape[1]): \n",
    "    beh_df.iloc[:,col] = beh_df.iloc[:,col].str[0]\n",
    "    \n",
    "col_names = beh_df.loc[0,:]\n",
    "beh_df = beh_df.iloc[1:,:].rename(columns = col_names)\n",
    "\n",
    "for col in [5,8]:\n",
    "    beh_df.iloc[:,col] = beh_df.iloc[:,col].str[0]\n",
    "\n",
    "beh_df.head()"
   ]
  },
  {
   "cell_type": "code",
   "execution_count": 17,
   "metadata": {
    "ExecuteTime": {
     "end_time": "2017-11-30T16:20:06.838318Z",
     "start_time": "2017-11-30T16:20:06.800290"
    },
    "jupyter": {
     "outputs_hidden": false
    }
   },
   "outputs": [
    {
     "data": {
      "text/plain": [
       "array(['EF0072', 'EF0074', 'EF0076', 'EF0077', 'EF0079', 'Ef0079',\n",
       "       'EF0081', 'EF0083', 'EF0084', 'EF0085', 'EF0088', 'EF0089',\n",
       "       'EF0091', 'EF0094', 'EF0098', 'EF0099', 'EF0100', 'EF0101',\n",
       "       'EF00101', 'EF0102', 'EF0111', 'EF0112', 'EF0114', 'EF0131',\n",
       "       'EF0132', 'EF0134', 'EF0144', 'EF0147', 'EF0149', 'EF0148',\n",
       "       'EF0151', 'EF0150'], dtype=object)"
      ]
     },
     "execution_count": 17,
     "metadata": {},
     "output_type": "execute_result"
    }
   ],
   "source": [
    "beh_df['mouse_name'].unique()"
   ]
  },
  {
   "cell_type": "markdown",
   "metadata": {},
   "source": [
    "#### clean up dataframe - remove unsuccessful mice, rename misnamed mice"
   ]
  },
  {
   "cell_type": "code",
   "execution_count": 18,
   "metadata": {
    "ExecuteTime": {
     "end_time": "2017-11-30T16:20:07.342730Z",
     "start_time": "2017-11-30T16:20:06.839319"
    },
    "jupyter": {
     "outputs_hidden": false
    }
   },
   "outputs": [],
   "source": [
    "beh_df = beh_df.loc[beh_df['mouse_name'] != 'EF0072', :]\n",
    "beh_df = beh_df.loc[beh_df['mouse_name'] != 'EF0100', :]\n",
    "beh_df.loc[beh_df['mouse_name'] == 'EF00101', 'mouse_name'] = 'EF0101'\n",
    "beh_df.loc[beh_df['mouse_name'] == 'Ef0079', 'mouse_name'] = 'EF0079'"
   ]
  },
  {
   "cell_type": "code",
   "execution_count": 19,
   "metadata": {},
   "outputs": [],
   "source": [
    "beh_df = beh_df[~((beh_df['mouse_name'] == 'EF0074') & beh_df['trial_type'].str.contains('NoStim'))]\n",
    "log_df = log_df[~((log_df['mouse_name'] == 'EF0074') & log_df['trial_type'].str.contains('NoStim'))]"
   ]
  },
  {
   "cell_type": "markdown",
   "metadata": {},
   "source": [
    "#### remove switch-task mice, reverse contingency mice, and S1 inhibition/stimulation mice from the behavioral analyses"
   ]
  },
  {
   "cell_type": "code",
   "execution_count": 20,
   "metadata": {
    "ExecuteTime": {
     "end_time": "2017-11-30T16:20:07.578916Z",
     "start_time": "2017-11-30T16:20:07.344726"
    }
   },
   "outputs": [],
   "source": [
    "beh_df = beh_df.loc[~beh_df['mouse_name'].isin(['EF0102','EF0101','EF0099','EF0091','EF0094', \n",
    "                                              'EF0098','EF0131', 'EF0132', 'EF0144', 'EF0147',\n",
    "                                              'EF0148', 'EF0149','EF0150','EF0111', 'EF0112',\n",
    "                                              'EF0151', # not yet included in any experiments\n",
    "                                              'EF0134']), # not included in any experiments\n",
    "                                               :]\n",
    "\n",
    "log_df = log_df.loc[~log_df['mouse_name'].isin(['EF0102','EF0101','EF0099','EF0091','EF0094', \n",
    "                                              'EF0098','EF0131', 'EF0132', 'EF0144', 'EF0147',\n",
    "                                              'EF0148', 'EF0149','EF0150','EF0111', 'EF0112',\n",
    "                                              'EF0151', # not yet included in any experiments\n",
    "                                              'EF0134']), # not included in any experiments\n",
    "                                               :]"
   ]
  },
  {
   "cell_type": "markdown",
   "metadata": {},
   "source": [
    "#### remove premature lick trials"
   ]
  },
  {
   "cell_type": "code",
   "execution_count": 21,
   "metadata": {
    "ExecuteTime": {
     "end_time": "2017-11-30T16:20:07.897170Z",
     "start_time": "2017-11-30T16:20:07.609939"
    }
   },
   "outputs": [],
   "source": [
    "beh_df = beh_df.loc[beh_df['response'].isin([0,1,2]).values, :]\n",
    "beh_df = beh_df.sort_values(by = ['mouse_name', 'session_date', 'trial_num'])"
   ]
  },
  {
   "cell_type": "markdown",
   "metadata": {},
   "source": [
    "#### Convert session_date column to datetime data type and remove days after full crossmodal recording finished"
   ]
  },
  {
   "cell_type": "code",
   "execution_count": 22,
   "metadata": {
    "ExecuteTime": {
     "end_time": "2017-11-30T16:21:26.908264Z",
     "start_time": "2017-11-30T16:21:21.260648"
    },
    "jupyter": {
     "outputs_hidden": false
    }
   },
   "outputs": [],
   "source": [
    "from datetime import datetime\n",
    "beh_df['session_date'] = beh_df['session_date'].apply(lambda x:  datetime.strptime(x, '%m-%d-%y'))\n",
    "beh_df = beh_df.sort_values(by = 'session_date').reset_index(drop = True)\n",
    "\n",
    "## only needed for mice that were later repurposed for other experiments\n",
    "last_recording_days = {'EF0114':'06-01-18'} \n",
    "for mouse, last_day in last_recording_days.items():\n",
    "    beh_df = beh_df.loc[~((beh_df['mouse_name'] == mouse) & (beh_df['session_date'] > datetime.strptime(last_day, '%m-%d-%y')))]"
   ]
  },
  {
   "cell_type": "markdown",
   "metadata": {},
   "source": [
    "#### define which days are the first full crossmodal training day for each mouse"
   ]
  },
  {
   "cell_type": "code",
   "execution_count": 23,
   "metadata": {
    "ExecuteTime": {
     "end_time": "2017-11-30T16:21:26.918274Z",
     "start_time": "2017-11-30T16:21:26.909265"
    },
    "jupyter": {
     "outputs_hidden": false
    }
   },
   "outputs": [],
   "source": [
    "first_CM_days = pd.DataFrame({'EF0074':'12-10-15', 'EF0076': '12-23-15', 'EF0077': '02-11-16', 'EF0079' : '02-12-16',  \n",
    "                              'EF0081': '04-12-16','EF0083': '05-10-16', 'EF0084': '06-13-16', 'EF0085': '06-13-16',\n",
    "                              'EF0088':'06-28-16',  'EF0089':'07-08-16','EF0091': '12-01-16', 'EF0094': '01-24-17',\n",
    "                              'EF0098': '02-07-17' , 'EF0099': '02-08-17', 'EF0101' : '06-20-17', 'EF0102' : '06-20-17',\n",
    "                             'EF0111':'02-20-18', 'EF0112':'02-20-18', 'EF0114':'03-12-18', 'EF0131': '06-14-18', 'EF0132':'06-21-18',\n",
    "                             'EF0144':'08-01-18', 'EF0147':'10-22-18', 'EF0148':'10-22-18', 'EF0149':'10-23-18', 'EF0150':'11-02-18'}, \n",
    "                             index = ['first_train_date']).T\n",
    "\n",
    "first_CM_days['first_train_date'] = first_CM_days['first_train_date'].apply(lambda x:  datetime.strptime(x, '%m-%d-%y'))"
   ]
  },
  {
   "cell_type": "markdown",
   "metadata": {},
   "source": [
    "#### load main data table that includes ephys data. This will define which days are the test days/recorded sessions for each mouse"
   ]
  },
  {
   "cell_type": "markdown",
   "metadata": {},
   "source": [
    "#### identify the first recording day for each by looking at log_df dataframes that contain only data from recording days and find the first day for each mouse"
   ]
  },
  {
   "cell_type": "code",
   "execution_count": 24,
   "metadata": {},
   "outputs": [],
   "source": [
    "recording_days_sw = switch_log_df.loc[:, ['mouse_name', 'date']].drop_duplicates()\n",
    "recording_days = pd.concat((log_df.loc[:, ['mouse_name', 'date']].drop_duplicates(), recording_days_sw), axis = 0)\n",
    "\n",
    "recording_days['date_str'] = recording_days['date']\n",
    "recording_days.loc[recording_days['date'].str.contains('b'), 'date'] = recording_days.loc[recording_days['date'].str.contains('b'), 'date'].apply(lambda x: x[:-1])\n",
    "\n",
    "recording_days['date'] = recording_days['date'].apply(lambda x:  datetime.strptime(x, '%m-%d-%y'))\n",
    "first_recording = {}\n",
    "for mouse in recording_days['mouse_name'].unique():\n",
    "    first = recording_days.loc[recording_days['mouse_name'] == mouse, 'date'].min()\n",
    "    first_recording[mouse] = first\n",
    "first_recording = pd.DataFrame(first_recording, index = ['first_rec_date']).T\n"
   ]
  },
  {
   "cell_type": "markdown",
   "metadata": {},
   "source": [
    "#### define trials which are fullstim vs short stim"
   ]
  },
  {
   "cell_type": "code",
   "execution_count": 25,
   "metadata": {
    "ExecuteTime": {
     "end_time": "2017-11-30T16:23:24.876855Z",
     "start_time": "2017-11-30T16:23:23.406343"
    },
    "jupyter": {
     "outputs_hidden": false
    }
   },
   "outputs": [],
   "source": [
    "beh_df['full_stim'] = 0\n",
    "beh_df.loc[~beh_df['trial_type'].str.contains('1Cyc'), 'full_stim'] = 1"
   ]
  },
  {
   "cell_type": "markdown",
   "metadata": {},
   "source": [
    "#### define trials as hit/miss/cr/fa and whether they were correct or not"
   ]
  },
  {
   "cell_type": "code",
   "execution_count": 26,
   "metadata": {},
   "outputs": [
    {
     "data": {
      "text/html": [
       "<div>\n",
       "<style scoped>\n",
       "    .dataframe tbody tr th:only-of-type {\n",
       "        vertical-align: middle;\n",
       "    }\n",
       "\n",
       "    .dataframe tbody tr th {\n",
       "        vertical-align: top;\n",
       "    }\n",
       "\n",
       "    .dataframe thead th {\n",
       "        text-align: right;\n",
       "    }\n",
       "</style>\n",
       "<table border=\"1\" class=\"dataframe\">\n",
       "  <thead>\n",
       "    <tr style=\"text-align: right;\">\n",
       "      <th></th>\n",
       "      <th>mouse_name</th>\n",
       "      <th>session_type</th>\n",
       "      <th>session_date</th>\n",
       "      <th>block_type</th>\n",
       "      <th>trial_type</th>\n",
       "      <th>trial_num</th>\n",
       "      <th>som_stim_type</th>\n",
       "      <th>vis_stim_type</th>\n",
       "      <th>response</th>\n",
       "      <th>full_stim</th>\n",
       "    </tr>\n",
       "  </thead>\n",
       "  <tbody>\n",
       "    <tr>\n",
       "      <th>0</th>\n",
       "      <td>EF0074</td>\n",
       "      <td>Solo.EFcross2Array</td>\n",
       "      <td>2015-12-03</td>\n",
       "      <td>Whisker</td>\n",
       "      <td>Stim_Som_NoCue</td>\n",
       "      <td>2</td>\n",
       "      <td>SineAmp1Freq40Cyc3</td>\n",
       "      <td>Amp0p05Dur0p075</td>\n",
       "      <td>1</td>\n",
       "      <td>1</td>\n",
       "    </tr>\n",
       "    <tr>\n",
       "      <th>1</th>\n",
       "      <td>EF0074</td>\n",
       "      <td>Solo.EFcross2Array</td>\n",
       "      <td>2015-12-03</td>\n",
       "      <td>Whisker</td>\n",
       "      <td>Stim_Som_NoCue</td>\n",
       "      <td>210</td>\n",
       "      <td>SineAmp0p85Freq40Cyc3</td>\n",
       "      <td>Amp0p05Dur0p075</td>\n",
       "      <td>1</td>\n",
       "      <td>1</td>\n",
       "    </tr>\n",
       "    <tr>\n",
       "      <th>2</th>\n",
       "      <td>EF0074</td>\n",
       "      <td>Solo.EFcross2Array</td>\n",
       "      <td>2015-12-03</td>\n",
       "      <td>Whisker</td>\n",
       "      <td>Stim_Som_NoCue</td>\n",
       "      <td>208</td>\n",
       "      <td>SineAmp0p85Freq40Cyc3</td>\n",
       "      <td>Amp0p05Dur0p075</td>\n",
       "      <td>1</td>\n",
       "      <td>1</td>\n",
       "    </tr>\n",
       "    <tr>\n",
       "      <th>3</th>\n",
       "      <td>EF0074</td>\n",
       "      <td>Solo.EFcross2Array</td>\n",
       "      <td>2015-12-03</td>\n",
       "      <td>Whisker</td>\n",
       "      <td>Stim_Som_NoCue</td>\n",
       "      <td>207</td>\n",
       "      <td>SineAmp0p85Freq40Cyc3</td>\n",
       "      <td>Amp0p05Dur0p075</td>\n",
       "      <td>1</td>\n",
       "      <td>1</td>\n",
       "    </tr>\n",
       "    <tr>\n",
       "      <th>4</th>\n",
       "      <td>EF0074</td>\n",
       "      <td>Solo.EFcross2Array</td>\n",
       "      <td>2015-12-03</td>\n",
       "      <td>Whisker</td>\n",
       "      <td>Stim_Som_NoCue</td>\n",
       "      <td>206</td>\n",
       "      <td>SineAmp0p85Freq40Cyc3</td>\n",
       "      <td>Amp0p05Dur0p075</td>\n",
       "      <td>1</td>\n",
       "      <td>1</td>\n",
       "    </tr>\n",
       "    <tr>\n",
       "      <th>...</th>\n",
       "      <td>...</td>\n",
       "      <td>...</td>\n",
       "      <td>...</td>\n",
       "      <td>...</td>\n",
       "      <td>...</td>\n",
       "      <td>...</td>\n",
       "      <td>...</td>\n",
       "      <td>...</td>\n",
       "      <td>...</td>\n",
       "      <td>...</td>\n",
       "    </tr>\n",
       "    <tr>\n",
       "      <th>273863</th>\n",
       "      <td>EF0114</td>\n",
       "      <td>Solo.EFcross3Array</td>\n",
       "      <td>2018-06-01</td>\n",
       "      <td>Visual</td>\n",
       "      <td>Stim_Vis_NoCue</td>\n",
       "      <td>122</td>\n",
       "      <td>SineAmp0p750Freq20Cyc3</td>\n",
       "      <td>Amp0p5Dur0p150</td>\n",
       "      <td>2</td>\n",
       "      <td>1</td>\n",
       "    </tr>\n",
       "    <tr>\n",
       "      <th>273864</th>\n",
       "      <td>EF0114</td>\n",
       "      <td>Solo.EFcross3Array</td>\n",
       "      <td>2018-06-01</td>\n",
       "      <td>Visual</td>\n",
       "      <td>Stim_Vis_NoCue</td>\n",
       "      <td>121</td>\n",
       "      <td>SineAmp0p750Freq20Cyc3</td>\n",
       "      <td>Amp0p5Dur0p150</td>\n",
       "      <td>0</td>\n",
       "      <td>1</td>\n",
       "    </tr>\n",
       "    <tr>\n",
       "      <th>273865</th>\n",
       "      <td>EF0114</td>\n",
       "      <td>Solo.EFcross3Array</td>\n",
       "      <td>2018-06-01</td>\n",
       "      <td>Visual</td>\n",
       "      <td>Stim_Som_NoCue</td>\n",
       "      <td>120</td>\n",
       "      <td>SineAmp0p750Freq20Cyc3</td>\n",
       "      <td>Amp0p5Dur0p150</td>\n",
       "      <td>0</td>\n",
       "      <td>1</td>\n",
       "    </tr>\n",
       "    <tr>\n",
       "      <th>273866</th>\n",
       "      <td>EF0114</td>\n",
       "      <td>Solo.EFcross3Array</td>\n",
       "      <td>2018-06-01</td>\n",
       "      <td>Visual</td>\n",
       "      <td>Stim_Som_NoCue</td>\n",
       "      <td>119</td>\n",
       "      <td>SineAmp0p750Freq20Cyc3</td>\n",
       "      <td>Amp0p5Dur0p150</td>\n",
       "      <td>2</td>\n",
       "      <td>1</td>\n",
       "    </tr>\n",
       "    <tr>\n",
       "      <th>273867</th>\n",
       "      <td>EF0114</td>\n",
       "      <td>Solo.EFcross3Array</td>\n",
       "      <td>2018-06-01</td>\n",
       "      <td>Visual</td>\n",
       "      <td>Stim_Vis_NoCue</td>\n",
       "      <td>129</td>\n",
       "      <td>SineAmp0p750Freq20Cyc3</td>\n",
       "      <td>Amp0p5Dur0p150</td>\n",
       "      <td>0</td>\n",
       "      <td>1</td>\n",
       "    </tr>\n",
       "  </tbody>\n",
       "</table>\n",
       "<p>273868 rows × 10 columns</p>\n",
       "</div>"
      ],
      "text/plain": [
       "       mouse_name        session_type session_date block_type      trial_type  \\\n",
       "0          EF0074  Solo.EFcross2Array   2015-12-03    Whisker  Stim_Som_NoCue   \n",
       "1          EF0074  Solo.EFcross2Array   2015-12-03    Whisker  Stim_Som_NoCue   \n",
       "2          EF0074  Solo.EFcross2Array   2015-12-03    Whisker  Stim_Som_NoCue   \n",
       "3          EF0074  Solo.EFcross2Array   2015-12-03    Whisker  Stim_Som_NoCue   \n",
       "4          EF0074  Solo.EFcross2Array   2015-12-03    Whisker  Stim_Som_NoCue   \n",
       "...           ...                 ...          ...        ...             ...   \n",
       "273863     EF0114  Solo.EFcross3Array   2018-06-01     Visual  Stim_Vis_NoCue   \n",
       "273864     EF0114  Solo.EFcross3Array   2018-06-01     Visual  Stim_Vis_NoCue   \n",
       "273865     EF0114  Solo.EFcross3Array   2018-06-01     Visual  Stim_Som_NoCue   \n",
       "273866     EF0114  Solo.EFcross3Array   2018-06-01     Visual  Stim_Som_NoCue   \n",
       "273867     EF0114  Solo.EFcross3Array   2018-06-01     Visual  Stim_Vis_NoCue   \n",
       "\n",
       "        trial_num           som_stim_type    vis_stim_type  response  \\\n",
       "0               2      SineAmp1Freq40Cyc3  Amp0p05Dur0p075         1   \n",
       "1             210   SineAmp0p85Freq40Cyc3  Amp0p05Dur0p075         1   \n",
       "2             208   SineAmp0p85Freq40Cyc3  Amp0p05Dur0p075         1   \n",
       "3             207   SineAmp0p85Freq40Cyc3  Amp0p05Dur0p075         1   \n",
       "4             206   SineAmp0p85Freq40Cyc3  Amp0p05Dur0p075         1   \n",
       "...           ...                     ...              ...       ...   \n",
       "273863        122  SineAmp0p750Freq20Cyc3   Amp0p5Dur0p150         2   \n",
       "273864        121  SineAmp0p750Freq20Cyc3   Amp0p5Dur0p150         0   \n",
       "273865        120  SineAmp0p750Freq20Cyc3   Amp0p5Dur0p150         0   \n",
       "273866        119  SineAmp0p750Freq20Cyc3   Amp0p5Dur0p150         2   \n",
       "273867        129  SineAmp0p750Freq20Cyc3   Amp0p5Dur0p150         0   \n",
       "\n",
       "        full_stim  \n",
       "0               1  \n",
       "1               1  \n",
       "2               1  \n",
       "3               1  \n",
       "4               1  \n",
       "...           ...  \n",
       "273863          1  \n",
       "273864          1  \n",
       "273865          1  \n",
       "273866          1  \n",
       "273867          1  \n",
       "\n",
       "[273868 rows x 10 columns]"
      ]
     },
     "execution_count": 26,
     "metadata": {},
     "output_type": "execute_result"
    }
   ],
   "source": [
    "beh_df"
   ]
  },
  {
   "cell_type": "code",
   "execution_count": 27,
   "metadata": {},
   "outputs": [],
   "source": [
    "#################################################"
   ]
  },
  {
   "cell_type": "code",
   "execution_count": 28,
   "metadata": {},
   "outputs": [],
   "source": [
    "w_block = beh_df['block_type'] == 'Whisker'\n",
    "v_block = ~w_block\n",
    "\n",
    "tac_trial = beh_df['trial_type'].str.contains('Som')\n",
    "vis_trial = ~tac_trial\n",
    "\n",
    "hits = (w_block & tac_trial & (beh_df['response'] == 1)) | (v_block & vis_trial & (beh_df['response'] == 2))\n",
    "misses = (w_block & tac_trial & (beh_df['response'] == 0)) | (v_block & vis_trial & (beh_df['response'] == 0))\n",
    "correct_rej = (v_block & tac_trial & (beh_df['response'] == 0)) | (w_block & vis_trial & (beh_df['response'] == 0))\n",
    "false_alarms = ((w_block & tac_trial & (beh_df['response'] == 2)) | (v_block & vis_trial & (beh_df['response'] == 1)) | \n",
    "                (v_block & tac_trial & (beh_df['response'] != 0)) | (w_block & vis_trial & (beh_df['response'] != 0)))"
   ]
  },
  {
   "cell_type": "code",
   "execution_count": 29,
   "metadata": {},
   "outputs": [
    {
     "data": {
      "text/html": [
       "<div>\n",
       "<style scoped>\n",
       "    .dataframe tbody tr th:only-of-type {\n",
       "        vertical-align: middle;\n",
       "    }\n",
       "\n",
       "    .dataframe tbody tr th {\n",
       "        vertical-align: top;\n",
       "    }\n",
       "\n",
       "    .dataframe thead th {\n",
       "        text-align: right;\n",
       "    }\n",
       "</style>\n",
       "<table border=\"1\" class=\"dataframe\">\n",
       "  <thead>\n",
       "    <tr style=\"text-align: right;\">\n",
       "      <th></th>\n",
       "      <th>mouse_name</th>\n",
       "      <th>session_type</th>\n",
       "      <th>session_date</th>\n",
       "      <th>block_type</th>\n",
       "      <th>trial_type</th>\n",
       "      <th>trial_num</th>\n",
       "      <th>som_stim_type</th>\n",
       "      <th>vis_stim_type</th>\n",
       "      <th>response</th>\n",
       "      <th>full_stim</th>\n",
       "    </tr>\n",
       "  </thead>\n",
       "  <tbody>\n",
       "    <tr>\n",
       "      <th>0</th>\n",
       "      <td>EF0074</td>\n",
       "      <td>Solo.EFcross2Array</td>\n",
       "      <td>2015-12-03</td>\n",
       "      <td>Whisker</td>\n",
       "      <td>Stim_Som_NoCue</td>\n",
       "      <td>2</td>\n",
       "      <td>SineAmp1Freq40Cyc3</td>\n",
       "      <td>Amp0p05Dur0p075</td>\n",
       "      <td>1</td>\n",
       "      <td>1</td>\n",
       "    </tr>\n",
       "    <tr>\n",
       "      <th>1</th>\n",
       "      <td>EF0074</td>\n",
       "      <td>Solo.EFcross2Array</td>\n",
       "      <td>2015-12-03</td>\n",
       "      <td>Whisker</td>\n",
       "      <td>Stim_Som_NoCue</td>\n",
       "      <td>210</td>\n",
       "      <td>SineAmp0p85Freq40Cyc3</td>\n",
       "      <td>Amp0p05Dur0p075</td>\n",
       "      <td>1</td>\n",
       "      <td>1</td>\n",
       "    </tr>\n",
       "    <tr>\n",
       "      <th>2</th>\n",
       "      <td>EF0074</td>\n",
       "      <td>Solo.EFcross2Array</td>\n",
       "      <td>2015-12-03</td>\n",
       "      <td>Whisker</td>\n",
       "      <td>Stim_Som_NoCue</td>\n",
       "      <td>208</td>\n",
       "      <td>SineAmp0p85Freq40Cyc3</td>\n",
       "      <td>Amp0p05Dur0p075</td>\n",
       "      <td>1</td>\n",
       "      <td>1</td>\n",
       "    </tr>\n",
       "    <tr>\n",
       "      <th>3</th>\n",
       "      <td>EF0074</td>\n",
       "      <td>Solo.EFcross2Array</td>\n",
       "      <td>2015-12-03</td>\n",
       "      <td>Whisker</td>\n",
       "      <td>Stim_Som_NoCue</td>\n",
       "      <td>207</td>\n",
       "      <td>SineAmp0p85Freq40Cyc3</td>\n",
       "      <td>Amp0p05Dur0p075</td>\n",
       "      <td>1</td>\n",
       "      <td>1</td>\n",
       "    </tr>\n",
       "    <tr>\n",
       "      <th>4</th>\n",
       "      <td>EF0074</td>\n",
       "      <td>Solo.EFcross2Array</td>\n",
       "      <td>2015-12-03</td>\n",
       "      <td>Whisker</td>\n",
       "      <td>Stim_Som_NoCue</td>\n",
       "      <td>206</td>\n",
       "      <td>SineAmp0p85Freq40Cyc3</td>\n",
       "      <td>Amp0p05Dur0p075</td>\n",
       "      <td>1</td>\n",
       "      <td>1</td>\n",
       "    </tr>\n",
       "    <tr>\n",
       "      <th>...</th>\n",
       "      <td>...</td>\n",
       "      <td>...</td>\n",
       "      <td>...</td>\n",
       "      <td>...</td>\n",
       "      <td>...</td>\n",
       "      <td>...</td>\n",
       "      <td>...</td>\n",
       "      <td>...</td>\n",
       "      <td>...</td>\n",
       "      <td>...</td>\n",
       "    </tr>\n",
       "    <tr>\n",
       "      <th>273863</th>\n",
       "      <td>EF0114</td>\n",
       "      <td>Solo.EFcross3Array</td>\n",
       "      <td>2018-06-01</td>\n",
       "      <td>Visual</td>\n",
       "      <td>Stim_Vis_NoCue</td>\n",
       "      <td>122</td>\n",
       "      <td>SineAmp0p750Freq20Cyc3</td>\n",
       "      <td>Amp0p5Dur0p150</td>\n",
       "      <td>2</td>\n",
       "      <td>1</td>\n",
       "    </tr>\n",
       "    <tr>\n",
       "      <th>273864</th>\n",
       "      <td>EF0114</td>\n",
       "      <td>Solo.EFcross3Array</td>\n",
       "      <td>2018-06-01</td>\n",
       "      <td>Visual</td>\n",
       "      <td>Stim_Vis_NoCue</td>\n",
       "      <td>121</td>\n",
       "      <td>SineAmp0p750Freq20Cyc3</td>\n",
       "      <td>Amp0p5Dur0p150</td>\n",
       "      <td>0</td>\n",
       "      <td>1</td>\n",
       "    </tr>\n",
       "    <tr>\n",
       "      <th>273865</th>\n",
       "      <td>EF0114</td>\n",
       "      <td>Solo.EFcross3Array</td>\n",
       "      <td>2018-06-01</td>\n",
       "      <td>Visual</td>\n",
       "      <td>Stim_Som_NoCue</td>\n",
       "      <td>120</td>\n",
       "      <td>SineAmp0p750Freq20Cyc3</td>\n",
       "      <td>Amp0p5Dur0p150</td>\n",
       "      <td>0</td>\n",
       "      <td>1</td>\n",
       "    </tr>\n",
       "    <tr>\n",
       "      <th>273866</th>\n",
       "      <td>EF0114</td>\n",
       "      <td>Solo.EFcross3Array</td>\n",
       "      <td>2018-06-01</td>\n",
       "      <td>Visual</td>\n",
       "      <td>Stim_Som_NoCue</td>\n",
       "      <td>119</td>\n",
       "      <td>SineAmp0p750Freq20Cyc3</td>\n",
       "      <td>Amp0p5Dur0p150</td>\n",
       "      <td>2</td>\n",
       "      <td>1</td>\n",
       "    </tr>\n",
       "    <tr>\n",
       "      <th>273867</th>\n",
       "      <td>EF0114</td>\n",
       "      <td>Solo.EFcross3Array</td>\n",
       "      <td>2018-06-01</td>\n",
       "      <td>Visual</td>\n",
       "      <td>Stim_Vis_NoCue</td>\n",
       "      <td>129</td>\n",
       "      <td>SineAmp0p750Freq20Cyc3</td>\n",
       "      <td>Amp0p5Dur0p150</td>\n",
       "      <td>0</td>\n",
       "      <td>1</td>\n",
       "    </tr>\n",
       "  </tbody>\n",
       "</table>\n",
       "<p>273868 rows × 10 columns</p>\n",
       "</div>"
      ],
      "text/plain": [
       "       mouse_name        session_type session_date block_type      trial_type  \\\n",
       "0          EF0074  Solo.EFcross2Array   2015-12-03    Whisker  Stim_Som_NoCue   \n",
       "1          EF0074  Solo.EFcross2Array   2015-12-03    Whisker  Stim_Som_NoCue   \n",
       "2          EF0074  Solo.EFcross2Array   2015-12-03    Whisker  Stim_Som_NoCue   \n",
       "3          EF0074  Solo.EFcross2Array   2015-12-03    Whisker  Stim_Som_NoCue   \n",
       "4          EF0074  Solo.EFcross2Array   2015-12-03    Whisker  Stim_Som_NoCue   \n",
       "...           ...                 ...          ...        ...             ...   \n",
       "273863     EF0114  Solo.EFcross3Array   2018-06-01     Visual  Stim_Vis_NoCue   \n",
       "273864     EF0114  Solo.EFcross3Array   2018-06-01     Visual  Stim_Vis_NoCue   \n",
       "273865     EF0114  Solo.EFcross3Array   2018-06-01     Visual  Stim_Som_NoCue   \n",
       "273866     EF0114  Solo.EFcross3Array   2018-06-01     Visual  Stim_Som_NoCue   \n",
       "273867     EF0114  Solo.EFcross3Array   2018-06-01     Visual  Stim_Vis_NoCue   \n",
       "\n",
       "        trial_num           som_stim_type    vis_stim_type  response  \\\n",
       "0               2      SineAmp1Freq40Cyc3  Amp0p05Dur0p075         1   \n",
       "1             210   SineAmp0p85Freq40Cyc3  Amp0p05Dur0p075         1   \n",
       "2             208   SineAmp0p85Freq40Cyc3  Amp0p05Dur0p075         1   \n",
       "3             207   SineAmp0p85Freq40Cyc3  Amp0p05Dur0p075         1   \n",
       "4             206   SineAmp0p85Freq40Cyc3  Amp0p05Dur0p075         1   \n",
       "...           ...                     ...              ...       ...   \n",
       "273863        122  SineAmp0p750Freq20Cyc3   Amp0p5Dur0p150         2   \n",
       "273864        121  SineAmp0p750Freq20Cyc3   Amp0p5Dur0p150         0   \n",
       "273865        120  SineAmp0p750Freq20Cyc3   Amp0p5Dur0p150         0   \n",
       "273866        119  SineAmp0p750Freq20Cyc3   Amp0p5Dur0p150         2   \n",
       "273867        129  SineAmp0p750Freq20Cyc3   Amp0p5Dur0p150         0   \n",
       "\n",
       "        full_stim  \n",
       "0               1  \n",
       "1               1  \n",
       "2               1  \n",
       "3               1  \n",
       "4               1  \n",
       "...           ...  \n",
       "273863          1  \n",
       "273864          1  \n",
       "273865          1  \n",
       "273866          1  \n",
       "273867          1  \n",
       "\n",
       "[273868 rows x 10 columns]"
      ]
     },
     "execution_count": 29,
     "metadata": {},
     "output_type": "execute_result"
    }
   ],
   "source": [
    "beh_df"
   ]
  },
  {
   "cell_type": "code",
   "execution_count": 30,
   "metadata": {},
   "outputs": [],
   "source": [
    "beh_df['trial_outcome'] = np.nan\n",
    "beh_df.loc[hits.values, 'trial_outcome'] = 'hit'\n",
    "beh_df.loc[misses, 'trial_outcome'] = 'miss'\n",
    "beh_df.loc[correct_rej, 'trial_outcome'] = 'CR'\n",
    "beh_df.loc[false_alarms, 'trial_outcome'] = 'FA'\n",
    "beh_df = beh_df.loc[~(beh_df['response'] == 3), :]\n",
    "beh_df = beh_df.sort_values(['mouse_name', 'session_date', 'trial_num']).reset_index(drop=True)"
   ]
  },
  {
   "cell_type": "code",
   "execution_count": 31,
   "metadata": {},
   "outputs": [],
   "source": [
    "pos_trials = (((beh_df['block_type'] == 'Whisker') & beh_df['trial_type'].str.contains('Som')) |\n",
    "              ((beh_df['block_type'] == 'Visual') & beh_df['trial_type'].str.contains('Vis')))*1.0\n",
    "pos_only = pos_trials[pos_trials == 1]\n",
    "hits = (beh_df['trial_outcome'] == 'hit')*1.0\n",
    "hits_pos_only = hits[pos_trials == 1]\n",
    "hit_rate = pos_only - 1 + hits_pos_only"
   ]
  },
  {
   "cell_type": "code",
   "execution_count": 32,
   "metadata": {},
   "outputs": [
    {
     "data": {
      "text/plain": [
       "0         1.0\n",
       "1         1.0\n",
       "2         1.0\n",
       "3         1.0\n",
       "4         1.0\n",
       "         ... \n",
       "273855    1.0\n",
       "273857    1.0\n",
       "273859    1.0\n",
       "273862    1.0\n",
       "273867    1.0\n",
       "Length: 150270, dtype: float64"
      ]
     },
     "execution_count": 32,
     "metadata": {},
     "output_type": "execute_result"
    }
   ],
   "source": [
    "pos_trials[pos_trials == 1]-1+hits_pos_only"
   ]
  },
  {
   "cell_type": "code",
   "execution_count": 33,
   "metadata": {},
   "outputs": [
    {
     "ename": "NameError",
     "evalue": "name 'beh_df_test' is not defined",
     "output_type": "error",
     "traceback": [
      "\u001b[1;31m---------------------------------------------------------------------------\u001b[0m",
      "\u001b[1;31mNameError\u001b[0m                                 Traceback (most recent call last)",
      "\u001b[1;32m~\\AppData\\Local\\Temp/ipykernel_15128/3195829779.py\u001b[0m in \u001b[0;36m<module>\u001b[1;34m\u001b[0m\n\u001b[1;32m----> 1\u001b[1;33m \u001b[0mbeh_df_test\u001b[0m\u001b[1;33m\u001b[0m\u001b[1;33m\u001b[0m\u001b[0m\n\u001b[0m",
      "\u001b[1;31mNameError\u001b[0m: name 'beh_df_test' is not defined"
     ]
    }
   ],
   "source": [
    "beh_df_test"
   ]
  },
  {
   "cell_type": "code",
   "execution_count": 34,
   "metadata": {},
   "outputs": [],
   "source": [
    "def calc_rates(df):\n",
    "    df['hit_rate'] = np.nan\n",
    "    df['CR_rate'] = np.nan\n",
    "    \n",
    "    ##### hits\n",
    "    pos_trials = (((df['block_type'] == 'Whisker') & df['trial_type'].str.contains('Som')) |\n",
    "                  ((df['block_type'] == 'Visual') & df['trial_type'].str.contains('Vis')))*1.0\n",
    "    pos_only = pos_trials[pos_trials == 1]\n",
    "    hits = (df['trial_outcome'] == 'hit')*1.0\n",
    "    hits_pos_only = hits[pos_trials == 1]\n",
    "    hit_rate = pos_only - 1 + hits_pos_only\n",
    "    \n",
    "    ###### CRs\n",
    "    neg_trials = (((df['block_type'] == 'Whisker') & df['trial_type'].str.contains('Vis')) |\n",
    "                  ((df['block_type'] == 'Visual') & df['trial_type'].str.contains('Som')))*1.0\n",
    "    neg_only = neg_trials[neg_trials == 1]\n",
    "    CR_trials = df['trial_outcome'] == 'CR'\n",
    "    CR_neg_only = CR_trials[neg_trials == 1]\n",
    "    CR_rate = neg_only - 1 + CR_neg_only\n",
    "    \n",
    "    ###### miss\n",
    "    miss = (df['trial_outcome'] == 'miss')*1.0\n",
    "    miss_pos_only = miss[pos_trials == 1]\n",
    "    miss_rate = pos_only - 1 + miss_pos_only\n",
    "    \n",
    "    ###### FAs\n",
    "    FA_trials = df['trial_outcome'] == 'FA'\n",
    "    FA_neg_only = FA_trials[neg_trials == 1]\n",
    "    FA_rate = neg_only - 1 + FA_neg_only\n",
    "\n",
    "    ####### running averages\n",
    "    moving_hit_rate = hit_rate.rolling(window = 50, min_periods = 1).mean()\n",
    "    moving_CR_rate = CR_rate.rolling(window = 50, min_periods = 1).mean()\n",
    "    moving_miss_rate = miss_rate.rolling(window = 50, min_periods = 1).mean()\n",
    "    moving_FA_rate = FA_rate.rolling(window = 50, min_periods = 1).mean()\n",
    "    \n",
    "\n",
    "    df.loc[moving_hit_rate.index, 'hit_rate'] = moving_hit_rate\n",
    "    df.loc[moving_CR_rate.index, 'CR_rate'] = moving_CR_rate\n",
    "    df.loc[moving_hit_rate.index, 'miss_rate'] = moving_miss_rate\n",
    "    df.loc[moving_CR_rate.index, 'FA_rate'] = moving_FA_rate\n",
    "\n",
    "\n",
    "    df.loc[:, ['hit_rate', 'CR_rate', 'miss_rate', 'FA_rate']] = df.loc[:, ['hit_rate', 'CR_rate', 'miss_rate', 'FA_rate']].fillna(method = 'ffill').fillna(0.)\n",
    "    \n",
    "    return df"
   ]
  },
  {
   "cell_type": "code",
   "execution_count": 35,
   "metadata": {},
   "outputs": [],
   "source": [
    "# def calc_hit_cr_rate(df):\n",
    "#     df['tac_lick'] = np.nan\n",
    "#     df['tac_nolick'] = np.nan\n",
    "    \n",
    "#     ##### hits\n",
    "#     pos_trials = (((df['block_type'] == 'Whisker') & df['trial_type'].str.contains('Som')) |\n",
    "#                   ((df['block_type'] == 'Visual') & df['trial_type'].str.contains('Vis')))*1.0\n",
    "#     pos_only = pos_trials[pos_trials == 1]\n",
    "#     hits = (df['trial_outcome'] == 'hit')*1.0\n",
    "#     hits_pos_only = hits[pos_trials == 1]\n",
    "#     hit_rate = pos_only - 1 + hits_pos_only\n",
    "    \n",
    "#     ###### CRs\n",
    "#     neg_trials = (((df['block_type'] == 'Whisker') & df['trial_type'].str.contains('Vis')) |\n",
    "#                   ((df['block_type'] == 'Visual') & df['trial_type'].str.contains('Som')))*1.0\n",
    "#     neg_only = neg_trials[neg_trials == 1]\n",
    "#     CR_trials = df['trial_outcome'] == 'CR'\n",
    "#     CR_neg_only = CR_trials[neg_trials == 1]\n",
    "#     CR_rate = neg_only - 1 + CR_neg_only\n",
    "\n",
    "#     ####### running averages\n",
    "#     moving_hit_rate = hit_rate.rolling(window = 1000, min_periods = 1).mean()\n",
    "#     moving_CR_rate = CR_rate.rolling(window = 1000, min_periods = 1).mean()\n",
    "\n",
    "#     df.loc[moving_hit_rate.index, 'hit_rate'] = moving_hit_rate\n",
    "#     df.loc[moving_CR_rate.index, 'CR_rate'] = moving_CR_rate\n",
    "\n",
    "#     df.loc[:, ['hit_rate', 'CR_rate']] = df.loc[:, ['hit_rate', 'CR_rate']].fillna(method = 'ffill').fillna(0.)\n",
    "    \n",
    "#     return df"
   ]
  },
  {
   "cell_type": "code",
   "execution_count": 36,
   "metadata": {},
   "outputs": [],
   "source": [
    "beh_grouped = beh_df.groupby(['mouse_name', 'session_date'])\n",
    "beh_df_test = pd.concat([calc_rates(y.copy()) for x, y in beh_grouped])\n",
    "beh_grouped = beh_df_test.groupby(['mouse_name', 'session_date'])\n",
    "session_gen = iter(beh_grouped)"
   ]
  },
  {
   "cell_type": "code",
   "execution_count": 37,
   "metadata": {},
   "outputs": [],
   "source": [
    "# gr, df = next(session_gen)"
   ]
  },
  {
   "cell_type": "code",
   "execution_count": 38,
   "metadata": {},
   "outputs": [],
   "source": [
    "def group_lick_nolick(df):\n",
    "    tac_lick_ind = (df['trial_type'].str.contains('Som') & df['trial_outcome'].isin(['hit', 'FA']))\n",
    "    tac_lick = df.loc[tac_lick_ind, 'trial_num'] - df.iloc[0]['trial_num']+1\n",
    "\n",
    "    tac_nolick_ind = (df['trial_type'].str.contains('Som') & df['trial_outcome'].isin(['miss', 'CR']))\n",
    "    tac_nolick = df.loc[tac_nolick_ind, 'trial_num'] - df.iloc[0]['trial_num']+1\n",
    "\n",
    "    vis_lick_ind = (df['trial_type'].str.contains('Vis') & df['trial_outcome'].isin(['hit', 'FA']))\n",
    "    vis_lick = df.loc[vis_lick_ind, 'trial_num'] - df.iloc[0]['trial_num']+1\n",
    "\n",
    "    vis_nolick_ind = (df['trial_type'].str.contains('Vis') & df['trial_outcome'].isin(['miss', 'CR']))\n",
    "    vis_nolick = df.loc[vis_nolick_ind, 'trial_num'] - df.iloc[0]['trial_num']+1\n",
    "\n",
    "    block_transitions = (df['block_type'].str.contains('Whisker')*1).diff()\n",
    "    block_transitions = df.loc[block_transitions != 0, 'trial_num'] - df.iloc[0]['trial_num']+1\n",
    "    \n",
    "    return [tac_lick, tac_nolick, vis_lick, vis_nolick, block_transitions]"
   ]
  },
  {
   "cell_type": "code",
   "execution_count": 39,
   "metadata": {},
   "outputs": [],
   "source": [
    "def group_hit_miss_cr_fa(df):\n",
    "\n",
    "    tac_nolick_ind = (df['trial_type'].str.contains('Som') & df['trial_outcome'].isin(['miss', 'CR']))\n",
    "    tac_nolick = df.loc[tac_nolick_ind, 'trial_num'] - df.iloc[0]['trial_num']+1\n",
    "    \n",
    "    \n",
    "    miss = df.loc[df['trial_outcome'] == 'miss', 'trial_num'] - df.iloc[0]['trial_num']+1\n",
    "    FA = df.loc[df['trial_outcome'] == 'FA', 'trial_num'] - df.iloc[0]['trial_num']+1\n",
    "    CR = df.loc[df['trial_outcome'] == 'CR', 'trial_num'] - df.iloc[0]['trial_num']+1\n",
    "    hits = df.loc[df['trial_outcome'] == 'hit', 'trial_num'] - df.iloc[0]['trial_num']+1\n",
    "\n",
    "    \n",
    "    block_transitions = (df['block_type'].str.contains('Whisker')*1).diff()\n",
    "    block_transitions = df.loc[block_transitions != 0, 'trial_num'] - df.iloc[0]['trial_num']+1\n",
    "\n",
    "    return [hits, CR, FA, miss, block_transitions]"
   ]
  },
  {
   "cell_type": "code",
   "execution_count": 40,
   "metadata": {},
   "outputs": [],
   "source": [
    "# fig, (ax, ax1) = plt.subplots(2,1, figsize = (2,1.167), gridspec_kw = {'height_ratios': [1,.75]}, sharex = True)\n",
    "\n",
    "def plot_session_perf(df, labels = False):\n",
    "    \n",
    "    [hits, CR, FA, misses, block_transitions] = group_hit_miss_cr_fa(df)\n",
    "    num_trials = df.shape[0]\n",
    "#     fig, (ax, ax1) = plt.subplots(2,1, figsize = (9.6,2.4), gridspec_kw = {'height_ratios': [1,.65]}, sharex = True)\n",
    "    fig, ax = plt.subplots(1,1, figsize = (6.5,2.5))\n",
    "\n",
    "    x_vals = df['trial_num']-df['trial_num'].iloc[0]\n",
    "#     ax1.plot(x_vals, df['hit_rate'], 'b')\n",
    "#     ax1.plot(x_vals, df['CR_rate'], 'r')\n",
    "#     ax1.plot(x_vals, df['miss_rate'], 'k')\n",
    "#     ax1.plot(x_vals, df['FA_rate'], 'g')\n",
    "\n",
    "\n",
    "    ax.set_xlim(0,350)\n",
    "#     ax1.set_ylim(0,1)\n",
    "#     for a in [ax,ax1]:\n",
    "    ax.spines['top'].set_visible(False)\n",
    "    ax.spines['right'].set_visible(False)\n",
    "    ax.tick_params(axis='y', length=1)\n",
    "    \n",
    "#     if labels == True:\n",
    "#         ax1.text(0.45, 0.2, 'Hit rate', transform = ax1.transAxes, color = 'b')\n",
    "#         ax1.text(0.45, 0.0, 'CR rate', transform = ax1.transAxes, color = 'r')\n",
    "#         ax1.text(0.65, 0.2, 'FA rate', transform = ax1.transAxes, color = 'g')\n",
    "#         ax1.text(0.65, 0.0, 'Miss rate', transform = ax1.transAxes, color = 'k')\n",
    "\n",
    "    ax.spines['bottom'].set_visible(False)\n",
    "    ax.xaxis.set_visible(False)\n",
    "\n",
    "    y_vals = [5.5, 4, 2.5, 1]\n",
    "    height = 0.5\n",
    "    ax.vlines(hits, y_vals[0]-height, y_vals[0]+height, color = 'b', alpha = 1, linewidth = 1)\n",
    "    ax.vlines(CR, y_vals[1]-height, y_vals[1]+height, color = 'r', alpha = 1, linewidth = 1)\n",
    "    ax.vlines(misses, y_vals[2]-height, y_vals[2]+height, color = 'k', alpha = 1, linewidth = 1)\n",
    "    ax.vlines(FA, y_vals[3]-height, y_vals[3]+height, color ='g' , alpha = 1, linewidth = 1)\n",
    "    ax.set_yticks(y_vals)\n",
    "    ax.set_yticklabels(['Hit', 'CR', 'Miss', 'FA'])\n",
    "\n",
    "    for bt in block_transitions.values[1:]:\n",
    "        ax.axvline(bt+0.5, linestyle = ':', color = 'k')\n",
    "\n",
    "#     ax1.plot([0,df['trial_num'].iloc[-1]],[0.5, 0.5], linestyle = ':', color = 'k')\n",
    "    ax.set_ylim([y_vals[-1]-1, y_vals[0]+1])\n",
    "    \n",
    "    if labels:\n",
    "        ax.spines['bottom'].set_visible(True)\n",
    "        ax.spines['bottom'].set_bounds(50, 100)\n",
    "        ax.set_xticks([75])\n",
    "        ax.set_xticklabels(['50 trials'])\n",
    "        ax.tick_params(axis='x', length=0)\n",
    "#     fig.subplots_adjust(left = 0.3, right = 0.9, hspace = .1)\n",
    "    return fig\n"
   ]
  },
  {
   "cell_type": "code",
   "execution_count": 41,
   "metadata": {},
   "outputs": [],
   "source": [
    "# # fig, (ax, ax1) = plt.subplots(2,1, figsize = (2,1.167), gridspec_kw = {'height_ratios': [1,.75]}, sharex = True)\n",
    "\n",
    "# def plot_session_perf(df):\n",
    "    \n",
    "#     [tac_lick, tac_nolick, vis_lick, vis_nolick, block_transitions] = group_lick_nolick(df)\n",
    "#     num_trials = df.shape[0]\n",
    "# #     fig, (ax, ax1) = plt.subplots(2,1, figsize = (9.6,2.4), gridspec_kw = {'height_ratios': [1,.65]}, sharex = True)\n",
    "#     fig, (ax, ax1) = plt.subplots(2,1, figsize = (6,2), gridspec_kw = {'height_ratios': [1,.75]}, sharex = True)\n",
    "\n",
    "#     x_vals = df['trial_num']-df['trial_num'].iloc[0]\n",
    "#     ax1.plot(x_vals, df['hit_rate'], 'b')\n",
    "#     ax1.plot(x_vals, df['CR_rate'], 'r')\n",
    "\n",
    "#     ax1.set_xlim(0,400)\n",
    "#     ax1.set_ylim(0,1)\n",
    "#     for a in [ax,ax1]:\n",
    "#         a.spines['top'].set_visible(False)\n",
    "#         a.spines['right'].set_visible(False)\n",
    "#         a.tick_params(axis='y', length=1)\n",
    "\n",
    "#     ax1.text(0.5, 0.3, 'Hit rate', transform = ax1.transAxes, color = 'b')\n",
    "#     ax1.text(0.5, 0.1, 'Correct rejection rate', transform = ax1.transAxes, color = 'r')\n",
    "\n",
    "#     ax.spines['bottom'].set_visible(False)\n",
    "#     ax.xaxis.set_visible(False)\n",
    "\n",
    "#     y_vals = [6.5,5, 3,1.5]\n",
    "#     height = 0.4\n",
    "#     ax.vlines(tac_lick, y_vals[0]-height, y_vals[0]+height, color = '#7F3F97', alpha = 0.75)\n",
    "#     ax.vlines(tac_nolick, y_vals[1]-height, y_vals[1]+height, color = [0.6,0.6,0.6], alpha = 0.75)\n",
    "#     ax.vlines(vis_lick, y_vals[2]-height, y_vals[2]+height, color = 'C1', alpha = 0.75)\n",
    "#     ax.vlines(vis_nolick, y_vals[3]-height, y_vals[3]+height, color = [0.6,0.6,0.6], alpha = 0.75)\n",
    "#     ax.set_yticks(y_vals)\n",
    "#     ax.set_yticklabels(['Touch-lick', 'Touch-no lick','Visual-lick', 'Visual-no lick'])\n",
    "\n",
    "\n",
    "#     for bt in block_transitions.values[1:]:\n",
    "#         ax.axvline(bt+0.5, linestyle = ':', color = 'k')\n",
    "\n",
    "#     ax1.plot([0,df['trial_num'].iloc[-1]],[0.5, 0.5], linestyle = ':', color = 'k')\n",
    "#     ax.set_ylim([y_vals[-1]-1, y_vals[0]+1])\n",
    "#     ax1.spines['bottom'].set_bounds(50, 100)\n",
    "#     ax1.set_xticks([75])\n",
    "#     ax1.set_xticklabels(['50 trials'])\n",
    "#     ax1.tick_params(axis='x', length=0)\n",
    "#     ax1.set_yticks([0.,0.5,1.0])\n",
    "#     fig.subplots_adjust(left = 0.3, right = 0.9, hspace = .1)\n",
    "#     return fig\n"
   ]
  },
  {
   "cell_type": "code",
   "execution_count": 42,
   "metadata": {},
   "outputs": [
    {
     "data": {
      "image/png": "[encoded data removed]",
      "text/plain": [
       "<Figure size 468x180 with 1 Axes>"
      ]
     },
     "metadata": {
      "needs_background": "light"
     },
     "output_type": "display_data"
    }
   ],
   "source": [
    "df = beh_grouped.get_group(('EF0076', '01-03-16'))\n",
    "fig = plot_session_perf(df, labels = True)\n",
    "fig.savefig('ex1.pdf', format='pdf', dpi=900, transparent = True)"
   ]
  },
  {
   "cell_type": "code",
   "execution_count": 43,
   "metadata": {},
   "outputs": [
    {
     "data": {
      "image/png": "[encoded data removed]",
      "text/plain": [
       "<Figure size 468x180 with 1 Axes>"
      ]
     },
     "metadata": {
      "needs_background": "light"
     },
     "output_type": "display_data"
    }
   ],
   "source": [
    "df = beh_grouped.get_group(('EF0076', '01-29-16'))\n",
    "df = df.loc[(df['trial_num']>2), :]\n",
    "fig = plot_session_perf(df)\n",
    "fig.savefig('ex2.pdf', format='pdf', dpi=900, transparent = True)"
   ]
  },
  {
   "cell_type": "code",
   "execution_count": 44,
   "metadata": {},
   "outputs": [
    {
     "data": {
      "image/png": "[encoded data removed]",
      "text/plain": [
       "<Figure size 468x180 with 1 Axes>"
      ]
     },
     "metadata": {
      "needs_background": "light"
     },
     "output_type": "display_data"
    }
   ],
   "source": [
    "df = beh_grouped.get_group(('EF0076', '02-15-16'))\n",
    "df = df.loc[(df['trial_num']>2), :]\n",
    "fig = plot_session_perf(df)\n",
    "fig.savefig('ex3.pdf', format='pdf', dpi=900, transparent = True)"
   ]
  },
  {
   "cell_type": "code",
   "execution_count": null,
   "metadata": {},
   "outputs": [],
   "source": []
  }
 ],
 "metadata": {
  "kernelspec": {
   "display_name": "Python 3 (ipykernel)",
   "language": "python",
   "name": "python3"
  },
  "language_info": {
   "codemirror_mode": {
    "name": "ipython",
    "version": 3
   },
   "file_extension": ".py",
   "mimetype": "text/x-python",
   "name": "python",
   "nbconvert_exporter": "python",
   "pygments_lexer": "ipython3",
   "version": "3.9.6"
  }
 },
 "nbformat": 4,
 "nbformat_minor": 4
}

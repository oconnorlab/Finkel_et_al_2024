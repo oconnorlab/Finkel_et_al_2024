{
 "cells": [
  {
   "cell_type": "code",
   "execution_count": 1,
   "id": "8a0012c3-436a-41a3-bc6e-b896eaf6542e",
   "metadata": {},
   "outputs": [],
   "source": [
    "import dask\n",
    "from dask.diagnostics import ProgressBar\n",
    "from dask.distributed import Client"
   ]
  },
  {
   "cell_type": "code",
   "execution_count": 4,
   "id": "b7f7d874-7251-4888-93bc-39f56b25472e",
   "metadata": {},
   "outputs": [],
   "source": [
    "import scipy as sp\n",
    "import scipy.io\n",
    "import os\n",
    "import numpy as np\n",
    "import pandas as pd\n",
    "import glob\n",
    "import csv\n",
    "import random as rand\n",
    "from tqdm import tnrange, tqdm_notebook\n",
    "from collections import Iterable\n",
    "import matplotlib.pylab as plt\n",
    "from matplotlib import patches\n",
    "import random as rand\n",
    "from ipywidgets import *\n",
    "import colorlover as cl\n",
    "from scipy import stats\n",
    "import importlib\n",
    "import sys\n",
    "sys.path.append('../')\n",
    "from utils import utils, zscores\n",
    "from tqdm.notebook import tqdm\n",
    "import h5py\n",
    "import matplotlib as mpl\n",
    "font = {'family' : 'Arial',\n",
    "        'weight' : 'normal',\n",
    "        'size'   : 16}\n",
    "\n",
    "mpl.rc('font', **font)\n",
    "mpl.rc('xtick', labelsize=16) \n",
    "mpl.rc('ytick', labelsize=16)\n",
    "mpl.rc('axes', labelsize=16)\n",
    "\n",
    "mpl.rcParams['pdf.fonttype'] = 42\n",
    "mpl.rcParams['ps.fonttype'] = 42"
   ]
  },
  {
   "cell_type": "code",
   "execution_count": 5,
   "id": "dfd27f64-67d6-43f1-86c3-ebf51a3f84d4",
   "metadata": {},
   "outputs": [],
   "source": [
    "os.chdir(r'C:\\Users\\Eric\\Documents\\09-12-2021\\Data\\crossmodal_only')"
   ]
  },
  {
   "cell_type": "code",
   "execution_count": null,
   "id": "d1681154-2ea9-46f2-8805-23e7b70d0060",
   "metadata": {},
   "outputs": [],
   "source": []
  },
  {
   "cell_type": "code",
   "execution_count": 6,
   "id": "9531b5f4-c6f0-4c1e-9994-a4829f54537a",
   "metadata": {},
   "outputs": [
    {
     "data": {
      "text/html": [
       "<div>\n",
       "<style scoped>\n",
       "    .dataframe tbody tr th:only-of-type {\n",
       "        vertical-align: middle;\n",
       "    }\n",
       "\n",
       "    .dataframe tbody tr th {\n",
       "        vertical-align: top;\n",
       "    }\n",
       "\n",
       "    .dataframe thead th {\n",
       "        text-align: right;\n",
       "    }\n",
       "</style>\n",
       "<table border=\"1\" class=\"dataframe\">\n",
       "  <thead>\n",
       "    <tr style=\"text-align: right;\">\n",
       "      <th></th>\n",
       "      <th>mouse_name</th>\n",
       "      <th>date</th>\n",
       "      <th>block_type</th>\n",
       "      <th>stim_type</th>\n",
       "      <th>trial_num</th>\n",
       "      <th>touch_stim</th>\n",
       "      <th>vis_stim</th>\n",
       "      <th>resp</th>\n",
       "    </tr>\n",
       "  </thead>\n",
       "  <tbody>\n",
       "    <tr>\n",
       "      <th>0</th>\n",
       "      <td>EF0147</td>\n",
       "      <td>12-04-18</td>\n",
       "      <td>Visual</td>\n",
       "      <td>Stim_Vis_NoCue</td>\n",
       "      <td>1</td>\n",
       "      <td>SineAmp0p875Freq20Cyc3</td>\n",
       "      <td>Amp0p5Dur0p150</td>\n",
       "      <td>1</td>\n",
       "    </tr>\n",
       "    <tr>\n",
       "      <th>1</th>\n",
       "      <td>EF0147</td>\n",
       "      <td>12-04-18</td>\n",
       "      <td>Visual</td>\n",
       "      <td>Stim_Som_NoCue</td>\n",
       "      <td>2</td>\n",
       "      <td>SineAmp0p875Freq20Cyc3</td>\n",
       "      <td>Amp0p5Dur0p150</td>\n",
       "      <td>1</td>\n",
       "    </tr>\n",
       "    <tr>\n",
       "      <th>2</th>\n",
       "      <td>EF0147</td>\n",
       "      <td>12-04-18</td>\n",
       "      <td>Visual</td>\n",
       "      <td>Stim_Som_NoCue</td>\n",
       "      <td>3</td>\n",
       "      <td>SineAmp0p875Freq20Cyc3</td>\n",
       "      <td>Amp0p5Dur0p150</td>\n",
       "      <td>2</td>\n",
       "    </tr>\n",
       "    <tr>\n",
       "      <th>3</th>\n",
       "      <td>EF0147</td>\n",
       "      <td>12-04-18</td>\n",
       "      <td>Visual</td>\n",
       "      <td>Stim_Vis_NoCue</td>\n",
       "      <td>4</td>\n",
       "      <td>SineAmp0p875Freq20Cyc3</td>\n",
       "      <td>Amp0p5Dur0p150</td>\n",
       "      <td>3</td>\n",
       "    </tr>\n",
       "    <tr>\n",
       "      <th>4</th>\n",
       "      <td>EF0147</td>\n",
       "      <td>12-04-18</td>\n",
       "      <td>Visual</td>\n",
       "      <td>Stim_Vis_NoCue</td>\n",
       "      <td>5</td>\n",
       "      <td>SineAmp0p875Freq20Cyc3</td>\n",
       "      <td>Amp0p5Dur0p150</td>\n",
       "      <td>2</td>\n",
       "    </tr>\n",
       "  </tbody>\n",
       "</table>\n",
       "</div>"
      ],
      "text/plain": [
       "  mouse_name      date block_type       stim_type  trial_num  \\\n",
       "0     EF0147  12-04-18     Visual  Stim_Vis_NoCue          1   \n",
       "1     EF0147  12-04-18     Visual  Stim_Som_NoCue          2   \n",
       "2     EF0147  12-04-18     Visual  Stim_Som_NoCue          3   \n",
       "3     EF0147  12-04-18     Visual  Stim_Vis_NoCue          4   \n",
       "4     EF0147  12-04-18     Visual  Stim_Vis_NoCue          5   \n",
       "\n",
       "               touch_stim        vis_stim  resp  \n",
       "0  SineAmp0p875Freq20Cyc3  Amp0p5Dur0p150     1  \n",
       "1  SineAmp0p875Freq20Cyc3  Amp0p5Dur0p150     1  \n",
       "2  SineAmp0p875Freq20Cyc3  Amp0p5Dur0p150     2  \n",
       "3  SineAmp0p875Freq20Cyc3  Amp0p5Dur0p150     3  \n",
       "4  SineAmp0p875Freq20Cyc3  Amp0p5Dur0p150     2  "
      ]
     },
     "execution_count": 6,
     "metadata": {},
     "output_type": "execute_result"
    }
   ],
   "source": [
    "log = sp.io.loadmat('S1_microstim_log.mat')\n",
    "cols = ['mouse_name', 'date', 'block_type', 'stim_type', 'trial_num','touch_stim', 'vis_stim', 'resp']\n",
    "beh_log = pd.DataFrame(log['all_session_beh'], columns = cols).applymap(lambda x: x[0])\n",
    "beh_log[['trial_num','resp']] = beh_log[['trial_num','resp']].applymap(lambda x: x[0])\n",
    "\n",
    "beh_log['mouse_name'] = beh_log['mouse_name'].apply(lambda x: x[-6:])\n",
    "beh_log = beh_log[~(beh_log['block_type'] == 'Change')]\n",
    "beh_log.head()"
   ]
  },
  {
   "cell_type": "code",
   "execution_count": 7,
   "id": "e6562aad-9435-4df9-8d40-80295118dc62",
   "metadata": {},
   "outputs": [],
   "source": [
    "# logs = []\n",
    "# for mouse in beh_log['mouse_name'].unique():\n",
    "#     mouse_dates = mice.loc[mice['mouse_name'] == mouse, 'date'].values\n",
    "#     for f in glob.glob(f'Log_{mouse}*'):\n",
    "#         log = sp.io.loadmat(f)['log']\n",
    "#         if np.isin(log[0][1][0], mouse_dates):\n",
    "#             logs.append(pd.DataFrame(log))\n",
    "\n",
    "# raw_logs = pd.concat(logs)\n",
    "# raw_logs = raw_logs.applymap(lambda x: np.squeeze(x))\n",
    "# raw_logs.iloc[:, 7:] = (raw_logs.iloc[:, 7:]\n",
    "#                         .applymap(lambda x: np.squeeze(x)))"
   ]
  },
  {
   "cell_type": "code",
   "execution_count": 8,
   "id": "ca4a2e24-7236-431c-873c-b3ba9359fe95",
   "metadata": {},
   "outputs": [],
   "source": [
    "# cols = [\n",
    "#     'mouse_name',\n",
    "#     'date',\n",
    "#     'block_type',\n",
    "#     'stim_type',\n",
    "#     'stim_intes',\n",
    "#     'stim_intes2',\n",
    "#     'resp',\n",
    "#     'trial_num',\n",
    "#     'trial_start',\n",
    "#     'stim_onset',\n",
    "#     'stim_offset',\n",
    "#     'licks_right',\n",
    "#     'licks_left',\n",
    "#     'units'\n",
    "# ]\n",
    "\n",
    "# raw_logs.columns = cols\n",
    "# raw_logs = raw_logs.drop(['stim_intes', 'stim_intes2', 'units'], axis = 1)"
   ]
  },
  {
   "cell_type": "code",
   "execution_count": 9,
   "id": "651e47a5-e973-4e18-9950-4b26f0cdc47b",
   "metadata": {},
   "outputs": [],
   "source": [
    "# raw_logs.loc[:, ['licks_right', 'licks_left']] =  raw_logs[['licks_right', 'licks_left']].applymap(lambda x: x.tolist() if isinstance(x, np.ndarray) else [x])"
   ]
  },
  {
   "cell_type": "code",
   "execution_count": 10,
   "id": "0d1c6475-25a7-412f-b11e-2a7e201e7b80",
   "metadata": {},
   "outputs": [],
   "source": [
    "# all_licks = []\n",
    "# for _, licks in raw_logs[['licks_right', 'licks_left']].iterrows():\n",
    "#     trial_licks = []\n",
    "#     if len(licks['licks_right']) > 0:\n",
    "#         trial_licks.extend(licks['licks_right'])\n",
    "    \n",
    "#     if len(licks['licks_left']) > 0:\n",
    "#         trial_licks.extend(licks['licks_left'])\n",
    "        \n",
    "#     all_licks.append(np.sort(trial_licks))\n",
    "\n",
    "# raw_logs['all_licks'] = all_licks"
   ]
  },
  {
   "cell_type": "code",
   "execution_count": 11,
   "id": "9ef1c47e-f27e-43f1-b825-5fcdf3a1d2ab",
   "metadata": {},
   "outputs": [],
   "source": [
    "# aligned_licks = []\n",
    "# for _, trial in raw_logs.iterrows():\n",
    "#     if (len(trial['all_licks']) > 0) & isinstance(trial['stim_onset'], float):\n",
    "#         aligned_licks.append(np.array(trial['all_licks']) - trial['stim_onset'])\n",
    "#     else:\n",
    "#         aligned_licks.append(np.nan)\n",
    "        \n",
    "# raw_logs['aligned_licks'] = aligned_licks\n",
    "# raw_logs['aligned_licks'] = raw_logs['aligned_licks'].apply(lambda x: x[x>=0.1] if x is not np.nan else np.nan)"
   ]
  },
  {
   "cell_type": "code",
   "execution_count": 12,
   "id": "ea0348b8-3e49-474b-af32-ffbc07ced301",
   "metadata": {},
   "outputs": [],
   "source": [
    "beh_log['correct'] = 0\n",
    "match = (((beh_log['block_type'] == 'Whisker') & (beh_log['stim_type'].str.contains('Som|catch', regex = True))) | \n",
    "         ((beh_log['block_type'] == 'Visual') & (beh_log['stim_type'].str.contains('Vis'))))\n",
    "\n",
    "correct = (match & beh_log['resp'].isin([1,2])) | (~match & (beh_log['resp'] == 0))\n",
    "\n",
    "beh_log.loc[correct, 'correct'] = 1"
   ]
  },
  {
   "cell_type": "code",
   "execution_count": 13,
   "id": "9819a57d-2f3c-4776-9241-a55b6686c228",
   "metadata": {},
   "outputs": [],
   "source": [
    "beh_log = beh_log.groupby(['mouse_name', 'date']).apply(lambda x: x.sort_values(['trial_num'])).reset_index(drop=True)"
   ]
  },
  {
   "cell_type": "code",
   "execution_count": 14,
   "id": "a7860595-2295-4589-9206-68f36b2935ec",
   "metadata": {},
   "outputs": [],
   "source": [
    "sham = {'EF0147': ['12-14-18', '12-15-18', '12-17-18'], \n",
    "        'EF0148':['12-10-18', '12-17-18'], \n",
    "        'EF0149': ['12-11-18', '12-14-18', '12-16-18'],\n",
    "        'EF0150': ['12-17-18', '12-19-18', '12-20-18', '12-21-18']}\n",
    "\n",
    "stim = {'EF0147': ['12-11-18', '12-13-18', '12-16-18'], \n",
    "        'EF0148':['12-11-18', '12-14-18', '12-16-18'], \n",
    "        'EF0149': ['12-13-18', '12-15-18', '12-17-18'],\n",
    "        'EF0150': ['12-13-18', '12-18-18', '12-28-18']}\n"
   ]
  },
  {
   "cell_type": "code",
   "execution_count": 15,
   "id": "3c37b6c7-0ec8-4ada-883b-ba34ceebcc08",
   "metadata": {},
   "outputs": [],
   "source": [
    "sham_days = pd.concat([pd.DataFrame({mouse:dates}).stack() for mouse, dates in sham.items()])\n",
    "stim_days = pd.concat([pd.DataFrame({mouse:dates}).stack() for mouse, dates in stim.items()])\n",
    "sham_days = sham_days.reset_index().drop('level_0', axis = 1)\n",
    "stim_days = stim_days.reset_index().drop('level_0', axis = 1)\n",
    "\n",
    "sham_days['session_type'] = 'sham'\n",
    "stim_days['session_type'] = 'stim'\n",
    "\n",
    "test_days = pd.concat([stim_days,sham_days])\n",
    "test_days = test_days.rename(columns = {'level_1': 'mouse_name', 0:'date'})\n",
    "beh_log_test = beh_log.merge(test_days, on = ['mouse_name', 'date'])"
   ]
  },
  {
   "cell_type": "code",
   "execution_count": 16,
   "id": "70443ea3-8b34-4590-a501-7e637ad1169e",
   "metadata": {},
   "outputs": [
    {
     "data": {
      "text/plain": [
       "array(['stim', 'sham'], dtype=object)"
      ]
     },
     "execution_count": 16,
     "metadata": {},
     "output_type": "execute_result"
    }
   ],
   "source": [
    "beh_log_test['session_type'].unique()"
   ]
  },
  {
   "cell_type": "code",
   "execution_count": 17,
   "id": "29667b44-3a80-4d24-a788-a1724e32d3e0",
   "metadata": {},
   "outputs": [],
   "source": [
    "correct_resp = beh_log_test[(beh_log_test['resp'] > 0) & (beh_log_test['correct'] == 1)]"
   ]
  },
  {
   "cell_type": "code",
   "execution_count": 18,
   "id": "c96df575-706c-408b-91f4-ded5f306cb79",
   "metadata": {},
   "outputs": [
    {
     "data": {
      "text/html": [
       "<div>\n",
       "<style scoped>\n",
       "    .dataframe tbody tr th:only-of-type {\n",
       "        vertical-align: middle;\n",
       "    }\n",
       "\n",
       "    .dataframe tbody tr th {\n",
       "        vertical-align: top;\n",
       "    }\n",
       "\n",
       "    .dataframe thead th {\n",
       "        text-align: right;\n",
       "    }\n",
       "</style>\n",
       "<table border=\"1\" class=\"dataframe\">\n",
       "  <thead>\n",
       "    <tr style=\"text-align: right;\">\n",
       "      <th></th>\n",
       "      <th>mouse_name</th>\n",
       "      <th>date</th>\n",
       "      <th>block_type</th>\n",
       "      <th>stim_type</th>\n",
       "      <th>trial_num</th>\n",
       "      <th>touch_stim</th>\n",
       "      <th>vis_stim</th>\n",
       "      <th>resp</th>\n",
       "      <th>correct</th>\n",
       "      <th>session_type</th>\n",
       "    </tr>\n",
       "  </thead>\n",
       "  <tbody>\n",
       "    <tr>\n",
       "      <th>89</th>\n",
       "      <td>EF0147</td>\n",
       "      <td>12-11-18</td>\n",
       "      <td>Visual</td>\n",
       "      <td>Stim_Vis_NoCue</td>\n",
       "      <td>90</td>\n",
       "      <td>SineAmp0p875Freq20Cyc3</td>\n",
       "      <td>Amp0p5Dur0p150</td>\n",
       "      <td>1</td>\n",
       "      <td>1</td>\n",
       "      <td>stim</td>\n",
       "    </tr>\n",
       "    <tr>\n",
       "      <th>97</th>\n",
       "      <td>EF0147</td>\n",
       "      <td>12-11-18</td>\n",
       "      <td>Visual</td>\n",
       "      <td>Stim_Vis_NoCue</td>\n",
       "      <td>99</td>\n",
       "      <td>SineAmp0p875Freq20Cyc3</td>\n",
       "      <td>Amp0p5Dur0p150</td>\n",
       "      <td>2</td>\n",
       "      <td>1</td>\n",
       "      <td>stim</td>\n",
       "    </tr>\n",
       "    <tr>\n",
       "      <th>99</th>\n",
       "      <td>EF0147</td>\n",
       "      <td>12-11-18</td>\n",
       "      <td>Visual</td>\n",
       "      <td>Stim_Vis_NoCue</td>\n",
       "      <td>101</td>\n",
       "      <td>SineAmp0p875Freq20Cyc3</td>\n",
       "      <td>Amp0p5Dur0p150</td>\n",
       "      <td>2</td>\n",
       "      <td>1</td>\n",
       "      <td>stim</td>\n",
       "    </tr>\n",
       "    <tr>\n",
       "      <th>100</th>\n",
       "      <td>EF0147</td>\n",
       "      <td>12-11-18</td>\n",
       "      <td>Visual</td>\n",
       "      <td>Stim_Vis_NoCue</td>\n",
       "      <td>102</td>\n",
       "      <td>SineAmp0p875Freq20Cyc3</td>\n",
       "      <td>Amp0p5Dur0p150</td>\n",
       "      <td>2</td>\n",
       "      <td>1</td>\n",
       "      <td>stim</td>\n",
       "    </tr>\n",
       "    <tr>\n",
       "      <th>102</th>\n",
       "      <td>EF0147</td>\n",
       "      <td>12-11-18</td>\n",
       "      <td>Visual</td>\n",
       "      <td>Stim_Vis_NoCue</td>\n",
       "      <td>104</td>\n",
       "      <td>SineAmp0p875Freq20Cyc3</td>\n",
       "      <td>Amp0p5Dur0p150</td>\n",
       "      <td>2</td>\n",
       "      <td>1</td>\n",
       "      <td>stim</td>\n",
       "    </tr>\n",
       "    <tr>\n",
       "      <th>...</th>\n",
       "      <td>...</td>\n",
       "      <td>...</td>\n",
       "      <td>...</td>\n",
       "      <td>...</td>\n",
       "      <td>...</td>\n",
       "      <td>...</td>\n",
       "      <td>...</td>\n",
       "      <td>...</td>\n",
       "      <td>...</td>\n",
       "      <td>...</td>\n",
       "    </tr>\n",
       "    <tr>\n",
       "      <th>7542</th>\n",
       "      <td>EF0150</td>\n",
       "      <td>12-28-18</td>\n",
       "      <td>Visual</td>\n",
       "      <td>Stim_Vis_NoCue</td>\n",
       "      <td>322</td>\n",
       "      <td>SineAmp0p875Freq20Cyc3</td>\n",
       "      <td>Amp0p5Dur0p150</td>\n",
       "      <td>2</td>\n",
       "      <td>1</td>\n",
       "      <td>stim</td>\n",
       "    </tr>\n",
       "    <tr>\n",
       "      <th>7546</th>\n",
       "      <td>EF0150</td>\n",
       "      <td>12-28-18</td>\n",
       "      <td>Visual</td>\n",
       "      <td>Stim_Vis_NoCue</td>\n",
       "      <td>326</td>\n",
       "      <td>SineAmp0p875Freq20Cyc3</td>\n",
       "      <td>Amp0p5Dur0p150</td>\n",
       "      <td>2</td>\n",
       "      <td>1</td>\n",
       "      <td>stim</td>\n",
       "    </tr>\n",
       "    <tr>\n",
       "      <th>7553</th>\n",
       "      <td>EF0150</td>\n",
       "      <td>12-28-18</td>\n",
       "      <td>Visual</td>\n",
       "      <td>Stim_Vis_NoCue</td>\n",
       "      <td>333</td>\n",
       "      <td>SineAmp0p875Freq20Cyc3</td>\n",
       "      <td>Amp0p5Dur0p150</td>\n",
       "      <td>2</td>\n",
       "      <td>1</td>\n",
       "      <td>stim</td>\n",
       "    </tr>\n",
       "    <tr>\n",
       "      <th>7555</th>\n",
       "      <td>EF0150</td>\n",
       "      <td>12-28-18</td>\n",
       "      <td>Visual</td>\n",
       "      <td>Stim_Vis_NoCue</td>\n",
       "      <td>335</td>\n",
       "      <td>SineAmp0p875Freq20Cyc3</td>\n",
       "      <td>Amp0p5Dur0p150</td>\n",
       "      <td>2</td>\n",
       "      <td>1</td>\n",
       "      <td>stim</td>\n",
       "    </tr>\n",
       "    <tr>\n",
       "      <th>7559</th>\n",
       "      <td>EF0150</td>\n",
       "      <td>12-28-18</td>\n",
       "      <td>Visual</td>\n",
       "      <td>Stim_Vis_NoCue</td>\n",
       "      <td>339</td>\n",
       "      <td>SineAmp0p875Freq20Cyc3</td>\n",
       "      <td>Amp0p5Dur0p150</td>\n",
       "      <td>2</td>\n",
       "      <td>1</td>\n",
       "      <td>stim</td>\n",
       "    </tr>\n",
       "  </tbody>\n",
       "</table>\n",
       "<p>1181 rows × 10 columns</p>\n",
       "</div>"
      ],
      "text/plain": [
       "     mouse_name      date block_type       stim_type  trial_num  \\\n",
       "89       EF0147  12-11-18     Visual  Stim_Vis_NoCue         90   \n",
       "97       EF0147  12-11-18     Visual  Stim_Vis_NoCue         99   \n",
       "99       EF0147  12-11-18     Visual  Stim_Vis_NoCue        101   \n",
       "100      EF0147  12-11-18     Visual  Stim_Vis_NoCue        102   \n",
       "102      EF0147  12-11-18     Visual  Stim_Vis_NoCue        104   \n",
       "...         ...       ...        ...             ...        ...   \n",
       "7542     EF0150  12-28-18     Visual  Stim_Vis_NoCue        322   \n",
       "7546     EF0150  12-28-18     Visual  Stim_Vis_NoCue        326   \n",
       "7553     EF0150  12-28-18     Visual  Stim_Vis_NoCue        333   \n",
       "7555     EF0150  12-28-18     Visual  Stim_Vis_NoCue        335   \n",
       "7559     EF0150  12-28-18     Visual  Stim_Vis_NoCue        339   \n",
       "\n",
       "                  touch_stim        vis_stim  resp  correct session_type  \n",
       "89    SineAmp0p875Freq20Cyc3  Amp0p5Dur0p150     1        1         stim  \n",
       "97    SineAmp0p875Freq20Cyc3  Amp0p5Dur0p150     2        1         stim  \n",
       "99    SineAmp0p875Freq20Cyc3  Amp0p5Dur0p150     2        1         stim  \n",
       "100   SineAmp0p875Freq20Cyc3  Amp0p5Dur0p150     2        1         stim  \n",
       "102   SineAmp0p875Freq20Cyc3  Amp0p5Dur0p150     2        1         stim  \n",
       "...                      ...             ...   ...      ...          ...  \n",
       "7542  SineAmp0p875Freq20Cyc3  Amp0p5Dur0p150     2        1         stim  \n",
       "7546  SineAmp0p875Freq20Cyc3  Amp0p5Dur0p150     2        1         stim  \n",
       "7553  SineAmp0p875Freq20Cyc3  Amp0p5Dur0p150     2        1         stim  \n",
       "7555  SineAmp0p875Freq20Cyc3  Amp0p5Dur0p150     2        1         stim  \n",
       "7559  SineAmp0p875Freq20Cyc3  Amp0p5Dur0p150     2        1         stim  \n",
       "\n",
       "[1181 rows x 10 columns]"
      ]
     },
     "execution_count": 18,
     "metadata": {},
     "output_type": "execute_result"
    }
   ],
   "source": [
    "vis = correct_resp.loc[correct_resp['stim_type'] == 'Stim_Vis_NoCue']\n",
    "vis"
   ]
  },
  {
   "cell_type": "markdown",
   "id": "e0764d0e-0609-4526-836e-ad72c111f5b8",
   "metadata": {},
   "source": [
    "## Get into the raw data"
   ]
  },
  {
   "cell_type": "code",
   "execution_count": 19,
   "id": "c150db64-7e73-49d3-b1ba-92ad3c5137ba",
   "metadata": {},
   "outputs": [],
   "source": [
    "import glob"
   ]
  },
  {
   "cell_type": "code",
   "execution_count": 20,
   "id": "61fda952-5c53-4ec9-a4d8-1cd92dc7f37a",
   "metadata": {},
   "outputs": [],
   "source": [
    "filenames = glob.glob(\"C:/Users/Eric/Documents/09-12-2021/DATA/Crossmodal_only/s1_activation_raw_data/*/cat_session*\")"
   ]
  },
  {
   "cell_type": "code",
   "execution_count": 21,
   "id": "a8be5f43-2a35-40cf-be0c-781505c5c737",
   "metadata": {},
   "outputs": [],
   "source": [
    "def get_trial_lick_times(session, trialNum):\n",
    "    trial_inds = [session['timeTrialNumber']==trialNum]\n",
    "    within_time = session['timeWithinTrial'][trial_inds]\n",
    "    raw_time = np.ravel(session['Time'][trial_inds])\n",
    "    stimOnsetArray = np.ravel(session['stimOnset'])[trial_inds]\n",
    "    stimOnset = within_time[stimOnsetArray==1]\n",
    "    stimOffset = within_time[stimOnsetArray==2]\n",
    "    optiStim = within_time[np.isin(raw_time, session['optoStimOnsetTime'])]\n",
    "    rLickTimes = within_time[np.isin(raw_time, session['rLickTimes'])]\n",
    "    lLickTimes = within_time[np.isin(raw_time, session['lLickTimes'])]\n",
    "    lLickTimes = within_time[np.isin(raw_time, session['lLickTimes'])]\n",
    "    \n",
    "    if (MouseName == 'EF0149') & (date =='12-17-18'):\n",
    "        #this data was preprocessed using wrong script - manually modify data:\n",
    "        trialNum = trialNum-2\n",
    "        \n",
    "    return {'trial_num': trialNum, \n",
    "            'stim_onset': stimOnset, \n",
    "            'stim_offset': stimOffset, \n",
    "            'rLickTimes': rLickTimes,\n",
    "            'lLickTimes': lLickTimes,\n",
    "            'optoStim': optiStim\n",
    "           }"
   ]
  },
  {
   "cell_type": "code",
   "execution_count": 22,
   "id": "ffff42dd-59a8-4b04-a68b-fd049761c9e5",
   "metadata": {},
   "outputs": [
    {
     "data": {
      "application/vnd.jupyter.widget-view+json": {
       "model_id": "3be0a235fdfa430b958174caa4add0bb",
       "version_major": 2,
       "version_minor": 0
      },
      "text/plain": [
       "  0%|          | 0/24 [00:00<?, ?it/s]"
      ]
     },
     "metadata": {},
     "output_type": "display_data"
    },
    {
     "data": {
      "application/vnd.jupyter.widget-view+json": {
       "model_id": "be111c5d1f6346cf9df6ab1d3053eab3",
       "version_major": 2,
       "version_minor": 0
      },
      "text/plain": [
       "  0%|          | 0/265 [00:00<?, ?it/s]"
      ]
     },
     "metadata": {},
     "output_type": "display_data"
    },
    {
     "name": "stderr",
     "output_type": "stream",
     "text": [
      "C:\\Users\\Eric\\AppData\\Local\\Temp/ipykernel_624/1111256542.py:3: FutureWarning: Using a non-tuple sequence for multidimensional indexing is deprecated; use `arr[tuple(seq)]` instead of `arr[seq]`. In the future this will be interpreted as an array index, `arr[np.array(seq)]`, which will result either in an error or a different result.\n",
      "  within_time = session['timeWithinTrial'][trial_inds]\n",
      "C:\\Users\\Eric\\AppData\\Local\\Temp/ipykernel_624/1111256542.py:4: FutureWarning: Using a non-tuple sequence for multidimensional indexing is deprecated; use `arr[tuple(seq)]` instead of `arr[seq]`. In the future this will be interpreted as an array index, `arr[np.array(seq)]`, which will result either in an error or a different result.\n",
      "  raw_time = np.ravel(session['Time'][trial_inds])\n",
      "C:\\Users\\Eric\\AppData\\Local\\Temp/ipykernel_624/1111256542.py:5: FutureWarning: Using a non-tuple sequence for multidimensional indexing is deprecated; use `arr[tuple(seq)]` instead of `arr[seq]`. In the future this will be interpreted as an array index, `arr[np.array(seq)]`, which will result either in an error or a different result.\n",
      "  stimOnsetArray = np.ravel(session['stimOnset'])[trial_inds]\n"
     ]
    },
    {
     "data": {
      "application/vnd.jupyter.widget-view+json": {
       "model_id": "441f44fea17a4ab79fd3221ceebd00d6",
       "version_major": 2,
       "version_minor": 0
      },
      "text/plain": [
       "  0%|          | 0/307 [00:00<?, ?it/s]"
      ]
     },
     "metadata": {},
     "output_type": "display_data"
    },
    {
     "data": {
      "application/vnd.jupyter.widget-view+json": {
       "model_id": "9d934d5643ae437cb5818404c4b48f0b",
       "version_major": 2,
       "version_minor": 0
      },
      "text/plain": [
       "  0%|          | 0/314 [00:00<?, ?it/s]"
      ]
     },
     "metadata": {},
     "output_type": "display_data"
    },
    {
     "data": {
      "application/vnd.jupyter.widget-view+json": {
       "model_id": "ec20089b9c43463dbd9d2455419c9c4b",
       "version_major": 2,
       "version_minor": 0
      },
      "text/plain": [
       "  0%|          | 0/253 [00:00<?, ?it/s]"
      ]
     },
     "metadata": {},
     "output_type": "display_data"
    },
    {
     "data": {
      "application/vnd.jupyter.widget-view+json": {
       "model_id": "2c89997898aa4fdca398c03368db47f0",
       "version_major": 2,
       "version_minor": 0
      },
      "text/plain": [
       "  0%|          | 0/325 [00:00<?, ?it/s]"
      ]
     },
     "metadata": {},
     "output_type": "display_data"
    },
    {
     "data": {
      "application/vnd.jupyter.widget-view+json": {
       "model_id": "c1fe48aeb1e14e07aed64e6c680457f2",
       "version_major": 2,
       "version_minor": 0
      },
      "text/plain": [
       "  0%|          | 0/365 [00:00<?, ?it/s]"
      ]
     },
     "metadata": {},
     "output_type": "display_data"
    },
    {
     "data": {
      "application/vnd.jupyter.widget-view+json": {
       "model_id": "ef47efc82b3e4d0283fa181ee0955754",
       "version_major": 2,
       "version_minor": 0
      },
      "text/plain": [
       "  0%|          | 0/326 [00:00<?, ?it/s]"
      ]
     },
     "metadata": {},
     "output_type": "display_data"
    },
    {
     "data": {
      "application/vnd.jupyter.widget-view+json": {
       "model_id": "34ec77bdd4064454b15b9d3f1dfc5ebb",
       "version_major": 2,
       "version_minor": 0
      },
      "text/plain": [
       "  0%|          | 0/347 [00:00<?, ?it/s]"
      ]
     },
     "metadata": {},
     "output_type": "display_data"
    },
    {
     "data": {
      "application/vnd.jupyter.widget-view+json": {
       "model_id": "857050232b464d95a3ac2c49101e5d2a",
       "version_major": 2,
       "version_minor": 0
      },
      "text/plain": [
       "  0%|          | 0/223 [00:00<?, ?it/s]"
      ]
     },
     "metadata": {},
     "output_type": "display_data"
    },
    {
     "data": {
      "application/vnd.jupyter.widget-view+json": {
       "model_id": "dc7193cd2e9b4544afdb3eb3e938431a",
       "version_major": 2,
       "version_minor": 0
      },
      "text/plain": [
       "  0%|          | 0/218 [00:00<?, ?it/s]"
      ]
     },
     "metadata": {},
     "output_type": "display_data"
    },
    {
     "data": {
      "application/vnd.jupyter.widget-view+json": {
       "model_id": "bc29c369765c45f489c8b6669109dd22",
       "version_major": 2,
       "version_minor": 0
      },
      "text/plain": [
       "  0%|          | 0/309 [00:00<?, ?it/s]"
      ]
     },
     "metadata": {},
     "output_type": "display_data"
    },
    {
     "data": {
      "application/vnd.jupyter.widget-view+json": {
       "model_id": "922fbefbdb7349cbb0ffd1971b9280f0",
       "version_major": 2,
       "version_minor": 0
      },
      "text/plain": [
       "  0%|          | 0/316 [00:00<?, ?it/s]"
      ]
     },
     "metadata": {},
     "output_type": "display_data"
    },
    {
     "data": {
      "application/vnd.jupyter.widget-view+json": {
       "model_id": "60294625e5c94d33bf1fbe08c43416f4",
       "version_major": 2,
       "version_minor": 0
      },
      "text/plain": [
       "  0%|          | 0/290 [00:00<?, ?it/s]"
      ]
     },
     "metadata": {},
     "output_type": "display_data"
    },
    {
     "data": {
      "application/vnd.jupyter.widget-view+json": {
       "model_id": "ccb9f326fa6742fb9ca36a4ff15d0545",
       "version_major": 2,
       "version_minor": 0
      },
      "text/plain": [
       "  0%|          | 0/264 [00:00<?, ?it/s]"
      ]
     },
     "metadata": {},
     "output_type": "display_data"
    },
    {
     "data": {
      "application/vnd.jupyter.widget-view+json": {
       "model_id": "1491068459164126a1f5c45a492d137f",
       "version_major": 2,
       "version_minor": 0
      },
      "text/plain": [
       "  0%|          | 0/389 [00:00<?, ?it/s]"
      ]
     },
     "metadata": {},
     "output_type": "display_data"
    },
    {
     "data": {
      "application/vnd.jupyter.widget-view+json": {
       "model_id": "06c0da7e248e4a7b8c28a585e289c733",
       "version_major": 2,
       "version_minor": 0
      },
      "text/plain": [
       "  0%|          | 0/299 [00:00<?, ?it/s]"
      ]
     },
     "metadata": {},
     "output_type": "display_data"
    },
    {
     "data": {
      "application/vnd.jupyter.widget-view+json": {
       "model_id": "6276d5716be54fbe8bd94f337b3aacfb",
       "version_major": 2,
       "version_minor": 0
      },
      "text/plain": [
       "  0%|          | 0/333 [00:00<?, ?it/s]"
      ]
     },
     "metadata": {},
     "output_type": "display_data"
    },
    {
     "data": {
      "application/vnd.jupyter.widget-view+json": {
       "model_id": "0d0c8be918a14c80afd84cefac172c16",
       "version_major": 2,
       "version_minor": 0
      },
      "text/plain": [
       "  0%|          | 0/377 [00:00<?, ?it/s]"
      ]
     },
     "metadata": {},
     "output_type": "display_data"
    },
    {
     "data": {
      "application/vnd.jupyter.widget-view+json": {
       "model_id": "ab65c1de1d2e49638ab606b0f4335b87",
       "version_major": 2,
       "version_minor": 0
      },
      "text/plain": [
       "  0%|          | 0/339 [00:00<?, ?it/s]"
      ]
     },
     "metadata": {},
     "output_type": "display_data"
    },
    {
     "data": {
      "application/vnd.jupyter.widget-view+json": {
       "model_id": "3b07a185010c496bb14418d56c2afd62",
       "version_major": 2,
       "version_minor": 0
      },
      "text/plain": [
       "  0%|          | 0/330 [00:00<?, ?it/s]"
      ]
     },
     "metadata": {},
     "output_type": "display_data"
    },
    {
     "data": {
      "application/vnd.jupyter.widget-view+json": {
       "model_id": "28d6e078a72d4bbaa865dc637c8da174",
       "version_major": 2,
       "version_minor": 0
      },
      "text/plain": [
       "  0%|          | 0/324 [00:00<?, ?it/s]"
      ]
     },
     "metadata": {},
     "output_type": "display_data"
    },
    {
     "data": {
      "application/vnd.jupyter.widget-view+json": {
       "model_id": "40cc0a6b4a9f45c38b367cc55bb1b53f",
       "version_major": 2,
       "version_minor": 0
      },
      "text/plain": [
       "  0%|          | 0/338 [00:00<?, ?it/s]"
      ]
     },
     "metadata": {},
     "output_type": "display_data"
    },
    {
     "data": {
      "application/vnd.jupyter.widget-view+json": {
       "model_id": "fd700745bc094e899d2bfb48157f2daf",
       "version_major": 2,
       "version_minor": 0
      },
      "text/plain": [
       "  0%|          | 0/390 [00:00<?, ?it/s]"
      ]
     },
     "metadata": {},
     "output_type": "display_data"
    },
    {
     "data": {
      "application/vnd.jupyter.widget-view+json": {
       "model_id": "c6d5c6bef07f43ff9379ce89f100c50b",
       "version_major": 2,
       "version_minor": 0
      },
      "text/plain": [
       "  0%|          | 0/455 [00:00<?, ?it/s]"
      ]
     },
     "metadata": {},
     "output_type": "display_data"
    }
   ],
   "source": [
    "sessions = []\n",
    "\n",
    "for fn in tqdm(filenames):\n",
    "    try:\n",
    "        session = h5py.File(fn, 'r')['session']\n",
    "    except:\n",
    "        session = h5py.File(fn, 'r')['s']\n",
    "\n",
    "    MouseName = ''.join([chr(v[0]) for v in session['MouseName'][:]])\n",
    "    date = ''.join([chr(v[0]) for v in session['SessionDate'][:]])\n",
    "    \n",
    "    if (MouseName == 'EF0149') & (date =='12-17-18'): \n",
    "        #this data was preprocessed using wrong script - manually extract stimOnsets from raw traces:\n",
    "        stimOnset = np.zeros(session['adcSignal'][:,0].shape)\n",
    "        crossThresh = np.where((session['adcSignal'][:,0]>0.02) | (session['adcSignal'][:,1]>0.15))[0]\n",
    "        CTdiff = np.diff(crossThresh);\n",
    "        stimOnsetInds = np.concatenate([[crossThresh[0]], crossThresh[np.where(CTdiff>25000)[0]]])\n",
    "        stimOnset[stimOnsetInds] = 1;\n",
    "    else:\n",
    "        stimOnset = session['stimOnset'][:]\n",
    "\n",
    "    session_dict ={\n",
    "        'timeTrialNumber': session['timeTrialNumber'][0],\n",
    "        'timeWithinTrial': session['timeWithinTrial'][0],\n",
    "        'Time': session['Time'][:],\n",
    "        'stimOnset': stimOnset,\n",
    "        'rLickTimes': session['rLickTimes'][:],\n",
    "        'lLickTimes': session['lLickTimes'][:],\n",
    "        'optoStimOnsetTime': session['optoStimOnsetTime'][:]\n",
    "    }\n",
    "    \n",
    "    trialNums = np.unique(session['trialNums'][:])\n",
    "    trial_times = []\n",
    "\n",
    "    for i in tqdm(trialNums):\n",
    "        trial_times.append(get_trial_lick_times(session_dict, i))\n",
    "        \n",
    "    session_df = pd.DataFrame(trial_times)\n",
    "    session_df['mouse_name'] = MouseName\n",
    "    session_df['date'] = date\n",
    "\n",
    "    sessions.append(session_df)\n",
    "\n",
    "    "
   ]
  },
  {
   "cell_type": "code",
   "execution_count": 23,
   "id": "86bd61a3-92d2-47cb-8a78-6f3810c70623",
   "metadata": {},
   "outputs": [],
   "source": [
    "df = pd.concat(sessions, axis = 0)"
   ]
  },
  {
   "cell_type": "code",
   "execution_count": 24,
   "id": "38f76009-7ca6-4b30-a369-5f1fa0c174db",
   "metadata": {},
   "outputs": [],
   "source": [
    "beh_log_test_times = beh_log_test.merge(df[['mouse_name','date', 'trial_num', 'optoStim', 'stim_onset', 'rLickTimes', 'lLickTimes']], on = ['mouse_name', 'date', 'trial_num'], how = 'inner')\n",
    "beh_log_test_times = beh_log_test_times[~((beh_log_test_times['mouse_name'] == 'EF0150') & (beh_log_test_times['date'] == '12-28-18'))]\n",
    "beh_log_stim = beh_log_test_times.loc[beh_log_test_times['session_type'] == 'stim']\n",
    "beh_log_sham = beh_log_test_times.loc[beh_log_test_times['session_type'] == 'sham']"
   ]
  },
  {
   "cell_type": "code",
   "execution_count": 25,
   "id": "1066fb83-b119-4e0c-9e13-0f9bca504f1a",
   "metadata": {},
   "outputs": [],
   "source": [
    "catchHit = beh_log_stim.loc[(beh_log_stim['stim_type'] == 'catch') & (beh_log_stim['block_type'] == 'Whisker') & (beh_log_stim['correct'] == 1)].copy()\n",
    "catchFA = beh_log_stim.loc[(beh_log_stim['stim_type'] == 'catch') & (beh_log_stim['block_type'] == 'Visual') & (beh_log_stim['correct'] == 0)].copy()\n",
    "catchFA_R = beh_log_stim.loc[(beh_log_stim['stim_type'] == 'catch') & (beh_log_stim['block_type'] == 'Visual') & (beh_log_stim['resp'] == 1)].copy()\n",
    "catchFA_L = beh_log_stim.loc[(beh_log_stim['stim_type'] == 'catch') & (beh_log_stim['block_type'] == 'Visual') & (beh_log_stim['resp'] == 2)].copy()\n",
    "catchFA['allLickTimes'] = catchFA.apply(lambda x: np.concatenate([x['rLickTimes'], x['lLickTimes']]), axis = 1)\n",
    "\n",
    "tacHit = beh_log_stim.loc[(beh_log_stim['stim_type'] == 'Stim_Som_NoCue') & (beh_log_stim['block_type'] == 'Whisker') & (beh_log_stim['correct'] == 1)].copy()\n",
    "visHit = beh_log_stim.loc[(beh_log_stim['stim_type'] == 'Stim_Vis_NoCue') & (beh_log_stim['block_type'] == 'Visual') & (beh_log_stim['correct'] == 1)].copy()"
   ]
  },
  {
   "cell_type": "code",
   "execution_count": 26,
   "id": "125f6763-2aad-4189-bad5-f6828f842d35",
   "metadata": {},
   "outputs": [],
   "source": [
    "catchHit['optoStim'] = catchHit['optoStim'].apply(lambda x: x[0] if len(x)>0 else np.nan)\n",
    "catchFA['optoStim'] = catchFA['optoStim'].apply(lambda x: x[0] if len(x)>0 else np.nan)\n",
    "catchFA_R['optoStim'] = catchFA_R['optoStim'].apply(lambda x: x[0] if len(x)>0 else np.nan)\n",
    "catchFA_L['optoStim'] = catchFA_L['optoStim'].apply(lambda x: x[0] if len(x)>0 else np.nan)\n",
    "\n",
    "catchHit = catchHit.loc[~catchHit['optoStim'].isna()]\n",
    "catchFA = catchFA.loc[~catchFA['optoStim'].isna()]"
   ]
  },
  {
   "cell_type": "code",
   "execution_count": 27,
   "id": "4be7d748-b898-4110-bc35-52970b2b1fac",
   "metadata": {},
   "outputs": [],
   "source": [
    "catchHit['rLickTimes'] = catchHit.apply(lambda x: x['rLickTimes'][x['rLickTimes']> x['optoStim']], axis = 1)\n",
    "catchFA['allLickTimes'] = catchFA.apply(lambda x: x['allLickTimes'][x['allLickTimes']> x['optoStim']], axis = 1)\n",
    "\n",
    "tacHit['rLickTimes'] = tacHit.apply(lambda x: x['rLickTimes'][x['rLickTimes']> x['stim_onset']], axis = 1)\n",
    "visHit['lLickTimes'] = visHit.apply(lambda x: x['lLickTimes'][x['lLickTimes']> x['stim_onset']], axis = 1)"
   ]
  },
  {
   "cell_type": "code",
   "execution_count": 28,
   "id": "9ece0bc3-58c4-4aa2-a654-3d808d6a7f58",
   "metadata": {},
   "outputs": [],
   "source": [
    "catchHit['RT'] = catchHit.apply(lambda x: x['rLickTimes'][0]- x['optoStim'] if len(x['rLickTimes'])>0 else np.nan, axis = 1)\n",
    "catchFA['RT'] = catchFA.apply(lambda x: x['allLickTimes'][0]- x['optoStim'] if len(x['allLickTimes'])>0 else np.nan, axis = 1)\n",
    "\n",
    "tacHit['RT'] = tacHit.apply(lambda x: x['rLickTimes'][0]- x['stim_onset'] if len(x['rLickTimes'])>0 else [np.nan], axis = 1)\n",
    "visHit['RT'] = visHit.apply(lambda x: x['lLickTimes'][0]- x['stim_onset'] if len(x['lLickTimes'])>0 else [np.nan], axis = 1)"
   ]
  },
  {
   "cell_type": "code",
   "execution_count": 29,
   "id": "abb4e544-1860-4c07-ba0b-57a350161afe",
   "metadata": {},
   "outputs": [],
   "source": [
    "tacHit['RT'] = tacHit['RT'].apply(lambda x: x[0])\n",
    "visHit['RT'] = visHit['RT'].apply(lambda x: x[0])"
   ]
  },
  {
   "cell_type": "code",
   "execution_count": 30,
   "id": "40e140cb-7dc5-43ae-81eb-9aa325109a08",
   "metadata": {},
   "outputs": [
    {
     "ename": "KeyError",
     "evalue": "'RT'",
     "output_type": "error",
     "traceback": [
      "\u001b[1;31m---------------------------------------------------------------------------\u001b[0m",
      "\u001b[1;31mKeyError\u001b[0m                                  Traceback (most recent call last)",
      "\u001b[1;32m~\\anaconda3\\envs\\crossmodal\\lib\\site-packages\\pandas\\core\\indexes\\base.py\u001b[0m in \u001b[0;36mget_loc\u001b[1;34m(self, key, method, tolerance)\u001b[0m\n\u001b[0;32m   3360\u001b[0m             \u001b[1;32mtry\u001b[0m\u001b[1;33m:\u001b[0m\u001b[1;33m\u001b[0m\u001b[1;33m\u001b[0m\u001b[0m\n\u001b[1;32m-> 3361\u001b[1;33m                 \u001b[1;32mreturn\u001b[0m \u001b[0mself\u001b[0m\u001b[1;33m.\u001b[0m\u001b[0m_engine\u001b[0m\u001b[1;33m.\u001b[0m\u001b[0mget_loc\u001b[0m\u001b[1;33m(\u001b[0m\u001b[0mcasted_key\u001b[0m\u001b[1;33m)\u001b[0m\u001b[1;33m\u001b[0m\u001b[1;33m\u001b[0m\u001b[0m\n\u001b[0m\u001b[0;32m   3362\u001b[0m             \u001b[1;32mexcept\u001b[0m \u001b[0mKeyError\u001b[0m \u001b[1;32mas\u001b[0m \u001b[0merr\u001b[0m\u001b[1;33m:\u001b[0m\u001b[1;33m\u001b[0m\u001b[1;33m\u001b[0m\u001b[0m\n",
      "\u001b[1;32m~\\anaconda3\\envs\\crossmodal\\lib\\site-packages\\pandas\\_libs\\index.pyx\u001b[0m in \u001b[0;36mpandas._libs.index.IndexEngine.get_loc\u001b[1;34m()\u001b[0m\n",
      "\u001b[1;32m~\\anaconda3\\envs\\crossmodal\\lib\\site-packages\\pandas\\_libs\\index.pyx\u001b[0m in \u001b[0;36mpandas._libs.index.IndexEngine.get_loc\u001b[1;34m()\u001b[0m\n",
      "\u001b[1;32mpandas\\_libs\\hashtable_class_helper.pxi\u001b[0m in \u001b[0;36mpandas._libs.hashtable.PyObjectHashTable.get_item\u001b[1;34m()\u001b[0m\n",
      "\u001b[1;32mpandas\\_libs\\hashtable_class_helper.pxi\u001b[0m in \u001b[0;36mpandas._libs.hashtable.PyObjectHashTable.get_item\u001b[1;34m()\u001b[0m\n",
      "\u001b[1;31mKeyError\u001b[0m: 'RT'",
      "\nThe above exception was the direct cause of the following exception:\n",
      "\u001b[1;31mKeyError\u001b[0m                                  Traceback (most recent call last)",
      "\u001b[1;32m~\\AppData\\Local\\Temp/ipykernel_624/1724980057.py\u001b[0m in \u001b[0;36m<module>\u001b[1;34m\u001b[0m\n\u001b[1;32m----> 1\u001b[1;33m \u001b[0mcatchHit\u001b[0m\u001b[1;33m[\u001b[0m\u001b[1;34m'RT'\u001b[0m\u001b[1;33m]\u001b[0m\u001b[1;33m.\u001b[0m\u001b[0mmedian\u001b[0m\u001b[1;33m(\u001b[0m\u001b[1;33m)\u001b[0m\u001b[1;33m,\u001b[0m \u001b[0mcatchFA\u001b[0m\u001b[1;33m[\u001b[0m\u001b[1;34m'RT'\u001b[0m\u001b[1;33m]\u001b[0m\u001b[1;33m.\u001b[0m\u001b[0mmedian\u001b[0m\u001b[1;33m(\u001b[0m\u001b[1;33m)\u001b[0m\u001b[1;33m,\u001b[0m \u001b[0mcatchFA_R\u001b[0m\u001b[1;33m[\u001b[0m\u001b[1;34m'RT'\u001b[0m\u001b[1;33m]\u001b[0m\u001b[1;33m.\u001b[0m\u001b[0mmedian\u001b[0m\u001b[1;33m(\u001b[0m\u001b[1;33m)\u001b[0m\u001b[1;33m,\u001b[0m \u001b[0mcatchFA_L\u001b[0m\u001b[1;33m[\u001b[0m\u001b[1;34m'RT'\u001b[0m\u001b[1;33m]\u001b[0m\u001b[1;33m.\u001b[0m\u001b[0mmedian\u001b[0m\u001b[1;33m(\u001b[0m\u001b[1;33m)\u001b[0m\u001b[1;33m,\u001b[0m \u001b[0mtacHit\u001b[0m\u001b[1;33m[\u001b[0m\u001b[1;34m'RT'\u001b[0m\u001b[1;33m]\u001b[0m\u001b[1;33m.\u001b[0m\u001b[0mmedian\u001b[0m\u001b[1;33m(\u001b[0m\u001b[1;33m)\u001b[0m\u001b[1;33m,\u001b[0m \u001b[0mvisHit\u001b[0m\u001b[1;33m[\u001b[0m\u001b[1;34m'RT'\u001b[0m\u001b[1;33m]\u001b[0m\u001b[1;33m.\u001b[0m\u001b[0mmedian\u001b[0m\u001b[1;33m(\u001b[0m\u001b[1;33m)\u001b[0m\u001b[1;33m\u001b[0m\u001b[1;33m\u001b[0m\u001b[0m\n\u001b[0m",
      "\u001b[1;32m~\\anaconda3\\envs\\crossmodal\\lib\\site-packages\\pandas\\core\\frame.py\u001b[0m in \u001b[0;36m__getitem__\u001b[1;34m(self, key)\u001b[0m\n\u001b[0;32m   3453\u001b[0m             \u001b[1;32mif\u001b[0m \u001b[0mself\u001b[0m\u001b[1;33m.\u001b[0m\u001b[0mcolumns\u001b[0m\u001b[1;33m.\u001b[0m\u001b[0mnlevels\u001b[0m \u001b[1;33m>\u001b[0m \u001b[1;36m1\u001b[0m\u001b[1;33m:\u001b[0m\u001b[1;33m\u001b[0m\u001b[1;33m\u001b[0m\u001b[0m\n\u001b[0;32m   3454\u001b[0m                 \u001b[1;32mreturn\u001b[0m \u001b[0mself\u001b[0m\u001b[1;33m.\u001b[0m\u001b[0m_getitem_multilevel\u001b[0m\u001b[1;33m(\u001b[0m\u001b[0mkey\u001b[0m\u001b[1;33m)\u001b[0m\u001b[1;33m\u001b[0m\u001b[1;33m\u001b[0m\u001b[0m\n\u001b[1;32m-> 3455\u001b[1;33m             \u001b[0mindexer\u001b[0m \u001b[1;33m=\u001b[0m \u001b[0mself\u001b[0m\u001b[1;33m.\u001b[0m\u001b[0mcolumns\u001b[0m\u001b[1;33m.\u001b[0m\u001b[0mget_loc\u001b[0m\u001b[1;33m(\u001b[0m\u001b[0mkey\u001b[0m\u001b[1;33m)\u001b[0m\u001b[1;33m\u001b[0m\u001b[1;33m\u001b[0m\u001b[0m\n\u001b[0m\u001b[0;32m   3456\u001b[0m             \u001b[1;32mif\u001b[0m \u001b[0mis_integer\u001b[0m\u001b[1;33m(\u001b[0m\u001b[0mindexer\u001b[0m\u001b[1;33m)\u001b[0m\u001b[1;33m:\u001b[0m\u001b[1;33m\u001b[0m\u001b[1;33m\u001b[0m\u001b[0m\n\u001b[0;32m   3457\u001b[0m                 \u001b[0mindexer\u001b[0m \u001b[1;33m=\u001b[0m \u001b[1;33m[\u001b[0m\u001b[0mindexer\u001b[0m\u001b[1;33m]\u001b[0m\u001b[1;33m\u001b[0m\u001b[1;33m\u001b[0m\u001b[0m\n",
      "\u001b[1;32m~\\anaconda3\\envs\\crossmodal\\lib\\site-packages\\pandas\\core\\indexes\\base.py\u001b[0m in \u001b[0;36mget_loc\u001b[1;34m(self, key, method, tolerance)\u001b[0m\n\u001b[0;32m   3361\u001b[0m                 \u001b[1;32mreturn\u001b[0m \u001b[0mself\u001b[0m\u001b[1;33m.\u001b[0m\u001b[0m_engine\u001b[0m\u001b[1;33m.\u001b[0m\u001b[0mget_loc\u001b[0m\u001b[1;33m(\u001b[0m\u001b[0mcasted_key\u001b[0m\u001b[1;33m)\u001b[0m\u001b[1;33m\u001b[0m\u001b[1;33m\u001b[0m\u001b[0m\n\u001b[0;32m   3362\u001b[0m             \u001b[1;32mexcept\u001b[0m \u001b[0mKeyError\u001b[0m \u001b[1;32mas\u001b[0m \u001b[0merr\u001b[0m\u001b[1;33m:\u001b[0m\u001b[1;33m\u001b[0m\u001b[1;33m\u001b[0m\u001b[0m\n\u001b[1;32m-> 3363\u001b[1;33m                 \u001b[1;32mraise\u001b[0m \u001b[0mKeyError\u001b[0m\u001b[1;33m(\u001b[0m\u001b[0mkey\u001b[0m\u001b[1;33m)\u001b[0m \u001b[1;32mfrom\u001b[0m \u001b[0merr\u001b[0m\u001b[1;33m\u001b[0m\u001b[1;33m\u001b[0m\u001b[0m\n\u001b[0m\u001b[0;32m   3364\u001b[0m \u001b[1;33m\u001b[0m\u001b[0m\n\u001b[0;32m   3365\u001b[0m         \u001b[1;32mif\u001b[0m \u001b[0mis_scalar\u001b[0m\u001b[1;33m(\u001b[0m\u001b[0mkey\u001b[0m\u001b[1;33m)\u001b[0m \u001b[1;32mand\u001b[0m \u001b[0misna\u001b[0m\u001b[1;33m(\u001b[0m\u001b[0mkey\u001b[0m\u001b[1;33m)\u001b[0m \u001b[1;32mand\u001b[0m \u001b[1;32mnot\u001b[0m \u001b[0mself\u001b[0m\u001b[1;33m.\u001b[0m\u001b[0mhasnans\u001b[0m\u001b[1;33m:\u001b[0m\u001b[1;33m\u001b[0m\u001b[1;33m\u001b[0m\u001b[0m\n",
      "\u001b[1;31mKeyError\u001b[0m: 'RT'"
     ]
    }
   ],
   "source": [
    "catchHit['RT'].median(), catchFA['RT'].median(), catchFA_R['RT'].median(), catchFA_L['RT'].median(), tacHit['RT'].median(), visHit['RT'].median()"
   ]
  },
  {
   "cell_type": "code",
   "execution_count": 31,
   "id": "0bfb2369-caf2-4f2e-a6c0-7d33bff0deba",
   "metadata": {},
   "outputs": [],
   "source": [
    "catchHit_medians = catchHit.groupby(['mouse_name', 'date']).median().reset_index()['RT']\n",
    "catchFA_medians = catchFA.groupby(['mouse_name', 'date']).median().reset_index()['RT']\n",
    "\n",
    "tacHit_medians = tacHit.groupby(['mouse_name', 'date']).median().reset_index()['RT']\n",
    "visHit_medians = visHit.groupby(['mouse_name', 'date']).median().reset_index()['RT']"
   ]
  },
  {
   "cell_type": "code",
   "execution_count": 35,
   "id": "e2d869fc-4b68-4309-bbda-34e604b899ff",
   "metadata": {},
   "outputs": [
    {
     "data": {
      "image/png": "[encoded data removed]",
      "text/plain": [
       "<Figure size 612x396 with 1 Axes>"
      ]
     },
     "metadata": {
      "needs_background": "light"
     },
     "output_type": "display_data"
    }
   ],
   "source": [
    "import matplotlib.pylab as plt\n",
    "plt.close('all')\n",
    "fig1a_1 = plt.figure(figsize = (8.5,5.5))\n",
    "ax = fig1a_1.add_subplot(111)\n",
    "\n",
    "colors = [ 'c', 'C1', 'c', 'm']\n",
    "titles = ['catch',  'Visual\\nstimulus', 'catch', 'Tactile\\nstimulus']\n",
    "\n",
    "bplot = ax.boxplot([catchFA_medians,  visHit_medians, catchHit_medians, tacHit_medians], \n",
    "                   labels = titles, vert = False, patch_artist=True, showfliers = True, positions = [0.3,.9,2.1,2.7])\n",
    "\n",
    "for patch, color in zip(bplot['boxes'], colors):\n",
    "        patch.set_facecolor(color)\n",
    "\n",
    "plt.setp(bplot['medians'], color='k')\n",
    "\n",
    "ax.set_clip_on(False)\n",
    "ax.spines['right'].set_visible(False)\n",
    "ax.spines['top'].set_visible(False)\n",
    "ax.set_xlim([0,1.5])\n",
    "ax.set_ylim([-.2,3.2])\n",
    "ax.text(-.3, 2.25, 'Resp-to-\\ntouch block', ha = 'right')\n",
    "ax.text(-.3, 0.45, 'Resp-to-\\nlight block', ha = 'right')\n",
    "ax.set_xticks([0, 0.25, 0.5, 0.75, 1, 1.25, 1.5])\n",
    "ax.set_xticklabels(['0', '0.25', '0.5', '0.75', '1', '1.25', '1.5'])\n",
    "\n",
    "\n",
    "ax.set_xlabel('Reaction time (s)')  \n",
    "fig = plt.gcf()\n",
    "\n",
    "os.chdir('C:\\\\Users\\\\Eric\\\\Documents\\\\09-12-2021\\\\crossmodal\\\\Figure7')\n",
    "# fig.savefig('S1-microstim_rt.pdf',format='pdf', dpi=900, transparent = True)"
   ]
  },
  {
   "cell_type": "code",
   "execution_count": null,
   "id": "5f051bad-201b-4248-bd2c-ac5fa5e2e42e",
   "metadata": {},
   "outputs": [],
   "source": [
    "os.getcwd()"
   ]
  },
  {
   "cell_type": "code",
   "execution_count": null,
   "id": "d7856eba-f9d1-4e78-892b-b4e7324b1671",
   "metadata": {},
   "outputs": [],
   "source": [
    "fig1a_1"
   ]
  },
  {
   "cell_type": "code",
   "execution_count": null,
   "id": "b228ad89-465c-4d1f-874a-3d38fe0ee9af",
   "metadata": {},
   "outputs": [],
   "source": [
    "rt_data"
   ]
  },
  {
   "cell_type": "code",
   "execution_count": 37,
   "id": "55c74aab-fd8a-4afc-8994-13c8047df97c",
   "metadata": {},
   "outputs": [
    {
     "data": {
      "text/plain": [
       "0    0.442500\n",
       "1    0.368600\n",
       "2    0.499133\n",
       "3    0.506317\n",
       "4    0.405783\n",
       "5    0.784800\n",
       "6    0.413583\n",
       "7    0.728450\n",
       "8    0.432333\n",
       "9    0.270767\n",
       "Name: RT, dtype: float64"
      ]
     },
     "execution_count": 37,
     "metadata": {},
     "output_type": "execute_result"
    }
   ],
   "source": [
    "catchHit_medians"
   ]
  },
  {
   "cell_type": "code",
   "execution_count": 40,
   "id": "715b5e72-ecbc-4ff0-ad30-ba516e2a51ce",
   "metadata": {},
   "outputs": [
    {
     "name": "stdout",
     "output_type": "stream",
     "text": [
      "  Multiple Comparison of Means - Tukey HSD, FWER=0.05  \n",
      "=======================================================\n",
      " group1   group2  meandiff p-adj   lower  upper  reject\n",
      "-------------------------------------------------------\n",
      "catchTac catchVis   0.1635 0.3782 -0.1076 0.4347  False\n",
      "catchTac    touch   -0.025 0.9945 -0.2962 0.2461  False\n",
      "catchTac   visual   0.1598 0.3984 -0.1113 0.4309  False\n",
      "catchVis    touch  -0.1886 0.2575 -0.4597 0.0826  False\n",
      "catchVis   visual  -0.0037    1.0 -0.2749 0.2674  False\n",
      "   touch   visual   0.1848 0.2737 -0.0863  0.456  False\n",
      "-------------------------------------------------------\n"
     ]
    }
   ],
   "source": [
    "from statsmodels.stats.multicomp import pairwise_tukeyhsd\n",
    "index = np.concatenate([['catchTac']*len(catchHit_medians),['touch']*len(tacHit_medians),['catchVis']*len(catchFA_medians),['visual']*len(visHit_medians)])\n",
    "rt_data = (np.concatenate([catchHit_medians,tacHit_medians,catchFA_medians,visHit_medians]))\n",
    "\n",
    "print(pairwise_tukeyhsd(rt_data, index))"
   ]
  },
  {
   "cell_type": "code",
   "execution_count": null,
   "id": "e093bece-b041-4a0b-8d2f-08f6e0141179",
   "metadata": {},
   "outputs": [],
   "source": []
  }
 ],
 "metadata": {
  "kernelspec": {
   "display_name": "Python 3 (ipykernel)",
   "language": "python",
   "name": "python3"
  },
  "language_info": {
   "codemirror_mode": {
    "name": "ipython",
    "version": 3
   },
   "file_extension": ".py",
   "mimetype": "text/x-python",
   "name": "python",
   "nbconvert_exporter": "python",
   "pygments_lexer": "ipython3",
   "version": "3.9.6"
  }
 },
 "nbformat": 4,
 "nbformat_minor": 5
}
